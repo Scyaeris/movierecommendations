{
 "cells": [
  {
   "cell_type": "code",
   "execution_count": 1,
   "metadata": {
    "colab": {
     "base_uri": "https://localhost:8080/"
    },
    "id": "llp8TOjYRfnD",
    "outputId": "309579ec-a268-47bc-a9e4-6fc807a933c8"
   },
   "outputs": [
    {
     "name": "stdout",
     "output_type": "stream",
     "text": [
      "Requirement already satisfied: seaborn in /home/scyaeris/.local/lib/python3.8/site-packages (0.12.1)\n",
      "Requirement already satisfied: matplotlib!=3.6.1,>=3.1 in /home/scyaeris/.local/lib/python3.8/site-packages (from seaborn) (3.6.2)\n",
      "Requirement already satisfied: pandas>=0.25 in /home/scyaeris/.local/lib/python3.8/site-packages (from seaborn) (1.5.2)\n",
      "Requirement already satisfied: numpy>=1.17 in /home/scyaeris/.local/lib/python3.8/site-packages (from seaborn) (1.23.5)\n",
      "Requirement already satisfied: fonttools>=4.22.0 in /home/scyaeris/.local/lib/python3.8/site-packages (from matplotlib!=3.6.1,>=3.1->seaborn) (4.38.0)\n",
      "Requirement already satisfied: python-dateutil>=2.7 in /home/scyaeris/.local/lib/python3.8/site-packages (from matplotlib!=3.6.1,>=3.1->seaborn) (2.8.2)\n",
      "Requirement already satisfied: pyparsing>=2.2.1 in /home/scyaeris/.local/lib/python3.8/site-packages (from matplotlib!=3.6.1,>=3.1->seaborn) (3.0.9)\n",
      "Requirement already satisfied: packaging>=20.0 in /home/scyaeris/.local/lib/python3.8/site-packages (from matplotlib!=3.6.1,>=3.1->seaborn) (21.3)\n",
      "Requirement already satisfied: cycler>=0.10 in /home/scyaeris/.local/lib/python3.8/site-packages (from matplotlib!=3.6.1,>=3.1->seaborn) (0.11.0)\n",
      "Requirement already satisfied: contourpy>=1.0.1 in /home/scyaeris/.local/lib/python3.8/site-packages (from matplotlib!=3.6.1,>=3.1->seaborn) (1.0.6)\n",
      "Requirement already satisfied: kiwisolver>=1.0.1 in /home/scyaeris/.local/lib/python3.8/site-packages (from matplotlib!=3.6.1,>=3.1->seaborn) (1.4.4)\n",
      "Requirement already satisfied: pillow>=6.2.0 in /home/scyaeris/.local/lib/python3.8/site-packages (from matplotlib!=3.6.1,>=3.1->seaborn) (9.3.0)\n",
      "Requirement already satisfied: pytz>=2020.1 in /home/scyaeris/.local/lib/python3.8/site-packages (from pandas>=0.25->seaborn) (2022.6)\n",
      "Requirement already satisfied: six>=1.5 in /usr/lib/python3/dist-packages (from python-dateutil>=2.7->matplotlib!=3.6.1,>=3.1->seaborn) (1.14.0)\n",
      "Note: you may need to restart the kernel to use updated packages.\n"
     ]
    }
   ],
   "source": [
    "pip install seaborn"
   ]
  },
  {
   "cell_type": "code",
   "execution_count": 2,
   "metadata": {
    "colab": {
     "base_uri": "https://localhost:8080/"
    },
    "id": "_jeC8Ts8eZl8",
    "outputId": "a2061a9d-9ddf-4436-9c57-3cbd1c940b78"
   },
   "outputs": [],
   "source": [
    "#Import Torch Neural Network \n",
    "import torch\n",
    "import torch.nn as nn\n",
    "import torch.optim as optim\n",
    "import torch.nn.functional as F\n",
    "import torchvision as tv\n",
    "\n",
    "#Import sklearn (KNN)\n",
    "from sklearn.neighbors import NearestNeighbors\n",
    "\n",
    "#Import FuzzyWuzzy\n",
    "from fuzzywuzzy import fuzz\n",
    "\n",
    "#Import data visualization & matrix\n",
    "from scipy.sparse import csr_matrix\n",
    "import matplotlib.pyplot as plt\n",
    "import seaborn as sns\n",
    "\n",
    "#Import basic tools\n",
    "import numpy as np\n",
    "import pandas as pd"
   ]
  },
  {
   "cell_type": "code",
   "execution_count": 3,
   "metadata": {
    "colab": {
     "base_uri": "https://localhost:8080/"
    },
    "id": "wBZJuUuFLwTy",
    "outputId": "91c4ddac-33aa-4cf2-a589-237da8859885"
   },
   "outputs": [
    {
     "name": "stdout",
     "output_type": "stream",
     "text": [
      "Requirement already satisfied: fuzzywuzzy in /home/scyaeris/.local/lib/python3.8/site-packages (0.18.0)\n",
      "Note: you may need to restart the kernel to use updated packages.\n"
     ]
    }
   ],
   "source": [
    "pip install fuzzywuzzy"
   ]
  },
  {
   "cell_type": "code",
   "execution_count": 4,
   "metadata": {
    "id": "0APz4O3Jw7Gi"
   },
   "outputs": [],
   "source": [
    "#Import movies and ratings .csv files\n",
    "ratings = pd.read_csv('ratings.csv')\n",
    "movies = pd.read_csv('movies.csv')"
   ]
  },
  {
   "cell_type": "code",
   "execution_count": 5,
   "metadata": {
    "colab": {
     "base_uri": "https://localhost:8080/",
     "height": 206
    },
    "id": "eVG9etkTlt0q",
    "outputId": "32d8ba6c-a3c1-4f88-a9b0-cfedcdcacb32"
   },
   "outputs": [
    {
     "data": {
      "text/html": [
       "<div>\n",
       "<style scoped>\n",
       "    .dataframe tbody tr th:only-of-type {\n",
       "        vertical-align: middle;\n",
       "    }\n",
       "\n",
       "    .dataframe tbody tr th {\n",
       "        vertical-align: top;\n",
       "    }\n",
       "\n",
       "    .dataframe thead th {\n",
       "        text-align: right;\n",
       "    }\n",
       "</style>\n",
       "<table border=\"1\" class=\"dataframe\">\n",
       "  <thead>\n",
       "    <tr style=\"text-align: right;\">\n",
       "      <th></th>\n",
       "      <th>movieId</th>\n",
       "      <th>title</th>\n",
       "      <th>genres</th>\n",
       "    </tr>\n",
       "  </thead>\n",
       "  <tbody>\n",
       "    <tr>\n",
       "      <th>0</th>\n",
       "      <td>1</td>\n",
       "      <td>Toy Story (1995)</td>\n",
       "      <td>Adventure|Animation|Children|Comedy|Fantasy</td>\n",
       "    </tr>\n",
       "    <tr>\n",
       "      <th>1</th>\n",
       "      <td>2</td>\n",
       "      <td>Jumanji (1995)</td>\n",
       "      <td>Adventure|Children|Fantasy</td>\n",
       "    </tr>\n",
       "    <tr>\n",
       "      <th>2</th>\n",
       "      <td>3</td>\n",
       "      <td>Grumpier Old Men (1995)</td>\n",
       "      <td>Comedy|Romance</td>\n",
       "    </tr>\n",
       "    <tr>\n",
       "      <th>3</th>\n",
       "      <td>4</td>\n",
       "      <td>Waiting to Exhale (1995)</td>\n",
       "      <td>Comedy|Drama|Romance</td>\n",
       "    </tr>\n",
       "    <tr>\n",
       "      <th>4</th>\n",
       "      <td>5</td>\n",
       "      <td>Father of the Bride Part II (1995)</td>\n",
       "      <td>Comedy</td>\n",
       "    </tr>\n",
       "  </tbody>\n",
       "</table>\n",
       "</div>"
      ],
      "text/plain": [
       "   movieId                               title  \\\n",
       "0        1                    Toy Story (1995)   \n",
       "1        2                      Jumanji (1995)   \n",
       "2        3             Grumpier Old Men (1995)   \n",
       "3        4            Waiting to Exhale (1995)   \n",
       "4        5  Father of the Bride Part II (1995)   \n",
       "\n",
       "                                        genres  \n",
       "0  Adventure|Animation|Children|Comedy|Fantasy  \n",
       "1                   Adventure|Children|Fantasy  \n",
       "2                               Comedy|Romance  \n",
       "3                         Comedy|Drama|Romance  \n",
       "4                                       Comedy  "
      ]
     },
     "execution_count": 5,
     "metadata": {},
     "output_type": "execute_result"
    }
   ],
   "source": [
    "movies.head()"
   ]
  },
  {
   "cell_type": "code",
   "execution_count": 6,
   "metadata": {
    "colab": {
     "base_uri": "https://localhost:8080/",
     "height": 206
    },
    "id": "Pfo6_3l-_Wqb",
    "outputId": "a8bf8931-90eb-4a00-ec46-1d63671bf625"
   },
   "outputs": [
    {
     "data": {
      "text/html": [
       "<div>\n",
       "<style scoped>\n",
       "    .dataframe tbody tr th:only-of-type {\n",
       "        vertical-align: middle;\n",
       "    }\n",
       "\n",
       "    .dataframe tbody tr th {\n",
       "        vertical-align: top;\n",
       "    }\n",
       "\n",
       "    .dataframe thead th {\n",
       "        text-align: right;\n",
       "    }\n",
       "</style>\n",
       "<table border=\"1\" class=\"dataframe\">\n",
       "  <thead>\n",
       "    <tr style=\"text-align: right;\">\n",
       "      <th></th>\n",
       "      <th>userId</th>\n",
       "      <th>movieId</th>\n",
       "      <th>rating</th>\n",
       "    </tr>\n",
       "  </thead>\n",
       "  <tbody>\n",
       "    <tr>\n",
       "      <th>0</th>\n",
       "      <td>4</td>\n",
       "      <td>1.0</td>\n",
       "      <td>4.0</td>\n",
       "    </tr>\n",
       "    <tr>\n",
       "      <th>1</th>\n",
       "      <td>10</td>\n",
       "      <td>1.0</td>\n",
       "      <td>5.0</td>\n",
       "    </tr>\n",
       "    <tr>\n",
       "      <th>2</th>\n",
       "      <td>14</td>\n",
       "      <td>1.0</td>\n",
       "      <td>4.5</td>\n",
       "    </tr>\n",
       "    <tr>\n",
       "      <th>3</th>\n",
       "      <td>15</td>\n",
       "      <td>1.0</td>\n",
       "      <td>4.0</td>\n",
       "    </tr>\n",
       "    <tr>\n",
       "      <th>4</th>\n",
       "      <td>22</td>\n",
       "      <td>1.0</td>\n",
       "      <td>4.0</td>\n",
       "    </tr>\n",
       "  </tbody>\n",
       "</table>\n",
       "</div>"
      ],
      "text/plain": [
       "   userId  movieId  rating\n",
       "0       4      1.0     4.0\n",
       "1      10      1.0     5.0\n",
       "2      14      1.0     4.5\n",
       "3      15      1.0     4.0\n",
       "4      22      1.0     4.0"
      ]
     },
     "execution_count": 6,
     "metadata": {},
     "output_type": "execute_result"
    }
   ],
   "source": [
    "ratings.head()"
   ]
  },
  {
   "cell_type": "code",
   "execution_count": 7,
   "metadata": {
    "colab": {
     "base_uri": "https://localhost:8080/"
    },
    "id": "O_UvgYc5_YR8",
    "outputId": "1b8d48f7-d947-4e0f-deb3-783f3fd148a3"
   },
   "outputs": [
    {
     "name": "stdout",
     "output_type": "stream",
     "text": [
      "Number of unique users (raters): 10428\n",
      "Number of unique movies: 6692\n"
     ]
    }
   ],
   "source": [
    "#The \"dropna = True\" parameter tells the code to ignore any entries with missing values. \n",
    "#So the code will count the number of unique users and movies in the ratings data, excluding any entries with missing values.\n",
    "unique_user = ratings.userId.nunique(dropna = True)\n",
    "unique_movie = ratings.movieId.nunique(dropna = True)\n",
    "print(f\"Number of unique users (raters): {unique_user}\")\n",
    "print(f\"Number of unique movies: {unique_movie}\")"
   ]
  },
  {
   "cell_type": "code",
   "execution_count": 8,
   "metadata": {
    "colab": {
     "base_uri": "https://localhost:8080/"
    },
    "id": "SjOVvVc2MHR1",
    "outputId": "1fe67099-665b-4306-92e0-a55bdb77d8d6"
   },
   "outputs": [
    {
     "data": {
      "text/plain": [
       "(786001, 3)"
      ]
     },
     "execution_count": 8,
     "metadata": {},
     "output_type": "execute_result"
    }
   ],
   "source": [
    "ratings.shape"
   ]
  },
  {
   "cell_type": "code",
   "execution_count": 9,
   "metadata": {
    "colab": {
     "base_uri": "https://localhost:8080/"
    },
    "id": "ydC6QXJHqBUX",
    "outputId": "83344daa-e1dc-45aa-ffc7-26a21bcc1fe4"
   },
   "outputs": [
    {
     "name": "stdout",
     "output_type": "stream",
     "text": [
      "Ratings not provided: 68998175\n",
      "Sparsity of user-item matrix is: 0.9887366872398121\n"
     ]
    }
   ],
   "source": [
    "# In order to create item user matrixes, we need to check how many ratings exist within our dataframes/and/or how many ratings are absent\n",
    "total_ratings = unique_user * unique_movie\n",
    "rating_present = ratings.shape[0]\n",
    "\n",
    "ratings_not_provided = total_ratings - rating_present \n",
    "\n",
    "#Implies some users have not watched some movies\n",
    "print(f\"Ratings not provided: {ratings_not_provided}\")\n",
    "print(f\"Sparsity of user-item matrix is: {ratings_not_provided/total_ratings}\")"
   ]
  },
  {
   "cell_type": "markdown",
   "metadata": {
    "id": "fCmQHFQr6yFu"
   },
   "source": [
    "Data Exploration"
   ]
  },
  {
   "cell_type": "code",
   "execution_count": 10,
   "metadata": {
    "colab": {
     "base_uri": "https://localhost:8080/",
     "height": 206
    },
    "id": "hCnYZZCuveRR",
    "outputId": "b09c03b8-94dc-4381-a3af-17f67153b289"
   },
   "outputs": [
    {
     "name": "stderr",
     "output_type": "stream",
     "text": [
      "/tmp/ipykernel_30/3717229656.py:5: FutureWarning: The frame.append method is deprecated and will be removed from pandas in a future version. Use pandas.concat instead.\n",
      "  rating_cnt = rating_cnt.append(pd.DataFrame({'count' : ratings_not_provided}, index = [0])).sort_index()\n"
     ]
    },
    {
     "data": {
      "text/html": [
       "<div>\n",
       "<style scoped>\n",
       "    .dataframe tbody tr th:only-of-type {\n",
       "        vertical-align: middle;\n",
       "    }\n",
       "\n",
       "    .dataframe tbody tr th {\n",
       "        vertical-align: top;\n",
       "    }\n",
       "\n",
       "    .dataframe thead th {\n",
       "        text-align: right;\n",
       "    }\n",
       "</style>\n",
       "<table border=\"1\" class=\"dataframe\">\n",
       "  <thead>\n",
       "    <tr style=\"text-align: right;\">\n",
       "      <th></th>\n",
       "      <th>count</th>\n",
       "      <th>log_count</th>\n",
       "    </tr>\n",
       "  </thead>\n",
       "  <tbody>\n",
       "    <tr>\n",
       "      <th>0.5</th>\n",
       "      <td>11221</td>\n",
       "      <td>9.325542</td>\n",
       "    </tr>\n",
       "    <tr>\n",
       "      <th>1.0</th>\n",
       "      <td>27592</td>\n",
       "      <td>10.225281</td>\n",
       "    </tr>\n",
       "    <tr>\n",
       "      <th>1.5</th>\n",
       "      <td>11127</td>\n",
       "      <td>9.317130</td>\n",
       "    </tr>\n",
       "    <tr>\n",
       "      <th>2.0</th>\n",
       "      <td>57407</td>\n",
       "      <td>10.957922</td>\n",
       "    </tr>\n",
       "    <tr>\n",
       "      <th>2.5</th>\n",
       "      <td>32298</td>\n",
       "      <td>10.382761</td>\n",
       "    </tr>\n",
       "  </tbody>\n",
       "</table>\n",
       "</div>"
      ],
      "text/plain": [
       "     count  log_count\n",
       "0.5  11221   9.325542\n",
       "1.0  27592  10.225281\n",
       "1.5  11127   9.317130\n",
       "2.0  57407  10.957922\n",
       "2.5  32298  10.382761"
      ]
     },
     "execution_count": 10,
     "metadata": {},
     "output_type": "execute_result"
    }
   ],
   "source": [
    "#Gives information about which rating (on scale of 0 to 5) is more frequent\n",
    "rating_cnt = pd.DataFrame(ratings.groupby('rating').size(),columns=['count'])\n",
    "#This rating count does not contain any ratings of value 0\n",
    "\n",
    "rating_cnt = rating_cnt.append(pd.DataFrame({'count' : ratings_not_provided}, index = [0])).sort_index()\n",
    "\n",
    "#Since there are more \"0 ratings\" as compared to other ratings, use the log value\n",
    "#Just for the visualization\n",
    "rating_cnt['log_count'] = np.log(rating_cnt['count'])\n",
    "rating_cnt = rating_cnt.drop(rating_cnt.index[0])\n",
    "rating_cnt.head()"
   ]
  },
  {
   "cell_type": "code",
   "execution_count": 11,
   "metadata": {
    "colab": {
     "base_uri": "https://localhost:8080/",
     "height": 428
    },
    "id": "GCPXZ4BSvN5H",
    "outputId": "c270a6df-0170-4517-820d-62558ff43fa6"
   },
   "outputs": [
    {
     "data": {
      "text/plain": [
       "Text(0, 0.5, 'Rating Count')"
      ]
     },
     "execution_count": 11,
     "metadata": {},
     "output_type": "execute_result"
    },
    {
     "data": {
      "image/png": "[encoded data removed]",
      "text/plain": [
       "<Figure size 1200x600 with 1 Axes>"
      ]
     },
     "metadata": {},
     "output_type": "display_data"
    }
   ],
   "source": [
    "# Create a bar plot to visualize ratings\n",
    "vis = rating_cnt\n",
    "rcpv = vis.reset_index().rename(columns = {'index':'rating_value'}).plot(\n",
    "    x = 'rating_value',\n",
    "    y = 'count',\n",
    "    logy = True,\n",
    "    kind = 'bar',\n",
    "    title = 'Rating count per value (log scale)',\n",
    "    figsize = (12,6)\n",
    ")\n",
    "rcpv.set_xlabel('Rating Value')\n",
    "rcpv.set_ylabel('Rating Count')"
   ]
  },
  {
   "cell_type": "markdown",
   "metadata": {
    "id": "bPnR3A-V93-c"
   },
   "source": [
    "We can gather that rating values like 3.0 and 4.0 are seen more often than others"
   ]
  },
  {
   "cell_type": "code",
   "execution_count": 12,
   "metadata": {
    "colab": {
     "base_uri": "https://localhost:8080/",
     "height": 238
    },
    "id": "W2CZXZV-xWrJ",
    "outputId": "1e139de3-dd82-4af4-dee2-2c8aa0194352"
   },
   "outputs": [
    {
     "data": {
      "text/html": [
       "<div>\n",
       "<style scoped>\n",
       "    .dataframe tbody tr th:only-of-type {\n",
       "        vertical-align: middle;\n",
       "    }\n",
       "\n",
       "    .dataframe tbody tr th {\n",
       "        vertical-align: top;\n",
       "    }\n",
       "\n",
       "    .dataframe thead th {\n",
       "        text-align: right;\n",
       "    }\n",
       "</style>\n",
       "<table border=\"1\" class=\"dataframe\">\n",
       "  <thead>\n",
       "    <tr style=\"text-align: right;\">\n",
       "      <th></th>\n",
       "      <th>count</th>\n",
       "    </tr>\n",
       "    <tr>\n",
       "      <th>movieId</th>\n",
       "      <th></th>\n",
       "    </tr>\n",
       "  </thead>\n",
       "  <tbody>\n",
       "    <tr>\n",
       "      <th>1.0</th>\n",
       "      <td>2573</td>\n",
       "    </tr>\n",
       "    <tr>\n",
       "      <th>2.0</th>\n",
       "      <td>1021</td>\n",
       "    </tr>\n",
       "    <tr>\n",
       "      <th>3.0</th>\n",
       "      <td>629</td>\n",
       "    </tr>\n",
       "    <tr>\n",
       "      <th>4.0</th>\n",
       "      <td>129</td>\n",
       "    </tr>\n",
       "    <tr>\n",
       "      <th>5.0</th>\n",
       "      <td>592</td>\n",
       "    </tr>\n",
       "  </tbody>\n",
       "</table>\n",
       "</div>"
      ],
      "text/plain": [
       "         count\n",
       "movieId       \n",
       "1.0       2573\n",
       "2.0       1021\n",
       "3.0        629\n",
       "4.0        129\n",
       "5.0        592"
      ]
     },
     "execution_count": 12,
     "metadata": {},
     "output_type": "execute_result"
    }
   ],
   "source": [
    "#Plot rating frequency of each movie (how many time a movie has been rated)\n",
    "movie_freq = pd.DataFrame(ratings.groupby('movieId').size(), columns = ['count'])\n",
    "movie_freq.head()"
   ]
  },
  {
   "cell_type": "code",
   "execution_count": 13,
   "metadata": {
    "colab": {
     "base_uri": "https://localhost:8080/",
     "height": 531
    },
    "id": "DjWMfVq19-bv",
    "outputId": "6af43fc6-7eec-481b-8395-003a7c7d97e4"
   },
   "outputs": [
    {
     "data": {
      "text/plain": [
       "Text(0, 0.5, 'Rating frequency of movies')"
      ]
     },
     "execution_count": 13,
     "metadata": {},
     "output_type": "execute_result"
    },
    {
     "data": {
      "image/png": "[encoded data removed]",
      "text/plain": [
       "<Figure size 1200x800 with 1 Axes>"
      ]
     },
     "metadata": {},
     "output_type": "display_data"
    }
   ],
   "source": [
    "#Plot movie ratings by frequency\n",
    "mf_copy = movie_freq.sort_values(by = 'count', ascending = False)\n",
    "mf_copy = mf_copy.reset_index(drop = True)\n",
    "\n",
    "rfpm = mf_copy.plot(\n",
    "    title = 'Rating Frequency of Movie',\n",
    "    logy = True,\n",
    "    #Figure size (size of the graph image lol)\n",
    "    figsize = (12,8)\n",
    ")\n",
    "rfpm.set_xlabel('Number of movies')\n",
    "rfpm.set_ylabel('Rating frequency of movies')"
   ]
  },
  {
   "cell_type": "markdown",
   "metadata": {
    "id": "sh6ZrCyE-rf0"
   },
   "source": [
    "The graph is skewed because only few movies that are popular get the most ratings. \n",
    "\n",
    "We can see that most movies do not have a lot of ratings."
   ]
  },
  {
   "cell_type": "code",
   "execution_count": 14,
   "metadata": {
    "colab": {
     "base_uri": "https://localhost:8080/"
    },
    "id": "0Vj1Iwau-xHs",
    "outputId": "85cf3119-1d6e-470d-c79b-aa103fd2f040"
   },
   "outputs": [
    {
     "name": "stdout",
     "output_type": "stream",
     "text": [
      "Shape of Ratings: (786001, 3)\n",
      "Number of movies that are rated more than 50 times: 2382\n",
      "Number of unique movies present in dataset: 6692\n"
     ]
    }
   ],
   "source": [
    "threshold_rating_freq = 50\n",
    "#Take out the movie IDs for which each movie is rated more than threshold value \n",
    "#Then, keep only the movies in our original ratings dataframe\n",
    "\n",
    "popular_movies_id = list(set(movie_freq.query('count >= @threshold_rating_freq').index))\n",
    "\n",
    "#Ratings dataframe after dropping \"non-popular\" movies\n",
    "ratings_with_popular_movies = ratings[ratings.movieId.isin(popular_movies_id)]\n",
    "\n",
    "print(f'Shape of Ratings: {ratings.shape}')\n",
    "print(f\"Number of movies that are rated more than 50 times: {len(popular_movies_id)}\")\n",
    "print(f\"Number of unique movies present in dataset: {unique_movie}\")"
   ]
  },
  {
   "cell_type": "markdown",
   "metadata": {
    "id": "NsOH42Kt_XxD"
   },
   "source": [
    "User Analysis"
   ]
  },
  {
   "cell_type": "code",
   "execution_count": 15,
   "metadata": {
    "colab": {
     "base_uri": "https://localhost:8080/",
     "height": 238
    },
    "id": "cporfced_YZT",
    "outputId": "1c716f02-74a9-4b6e-ceaf-953fbe81875e"
   },
   "outputs": [
    {
     "data": {
      "text/html": [
       "<div>\n",
       "<style scoped>\n",
       "    .dataframe tbody tr th:only-of-type {\n",
       "        vertical-align: middle;\n",
       "    }\n",
       "\n",
       "    .dataframe tbody tr th {\n",
       "        vertical-align: top;\n",
       "    }\n",
       "\n",
       "    .dataframe thead th {\n",
       "        text-align: right;\n",
       "    }\n",
       "</style>\n",
       "<table border=\"1\" class=\"dataframe\">\n",
       "  <thead>\n",
       "    <tr style=\"text-align: right;\">\n",
       "      <th></th>\n",
       "      <th>count</th>\n",
       "    </tr>\n",
       "    <tr>\n",
       "      <th>userId</th>\n",
       "      <th></th>\n",
       "    </tr>\n",
       "  </thead>\n",
       "  <tbody>\n",
       "    <tr>\n",
       "      <th>1</th>\n",
       "      <td>16</td>\n",
       "    </tr>\n",
       "    <tr>\n",
       "      <th>2</th>\n",
       "      <td>15</td>\n",
       "    </tr>\n",
       "    <tr>\n",
       "      <th>3</th>\n",
       "      <td>11</td>\n",
       "    </tr>\n",
       "    <tr>\n",
       "      <th>4</th>\n",
       "      <td>640</td>\n",
       "    </tr>\n",
       "    <tr>\n",
       "      <th>5</th>\n",
       "      <td>35</td>\n",
       "    </tr>\n",
       "  </tbody>\n",
       "</table>\n",
       "</div>"
      ],
      "text/plain": [
       "        count\n",
       "userId       \n",
       "1          16\n",
       "2          15\n",
       "3          11\n",
       "4         640\n",
       "5          35"
      ]
     },
     "execution_count": 15,
     "metadata": {},
     "output_type": "execute_result"
    }
   ],
   "source": [
    "#How many times each user (userId) rates movies\n",
    "user_cnt = pd.DataFrame(ratings.groupby('userId').size(),columns = ['count'])\n",
    "uc_copy = user_cnt\n",
    "uc_copy.head()"
   ]
  },
  {
   "cell_type": "code",
   "execution_count": 16,
   "metadata": {
    "colab": {
     "base_uri": "https://localhost:8080/",
     "height": 422
    },
    "id": "7XuXMPCH_aX4",
    "outputId": "1a67f2a4-2acc-44ce-dbb2-f6cd9e2cfd7b"
   },
   "outputs": [
    {
     "data": {
      "text/plain": [
       "Text(0, 0.5, 'Rating Frequency')"
      ]
     },
     "execution_count": 16,
     "metadata": {},
     "output_type": "execute_result"
    },
    {
     "data": {
      "image/png": "[encoded data removed]",
      "text/plain": [
       "<Figure size 1200x600 with 1 Axes>"
      ]
     },
     "metadata": {},
     "output_type": "display_data"
    }
   ],
   "source": [
    "#Creates a bar graph that displays the rating frequency of each user. \n",
    "#Sorts the data in descending order and labels the x-axis as \"Users\" and the y-axis as \"Rating Frequency\". \n",
    "#The title of the graph is \"Rating Frequency by User\". \n",
    "#The figure size is set to 12 by 6.\n",
    "rfpu = uc_copy.sort_values('count',ascending = False).reset_index(drop = True).plot(\n",
    "      title = 'Rating Frequency by User',\n",
    "      figsize = (12,6),\n",
    ")\n",
    "rfpu.set_xlabel(\"Users\")\n",
    "rfpu.set_ylabel(\"Rating Frequency\")"
   ]
  },
  {
   "cell_type": "markdown",
   "metadata": {
    "id": "SYABzuTQ_lUm"
   },
   "source": [
    "Rating Frequency by User follows tail trend: generally there are just fewer users who are interseted in rating movies\n",
    "\n",
    "There are few users that only avidly rate movies"
   ]
  },
  {
   "cell_type": "code",
   "execution_count": 17,
   "metadata": {
    "colab": {
     "base_uri": "https://localhost:8080/"
    },
    "id": "WFoi3gG3_tZ9",
    "outputId": "8ce61f03-5334-42ff-ea1f-8ff1a2ee7c2c"
   },
   "outputs": [
    {
     "name": "stdout",
     "output_type": "stream",
     "text": [
      "Shape of ratings_with_popular_movies: (728384, 3)\n",
      "Shape of ratings_with_popular_movies_with_active_user: (655566, 3)\n",
      "Unique users: 10428\n",
      "Unique movies: 6692\n",
      "Popular movies: 2382\n"
     ]
    }
   ],
   "source": [
    "# Lets find users who have more than 30 ratings\n",
    "threshold_val = 30\n",
    "active_user = list(set(user_cnt.query('count >= @threshold_val').index))\n",
    "\n",
    "#update your ratings_with_popular_movies\n",
    "ratings_with_popular_movies_with_active_user = ratings_with_popular_movies[ratings_with_popular_movies.userId.isin(active_user)]\n",
    "\n",
    "print(f'Shape of ratings_with_popular_movies: {ratings_with_popular_movies.shape}')\n",
    "print(f'Shape of ratings_with_popular_movies_with_active_user: {ratings_with_popular_movies_with_active_user.shape}')\n",
    "print(f\"Unique users: {unique_user}\")\n",
    "print(f\"Unique movies: {unique_movie}\")\n",
    "print(f\"Popular movies: {len(popular_movies_id)}\")"
   ]
  },
  {
   "cell_type": "code",
   "execution_count": 18,
   "metadata": {
    "colab": {
     "base_uri": "https://localhost:8080/"
    },
    "id": "A12jFZHzA3U4",
    "outputId": "9f960d2e-0d9f-49fa-e34f-7b1789c0f45e"
   },
   "outputs": [
    {
     "name": "stdout",
     "output_type": "stream",
     "text": [
      "Sparsity of final dataframe ratings: 0.9765095350263194\n"
     ]
    }
   ],
   "source": [
    "print(f\"Sparsity of final dataframe ratings: {(10532*3424 - 847103)/(10532*3424)}\")"
   ]
  },
  {
   "cell_type": "markdown",
   "metadata": {
    "id": "u59E9YzvA_Of"
   },
   "source": [
    "Sparsity reduced by removing unpopular movies and inactive users who only reviewed a select amount of movies"
   ]
  },
  {
   "cell_type": "markdown",
   "metadata": {
    "id": "QK_dgFcXBG9I"
   },
   "source": [
    "#Building KNN Model"
   ]
  },
  {
   "cell_type": "markdown",
   "metadata": {
    "id": "lhbIzS9-EDCD"
   },
   "source": [
    "We have to reshape/prepare our dataset into a format which can be given as parameter to the KNN function. We will pivot our final dataset into a ITEM-USER matrix and fill empty cells with with the vlaue 0 because the KNN model calculates distances between two points. "
   ]
  },
  {
   "cell_type": "code",
   "execution_count": 19,
   "metadata": {
    "colab": {
     "base_uri": "https://localhost:8080/",
     "height": 331
    },
    "id": "sHFx7hubBFLM",
    "outputId": "f243dc3c-dcc6-420a-dba2-ab3e802bbd11"
   },
   "outputs": [
    {
     "data": {
      "text/html": [
       "<div>\n",
       "<style scoped>\n",
       "    .dataframe tbody tr th:only-of-type {\n",
       "        vertical-align: middle;\n",
       "    }\n",
       "\n",
       "    .dataframe tbody tr th {\n",
       "        vertical-align: top;\n",
       "    }\n",
       "\n",
       "    .dataframe thead th {\n",
       "        text-align: right;\n",
       "    }\n",
       "</style>\n",
       "<table border=\"1\" class=\"dataframe\">\n",
       "  <thead>\n",
       "    <tr style=\"text-align: right;\">\n",
       "      <th>userId</th>\n",
       "      <th>4</th>\n",
       "      <th>5</th>\n",
       "      <th>6</th>\n",
       "      <th>8</th>\n",
       "      <th>10</th>\n",
       "      <th>14</th>\n",
       "      <th>15</th>\n",
       "      <th>16</th>\n",
       "      <th>18</th>\n",
       "      <th>19</th>\n",
       "      <th>...</th>\n",
       "      <th>10517</th>\n",
       "      <th>10518</th>\n",
       "      <th>10519</th>\n",
       "      <th>10524</th>\n",
       "      <th>10526</th>\n",
       "      <th>10527</th>\n",
       "      <th>10529</th>\n",
       "      <th>10530</th>\n",
       "      <th>10531</th>\n",
       "      <th>10532</th>\n",
       "    </tr>\n",
       "    <tr>\n",
       "      <th>movieId</th>\n",
       "      <th></th>\n",
       "      <th></th>\n",
       "      <th></th>\n",
       "      <th></th>\n",
       "      <th></th>\n",
       "      <th></th>\n",
       "      <th></th>\n",
       "      <th></th>\n",
       "      <th></th>\n",
       "      <th></th>\n",
       "      <th></th>\n",
       "      <th></th>\n",
       "      <th></th>\n",
       "      <th></th>\n",
       "      <th></th>\n",
       "      <th></th>\n",
       "      <th></th>\n",
       "      <th></th>\n",
       "      <th></th>\n",
       "      <th></th>\n",
       "      <th></th>\n",
       "    </tr>\n",
       "  </thead>\n",
       "  <tbody>\n",
       "    <tr>\n",
       "      <th>1.0</th>\n",
       "      <td>4.0</td>\n",
       "      <td>0.0</td>\n",
       "      <td>0.0</td>\n",
       "      <td>0.0</td>\n",
       "      <td>5.0</td>\n",
       "      <td>4.5</td>\n",
       "      <td>4.0</td>\n",
       "      <td>0.0</td>\n",
       "      <td>0.0</td>\n",
       "      <td>0.0</td>\n",
       "      <td>...</td>\n",
       "      <td>0.0</td>\n",
       "      <td>3.0</td>\n",
       "      <td>0.0</td>\n",
       "      <td>0.0</td>\n",
       "      <td>0.0</td>\n",
       "      <td>3.5</td>\n",
       "      <td>0.0</td>\n",
       "      <td>0.0</td>\n",
       "      <td>5.0</td>\n",
       "      <td>0.0</td>\n",
       "    </tr>\n",
       "    <tr>\n",
       "      <th>2.0</th>\n",
       "      <td>4.0</td>\n",
       "      <td>0.0</td>\n",
       "      <td>0.0</td>\n",
       "      <td>0.0</td>\n",
       "      <td>0.0</td>\n",
       "      <td>4.0</td>\n",
       "      <td>0.0</td>\n",
       "      <td>0.0</td>\n",
       "      <td>0.0</td>\n",
       "      <td>0.0</td>\n",
       "      <td>...</td>\n",
       "      <td>0.0</td>\n",
       "      <td>3.5</td>\n",
       "      <td>0.0</td>\n",
       "      <td>0.0</td>\n",
       "      <td>0.0</td>\n",
       "      <td>0.0</td>\n",
       "      <td>0.0</td>\n",
       "      <td>0.0</td>\n",
       "      <td>4.0</td>\n",
       "      <td>0.0</td>\n",
       "    </tr>\n",
       "    <tr>\n",
       "      <th>3.0</th>\n",
       "      <td>0.0</td>\n",
       "      <td>0.0</td>\n",
       "      <td>0.0</td>\n",
       "      <td>3.0</td>\n",
       "      <td>0.0</td>\n",
       "      <td>0.0</td>\n",
       "      <td>0.0</td>\n",
       "      <td>0.0</td>\n",
       "      <td>0.0</td>\n",
       "      <td>4.0</td>\n",
       "      <td>...</td>\n",
       "      <td>0.0</td>\n",
       "      <td>0.0</td>\n",
       "      <td>0.0</td>\n",
       "      <td>0.0</td>\n",
       "      <td>0.0</td>\n",
       "      <td>0.0</td>\n",
       "      <td>0.0</td>\n",
       "      <td>0.0</td>\n",
       "      <td>0.0</td>\n",
       "      <td>0.0</td>\n",
       "    </tr>\n",
       "    <tr>\n",
       "      <th>4.0</th>\n",
       "      <td>0.0</td>\n",
       "      <td>0.0</td>\n",
       "      <td>0.0</td>\n",
       "      <td>0.0</td>\n",
       "      <td>0.0</td>\n",
       "      <td>0.0</td>\n",
       "      <td>0.0</td>\n",
       "      <td>0.0</td>\n",
       "      <td>0.0</td>\n",
       "      <td>0.0</td>\n",
       "      <td>...</td>\n",
       "      <td>0.0</td>\n",
       "      <td>0.0</td>\n",
       "      <td>0.0</td>\n",
       "      <td>0.0</td>\n",
       "      <td>0.0</td>\n",
       "      <td>0.0</td>\n",
       "      <td>0.0</td>\n",
       "      <td>1.0</td>\n",
       "      <td>0.0</td>\n",
       "      <td>0.0</td>\n",
       "    </tr>\n",
       "    <tr>\n",
       "      <th>5.0</th>\n",
       "      <td>2.0</td>\n",
       "      <td>0.0</td>\n",
       "      <td>0.0</td>\n",
       "      <td>3.0</td>\n",
       "      <td>0.0</td>\n",
       "      <td>0.0</td>\n",
       "      <td>0.0</td>\n",
       "      <td>0.0</td>\n",
       "      <td>0.0</td>\n",
       "      <td>0.0</td>\n",
       "      <td>...</td>\n",
       "      <td>0.0</td>\n",
       "      <td>1.5</td>\n",
       "      <td>0.0</td>\n",
       "      <td>0.0</td>\n",
       "      <td>0.0</td>\n",
       "      <td>0.0</td>\n",
       "      <td>0.0</td>\n",
       "      <td>0.0</td>\n",
       "      <td>0.0</td>\n",
       "      <td>0.0</td>\n",
       "    </tr>\n",
       "  </tbody>\n",
       "</table>\n",
       "<p>5 rows × 4771 columns</p>\n",
       "</div>"
      ],
      "text/plain": [
       "userId   4      5      6      8      10     14     15     16     18     19     \\\n",
       "movieId                                                                         \n",
       "1.0        4.0    0.0    0.0    0.0    5.0    4.5    4.0    0.0    0.0    0.0   \n",
       "2.0        4.0    0.0    0.0    0.0    0.0    4.0    0.0    0.0    0.0    0.0   \n",
       "3.0        0.0    0.0    0.0    3.0    0.0    0.0    0.0    0.0    0.0    4.0   \n",
       "4.0        0.0    0.0    0.0    0.0    0.0    0.0    0.0    0.0    0.0    0.0   \n",
       "5.0        2.0    0.0    0.0    3.0    0.0    0.0    0.0    0.0    0.0    0.0   \n",
       "\n",
       "userId   ...  10517  10518  10519  10524  10526  10527  10529  10530  10531  \\\n",
       "movieId  ...                                                                  \n",
       "1.0      ...    0.0    3.0    0.0    0.0    0.0    3.5    0.0    0.0    5.0   \n",
       "2.0      ...    0.0    3.5    0.0    0.0    0.0    0.0    0.0    0.0    4.0   \n",
       "3.0      ...    0.0    0.0    0.0    0.0    0.0    0.0    0.0    0.0    0.0   \n",
       "4.0      ...    0.0    0.0    0.0    0.0    0.0    0.0    0.0    1.0    0.0   \n",
       "5.0      ...    0.0    1.5    0.0    0.0    0.0    0.0    0.0    0.0    0.0   \n",
       "\n",
       "userId   10532  \n",
       "movieId         \n",
       "1.0        0.0  \n",
       "2.0        0.0  \n",
       "3.0        0.0  \n",
       "4.0        0.0  \n",
       "5.0        0.0  \n",
       "\n",
       "[5 rows x 4771 columns]"
      ]
     },
     "execution_count": 19,
     "metadata": {},
     "output_type": "execute_result"
    }
   ],
   "source": [
    "#final_ratings is a dataframe with the ratings of the movies that are popular and the users that are active\n",
    "#item_user_mat is a matrix with the movies as rows and the users as columns. The values are the ratings.\n",
    "#If there is no rating, the value is 0.\n",
    "final_ratings = ratings_with_popular_movies_with_active_user\n",
    "item_user_mat = final_ratings.pivot(index = 'movieId', columns = 'userId', values = 'rating').fillna(0)\n",
    "item_user_mat.head()"
   ]
  },
  {
   "cell_type": "code",
   "execution_count": 20,
   "metadata": {
    "colab": {
     "base_uri": "https://localhost:8080/"
    },
    "id": "u_Ns7xsLEOSh",
    "outputId": "d1e34507-c93f-432f-a9f2-30650501519a"
   },
   "outputs": [
    {
     "name": "stdout",
     "output_type": "stream",
     "text": [
      "{'Toy Story (1995)': 0, 'Jumanji (1995)': 1, 'Grumpier Old Men (1995)': 2, 'Waiting to Exhale (1995)': 3, 'Father of the Bride Part II (1995)': 4, 'Heat (1995)': 5, 'Sabrina (1995)': 6, 'Tom and Huck (1995)': 7, 'Sudden Death (1995)': 8, 'GoldenEye (1995)': 9, 'American President, The (1995)': 10, 'Dracula: Dead and Loving It (1995)': 11, 'Balto (1995)': 12, 'Nixon (1995)': 13, 'Cutthroat Island (1995)': 14, 'Casino (1995)': 15, 'Sense and Sensibility (1995)': 16, 'Four Rooms (1995)': 17, 'Ace Ventura: When Nature Calls (1995)': 18, 'Money Train (1995)': 19, 'Get Shorty (1995)': 20, 'Copycat (1995)': 21, 'Assassins (1995)': 22, 'Powder (1995)': 23, 'Leaving Las Vegas (1995)': 24, 'Othello (1995)': 25, 'Now and Then (1995)': 26, 'Persuasion (1995)': 27, 'City of Lost Children, The (Cité des enfants perdus, La) (1995)': 28, 'Shanghai Triad (Yao a yao yao dao waipo qiao) (1995)': 29, 'Dangerous Minds (1995)': 30, 'Twelve Monkeys (a.k.a. 12 Monkeys) (1995)': 31, 'Babe (1995)': 32, 'Carrington (1995)': 33, 'Dead Man Walking (1995)': 34, 'Clueless (1995)': 35, 'Richard III (1995)': 36, 'Dead Presidents (1995)': 37, 'Restoration (1995)': 38, 'Mortal Kombat (1995)': 39, 'To Die For (1995)': 40, 'How to Make an American Quilt (1995)': 41, 'Seven (a.k.a. Se7en) (1995)': 42, 'Pocahontas (1995)': 43, 'Usual Suspects, The (1995)': 44, 'Mighty Aphrodite (1995)': 45, 'Home for the Holidays (1995)': 46, 'Postman, The (Postino, Il) (1994)': 47, 'Indian in the Cupboard, The (1995)': 48, 'Eye for an Eye (1996)': 49, \"Mr. Holland's Opus (1995)\": 50, \"Don't Be a Menace to South Central While Drinking Your Juice in the Hood (1996)\": 51, 'Two if by Sea (1996)': 52, 'Bio-Dome (1996)': 53, 'Lawnmower Man 2: Beyond Cyberspace (1996)': 54, 'French Twist (Gazon maudit) (1995)': 55, 'Friday (1995)': 56, 'From Dusk Till Dawn (1996)': 57, 'Fair Game (1995)': 58, 'Kicking and Screaming (1995)': 59, 'Misérables, Les (1995)': 60, 'Bed of Roses (1996)': 61, 'Screamers (1995)': 62, 'Crossing Guard, The (1995)': 63, 'Juror, The (1996)': 64, \"Things to Do in Denver When You're Dead (1995)\": 65, \"Antonia's Line (Antonia) (1995)\": 66, 'Angels and Insects (1995)': 67, 'White Squall (1996)': 68, 'Black Sheep (1996)': 69, 'Nick of Time (1995)': 70, 'Mary Reilly (1996)': 71, 'Vampire in Brooklyn (1995)': 72, 'Beautiful Girls (1996)': 73, 'Broken Arrow (1996)': 74, 'Hate (Haine, La) (1995)': 75, 'City Hall (1996)': 76, 'Bottle Rocket (1996)': 77, 'Mr. Wrong (1996)': 78, 'Unforgettable (1996)': 79, 'Happy Gilmore (1996)': 80, 'Bridges of Madison County, The (1995)': 81, 'Muppet Treasure Island (1996)': 82, 'Braveheart (1995)': 83, 'Taxi Driver (1976)': 84, 'Rumble in the Bronx (Hont faan kui) (1995)': 85, \"Young Poisoner's Handbook, The (1995)\": 86, 'If Lucy Fell (1996)': 87, 'Boomerang (1992)': 88, 'Chungking Express (Chung Hing sam lam) (1994)': 89, 'Flirting With Disaster (1996)': 90, 'NeverEnding Story III, The (1994)': 91, 'Jade (1995)': 92, 'Down Periscope (1996)': 93, 'Up Close and Personal (1996)': 94, 'Birdcage, The (1996)': 95, 'Brothers McMullen, The (1995)': 96, 'Bad Boys (1995)': 97, 'Basketball Diaries, The (1995)': 98, 'Amateur (1994)': 99, 'Apollo 13 (1995)': 100, 'Rob Roy (1995)': 101, 'Batman Forever (1995)': 102, 'Beauty of the Day (Belle de jour) (1967)': 103, 'Beyond Rangoon (1995)': 104, 'Blue in the Face (1995)': 105, 'Canadian Bacon (1995)': 106, 'Casper (1995)': 107, 'Clockers (1995)': 108, 'Congo (1995)': 109, 'Crimson Tide (1995)': 110, 'Crumb (1994)': 111, 'Desperado (1995)': 112, 'Devil in a Blue Dress (1995)': 113, 'Die Hard: With a Vengeance (1995)': 114, 'First Knight (1995)': 115, 'Free Willy 2: The Adventure Home (1995)': 116, 'Hackers (1995)': 117, 'Jeffrey (1995)': 118, 'Johnny Mnemonic (1995)': 119, 'Judge Dredd (1995)': 120, 'Jury Duty (1995)': 121, 'Kids (1995)': 122, 'Living in Oblivion (1995)': 123, 'Lord of Illusions (1995)': 124, 'Mallrats (1995)': 125, 'Mighty Morphin Power Rangers: The Movie (1995)': 126, 'Net, The (1995)': 127, 'Nine Months (1995)': 128, 'Prophecy, The (1995)': 129, 'Safe (1995)': 130, 'Scarlet Letter, The (1995)': 131, 'Showgirls (1995)': 132, 'Smoke (1995)': 133, 'Something to Talk About (1995)': 134, 'Species (1995)': 135, 'Strange Days (1995)': 136, 'Umbrellas of Cherbourg, The (Parapluies de Cherbourg, Les) (1964)': 137, 'To Wong Foo, Thanks for Everything! Julie Newmar (1995)': 138, 'Under Siege 2: Dark Territory (1995)': 139, 'Unstrung Heroes (1995)': 140, 'Walk in the Clouds, A (1995)': 141, 'Waterworld (1995)': 142, 'Burnt by the Sun (Utomlyonnye solntsem) (1994)': 143, 'Before Sunrise (1995)': 144, 'Billy Madison (1995)': 145, 'Boys on the Side (1995)': 146, 'Circle of Friends (1995)': 147, 'Clerks (1994)': 148, 'Don Juan DeMarco (1995)': 149, 'Disclosure (1994)': 150, 'Drop Zone (1994)': 151, 'Death and the Maiden (1994)': 152, 'Dolores Claiborne (1995)': 153, 'Dumb & Dumber (Dumb and Dumber) (1994)': 154, 'Eat Drink Man Woman (Yin shi nan nu) (1994)': 155, 'Exotica (1994)': 156, 'Exit to Eden (1994)': 157, 'Ed Wood (1994)': 158, 'French Kiss (1995)': 159, 'Forget Paris (1995)': 160, 'Goofy Movie, A (1995)': 161, 'Farinelli: il castrato (1994)': 162, 'Hoop Dreams (1994)': 163, 'Heavenly Creatures (1994)': 164, 'Houseguest (1994)': 165, 'Immortal Beloved (1994)': 166, 'I.Q. (1994)': 167, 'Interview with the Vampire: The Vampire Chronicles (1994)': 168, 'Junior (1994)': 169, 'Just Cause (1995)': 170, \"Kid in King Arthur's Court, A (1995)\": 171, 'Kiss of Death (1995)': 172, 'Star Wars: Episode IV - A New Hope (1977)': 173, 'Little Women (1994)': 174, 'Little Princess, A (1995)': 175, 'Like Water for Chocolate (Como agua para chocolate) (1992)': 176, 'Legends of the Fall (1994)': 177, 'Major Payne (1995)': 178, 'Losing Isaiah (1995)': 179, 'Madness of King George, The (1994)': 180, \"Mary Shelley's Frankenstein (Frankenstein) (1994)\": 181, 'Man of the House (1995)': 182, 'Mixed Nuts (1994)': 183, 'Milk Money (1994)': 184, 'Miracle on 34th Street (1994)': 185, 'Murder in the First (1995)': 186, \"Nobody's Fool (1994)\": 187, 'Nell (1994)': 188, 'Natural Born Killers (1994)': 189, 'Only You (1994)': 190, 'Once Were Warriors (1994)': 191, 'Outbreak (1995)': 192, 'Léon: The Professional (a.k.a. The Professional) (Léon) (1994)': 193, 'Pulp Fiction (1994)': 194, 'Priest (1994)': 195, 'Quiz Show (1994)': 196, 'Queen Margot (Reine Margot, La) (1994)': 197, 'Quick and the Dead, The (1995)': 198, 'Ready to Wear (Pret-A-Porter) (1994)': 199, 'Three Colors: Red (Trois couleurs: Rouge) (1994)': 200, 'Three Colors: Blue (Trois couleurs: Bleu) (1993)': 201, 'Three Colors: White (Trzy kolory: Bialy) (1994)': 202, 'Stuart Saves His Family (1995)': 203, 'Swan Princess, The (1994)': 204, 'Secret of Roan Inish, The (1994)': 205, 'Specialist, The (1994)': 206, 'Stargate (1994)': 207, 'Santa Clause, The (1994)': 208, 'Shawshank Redemption, The (1994)': 209, 'Shallow Grave (1994)': 210, 'Swimming with Sharks (1995)': 211, 'To Live (Huozhe) (1994)': 212, 'Tank Girl (1995)': 213, 'Tales from the Crypt Presents: Demon Knight (1995)': 214, 'Star Trek: Generations (1994)': 215, 'Tales from the Hood (1995)': 216, 'Village of the Damned (1995)': 217, 'Tommy Boy (1995)': 218, 'Vanya on 42nd Street (1994)': 219, \"What's Eating Gilbert Grape (1993)\": 220, 'Virtuosity (1995)': 221, 'While You Were Sleeping (1995)': 222, 'War, The (1994)': 223, \"Muriel's Wedding (1994)\": 224, 'Ace Ventura: Pet Detective (1994)': 225, 'Adventures of Priscilla, Queen of the Desert, The (1994)': 226, 'Backbeat (1993)': 227, 'Bitter Moon (1992)': 228, 'Bullets Over Broadway (1994)': 229, 'Clear and Present Danger (1994)': 230, 'Client, The (1994)': 231, 'Corrina, Corrina (1994)': 232, 'Crooklyn (1994)': 233, 'Crow, The (1994)': 234, 'Cobb (1994)': 235, 'Flintstones, The (1994)': 236, 'Forrest Gump (1994)': 237, 'Four Weddings and a Funeral (1994)': 238, 'Higher Learning (1995)': 239, 'I Love Trouble (1994)': 240, 'It Could Happen to You (1994)': 241, 'Jungle Book, The (1994)': 242, 'Lion King, The (1994)': 243, 'Little Buddha (1993)': 244, \"Wes Craven's New Nightmare (Nightmare on Elm Street Part 7: Freddy's Finale, A) (1994)\": 245, 'Mask, The (1994)': 246, 'Maverick (1994)': 247, 'Mrs. Parker and the Vicious Circle (1994)': 248, 'Naked Gun 33 1/3: The Final Insult (1994)': 249, 'Paper, The (1994)': 250, 'Reality Bites (1994)': 251, 'Red Rock West (1992)': 252, 'Richie Rich (1994)': 253, 'River Wild, The (1994)': 254, 'Speed (1994)': 255, 'Speechless (1994)': 256, 'Timecop (1994)': 257, 'True Lies (1994)': 258, 'When a Man Loves a Woman (1994)': 259, 'Wolf (1994)': 260, 'Wyatt Earp (1994)': 261, 'Street Fighter (1994)': 262, 'Highlander III: The Sorcerer (a.k.a. Highlander: The Final Dimension) (1994)': 263, 'In the Mouth of Madness (1995)': 264, 'Addams Family Values (1993)': 265, 'Age of Innocence, The (1993)': 266, 'Airheads (1994)': 267, 'Another Stakeout (1993)': 268, 'Bad Girls (1994)': 269, 'Barcelona (1994)': 270, 'Beverly Hillbillies, The (1993)': 271, 'Beverly Hills Cop III (1994)': 272, 'Black Beauty (1994)': 273, 'Blink (1994)': 274, 'Blown Away (1994)': 275, 'Body Snatchers (1993)': 276, 'Boxing Helena (1993)': 277, 'Bronx Tale, A (1993)': 278, 'Cabin Boy (1994)': 279, \"Carlito's Way (1993)\": 280, \"City Slickers II: The Legend of Curly's Gold (1994)\": 281, 'Clean Slate (1994)': 282, 'Cliffhanger (1993)': 283, 'Coneheads (1993)': 284, 'Cops and Robbersons (1994)': 285, 'Dave (1993)': 286, 'Dazed and Confused (1993)': 287, 'Demolition Man (1993)': 288, 'Even Cowgirls Get the Blues (1993)': 289, 'Fatal Instinct (1993)': 290, 'Farewell My Concubine (Ba wang bie ji) (1993)': 291, 'Fearless (1993)': 292, 'With Honors (1994)': 293, \"Widows' Peak (1994)\": 294, 'Firm, The (1993)': 295, 'Free Willy (1993)': 296, 'Fugitive, The (1993)': 297, 'Geronimo: An American Legend (1993)': 298, 'Hard Target (1993)': 299, 'Hot Shots! Part Deux (1993)': 300, 'Englishman Who Went Up a Hill But Came Down a Mountain, The (1995)': 301, 'House of the Spirits, The (1993)': 302, 'Hudsucker Proxy, The (1994)': 303, 'In the Army Now (1994)': 304, 'In the Line of Fire (1993)': 305, 'In the Name of the Father (1993)': 306, \"What's Love Got to Do with It? (1993)\": 307, 'Judgment Night (1993)': 308, 'Jurassic Park (1993)': 309, 'Kalifornia (1993)': 310, 'Killing Zoe (1994)': 311, 'Last Action Hero (1993)': 312, 'Made in America (1993)': 313, 'Malice (1993)': 314, 'Man Without a Face, The (1993)': 315, 'Manhattan Murder Mystery (1993)': 316, 'Menace II Society (1993)': 317, 'Executive Decision (1996)': 318, 'Much Ado About Nothing (1993)': 319, 'Mrs. Doubtfire (1993)': 320, 'Naked (1993)': 321, 'Next Karate Kid, The (1994)': 322, 'No Escape (1994)': 323, 'North (1994)': 324, 'Orlando (1992)': 325, 'Perfect World, A (1993)': 326, 'Philadelphia (1993)': 327, 'Piano, The (1993)': 328, 'Program, The (1993)': 329, 'Ref, The (1994)': 330, 'Remains of the Day, The (1993)': 331, 'Renaissance Man (1994)': 332, 'Rising Sun (1993)': 333, 'Road to Wellville, The (1994)': 334, 'RoboCop 3 (1993)': 335, 'Robin Hood: Men in Tights (1993)': 336, 'Romeo Is Bleeding (1993)': 337, 'Romper Stomper (1992)': 338, 'Rudy (1993)': 339, \"Schindler's List (1993)\": 340, 'Searching for Bobby Fischer (1993)': 341, 'Secret Garden, The (1993)': 342, 'Serial Mom (1994)': 343, 'Shadow, The (1994)': 344, 'Shadowlands (1993)': 345, 'Short Cuts (1993)': 346, 'Sirens (1994)': 347, 'Six Degrees of Separation (1993)': 348, 'Sleepless in Seattle (1993)': 349, 'Sliver (1993)': 350, 'Blade Runner (1982)': 351, 'Son in Law (1993)': 352, 'So I Married an Axe Murderer (1993)': 353, 'Striking Distance (1993)': 354, 'Super Mario Bros. (1993)': 355, 'Terminal Velocity (1994)': 356, 'Thirty-Two Short Films About Glenn Gould (1993)': 357, 'Threesome (1994)': 358, 'Nightmare Before Christmas, The (1993)': 359, 'Three Musketeers, The (1993)': 360, 'Tombstone (1993)': 361, 'True Romance (1993)': 362, 'War Room, The (1993)': 363, 'Pagemaster, The (1994)': 364, 'Welcome to the Dollhouse (1995)': 365, 'Little Big League (1994)': 366, 'Spanking the Monkey (1994)': 367, 'Little Rascals, The (1994)': 368, 'Celluloid Closet, The (1995)': 369, 'Brady Bunch Movie, The (1995)': 370, 'Home Alone (1990)': 371, 'Ghost (1990)': 372, 'Aladdin (1992)': 373, 'Terminator 2: Judgment Day (1991)': 374, 'Dances with Wolves (1990)': 375, 'Batman (1989)': 376, 'Silence of the Lambs, The (1991)': 377, 'Snow White and the Seven Dwarfs (1937)': 378, 'Beauty and the Beast (1991)': 379, 'Pinocchio (1940)': 380, 'Pretty Woman (1990)': 381, 'Wild Bunch, The (1969)': 382, 'One Fine Day (1996)': 383, 'Candyman: Farewell to the Flesh (1995)': 384, 'Fargo (1996)': 385, 'Homeward Bound II: Lost in San Francisco (1996)': 386, 'Heavy Metal (1981)': 387, 'Hellraiser: Bloodline (1996)': 388, 'Pallbearer, The (1996)': 389, 'Jane Eyre (1996)': 390, 'Aristocats, The (1970)': 391, 'Last Supper, The (1995)': 392, 'Primal Fear (1996)': 393, 'All Dogs Go to Heaven 2 (1996)': 394, 'Family Thing, A (1996)': 395, 'Sgt. Bilko (1996)': 396, 'Girl 6 (1996)': 397, 'Diabolique (1996)': 398, 'Courage Under Fire (1996)': 399, 'Mission: Impossible (1996)': 400, 'Moll Flanders (1996)': 401, 'Dragonheart (1996)': 402, 'Eddie (1996)': 403, 'James and the Giant Peach (1996)': 404, 'Fear (1996)': 405, 'Kids in the Hall: Brain Candy (1996)': 406, 'Mystery Science Theater 3000: The Movie (1996)': 407, 'Space Jam (1996)': 408, 'Barbarella (1968)': 409, 'Some Folks Call It a Sling Blade (1993)': 410, 'Alphaville (Alphaville, une étrange aventure de Lemmy Caution) (1965)': 411, 'Operation Dumbo Drop (1995)': 412, 'Substitute, The (1996)': 413, 'Quest, The (1996)': 414, 'Mulholland Falls (1996)': 415, 'Truth About Cats & Dogs, The (1996)': 416, 'Oliver & Company (1988)': 417, 'Celtic Pride (1996)': 418, 'Flipper (1996)': 419, 'Dead Man (1995)': 420, 'Multiplicity (1996)': 421, 'Wallace & Gromit: The Best of Aardman Animation (1996)': 422, 'Craft, The (1996)': 423, 'Great White Hype, The (1996)': 424, 'Cold Comfort Farm (1995)': 425, 'Rock, The (1996)': 426, 'Twister (1996)': 427, 'Barb Wire (1996)': 428, 'Ghost in the Shell (Kôkaku kidôtai) (1995)': 429, 'Thinner (1996)': 430, 'Spy Hard (1996)': 431, 'Wallace & Gromit: A Close Shave (1995)': 432, 'Stupids, The (1996)': 433, 'Arrival, The (1996)': 434, 'Dr. Strangelove or: How I Learned to Stop Worrying and Love the Bomb (1964)': 435, 'Phantom, The (1996)': 436, 'Striptease (1996)': 437, 'Jack (1996)': 438, 'I Shot Andy Warhol (1996)': 439, 'Trainspotting (1996)': 440, 'Independence Day (a.k.a. ID4) (1996)': 441, 'Stealing Beauty (1996)': 442, 'Fan, The (1996)': 443, 'Hunchback of Notre Dame, The (1996)': 444, 'Cable Guy, The (1996)': 445, 'Kingpin (1996)': 446, 'Eraser (1996)': 447, 'Nutty Professor, The (1996)': 448, 'Daylight (1996)': 449, 'Frighteners, The (1996)': 450, 'Lone Star (1996)': 451, 'Harriet the Spy (1996)': 452, 'Phenomenon (1996)': 453, \"She's the One (1996)\": 454, 'Time to Kill, A (1996)': 455, 'Fled (1996)': 456, 'Kazaam (1996)': 457, 'Very Brady Sequel, A (1996)': 458, 'Adventures of Pinocchio, The (1996)': 459, \"Joe's Apartment (1996)\": 460, 'First Wives Club, The (1996)': 461, 'Ransom (1996)': 462, 'High School High (1996)': 463, 'Chain Reaction (1996)': 464, 'Matilda (1996)': 465, 'Emma (1996)': 466, 'Crow: City of Angels, The (1996)': 467, 'Tales from the Crypt Presents: Bordello of Blood (1996)': 468, 'Spitfire Grill, The (1996)': 469, 'Escape from L.A. (1996)': 470, 'Basquiat (1996)': 471, 'Tin Cup (1996)': 472, 'Godfather, The (1972)': 473, 'Supercop (Police Story 3: Supercop) (Jing cha gu shi III: Chao ji jing cha) (1992)': 474, 'Bound (1996)': 475, 'Relic, The (1997)': 476, 'Island of Dr. Moreau, The (1996)': 477, 'First Kid (1996)': 478, 'Bulletproof (1996)': 479, 'Halloween: The Curse of Michael Myers (Halloween 6: The Curse of Michael Myers) (1995)': 480, 'Twelfth Night (1996)': 481, 'Philadelphia Story, The (1940)': 482, \"Singin' in the Rain (1952)\": 483, 'American in Paris, An (1951)': 484, 'Funny Face (1957)': 485, \"Breakfast at Tiffany's (1961)\": 486, 'Vertigo (1958)': 487, 'Rear Window (1954)': 488, 'It Happened One Night (1934)': 489, 'Gaslight (1944)': 490, 'North by Northwest (1959)': 491, 'Apartment, The (1960)': 492, 'Some Like It Hot (1959)': 493, 'Charade (1963)': 494, 'Casablanca (1942)': 495, 'Maltese Falcon, The (1941)': 496, 'My Fair Lady (1964)': 497, 'Sabrina (1954)': 498, 'Roman Holiday (1953)': 499, 'Meet Me in St. Louis (1944)': 500, 'Wizard of Oz, The (1939)': 501, 'Gone with the Wind (1939)': 502, 'My Favorite Year (1982)': 503, 'Sunset Blvd. (a.k.a. Sunset Boulevard) (1950)': 504, 'Citizen Kane (1941)': 505, '2001: A Space Odyssey (1968)': 506, 'All About Eve (1950)': 507, 'Rebecca (1940)': 508, 'Notorious (1946)': 509, 'Spellbound (1945)': 510, 'Affair to Remember, An (1957)': 511, 'To Catch a Thief (1955)': 512, 'Father of the Bride (1950)': 513, 'Ninotchka (1939)': 514, 'Gigi (1958)': 515, 'Adventures of Robin Hood, The (1938)': 516, 'Laura (1944)': 517, 'Ghost and Mrs. Muir, The (1947)': 518, 'Top Hat (1935)': 519, 'To Be or Not to Be (1942)': 520, 'My Man Godfrey (1936)': 521, 'Giant (1956)': 522, 'East of Eden (1955)': 523, 'Thin Man, The (1934)': 524, 'His Girl Friday (1940)': 525, 'Around the World in 80 Days (1956)': 526, \"It's a Wonderful Life (1946)\": 527, 'Mr. Smith Goes to Washington (1939)': 528, 'Bringing Up Baby (1938)': 529, '39 Steps, The (1935)': 530, 'Night of the Living Dead (1968)': 531, 'African Queen, The (1951)': 532, 'Cat on a Hot Tin Roof (1958)': 533, 'Fly Away Home (1996)': 534, 'Michael Collins (1996)': 535, 'Big Night (1996)': 536, 'Last Man Standing (1996)': 537, '2 Days in the Valley (1996)': 538, 'Extreme Measures (1996)': 539, 'Glimmer Man, The (1996)': 540, 'D3: The Mighty Ducks (1996)': 541, 'Chamber, The (1996)': 542, 'Apple Dumpling Gang, The (1975)': 543, 'Escape to Witch Mountain (1975)': 544, 'Love Bug, The (1969)': 545, 'Herbie Rides Again (1974)': 546, 'Old Yeller (1957)': 547, 'Parent Trap, The (1961)': 548, 'Pollyanna (1960)': 549, 'Homeward Bound: The Incredible Journey (1993)': 550, 'Shaggy Dog, The (1959)': 551, 'Swiss Family Robinson (1960)': 552, '20,000 Leagues Under the Sea (1954)': 553, 'Cool Runnings (1993)': 554, 'Angels in the Outfield (1994)': 555, 'Cinderella (1950)': 556, 'Winnie the Pooh and the Blustery Day (1968)': 557, 'Three Caballeros, The (1945)': 558, 'Sword in the Stone, The (1963)': 559, 'Robin Hood: Prince of Thieves (1991)': 560, 'Mary Poppins (1964)': 561, 'Dumbo (1941)': 562, \"Pete's Dragon (1977)\": 563, 'Bedknobs and Broomsticks (1971)': 564, 'Alice in Wonderland (1951)': 565, 'Fox and the Hound, The (1981)': 566, 'Freeway (1996)': 567, 'Sound of Music, The (1965)': 568, 'Die Hard (1988)': 569, 'Lawnmower Man, The (1992)': 570, 'Secrets & Lies (1996)': 571, 'That Thing You Do! (1996)': 572, 'Beautiful Thing (1996)': 573, 'Long Kiss Goodnight, The (1996)': 574, 'Ghost and the Darkness, The (1996)': 575, 'Looking for Richard (1996)': 576, 'Trees Lounge (1996)': 577, 'Everyone Says I Love You (1996)': 578, \"William Shakespeare's Romeo + Juliet (1996)\": 579, 'Swingers (1996)': 580, 'Sleepers (1996)': 581, 'Aladdin and the King of Thieves (1996)': 582, 'Shall We Dance (1937)': 583, 'Willy Wonka & the Chocolate Factory (1971)': 584, 'Sleeper (1973)': 585, 'Bananas (1971)': 586, 'Fish Called Wanda, A (1988)': 587, \"Monty Python's Life of Brian (1979)\": 588, 'Victor/Victoria (1982)': 589, 'Candidate, The (1972)': 590, 'Great Race, The (1965)': 591, 'Bonnie and Clyde (1967)': 592, 'Old Man and the Sea, The (1958)': 593, 'Dial M for Murder (1954)': 594, 'Dirty Dancing (1987)': 595, 'Reservoir Dogs (1992)': 596, 'Platoon (1986)': 597, \"Weekend at Bernie's (1989)\": 598, 'Basic Instinct (1992)': 599, 'Doors, The (1991)': 600, 'Crying Game, The (1992)': 601, 'Glengarry Glen Ross (1992)': 602, \"Sophie's Choice (1982)\": 603, 'E.T. the Extra-Terrestrial (1982)': 604, 'Christmas Carol, A (1938)': 605, 'Days of Thunder (1990)': 606, 'Top Gun (1986)': 607, 'Rebel Without a Cause (1955)': 608, 'Streetcar Named Desire, A (1951)': 609, \"Microcosmos (Microcosmos: Le peuple de l'herbe) (1996)\": 610, 'People vs. Larry Flynt, The (1996)': 611, 'On Golden Pond (1981)': 612, 'Return of the Pink Panther, The (1975)': 613, 'Drop Dead Fred (1991)': 614, 'Abyss, The (1989)': 615, 'Fog, The (1980)': 616, 'Escape from New York (1981)': 617, 'Howling, The (1980)': 618, 'Jean de Florette (1986)': 619, 'Manon of the Spring (Manon des sources) (1986)': 620, 'Private Benjamin (1980)': 621, 'Monty Python and the Holy Grail (1975)': 622, 'When We Were Kings (1996)': 623, 'Wallace & Gromit: The Wrong Trousers (1993)': 624, 'Return of Martin Guerre, The (Retour de Martin Guerre, Le) (1982)': 625, 'Tin Drum, The (Blechtrommel, Die) (1979)': 626, 'Bob Roberts (1992)': 627, 'Cinema Paradiso (Nuovo cinema Paradiso) (1989)': 628, 'Cook the Thief His Wife & Her Lover, The (1989)': 629, 'Delicatessen (1991)': 630, 'Double Life of Veronique, The (Double Vie de Véronique, La) (1991)': 631, 'Enchanted April (1992)': 632, 'Paths of Glory (1957)': 633, 'Grifters, The (1990)': 634, 'English Patient, The (1996)': 635, 'My Left Foot (1989)': 636, 'Sex, Lies, and Videotape (1989)': 637, 'Passion Fish (1992)': 638, 'Strictly Ballroom (1992)': 639, 'Thin Blue Line, The (1988)': 640, 'Tie Me Up! Tie Me Down! (¡Átame!) (1990)': 641, 'Madonna: Truth or Dare (1991)': 642, 'Paris Is Burning (1990)': 643, \"One Flew Over the Cuckoo's Nest (1975)\": 644, \"Cheech and Chong's Up in Smoke (1978)\": 645, 'Star Wars: Episode V - The Empire Strikes Back (1980)': 646, 'Princess Bride, The (1987)': 647, 'Raiders of the Lost Ark (Indiana Jones and the Raiders of the Lost Ark) (1981)': 648, 'Brazil (1985)': 649, 'Aliens (1986)': 650, 'Good, the Bad and the Ugly, The (Buono, il brutto, il cattivo, Il) (1966)': 651, 'Withnail & I (1987)': 652, '12 Angry Men (1957)': 653, 'Lawrence of Arabia (1962)': 654, 'Clockwork Orange, A (1971)': 655, 'To Kill a Mockingbird (1962)': 656, 'Apocalypse Now (1979)': 657, \"Once Upon a Time in the West (C'era una volta il West) (1968)\": 658, 'Star Wars: Episode VI - Return of the Jedi (1983)': 659, 'Wings of Desire (Himmel über Berlin, Der) (1987)': 660, 'Third Man, The (1949)': 661, 'Goodfellas (1990)': 662, 'Alien (1979)': 663, 'Army of Darkness (1993)': 664, 'Big Blue, The (Grand bleu, Le) (1988)': 665, 'Ran (1985)': 666, 'Killer, The (Die xue shuang xiong) (1989)': 667, 'Psycho (1960)': 668, 'Blues Brothers, The (1980)': 669, 'Godfather: Part II, The (1974)': 670, 'Full Metal Jacket (1987)': 671, 'Grand Day Out with Wallace and Gromit, A (1989)': 672, 'Henry V (1989)': 673, 'Amadeus (1984)': 674, 'Quiet Man, The (1952)': 675, 'Once Upon a Time in America (1984)': 676, 'Raging Bull (1980)': 677, 'Annie Hall (1977)': 678, 'Right Stuff, The (1983)': 679, 'Stalker (1979)': 680, 'Boot, Das (Boat, The) (1981)': 681, 'Sting, The (1973)': 682, 'Harold and Maude (1971)': 683, 'Seventh Seal, The (Sjunde inseglet, Det) (1957)': 684, 'Local Hero (1983)': 685, 'Terminator, The (1984)': 686, 'Dead Alive (Braindead) (1992)': 687, 'Glory (1989)': 688, 'Rosencrantz and Guildenstern Are Dead (1990)': 689, 'Manhattan (1979)': 690, \"Miller's Crossing (1990)\": 691, 'Dead Poets Society (1989)': 692, 'Graduate, The (1967)': 693, 'Touch of Evil (1958)': 694, 'Femme Nikita, La (Nikita) (1990)': 695, 'Bridge on the River Kwai, The (1957)': 696, '8 1/2 (8½) (1963)': 697, 'Chinatown (1974)': 698, 'Day the Earth Stood Still, The (1951)': 699, 'Treasure of the Sierra Madre, The (1948)': 700, 'Bad Taste (1987)': 701, 'Duck Soup (1933)': 702, 'Better Off Dead... (1985)': 703, 'Shining, The (1980)': 704, 'Stand by Me (1986)': 705, 'M (1931)': 706, 'Evil Dead II (Dead by Dawn) (1987)': 707, 'Great Escape, The (1963)': 708, 'Deer Hunter, The (1978)': 709, 'Diva (1981)': 710, 'Groundhog Day (1993)': 711, 'Unforgiven (1992)': 712, 'Manchurian Candidate, The (1962)': 713, 'Pump Up the Volume (1990)': 714, 'Arsenic and Old Lace (1944)': 715, 'Back to the Future (1985)': 716, 'Fried Green Tomatoes (1991)': 717, 'Patton (1970)': 718, 'Down by Law (1986)': 719, 'Akira (1988)': 720, 'Highlander (1986)': 721, 'Cool Hand Luke (1967)': 722, 'Cyrano de Bergerac (1990)': 723, 'Young Frankenstein (1974)': 724, 'Night on Earth (1991)': 725, 'Raise the Red Lantern (Da hong deng long gao gao gua) (1991)': 726, 'Great Dictator, The (1940)': 727, 'Fantasia (1940)': 728, 'High Noon (1952)': 729, 'Big Sleep, The (1946)': 730, 'Heathers (1989)': 731, 'Somewhere in Time (1980)': 732, 'Ben-Hur (1959)': 733, 'This Is Spinal Tap (1984)': 734, 'Koyaanisqatsi (a.k.a. Koyaanisqatsi: Life Out of Balance) (1983)': 735, 'Some Kind of Wonderful (1987)': 736, 'Indiana Jones and the Last Crusade (1989)': 737, 'Being There (1979)': 738, 'Gandhi (1982)': 739, 'Unbearable Lightness of Being, The (1988)': 740, 'Room with a View, A (1986)': 741, 'Real Genius (1985)': 742, 'Pink Floyd: The Wall (1982)': 743, 'Killing Fields, The (1984)': 744, 'My Life as a Dog (Mitt liv som hund) (1985)': 745, 'Forbidden Planet (1956)': 746, 'Field of Dreams (1989)': 747, 'Man Who Would Be King, The (1975)': 748, 'Butch Cassidy and the Sundance Kid (1969)': 749, 'Paris, Texas (1984)': 750, 'Until the End of the World (Bis ans Ende der Welt) (1991)': 751, 'When Harry Met Sally... (1989)': 752, 'Alien³ (a.k.a. Alien 3) (1992)': 753, 'American Werewolf in London, An (1981)': 754, 'Amityville Horror, The (1979)': 755, 'Birds, The (1963)': 756, 'Blob, The (1958)': 757, \"Dracula (Bram Stoker's Dracula) (1992)\": 758, 'Bride of Frankenstein, The (Bride of Frankenstein) (1935)': 759, 'Candyman (1992)': 760, 'Cape Fear (1991)': 761, 'Cape Fear (1962)': 762, 'Carrie (1976)': 763, 'Cat People (1982)': 764, 'Nightmare on Elm Street, A (1984)': 765, 'Nosferatu (Nosferatu, eine Symphonie des Grauens) (1922)': 766, 'Omen, The (1976)': 767, 'Mirror Has Two Faces, The (1996)': 768, 'Breaking the Waves (1996)': 769, 'Star Trek: First Contact (1996)': 770, 'Shine (1996)': 771, 'Sling Blade (1996)': 772, 'Jingle All the Way (1996)': 773, 'Paradise Lost: The Child Murders at Robin Hood Hills (1996)': 774, \"Preacher's Wife, The (1996)\": 775, 'Crucible, The (1996)': 776, '101 Dalmatians (1996)': 777, 'Die Hard 2 (1990)': 778, 'Star Trek: The Motion Picture (1979)': 779, 'Star Trek VI: The Undiscovered Country (1991)': 780, 'Star Trek V: The Final Frontier (1989)': 781, 'Star Trek II: The Wrath of Khan (1982)': 782, 'Star Trek III: The Search for Spock (1984)': 783, 'Star Trek IV: The Voyage Home (1986)': 784, 'Batman Returns (1992)': 785, 'Young Guns (1988)': 786, 'Young Guns II (1990)': 787, 'Grease (1978)': 788, 'Grease 2 (1982)': 789, 'Under Siege (1992)': 790, 'Jaws (1975)': 791, 'Jaws 2 (1978)': 792, 'Jaws 3-D (1983)': 793, 'My Fellow Americans (1996)': 794, 'Mars Attacks! (1996)': 795, 'Citizen Ruth (1996)': 796, 'Jerry Maguire (1996)': 797, 'Raising Arizona (1987)': 798, 'Tin Men (1987)': 799, 'Sneakers (1992)': 800, \"Marvin's Room (1996)\": 801, 'Ghosts of Mississippi (1996)': 802, 'Beavis and Butt-Head Do America (1996)': 803, 'Scream (1996)': 804, 'Last of the Mohicans, The (1992)': 805, 'Michael (1996)': 806, 'Hamlet (1996)': 807, 'Mother (1996)': 808, 'Evita (1996)': 809, 'Walkabout (1971)': 810, 'Murder at 1600 (1997)': 811, 'Fierce Creatures (1997)': 812, 'First Strike (Police Story 4: First Strike) (Ging chaat goo si 4: Ji gaan daan yam mo) (1996)': 813, 'Beverly Hills Ninja (1997)': 814, 'Metro (1997)': 815, \"Dante's Peak (1997)\": 816, 'Benny & Joon (1993)': 817, \"McHale's Navy (1997)\": 818, 'Kolya (Kolja) (1996)': 819, 'Waiting for Guffman (1996)': 820, 'Beautician and the Beast, The (1997)': 821, 'Fools Rush In (1997)': 822, 'Absolute Power (1997)': 823, \"Vegas Vacation (National Lampoon's Las Vegas Vacation) (1997)\": 824, 'Lost Highway (1997)': 825, 'Donnie Brasco (1997)': 826, 'Booty Call (1997)': 827, 'Jungle2Jungle (a.k.a. Jungle 2 Jungle) (1997)': 828, 'Private Parts (1997)': 829, 'Saint, The (1997)': 830, \"Smilla's Sense of Snow (1997)\": 831, 'Crash (1996)': 832, 'Liar Liar (1997)': 833, 'Selena (1997)': 834, \"Devil's Own, The (1997)\": 835, 'Anaconda (1997)': 836, 'Grosse Pointe Blank (1997)': 837, \"Romy and Michele's High School Reunion (1997)\": 838, 'Volcano (1997)': 839, 'Austin Powers: International Man of Mystery (1997)': 840, 'Breakdown (1997)': 841, 'Fifth Element, The (1997)': 842, 'Shall We Dance? (Shall We Dansu?) (1996)': 843, 'Addicted to Love (1997)': 844, 'Brassed Off (1996)': 845, 'Lost World: Jurassic Park, The (1997)': 846, 'Con Air (1997)': 847, 'Pillow Book, The (1996)': 848, 'Speed 2: Cruise Control (1997)': 849, 'Batman & Robin (1997)': 850, 'Hercules (1997)': 851, \"My Best Friend's Wedding (1997)\": 852, 'Face/Off (1997)': 853, 'Men in Black (a.k.a. MIB) (1997)': 854, 'Contact (1997)': 855, 'G.I. Jane (1997)': 856, 'Conan the Barbarian (1982)': 857, 'George of the Jungle (1997)': 858, 'Cop Land (1997)': 859, 'Event Horizon (1997)': 860, 'Spawn (1997)': 861, 'Air Bud (1997)': 862, 'Picture Perfect (1997)': 863, 'In the Company of Men (1997)': 864, 'Conspiracy Theory (1997)': 865, 'Mimic (1997)': 866, 'Air Force One (1997)': 867, 'Hunt for Red October, The (1990)': 868, 'My Own Private Idaho (1991)': 869, 'In & Out (1997)': 870, 'Edge, The (1997)': 871, 'Peacemaker, The (1997)': 872, 'L.A. Confidential (1997)': 873, 'Seven Years in Tibet (1997)': 874, 'Kiss the Girls (1997)': 875, 'Game, The (1997)': 876, 'U Turn (1997)': 877, \"Ulee's Gold (1997)\": 878, 'Ice Storm, The (1997)': 879, 'Chasing Amy (1997)': 880, 'Full Monty, The (1997)': 881, 'Mrs. Brown (a.k.a. Her Majesty, Mrs. Brown) (1997)': 882, 'I Know What You Did Last Summer (1997)': 883, \"The Devil's Advocate (1997)\": 884, 'House of Yes, The (1997)': 885, 'Fast, Cheap & Out of Control (1997)': 886, 'Gattaca (1997)': 887, 'Life Less Ordinary, A (1997)': 888, 'Stripes (1981)': 889, 'Bean (1997)': 890, 'Rainmaker, The (1997)': 891, 'Boogie Nights (1997)': 892, 'Witness (1985)': 893, 'Starship Troopers (1997)': 894, 'Joy Luck Club, The (1993)': 895, 'Sliding Doors (1998)': 896, 'Mortal Kombat: Annihilation (1997)': 897, 'Truman Show, The (1998)': 898, 'Wings of the Dove, The (1997)': 899, 'Red Corner (1997)': 900, 'Jackal, The (1997)': 901, 'Anastasia (1997)': 902, 'Man Who Knew Too Little, The (1997)': 903, 'Alien: Resurrection (1997)': 904, 'Amistad (1997)': 905, 'Apostle, The (1997)': 906, 'Deconstructing Harry (1997)': 907, 'Flubber (1997)': 908, 'Good Will Hunting (1997)': 909, 'Home Alone 3 (1997)': 910, 'Midnight in the Garden of Good and Evil (1997)': 911, 'Mouse Hunt (1997)': 912, 'Scream 2 (1997)': 913, 'Sweet Hereafter, The (1997)': 914, 'Titanic (1997)': 915, 'Tomorrow Never Dies (1997)': 916, 'Postman, The (1997)': 917, 'Horse Whisperer, The (1998)': 918, 'Jackie Brown (1997)': 919, 'Kundun (1997)': 920, 'Big Lebowski, The (1998)': 921, 'My Life in Pink (Ma vie en rose) (1997)': 922, 'Great Expectations (1998)': 923, 'Wag the Dog (1997)': 924, 'Dark City (1998)': 925, 'Hard Rain (1998)': 926, 'Half Baked (1998)': 927, 'Fallen (1998)': 928, 'Spice World (1997)': 929, 'Deep Rising (1998)': 930, 'Replacement Killers, The (1998)': 931, 'Blues Brothers 2000 (1998)': 932, 'Wedding Singer, The (1998)': 933, 'Sphere (1998)': 934, 'Palmetto (1998)': 935, 'As Good as It Gets (1997)': 936, 'King of New York (1990)': 937, 'U.S. Marshals (1998)': 938, 'Everest (1998)': 939, 'Suicide Kings (1997)': 940, 'Man in the Iron Mask, The (1998)': 941, 'Wild Things (1998)': 942, 'Primary Colors (1998)': 943, 'Object of My Affection, The (1998)': 944, 'Lost in Space (1998)': 945, 'Mercury Rising (1998)': 946, 'Spanish Prisoner, The (1997)': 947, 'City of Angels (1998)': 948, 'Last Days of Disco, The (1998)': 949, 'He Got Game (1998)': 950, 'Zero Effect (1998)': 951, 'Borrowers, The (1997)': 952, 'Species II (1998)': 953, 'Big Hit, The (1998)': 954, 'Misérables, Les (1998)': 955, 'Clockwatchers (1997)': 956, 'Deep Impact (1998)': 957, 'Godzilla (1998)': 958, 'Bulworth (1998)': 959, 'Fear and Loathing in Las Vegas (1998)': 960, 'Opposite of Sex, The (1998)': 961, 'Hope Floats (1998)': 962, 'Insomnia (1997)': 963, 'Perfect Murder, A (1998)': 964, 'Six Days Seven Nights (1998)': 965, \"Can't Hardly Wait (1998)\": 966, 'High Art (1998)': 967, 'Mulan (1998)': 968, 'X-Files: Fight the Future, The (1998)': 969, 'Dr. Dolittle (1998)': 970, 'Out of Sight (1998)': 971, 'Picnic at Hanging Rock (1975)': 972, 'Smoke Signals (1998)': 973, \"Buffalo '66 (a.k.a. Buffalo 66) (1998)\": 974, 'Armageddon (1998)': 975, 'Lethal Weapon 4 (1998)': 976, 'Small Soldiers (1998)': 977, 'Pi (1998)': 978, \"There's Something About Mary (1998)\": 979, 'Plan 9 from Outer Space (1959)': 980, 'All Quiet on the Western Front (1930)': 981, 'Mutiny on the Bounty (1935)': 982, 'Lost Weekend, The (1945)': 983, 'Best Years of Our Lives, The (1946)': 984, 'From Here to Eternity (1953)': 985, 'On the Waterfront (1954)': 986, 'Marty (1955)': 987, 'West Side Story (1961)': 988, 'Tom Jones (1963)': 989, 'Man for All Seasons, A (1966)': 990, 'In the Heat of the Night (1967)': 991, 'Oliver! (1968)': 992, 'Midnight Cowboy (1969)': 993, 'French Connection, The (1971)': 994, 'Rocky (1976)': 995, 'Kramer vs. Kramer (1979)': 996, 'Ordinary People (1980)': 997, 'Chariots of Fire (1981)': 998, 'Terms of Endearment (1983)': 999, 'Out of Africa (1985)': 1000, 'Last Emperor, The (1987)': 1001, 'Rain Man (1988)': 1002, 'Driving Miss Daisy (1989)': 1003, 'Take the Money and Run (1969)': 1004, 'Klute (1971)': 1005, 'Repo Man (1984)': 1006, 'Metropolitan (1990)': 1007, 'Labyrinth (1986)': 1008, 'Breakfast Club, The (1985)': 1009, \"Nightmare on Elm Street 2: Freddy's Revenge, A (1985)\": 1010, 'Nightmare on Elm Street 3: Dream Warriors, A (1987)': 1011, 'Nightmare on Elm Street 4: The Dream Master, A (1988)': 1012, 'Nightmare on Elm Street 5: The Dream Child, A (1989)': 1013, \"Freddy's Dead: The Final Nightmare (Nightmare on Elm Street Part 6: Freddy's Dead, A) (1991)\": 1014, 'Friday the 13th (1980)': 1015, 'Friday the 13th Part 2 (1981)': 1016, 'Friday the 13th Part 3: 3D (1982)': 1017, 'Friday the 13th Part IV: The Final Chapter (1984)': 1018, 'Friday the 13th Part V: A New Beginning (1985)': 1019, 'Friday the 13th Part VI: Jason Lives (1986)': 1020, 'Friday the 13th Part VII: The New Blood (1988)': 1021, 'Halloween (1978)': 1022, 'Halloween II (1981)': 1023, \"Child's Play (1988)\": 1024, \"Child's Play 2 (1990)\": 1025, 'Poltergeist (1982)': 1026, 'Poltergeist II: The Other Side (1986)': 1027, 'Poltergeist III (1988)': 1028, 'Exorcist, The (1973)': 1029, 'Lethal Weapon (1987)': 1030, 'Lethal Weapon 2 (1989)': 1031, 'Lethal Weapon 3 (1992)': 1032, 'Gremlins (1984)': 1033, 'Gremlins 2: The New Batch (1990)': 1034, 'Goonies, The (1985)': 1035, 'Mask of Zorro, The (1998)': 1036, 'Soylent Green (1973)': 1037, 'Metropolis (1927)': 1038, 'Back to the Future Part II (1989)': 1039, 'Back to the Future Part III (1990)': 1040, 'Poseidon Adventure, The (1972)': 1041, 'Freaky Friday (1977)': 1042, 'Absent-Minded Professor, The (1961)': 1043, 'Bambi (1942)': 1044, 'Seven Samurai (Shichinin no samurai) (1954)': 1045, 'Dangerous Liaisons (1988)': 1046, 'Dune (1984)': 1047, 'Last Temptation of Christ, The (1988)': 1048, 'Godfather: Part III, The (1990)': 1049, 'Lolita (1997)': 1050, 'Disturbing Behavior (1998)': 1051, \"Jane Austen's Mafia! (1998)\": 1052, 'Saving Private Ryan (1998)': 1053, 'Black Cauldron, The (1985)': 1054, 'Black Hole, The (1979)': 1055, 'Cat from Outer Space, The (1978)': 1056, 'D2: The Mighty Ducks (1994)': 1057, 'Flight of the Navigator (1986)': 1058, 'Great Mouse Detective, The (1986)': 1059, 'Hocus Pocus (1993)': 1060, 'Honey, I Blew Up the Kid (1992)': 1061, 'Honey, I Shrunk the Kids (1989)': 1062, 'Negotiator, The (1998)': 1063, 'Parent Trap, The (1998)': 1064, 'BASEketball (1998)': 1065, 'Roger & Me (1989)': 1066, 'Purple Rose of Cairo, The (1985)': 1067, 'Doctor Zhivago (1965)': 1068, 'Fanny and Alexander (Fanny och Alexander) (1982)': 1069, 'Tender Mercies (1983)': 1070, 'And the Band Played On (1993)': 1071, \"'burbs, The (1989)\": 1072, 'Blue Velvet (1986)': 1073, 'Jungle Book, The (1967)': 1074, 'Lady and the Tramp (1955)': 1075, 'Little Mermaid, The (1989)': 1076, 'Mighty Ducks, The (1992)': 1077, 'Muppet Christmas Carol, The (1992)': 1078, '101 Dalmatians (One Hundred and One Dalmatians) (1961)': 1079, 'Peter Pan (1953)': 1080, 'Popeye (1980)': 1081, 'Rescuers Down Under, The (1990)': 1082, 'Rescuers, The (1977)': 1083, 'Return of Jafar, The (1994)': 1084, 'Return to Oz (1985)': 1085, 'Rocketeer, The (1991)': 1086, 'Sleeping Beauty (1959)': 1087, 'Something Wicked This Way Comes (1983)': 1088, 'Song of the South (1946)': 1089, 'Splash (1984)': 1090, 'Steamboat Willie (1928)': 1091, 'Tron (1982)': 1092, 'Swing Kids (1993)': 1093, 'Halloween H20: 20 Years Later (Halloween 7: The Revenge of Laurie Strode) (1998)': 1094, 'L.A. Story (1991)': 1095, 'Jerk, The (1979)': 1096, \"Dead Men Don't Wear Plaid (1982)\": 1097, 'Man with Two Brains, The (1983)': 1098, 'Grand Canyon (1991)': 1099, 'Outsiders, The (1983)': 1100, 'Indiana Jones and the Temple of Doom (1984)': 1101, 'Lord of the Rings, The (1978)': 1102, '1984 (Nineteen Eighty-Four) (1984)': 1103, 'Dead Zone, The (1983)': 1104, 'Maximum Overdrive (1986)': 1105, 'Needful Things (1993)': 1106, 'Cujo (1983)': 1107, 'Children of the Corn (1984)': 1108, 'All Dogs Go to Heaven (1989)': 1109, 'Addams Family, The (1991)': 1110, 'Ever After: A Cinderella Story (1998)': 1111, 'Snake Eyes (1998)': 1112, 'Atlantic City (1980)': 1113, \"Who's Afraid of Virginia Woolf? (1966)\": 1114, 'Adventures in Babysitting (1987)': 1115, 'Weird Science (1985)': 1116, 'Doctor Dolittle (1967)': 1117, 'Nutty Professor, The (1963)': 1118, \"Charlotte's Web (1973)\": 1119, 'Watership Down (1978)': 1120, 'Secret of NIMH, The (1982)': 1121, 'Dark Crystal, The (1982)': 1122, 'American Tail, An (1986)': 1123, 'American Tail: Fievel Goes West, An (1991)': 1124, 'Legend (1985)': 1125, 'Sixteen Candles (1984)': 1126, 'Pretty in Pink (1986)': 1127, \"St. Elmo's Fire (1985)\": 1128, 'Gods Must Be Crazy, The (1980)': 1129, 'Gods Must Be Crazy II, The (1989)': 1130, 'Avengers, The (1998)': 1131, 'Slums of Beverly Hills, The (1998)': 1132, 'Henry: Portrait of a Serial Killer (1986)': 1133, \"Rosemary's Baby (1968)\": 1134, 'NeverEnding Story, The (1984)': 1135, 'NeverEnding Story II: The Next Chapter, The (1990)': 1136, 'Attack of the Killer Tomatoes! (1978)': 1137, 'Blade (1998)': 1138, 'Dead Man on Campus (1998)': 1139, 'Next Stop Wonderland (1998)': 1140, 'Beetlejuice (1988)': 1141, 'Rope (1948)': 1142, 'Frenzy (1972)': 1143, 'Marnie (1964)': 1144, 'Man Who Knew Too Much, The (1956)': 1145, 'Trouble with Harry, The (1955)': 1146, 'Strangers on a Train (1951)': 1147, '54 (1998)': 1148, 'Willow (1988)': 1149, 'Untouchables, The (1987)': 1150, 'Lifeboat (1944)': 1151, 'Shadow of a Doubt (1943)': 1152, 'Suspicion (1941)': 1153, 'Lady Vanishes, The (1938)': 1154, 'Rounders (1998)': 1155, 'Cube (1997)': 1156, 'Simon Birch (1998)': 1157, 'My Bodyguard (1980)': 1158, 'Broadcast News (1987)': 1159, 'Working Girl (1988)': 1160, 'Married to the Mob (1988)': 1161, 'Say Anything... (1989)': 1162, 'My Blue Heaven (1990)': 1163, 'Hero (1992)': 1164, 'Toys (1992)': 1165, 'Blame It on Rio (1984)': 1166, 'About Last Night... (1986)': 1167, 'Seventh Sign, The (1988)': 1168, 'Few Good Men, A (1992)': 1169, 'Indecent Proposal (1993)': 1170, 'Rush Hour (1998)': 1171, 'Ronin (1998)': 1172, 'Urban Legend (1998)': 1173, 'Pecker (1998)': 1174, 'Them! (1954)': 1175, 'Thing, The (1982)': 1176, 'Player, The (1992)': 1177, 'Edward Scissorhands (1990)': 1178, 'Antz (1998)': 1179, 'Night at the Roxbury, A (1998)': 1180, 'What Dreams May Come (1998)': 1181, 'Producers, The (1968)': 1182, 'History of the World: Part I (1981)': 1183, 'My Cousin Vinny (1992)': 1184, 'Nashville (1975)': 1185, '2010: The Year We Make Contact (1984)': 1186, 'Children of a Lesser God (1986)': 1187, 'Elephant Man, The (1980)': 1188, \"Bride of Chucky (Child's Play 4) (1998)\": 1189, 'Practical Magic (1998)': 1190, 'Happiness (1998)': 1191, 'Apt Pupil (1998)': 1192, 'Pleasantville (1998)': 1193, 'Soldier (1998)': 1194, 'Life Is Beautiful (La Vita è bella) (1997)': 1195, 'Orgazmo (1997)': 1196, 'Vampires (1998)': 1197, 'American History X (1998)': 1198, 'Living Out Loud (1998)': 1199, 'Gods and Monsters (1998)': 1200, 'Siege, The (1998)': 1201, 'Waterboy, The (1998)': 1202, 'Elizabeth (1998)': 1203, 'Velvet Goldmine (1998)': 1204, 'I Still Know What You Did Last Summer (1998)': 1205, 'Meet Joe Black (1998)': 1206, 'Runaway Train (1985)': 1207, 'Stepford Wives, The (1975)': 1208, 'Sid and Nancy (1986)': 1209, 'Mona Lisa (1986)': 1210, 'Nights of Cabiria (Notti di Cabiria, Le) (1957)': 1211, 'Big Chill, The (1983)': 1212, 'Enemy of the State (1998)': 1213, 'Rugrats Movie, The (1998)': 1214, \"Bug's Life, A (1998)\": 1215, 'Celebrity (1998)': 1216, 'Central Station (Central do Brasil) (1998)': 1217, 'Waking Ned Devine (a.k.a. Waking Ned) (1998)': 1218, 'Celebration, The (Festen) (1998)': 1219, 'Godzilla (Gojira) (1954)': 1220, 'King Kong (1933)': 1221, 'King Kong (1976)': 1222, 'Desperately Seeking Susan (1985)': 1223, 'Fletch (1985)': 1224, 'Fletch Lives (1989)': 1225, 'Red Sonja (1985)': 1226, 'Gung Ho (1986)': 1227, 'Money Pit, The (1986)': 1228, 'View to a Kill, A (1985)': 1229, 'Lifeforce (1985)': 1230, 'Police Academy (1984)': 1231, 'Police Academy 2: Their First Assignment (1985)': 1232, 'Police Academy 3: Back in Training (1986)': 1233, 'Police Academy 4: Citizens on Patrol (1987)': 1234, 'Police Academy 5: Assignment: Miami Beach (1988)': 1235, 'Police Academy 6: City Under Siege (1989)': 1236, 'Babe: Pig in the City (1998)': 1237, 'Very Bad Things (1998)': 1238, 'Psycho (1998)': 1239, 'Little Voice (1998)': 1240, 'Simple Plan, A (1998)': 1241, 'Jack Frost (1998)': 1242, 'Star Trek: Insurrection (1998)': 1243, 'Prince of Egypt, The (1998)': 1244, 'Rushmore (1998)': 1245, 'Shakespeare in Love (1998)': 1246, 'Miracle on 34th Street (1947)': 1247, 'Santa Claus: The Movie (1985)': 1248, 'Pale Rider (1985)': 1249, 'Rambo: First Blood Part II (1985)': 1250, 'First Blood (Rambo: First Blood) (1982)': 1251, 'Rambo III (1988)': 1252, 'Jewel of the Nile, The (1985)': 1253, 'Romancing the Stone (1984)': 1254, 'Cocoon (1985)': 1255, 'Cocoon: The Return (1988)': 1256, 'Rocky II (1979)': 1257, 'Rocky III (1982)': 1258, 'Rocky IV (1985)': 1259, 'Rocky V (1990)': 1260, 'Clue (1985)': 1261, 'Young Sherlock Holmes (1985)': 1262, 'Back to School (1986)': 1263, 'Karate Kid, The (1984)': 1264, 'Karate Kid, Part II, The (1986)': 1265, 'Karate Kid, Part III, The (1989)': 1266, \"Christmas Vacation (National Lampoon's Christmas Vacation) (1989)\": 1267, \"You've Got Mail (1998)\": 1268, 'Thin Red Line, The (1998)': 1269, 'Faculty, The (1998)': 1270, 'Mighty Joe Young (1998)': 1271, 'Patch Adams (1998)': 1272, 'Stepmom (1998)': 1273, 'Civil Action, A (1998)': 1274, 'Affliction (1997)': 1275, 'Hilary and Jackie (1998)': 1276, 'Playing by Heart (1998)': 1277, 'Varsity Blues (1999)': 1278, 'Virus (1999)': 1279, 'Howard the Duck (1986)': 1280, 'Fly, The (1958)': 1281, 'Fly, The (1986)': 1282, 'Fly II, The (1989)': 1283, 'Running Scared (1986)': 1284, 'Texas Chainsaw Massacre, The (1974)': 1285, 'Ruthless People (1986)': 1286, 'Name of the Rose, The (Name der Rose, Der) (1986)': 1287, \"Jumpin' Jack Flash (1986)\": 1288, 'Peggy Sue Got Married (1986)': 1289, 'Crocodile Dundee (1986)': 1290, 'Crocodile Dundee II (1988)': 1291, 'Soul Man (1986)': 1292, 'Color of Money, The (1986)': 1293, 'Heartbreak Ridge (1986)': 1294, '¡Three Amigos! (1986)': 1295, \"She's All That (1999)\": 1296, 'Peeping Tom (1960)': 1297, 'Payback (1999)': 1298, 'Fantastic Planet, The (Planète sauvage, La) (1973)': 1299, 'Blast from the Past (1999)': 1300, 'Message in a Bottle (1999)': 1301, 'October Sky (1999)': 1302, 'Office Space (1999)': 1303, '200 Cigarettes (1999)': 1304, '8MM (1999)': 1305, 'Other Sister, The (1999)': 1306, 'Pet Sematary (1989)': 1307, 'Christine (1983)': 1308, 'Night Shift (1982)': 1309, 'Airport (1970)': 1310, 'Towering Inferno, The (1974)': 1311, 'Westworld (1973)': 1312, \"Logan's Run (1976)\": 1313, 'Planet of the Apes (1968)': 1314, 'Beneath the Planet of the Apes (1970)': 1315, 'Battle for the Planet of the Apes (1973)': 1316, 'Conquest of the Planet of the Apes (1972)': 1317, 'Escape from the Planet of the Apes (1971)': 1318, 'Analyze This (1999)': 1319, 'Cruel Intentions (1999)': 1320, 'Lock, Stock & Two Smoking Barrels (1998)': 1321, 'Wing Commander (1999)': 1322, 'Haunting, The (1963)': 1323, 'Dead Ringers (1988)': 1324, 'Village of the Damned (1960)': 1325, 'Baby Geniuses (1999)': 1326, 'Forces of Nature (1999)': 1327, 'Ravenous (1999)': 1328, 'True Crime (1999)': 1329, 'King and I, The (1956)': 1330, 'EDtv (1999)': 1331, 'Mod Squad, The (1999)': 1332, 'Matrix, The (1999)': 1333, '10 Things I Hate About You (1999)': 1334, 'Out-of-Towners, The (1999)': 1335, 'Dreamlife of Angels, The (Vie rêvée des anges, La) (1998)': 1336, 'Following (1998)': 1337, 'Go (1999)': 1338, 'Never Been Kissed (1999)': 1339, \"Cookie's Fortune (1999)\": 1340, 'Open Your Eyes (Abre los ojos) (1997)': 1341, 'SLC Punk! (1998)': 1342, 'Pushing Tin (1999)': 1343, 'Election (1999)': 1344, 'eXistenZ (1999)': 1345, 'Entrapment (1999)': 1346, 'Idle Hands (1999)': 1347, 'Winslow Boy, The (1999)': 1348, 'Mildred Pierce (1945)': 1349, 'Dick Tracy (1990)': 1350, 'Mummy, The (1999)': 1351, 'Castle, The (1997)': 1352, \"William Shakespeare's A Midsummer Night's Dream (1999)\": 1353, 'Star Wars: Episode I - The Phantom Menace (1999)': 1354, 'Mummy, The (1932)': 1355, 'Mommie Dearest (1981)': 1356, 'Superman (1978)': 1357, 'Superman II (1980)': 1358, 'Superman III (1983)': 1359, 'Superman IV: The Quest for Peace (1987)': 1360, 'Dracula (1931)': 1361, 'Frankenstein (1931)': 1362, 'Rocky Horror Picture Show, The (1975)': 1363, 'War of the Worlds, The (1953)': 1364, 'Invasion of the Body Snatchers (1956)': 1365, 'Swamp Thing (1982)': 1366, 'Run Silent Run Deep (1958)': 1367, 'Notting Hill (1999)': 1368, 'Thirteenth Floor, The (1999)': 1369, 'Instinct (1999)': 1370, 'Buena Vista Social Club (1999)': 1371, 'Austin Powers: The Spy Who Shagged Me (1999)': 1372, 'Red Violin, The (Violon rouge, Le) (1998)': 1373, 'Tarzan (1999)': 1374, \"General's Daughter, The (1999)\": 1375, 'Ideal Husband, An (1999)': 1376, 'Run Lola Run (Lola rennt) (1998)': 1377, 'Trekkies (1997)': 1378, 'Big Daddy (1999)': 1379, 'Dinner Game, The (Dîner de cons, Le) (1998)': 1380, 'Arachnophobia (1990)': 1381, 'South Park: Bigger, Longer and Uncut (1999)': 1382, 'Wild Wild West (1999)': 1383, 'Summer of Sam (1999)': 1384, 'American Pie (1999)': 1385, 'Arlington Road (1999)': 1386, 'Muppets From Space (1999)': 1387, 'Blair Witch Project, The (1999)': 1388, 'Eyes Wide Shut (1999)': 1389, 'Lake Placid (1999)': 1390, 'Ghostbusters (a.k.a. Ghost Busters) (1984)': 1391, 'Ghostbusters II (1989)': 1392, 'Drop Dead Gorgeous (1999)': 1393, 'Haunting, The (1999)': 1394, 'Inspector Gadget (1999)': 1395, 'Deep Blue Sea (1999)': 1396, 'Mystery Men (1999)': 1397, 'Runaway Bride (1999)': 1398, 'Killing, The (1956)': 1399, 'Spartacus (1960)': 1400, 'Lolita (1962)': 1401, 'Barry Lyndon (1975)': 1402, '400 Blows, The (Les quatre cents coups) (1959)': 1403, 'Jules and Jim (Jules et Jim) (1961)': 1404, 'Mosquito Coast, The (1986)': 1405, 'Golden Child, The (1986)': 1406, 'Brighton Beach Memoirs (1986)': 1407, 'Color Purple, The (1985)': 1408, 'Mission, The (1986)': 1409, 'Little Shop of Horrors (1986)': 1410, 'Little Shop of Horrors, The (1960)': 1411, 'Radio Days (1987)': 1412, 'Dick (1999)': 1413, 'Iron Giant, The (1999)': 1414, 'Sixth Sense, The (1999)': 1415, 'Thomas Crown Affair, The (1999)': 1416, 'Thomas Crown Affair, The (1968)': 1417, 'Bowfinger (1999)': 1418, 'Brokedown Palace (1999)': 1419, 'Detroit Rock City (1999)': 1420, 'Heaven Can Wait (1978)': 1421, \"Monty Python's And Now for Something Completely Different (1971)\": 1422, 'Damien: Omen II (1978)': 1423, 'Airplane! (1980)': 1424, 'Airplane II: The Sequel (1982)': 1425, 'American Werewolf in Paris, An (1997)': 1426, \"European Vacation (aka National Lampoon's European Vacation) (1985)\": 1427, \"National Lampoon's Vacation (1983)\": 1428, 'Funny Farm (1988)': 1429, 'Big (1988)': 1430, 'Problem Child (1990)': 1431, 'Tequila Sunrise (1988)': 1432, 'Pelican Brief, The (1993)': 1433, 'Christmas Story, A (1983)': 1434, 'Mickey Blue Eyes (1999)': 1435, 'Teaching Mrs. Tingle (1999)': 1436, 'Universal Soldier: The Return (1999)': 1437, 'Universal Soldier (1992)': 1438, 'Perfect Blue (1997)': 1439, 'Iron Eagle (1986)': 1440, 'Three Days of the Condor (3 Days of the Condor) (1975)': 1441, 'Medicine Man (1992)': 1442, '13th Warrior, The (1999)': 1443, \"Astronaut's Wife, The (1999)\": 1444, 'Muse, The (1999)': 1445, 'Outside Providence (1999)': 1446, 'Stigmata (1999)': 1447, 'Stir of Echoes (1999)': 1448, 'Black Cat, White Cat (Crna macka, beli macor) (1998)': 1449, 'Yellow Submarine (1968)': 1450, 'American Beauty (1999)': 1451, 'Stop Making Sense (1984)': 1452, 'Blue Streak (1999)': 1453, 'For Love of the Game (1999)': 1454, \"Hard Day's Night, A (1964)\": 1455, 'Buddy Holly Story, The (1978)': 1456, 'Fright Night (1985)': 1457, 'Barefoot in the Park (1967)': 1458, 'Deliverance (1972)': 1459, 'Excalibur (1981)': 1460, 'Sommersby (1993)': 1461, 'Tommy (1975)': 1462, 'Double Jeopardy (1999)': 1463, 'Mumford (1999)': 1464, 'Drive Me Crazy (1999)': 1465, 'Mystery, Alaska (1999)': 1466, 'Three Kings (1999)': 1467, 'Happy, Texas (1999)': 1468, 'Phantasm (1979)': 1469, 'Sanjuro (Tsubaki Sanjûrô) (1962)': 1470, 'Random Hearts (1999)': 1471, 'Superstar (1999)': 1472, \"Boys Don't Cry (1999)\": 1473, 'Limey, The (1999)': 1474, 'Risky Business (1983)': 1475, 'Total Recall (1990)': 1476, 'Body Heat (1981)': 1477, \"Ferris Bueller's Day Off (1986)\": 1478, 'Year of Living Dangerously, The (1982)': 1479, 'High Plains Drifter (1973)': 1480, 'Drunken Master (Jui kuen) (1978)': 1481, 'Hairspray (1988)': 1482, 'Reds (1981)': 1483, 'Days of Heaven (1978)': 1484, 'Lady Eve, The (1941)': 1485, \"Sullivan's Travels (1941)\": 1486, 'South Pacific (1958)': 1487, 'Flashdance (1983)': 1488, 'Dirty Dozen, The (1967)': 1489, 'Help! (1965)': 1490, 'Goldfinger (1964)': 1491, 'From Russia with Love (1963)': 1492, 'Dr. No (1962)': 1493, 'Blue Lagoon, The (1980)': 1494, 'Fistful of Dollars, A (Per un pugno di dollari) (1964)': 1495, 'Sydney (Hard Eight) (1996)': 1496, 'Home Alone 2: Lost in New York (1992)': 1497, 'Fight Club (1999)': 1498, 'Story of Us, The (1999)': 1499, 'Straight Story, The (1999)': 1500, 'Time Bandits (1981)': 1501, 'Fitzcarraldo (1982)': 1502, 'All That Jazz (1979)': 1503, 'Crimes and Misdemeanors (1989)': 1504, 'Bringing Out the Dead (1999)': 1505, 'RoboCop (1987)': 1506, 'RoboCop 2 (1990)': 1507, 'Who Framed Roger Rabbit? (1988)': 1508, 'For Your Eyes Only (1981)': 1509, 'Licence to Kill (1989)': 1510, 'Live and Let Die (1973)': 1511, 'Thunderball (1965)': 1512, 'House on Haunted Hill (1999)': 1513, 'Being John Malkovich (1999)': 1514, 'Princess Mononoke (Mononoke-hime) (1997)': 1515, 'Bachelor, The (1999)': 1516, 'Bone Collector, The (1999)': 1517, 'Insider, The (1999)': 1518, 'American Movie (1999)': 1519, 'Creepshow (1982)': 1520, 'Re-Animator (1985)': 1521, 'Drugstore Cowboy (1989)': 1522, 'Falling Down (1993)': 1523, 'General, The (1926)': 1524, 'Yojimbo (1961)': 1525, 'Omega Man, The (1971)': 1526, 'Spaceballs (1987)': 1527, 'Robin Hood (1973)': 1528, 'Mister Roberts (1955)': 1529, 'Quest for Fire (Guerre du feu, La) (1981)': 1530, 'Little Big Man (1970)': 1531, 'Trading Places (1983)': 1532, 'Meatballs (1979)': 1533, 'Dead Again (1991)': 1534, 'Dogma (1999)': 1535, 'Messenger: The Story of Joan of Arc, The (1999)': 1536, 'Pokémon: The First Movie (1998)': 1537, 'Commitments, The (1991)': 1538, 'Holiday Inn (1942)': 1539, 'Longest Day, The (1962)': 1540, 'Poison Ivy (1992)': 1541, 'Tora! Tora! Tora! (1970)': 1542, 'Women on the Verge of a Nervous Breakdown (Mujeres al borde de un ataque de nervios) (1988)': 1543, 'Verdict, The (1982)': 1544, 'Adventures of Buckaroo Banzai Across the 8th Dimension, The (1984)': 1545, 'Stand and Deliver (1988)': 1546, 'Moonstruck (1987)': 1547, 'Jeremiah Johnson (1972)': 1548, 'Repulsion (1965)': 1549, '42 Up (1998)': 1550, 'Mansfield Park (1999)': 1551, 'Sleepy Hollow (1999)': 1552, 'World Is Not Enough, The (1999)': 1553, 'All About My Mother (Todo sobre mi madre) (1999)': 1554, 'Scrooged (1988)': 1555, 'Harvey (1950)': 1556, 'Bicycle Thieves (a.k.a. The Bicycle Thief) (a.k.a. The Bicycle Thieves) (Ladri di biciclette) (1948)': 1557, 'Kagemusha (1980)': 1558, 'McCabe & Mrs. Miller (1971)': 1559, 'Grapes of Wrath, The (1940)': 1560, 'Shop Around the Corner, The (1940)': 1561, 'Natural, The (1984)': 1562, 'Shampoo (1975)': 1563, 'River Runs Through It, A (1992)': 1564, 'Fatal Attraction (1987)': 1565, 'Jagged Edge (1985)': 1566, 'Midnight Run (1988)': 1567, 'Awakenings (1990)': 1568, 'Backdraft (1991)': 1569, 'Fisher King, The (1991)': 1570, 'Places in the Heart (1984)': 1571, 'End of Days (1999)': 1572, 'Toy Story 2 (1999)': 1573, 'Sweet and Lowdown (1999)': 1574, 'Grand Illusion (La grande illusion) (1937)': 1575, 'Great Santini, The (1979)': 1576, 'Deuce Bigalow: Male Gigolo (1999)': 1577, 'Green Mile, The (1999)': 1578, 'Cider House Rules, The (1999)': 1579, 'Last Picture Show, The (1971)': 1580, '7th Voyage of Sinbad, The (1958)': 1581, 'Anna and the King (1999)': 1582, 'Bicentennial Man (1999)': 1583, 'Stuart Little (1999)': 1584, 'Fantasia 2000 (1999)': 1585, 'Magnolia (1999)': 1586, 'Topsy-Turvy (1999)': 1587, 'Easy Rider (1969)': 1588, 'The Falcon and the Snowman (1985)': 1589, 'Any Given Sunday (1999)': 1590, 'Man on the Moon (1999)': 1591, 'Galaxy Quest (1999)': 1592, 'Talented Mr. Ripley, The (1999)': 1593, 'Next Friday (2000)': 1594, 'Hurricane, The (1999)': 1595, 'Titus (1999)': 1596, 'Snow Falling on Cedars (1999)': 1597, 'Girl, Interrupted (1999)': 1598, 'My Dog Skip (1999)': 1599, 'Way We Were, The (1973)': 1600, 'Stalag 17 (1953)': 1601, 'Presidio, The (1988)': 1602, 'Papillon (1973)': 1603, 'Last Detail, The (1973)': 1604, 'Five Easy Pieces (1970)': 1605, 'Dead Calm (1989)': 1606, 'Boys from Brazil, The (1978)': 1607, \"Loaded Weapon 1 (National Lampoon's Loaded Weapon 1) (1993)\": 1608, 'Fast Times at Ridgemont High (1982)': 1609, 'Batman: Mask of the Phantasm (1993)': 1610, 'Pacific Heights (1990)': 1611, 'Encino Man (1992)': 1612, 'Malcolm X (1992)': 1613, 'Sister Act (1992)': 1614, 'Sister Act 2: Back in the Habit (1993)': 1615, 'Hand That Rocks the Cradle, The (1992)': 1616, 'Alive (1993)': 1617, 'Agnes of God (1985)': 1618, 'Scent of a Woman (1992)': 1619, \"Wayne's World (1992)\": 1620, \"Wayne's World 2 (1993)\": 1621, 'League of Their Own, A (1992)': 1622, 'Patriot Games (1992)': 1623, 'Bodyguard, The (1992)': 1624, 'Death Becomes Her (1992)': 1625, 'Far and Away (1992)': 1626, 'Howards End (1992)': 1627, 'Singles (1992)': 1628, 'Twin Peaks: Fire Walk with Me (1992)': 1629, \"White Men Can't Jump (1992)\": 1630, 'Buffy the Vampire Slayer (1992)': 1631, 'Hard-Boiled (Lat sau san taam) (1992)': 1632, \"Man Bites Dog (C'est arrivé près de chez vous) (1992)\": 1633, 'Mariachi, El (1992)': 1634, 'Stop! Or My Mom Will Shoot (1992)': 1635, 'Forever Young (1992)': 1636, 'Cutting Edge, The (1992)': 1637, 'Of Mice and Men (1992)': 1638, 'Bad Lieutenant (1992)': 1639, 'Scream 3 (2000)': 1640, 'Single White Female (1992)': 1641, 'Boondock Saints, The (2000)': 1642, 'Beach, The (2000)': 1643, 'To Sir with Love (1967)': 1644, 'Boiler Room (2000)': 1645, 'Pitch Black (2000)': 1646, 'Whole Nine Yards, The (2000)': 1647, 'City Lights (1931)': 1648, 'Kid, The (1921)': 1649, 'Reindeer Games (2000)': 1650, 'Wonder Boys (2000)': 1651, 'Ghost Dog: The Way of the Samurai (1999)': 1652, 'Key Largo (1948)': 1653, 'Birdy (1984)': 1654, 'Never Cry Wolf (1983)': 1655, 'Mission to Mars (2000)': 1656, 'Ninth Gate, The (1999)': 1657, 'Defending Your Life (1991)': 1658, 'Breaking Away (1979)': 1659, 'Hoosiers (a.k.a. Best Shot) (1986)': 1660, 'Bull Durham (1988)': 1661, 'Dog Day Afternoon (1975)': 1662, 'American Graffiti (1973)': 1663, 'Searchers, The (1956)': 1664, 'Taking of Pelham One Two Three, The (1974)': 1665, 'JFK (1991)': 1666, \"Who's Harry Crumb? (1989)\": 1667, 'Harry and the Hendersons (1987)': 1668, 'Muppet Movie, The (1979)': 1669, 'Great Muppet Caper, The (1981)': 1670, 'Muppets Take Manhattan, The (1984)': 1671, 'Titanic (1953)': 1672, 'Erin Brockovich (2000)': 1673, 'Final Destination (2000)': 1674, 'Thelma & Louise (1991)': 1675, 'Animal House (1978)': 1676, 'Do the Right Thing (1989)': 1677, 'Creature Comforts (1989)': 1678, 'Double Indemnity (1944)': 1679, 'Teenage Mutant Ninja Turtles (1990)': 1680, 'Teenage Mutant Ninja Turtles II: The Secret of the Ooze (1991)': 1681, 'Teenage Mutant Ninja Turtles III (1993)': 1682, 'Red Dawn (1984)': 1683, 'Bloodsport (1988)': 1684, 'Good Morning, Vietnam (1987)': 1685, 'Grumpy Old Men (1993)': 1686, \"Guess Who's Coming to Dinner (1967)\": 1687, 'Romeo Must Die (2000)': 1688, 'Lord of the Flies (1963)': 1689, 'Modern Times (1936)': 1690, 'Hud (1963)': 1691, 'Hustler, The (1961)': 1692, 'Inherit the Wind (1960)': 1693, 'Close Encounters of the Third Kind (1977)': 1694, \"Jacob's Ladder (1990)\": 1695, 'Empire Records (1995)': 1696, 'Bamba, La (1987)': 1697, 'Ladyhawke (1985)': 1698, 'High Fidelity (2000)': 1699, 'Road to El Dorado, The (2000)': 1700, 'Skulls, The (2000)': 1701, 'Hook (1991)': 1702, 'True Grit (1969)': 1703, 'Midnight Express (1978)': 1704, 'Misery (1990)': 1705, 'Solaris (Solyaris) (1972)': 1706, 'Network (1976)': 1707, 'No Way Out (1987)': 1708, 'Odd Couple, The (1968)': 1709, 'Outlaw Josey Wales, The (1976)': 1710, 'Frequency (2000)': 1711, 'Return to Me (2000)': 1712, 'Rules of Engagement (2000)': 1713, 'Mystery Train (1989)': 1714, 'Arthur (1981)': 1715, 'Bachelor Party (1984)': 1716, 'Parenthood (1989)': 1717, 'Predator (1987)': 1718, 'Prince of Tides, The (1991)': 1719, '28 Days (2000)': 1720, 'American Psycho (2000)': 1721, 'Keeping the Faith (2000)': 1722, 'East is East (1999)': 1723, 'Diner (1982)': 1724, 'Cabaret (1972)': 1725, 'What Ever Happened to Baby Jane? (1962)': 1726, 'Auntie Mame (1958)': 1727, 'Guys and Dolls (1955)': 1728, 'Marathon Man (1976)': 1729, 'Caddyshack (1980)': 1730, 'U-571 (2000)': 1731, 'Virgin Suicides, The (1999)': 1732, 'Flintstones in Viva Rock Vegas, The (2000)': 1733, 'Where the Heart Is (2000)': 1734, 'Big Kahuna, The (2000)': 1735, 'Idiots, The (Idioterne) (1998)': 1736, 'Hidden, The (1987)': 1737, 'Gladiator (2000)': 1738, 'Mr. Mom (1983)': 1739, 'Battlefield Earth (2000)': 1740, 'Center Stage (2000)': 1741, 'Hamlet (2000)': 1742, \"Pee-wee's Big Adventure (1985)\": 1743, 'Honeymoon in Vegas (1992)': 1744, 'Dinosaur (2000)': 1745, 'Loser (2000)': 1746, 'Road Trip (2000)': 1747, 'Small Time Crooks (2000)': 1748, 'Mission: Impossible II (2000)': 1749, 'Shanghai Noon (2000)': 1750, 'Gold Rush, The (1925)': 1751, \"On Her Majesty's Secret Service (1969)\": 1752, 'Spy Who Loved Me, The (1977)': 1753, 'Moonraker (1979)': 1754, 'Man with the Golden Gun, The (1974)': 1755, \"Big Momma's House (2000)\": 1756, 'American Gigolo (1980)': 1757, 'Guns of Navarone, The (1961)': 1758, 'Romeo and Juliet (1968)': 1759, 'Blazing Saddles (1974)': 1760, 'White Christmas (1954)': 1761, 'Eraserhead (1977)': 1762, 'Baraka (1992)': 1763, 'For a Few Dollars More (Per qualche dollaro in più) (1965)': 1764, 'Magnum Force (1973)': 1765, 'Blood Simple (1984)': 1766, 'Fabulous Baker Boys, The (1989)': 1767, \"Prizzi's Honor (1985)\": 1768, 'Flatliners (1990)': 1769, \"Porky's (1982)\": 1770, 'Toxic Avenger, The (1985)': 1771, 'Predator 2 (1990)': 1772, 'Running Man, The (1987)': 1773, 'Starman (1984)': 1774, 'Alien Nation (1988)': 1775, 'Mad Max (1979)': 1776, 'Road Warrior, The (Mad Max 2) (1981)': 1777, 'Mad Max Beyond Thunderdome (1985)': 1778, 'Bird on a Wire (1990)': 1779, 'Angel Heart (1987)': 1780, '9 1/2 Weeks (Nine 1/2 Weeks) (1986)': 1781, 'Firestarter (1984)': 1782, 'Soapdish (1991)': 1783, 'Gone in 60 Seconds (2000)': 1784, 'Hamlet (1990)': 1785, 'Near Dark (1987)': 1786, 'Conversation, The (1974)': 1787, 'Paper Chase, The (1973)': 1788, 'Serpico (1973)': 1789, 'Big Trouble in Little China (1986)': 1790, 'Badlands (1973)': 1791, 'Battleship Potemkin (1925)': 1792, 'Shaft (2000)': 1793, 'Titan A.E. (2000)': 1794, 'Chicken Run (2000)': 1795, 'Me, Myself & Irene (2000)': 1796, 'Patriot, The (2000)': 1797, 'Adventures of Rocky and Bullwinkle, The (2000)': 1798, 'Perfect Storm, The (2000)': 1799, 'Kentucky Fried Movie, The (1977)': 1800, 'F/X (1986)': 1801, 'Dreamscape (1984)': 1802, 'Croupier (1998)': 1803, 'Kid, The (2000)': 1804, 'Scary Movie (2000)': 1805, \"But I'm a Cheerleader (1999)\": 1806, 'Blow-Up (Blowup) (1966)': 1807, 'Footloose (1984)': 1808, 'X-Men (2000)': 1809, 'What Lies Beneath (2000)': 1810, 'Pokémon the Movie 2000 (2000)': 1811, 'Anatomy of a Murder (1959)': 1812, 'Freejack (1992)': 1813, 'What About Bob? (1991)': 1814, 'Breaker Morant (1980)': 1815, 'Everything You Always Wanted to Know About Sex * But Were Afraid to Ask (1972)': 1816, 'Love and Death (1975)': 1817, 'Tampopo (1985)': 1818, 'Nutty Professor II: The Klumps (2000)': 1819, 'Autumn in New York (2000)': 1820, 'Coyote Ugly (2000)': 1821, 'Hollow Man (2000)': 1822, 'Space Cowboys (2000)': 1823, 'Saving Grace (2000)': 1824, \"Kelly's Heroes (1970)\": 1825, 'Air America (1990)': 1826, 'Steel Magnolias (1989)': 1827, 'Tao of Steve, The (2000)': 1828, 'Replacements, The (2000)': 1829, 'Cell, The (2000)': 1830, 'Godzilla 2000 (Gojira ni-sen mireniamu) (1999)': 1831, 'Naked Gun: From the Files of Police Squad!, The (1988)': 1832, 'Naked Gun 2 1/2: The Smell of Fear, The (1991)': 1833, 'Shane (1953)': 1834, 'Supergirl (1984)': 1835, 'Art of War, The (2000)': 1836, 'Bring It On (2000)': 1837, 'Highlander: Endgame (Highlander IV) (2000)': 1838, 'Nurse Betty (2000)': 1839, 'Way of the Gun, The (2000)': 1840, 'Almost Famous (2000)': 1841, 'Dancer in the Dark (2000)': 1842, 'Best in Show (2000)': 1843, 'Remember the Titans (2000)': 1844, 'Hellraiser (1987)': 1845, 'Hellbound: Hellraiser II (1988)': 1846, 'Stranger Than Paradise (1984)': 1847, 'Fantastic Voyage (1966)': 1848, 'Invisible Man, The (1933)': 1849, 'Get Carter (2000)': 1850, 'Meet the Parents (2000)': 1851, 'Requiem for a Dream (2000)': 1852, 'Tigerland (2000)': 1853, 'Contender, The (2000)': 1854, 'Ladies Man, The (2000)': 1855, 'Time Machine, The (1960)': 1856, 'Billy Elliot (2000)': 1857, 'Bedazzled (2000)': 1858, 'Pay It Forward (2000)': 1859, 'Legend of Drunken Master, The (Jui kuen II) (1994)': 1860, 'Book of Shadows: Blair Witch 2 (2000)': 1861, \"Charlie's Angels (2000)\": 1862, 'Legend of Bagger Vance, The (2000)': 1863, 'Little Nicky (2000)': 1864, 'Men of Honor (2000)': 1865, 'Red Planet (2000)': 1866, 'You Can Count on Me (2000)': 1867, 'Diamonds Are Forever (1971)': 1868, '6th Day, The (2000)': 1869, 'Bounce (2000)': 1870, 'How the Grinch Stole Christmas (a.k.a. The Grinch) (2000)': 1871, '102 Dalmatians (2000)': 1872, 'Quills (2000)': 1873, 'Unbreakable (2000)': 1874, 'Crouching Tiger, Hidden Dragon (Wo hu cang long) (2000)': 1875, 'Dungeons & Dragons (2000)': 1876, 'Proof of Life (2000)': 1877, 'Vertical Limit (2000)': 1878, 'Planes, Trains & Automobiles (1987)': 1879, 'Living Daylights, The (1987)': 1880, 'Transformers: The Movie (1986)': 1881, 'Wall Street (1987)': 1882, 'Born on the Fourth of July (1989)': 1883, \"Brewster's Millions (1985)\": 1884, 'Snatch (2000)': 1885, 'Chocolat (2000)': 1886, \"Dude, Where's My Car? (2000)\": 1887, \"Emperor's New Groove, The (2000)\": 1888, 'Pollock (2000)': 1889, 'What Women Want (2000)': 1890, 'Finding Forrester (2000)': 1891, 'Gift, The (2000)': 1892, 'Before Night Falls (2000)': 1893, 'Cast Away (2000)': 1894, 'Family Man, The (2000)': 1895, 'Miss Congeniality (2000)': 1896, 'O Brother, Where Art Thou? (2000)': 1897, 'State and Main (2000)': 1898, 'Dracula 2000 (2000)': 1899, 'Thirteen Days (2000)': 1900, 'Traffic (2000)': 1901, 'Shadow of the Vampire (2000)': 1902, 'House of Games (1987)': 1903, 'Annie (1982)': 1904, \"Don't Tell Mom the Babysitter's Dead (1991)\": 1905, 'Officer and a Gentleman, An (1982)': 1906, 'Gettysburg (1993)': 1907, 'Antitrust (2001)': 1908, 'Save the Last Dance (2001)': 1909, 'Pledge, The (2001)': 1910, 'Mystic Pizza (1988)': 1911, 'Wedding Planner, The (2001)': 1912, 'Beverly Hills Cop II (1987)': 1913, 'Beverly Hills Cop (1984)': 1914, 'Big Easy, The (1987)': 1915, 'Brave Little Toaster, The (1987)': 1916, \"Can't Buy Me Love (1987)\": 1917, 'Eddie Murphy Raw (1987)': 1918, 'Empire of the Sun (1987)': 1919, 'Evil Dead, The (1981)': 1920, 'Innerspace (1987)': 1921, 'Jaws: The Revenge (1987)': 1922, 'Lost Boys, The (1987)': 1923, 'Mannequin (1987)': 1924, 'Masters of the Universe (1987)': 1925, 'In the Mood For Love (Fa yeung nin wa) (2000)': 1926, 'Hannibal (2001)': 1927, 'Saving Silverman (Evil Woman) (2001)': 1928, 'Sweet November (2001)': 1929, '3000 Miles to Graceland (2001)': 1930, 'Mexican, The (2001)': 1931, '15 Minutes (2001)': 1932, 'Mermaids (1990)': 1933, 'Navy Seals (1990)': 1934, 'Manhunter (1986)': 1935, 'Revenge of the Nerds (1984)': 1936, 'Revenge of the Nerds II: Nerds in Paradise (1987)': 1937, 'Enemy at the Gates (2001)': 1938, 'Dish, The (2001)': 1939, 'Memento (2000)': 1940, 'Heartbreakers (2001)': 1941, 'Spy Kids (2001)': 1942, 'Tailor of Panama, The (2001)': 1943, \"Amores Perros (Love's a Bitch) (2000)\": 1944, 'Along Came a Spider (2001)': 1945, 'Blow (2001)': 1946, \"Bridget Jones's Diary (2001)\": 1947, 'Joe Dirt (2001)': 1948, 'Josie and the Pussycats (2001)': 1949, 'Crocodile Dundee in Los Angeles (2001)': 1950, 'Freddy Got Fingered (2001)': 1951, 'Scarface (1983)': 1952, 'Driven (2001)': 1953, 'Mummy Returns, The (2001)': 1954, 'Krull (1983)': 1955, 'World According to Garp, The (1982)': 1956, 'Nine to Five (a.k.a. 9 to 5) (1980)': 1957, \"Knight's Tale, A (2001)\": 1958, 'Shrek (2001)': 1959, 'Moulin Rouge (2001)': 1960, 'Pearl Harbor (2001)': 1961, 'City Slickers (1991)': 1962, 'Eight Men Out (1988)': 1963, 'Mississippi Burning (1988)': 1964, 'Magnificent Seven, The (1960)': 1965, 'Rio Bravo (1959)': 1966, 'Throw Momma from the Train (1987)': 1967, 'Animal, The (2001)': 1968, 'Evolution (2001)': 1969, 'Swordfish (2001)': 1970, 'Catch-22 (1970)': 1971, 'Point Break (1991)': 1972, 'Gentlemen Prefer Blondes (1953)': 1973, 'Seven Year Itch, The (1955)': 1974, 'Tootsie (1982)': 1975, 'Atlantis: The Lost Empire (2001)': 1976, 'Lara Croft: Tomb Raider (2001)': 1977, 'Dr. Dolittle 2 (2001)': 1978, 'Fast and the Furious, The (2001)': 1979, 'A.I. Artificial Intelligence (2001)': 1980, 'Crazy/Beautiful (2001)': 1981, 'Sexy Beast (2000)': 1982, 'Cats & Dogs (2001)': 1983, 'Kiss of the Dragon (2001)': 1984, 'Scary Movie 2 (2001)': 1985, 'Cannonball Run, The (1981)': 1986, 'Man Who Shot Liberty Valance, The (1962)': 1987, 'Lion in Winter, The (1968)': 1988, 'Suspiria (1977)': 1989, 'Final Fantasy: The Spirits Within (2001)': 1990, 'Legally Blonde (2001)': 1991, 'Score, The (2001)': 1992, 'Made (2001)': 1993, 'Accidental Tourist, The (1988)': 1994, 'Accused, The (1988)': 1995, 'Adventures of Baron Munchausen, The (1988)': 1996, 'Beaches (1988)': 1997, 'Cocktail (1988)': 1998, 'Coming to America (1988)': 1999, 'Dirty Rotten Scoundrels (1988)': 2000, 'Gorillas in the Mist (1988)': 2001, 'Land Before Time, The (1988)': 2002, 'Return of the Living Dead, The (1985)': 2003, 'Short Circuit 2 (1988)': 2004, 'Short Circuit (1986)': 2005, 'Vanishing, The (Spoorloos) (1988)': 2006, 'They Live (1988)': 2007, 'Twins (1988)': 2008, \"Bill & Ted's Excellent Adventure (1989)\": 2009, 'Earth Girls Are Easy (1988)': 2010, 'Lean on Me (1989)': 2011, \"Look Who's Talking (1989)\": 2012, 'Major League (1989)': 2013, 'Jurassic Park III (2001)': 2014, \"America's Sweethearts (2001)\": 2015, 'Ghost World (2001)': 2016, 'Hedwig and the Angry Inch (2000)': 2017, 'Planet of the Apes (2001)': 2018, 'Wet Hot American Summer (2001)': 2019, 'Tango & Cash (1989)': 2020, 'Turner & Hooch (1989)': 2021, 'UHF (1989)': 2022, 'Uncle Buck (1989)': 2023, 'War of the Roses, The (1989)': 2024, 'Princess Diaries, The (2001)': 2025, 'Rush Hour 2 (2001)': 2026, 'Chocolat (1988)': 2027, 'Altered States (1980)': 2028, 'American Pie 2 (2001)': 2029, 'Osmosis Jones (2001)': 2030, 'Others, The (2001)': 2031, 'Session 9 (2001)': 2032, 'Rat Race (2001)': 2033, 'Jay and Silent Bob Strike Back (2001)': 2034, 'Ghosts of Mars (2001)': 2035, 'Jeepers Creepers (2001)': 2036, '3 Ninjas (1992)': 2037, 'Wicker Man, The (1973)': 2038, 'Rock Star (2001)': 2039, 'Training Day (2001)': 2040, \"It's a Mad, Mad, Mad, Mad World (1963)\": 2041, \"Don't Say a Word (2001)\": 2042, 'Hearts in Atlantis (2001)': 2043, 'Zoolander (2001)': 2044, 'Joy Ride (2001)': 2045, 'Serendipity (2001)': 2046, \"Coal Miner's Daughter (1980)\": 2047, 'Bandits (2001)': 2048, 'Mulholland Drive (2001)': 2049, 'Dirty Harry (1971)': 2050, 'Fiddler on the Roof (1971)': 2051, 'From Hell (2001)': 2052, 'Last Castle, The (2001)': 2053, 'Riding in Cars with Boys (2001)': 2054, 'Waking Life (2001)': 2055, 'K-PAX (2001)': 2056, 'Thirteen Ghosts (a.k.a. Thir13en Ghosts) (2001)': 2057, 'Donnie Darko (2001)': 2058, 'Life as a House (2001)': 2059, \"Man Who Wasn't There, The (2001)\": 2060, 'Monsters, Inc. (2001)': 2061, 'One, The (2001)': 2062, 'Heist (2001)': 2063, 'Shallow Hal (2001)': 2064, \"Harry Potter and the Sorcerer's Stone (a.k.a. Harry Potter and the Philosopher's Stone) (2001)\": 2065, 'Spy Game (2001)': 2066, \"Devil's Backbone, The (Espinazo del diablo, El) (2001)\": 2067, 'In the Bedroom (2001)': 2068, 'Breathless (À bout de souffle) (1960)': 2069, 'Fame (1980)': 2070, 'Flash Gordon (1980)': 2071, 'Lord of the Flies (1990)': 2072, \"Ocean's Eleven (a.k.a. Ocean's 11) (1960)\": 2073, 'Behind Enemy Lines (2001)': 2074, \"Ocean's Eleven (2001)\": 2075, \"No Man's Land (2001)\": 2076, \"Amelie (Fabuleux destin d'Amélie Poulain, Le) (2001)\": 2077, 'Not Another Teen Movie (2001)': 2078, 'Vanilla Sky (2001)': 2079, 'Lantana (2001)': 2080, 'Royal Tenenbaums, The (2001)': 2081, \"Bill & Ted's Bogus Journey (1991)\": 2082, 'Jimmy Neutron: Boy Genius (2001)': 2083, 'Kate & Leopold (2001)': 2084, 'Lord of the Rings: The Fellowship of the Ring, The (2001)': 2085, 'Majestic, The (2001)': 2086, 'Beautiful Mind, A (2001)': 2087, 'Witness for the Prosecution (1957)': 2088, 'Ali (2001)': 2089, 'Black Hawk Down (2001)': 2090, 'Gosford Park (2001)': 2091, 'I Am Sam (2001)': 2092, \"Monster's Ball (2001)\": 2093, 'Orange County (2002)': 2094, 'Brotherhood of the Wolf (Pacte des loups, Le) (2001)': 2095, 'Conan the Destroyer (1984)': 2096, 'Kung Pow: Enter the Fist (2002)': 2097, '48 Hrs. (1982)': 2098, 'Dragon: The Bruce Lee Story (1993)': 2099, 'M*A*S*H (a.k.a. MASH) (1970)': 2100, 'The Count of Monte Cristo (2002)': 2101, 'Mothman Prophecies, The (2002)': 2102, 'Walk to Remember, A (2002)': 2103, 'Metropolis (2001)': 2104, 'Collateral Damage (2002)': 2105, 'Sandlot, The (1993)': 2106, \"Hart's War (2002)\": 2107, 'John Q (2002)': 2108, 'Super Troopers (2001)': 2109, 'Sleuth (1972)': 2110, 'Queen of the Damned (2002)': 2111, 'Monsoon Wedding (2001)': 2112, 'Bad News Bears, The (1976)': 2113, 'Vampire Hunter D: Bloodlust (Banpaia hantâ D) (2000)': 2114, 'Wild Strawberries (Smultronstället) (1957)': 2115, '40 Days and 40 Nights (2002)': 2116, 'We Were Soldiers (2002)': 2117, 'Ferngully: The Last Rainforest (1992)': 2118, 'Time Machine, The (2002)': 2119, 'Ice Age (2002)': 2120, 'Resident Evil (2002)': 2121, 'Showtime (2002)': 2122, 'Kissing Jessica Stein (2001)': 2123, 'And Your Mother Too (Y tu mamá también) (2001)': 2124, 'Smokey and the Bandit (1977)': 2125, 'Blade II (2002)': 2126, 'Death to Smoochy (2002)': 2127, 'Panic Room (2002)': 2128, 'Rookie, The (2002)': 2129, \"National Lampoon's Van Wilder (2002)\": 2130, 'Rashomon (Rashômon) (1950)': 2131, 'Slap Shot (1977)': 2132, 'Changing Lanes (2002)': 2133, 'Frailty (2001)': 2134, 'Sweetest Thing, The (2002)': 2135, 'My Big Fat Greek Wedding (2002)': 2136, 'Joe Versus the Volcano (1990)': 2137, 'Three Men and a Baby (1987)': 2138, 'Three Men and a Little Lady (1990)': 2139, 'Murder by Numbers (2002)': 2140, 'The Scorpion King (2002)': 2141, 'Nine Queens (Nueve reinas) (2000)': 2142, 'Jason X (2002)': 2143, 'Dogtown and Z-Boyz (2001)': 2144, 'Husbands and Wives (1992)': 2145, 'Spider-Man (2002)': 2146, 'Unfaithful (2002)': 2147, 'About a Boy (2002)': 2148, 'Star Wars: Episode II - Attack of the Clones (2002)': 2149, 'Importance of Being Earnest, The (2002)': 2150, 'Insomnia (2002)': 2151, 'Sum of All Fears, The (2002)': 2152, 'Undercover Brother (2002)': 2153, 'Bourne Identity, The (2002)': 2154, 'Scooby-Doo (2002)': 2155, 'Windtalkers (2002)': 2156, 'Lilo & Stitch (2002)': 2157, 'Minority Report (2002)': 2158, 'Rabbit-Proof Fence (2002)': 2159, 'Mr. Deeds (2002)': 2160, \"Look Who's Talking Now (1993)\": 2161, 'Men in Black II (a.k.a. MIIB) (a.k.a. MIB 2) (2002)': 2162, 'Reign of Fire (2002)': 2163, 'Road to Perdition (2002)': 2164, 'Eight Legged Freaks (2002)': 2165, 'K-19: The Widowmaker (2002)': 2166, 'Stuart Little 2 (2002)': 2167, 'Austin Powers in Goldmember (2002)': 2168, 'Top Secret! (1984)': 2169, 'Signs (2002)': 2170, 'Spy Kids 2: The Island of Lost Dreams (2002)': 2171, 'Good Girl, The (2002)': 2172, 'xXx (2002)': 2173, '24 Hour Party People (2002)': 2174, 'Blue Crush (2002)': 2175, 'One Hour Photo (2002)': 2176, 'Simone (S1m0ne) (2002)': 2177, 'Clash of the Titans (1981)': 2178, 'Hot Shots! (1991)': 2179, 'Barbershop (2002)': 2180, 'Transporter, The (2002)': 2181, 'Igby Goes Down (2002)': 2182, 'Das Experiment (Experiment, The) (2001)': 2183, 'Secretary (2002)': 2184, 'Spirited Away (Sen to Chihiro no kamikakushi) (2001)': 2185, 'Sweet Home Alabama (2002)': 2186, 'Tuxedo, The (2002)': 2187, 'Red Dragon (2002)': 2188, 'Strange Brew (1983)': 2189, 'Rules of Attraction, The (2002)': 2190, 'Bowling for Columbine (2002)': 2191, 'Punch-Drunk Love (2002)': 2192, 'Ring, The (2002)': 2193, 'Grave of the Fireflies (Hotaru no haka) (1988)': 2194, 'Saturday Night Fever (1977)': 2195, 'Gallipoli (1981)': 2196, 'Professional, The (Le professionnel) (1981)': 2197, 'Ghost Ship (2002)': 2198, 'Jackass: The Movie (2002)': 2199, 'Frida (2002)': 2200, 'Santa Clause 2, The (2002)': 2201, '8 Mile (2002)': 2202, 'Far from Heaven (2002)': 2203, 'Harry Potter and the Chamber of Secrets (2002)': 2204, 'Dog Soldiers (2002)': 2205, 'Scanners (1981)': 2206, 'Die Another Day (2002)': 2207, 'Quiet American, The (2002)': 2208, 'Talk to Her (Hable con Ella) (2002)': 2209, 'Solaris (2002)': 2210, 'Treasure Planet (2002)': 2211, 'Zulu (1964)': 2212, 'Analyze That (2002)': 2213, 'Adaptation (2002)': 2214, 'Equilibrium (2002)': 2215, 'Hot Chick, The (2002)': 2216, 'Maid in Manhattan (2002)': 2217, 'Star Trek: Nemesis (2002)': 2218, 'About Schmidt (2002)': 2219, 'Lord of the Rings: The Two Towers, The (2002)': 2220, '25th Hour (2002)': 2221, 'Antwone Fisher (2002)': 2222, 'Gangs of New York (2002)': 2223, 'Two Weeks Notice (2002)': 2224, 'Narc (2002)': 2225, 'My Girl (1991)': 2226, 'My Neighbor Totoro (Tonari no Totoro) (1988)': 2227, 'Catch Me If You Can (2002)': 2228, 'Chicago (2002)': 2229, 'Hours, The (2002)': 2230, 'Pianist, The (2002)': 2231, 'King of Comedy, The (1983)': 2232, 'Confessions of a Dangerous Mind (2002)': 2233, 'Just Married (2003)': 2234, 'City of God (Cidade de Deus) (2002)': 2235, 'Final Destination 2 (2003)': 2236, 'Recruit, The (2003)': 2237, 'Last Unicorn, The (1982)': 2238, 'Monty Python Live at the Hollywood Bowl (1982)': 2239, 'How to Lose a Guy in 10 Days (2003)': 2240, 'Shanghai Knights (2003)': 2241, 'Daredevil (2003)': 2242, 'Man Who Fell to Earth, The (1976)': 2243, 'Life of David Gale, The (2003)': 2244, 'Old School (2003)': 2245, 'Bringing Down the House (2003)': 2246, 'Tears of the Sun (2003)': 2247, 'Irreversible (Irréversible) (2002)': 2248, 'Bend It Like Beckham (2002)': 2249, 'Green Card (1990)': 2250, 'Ringu (Ring) (1998)': 2251, 'Dreamcatcher (2003)': 2252, 'Core, The (2003)': 2253, 'Phone Booth (2002)': 2254, 'Cowboy Bebop: The Movie (Cowboy Bebop: Tengoku no Tobira) (2001)': 2255, 'Man Without a Past, The (Mies vailla menneisyyttä) (2002)': 2256, 'Anger Management (2003)': 2257, 'House of 1000 Corpses (2003)': 2258, 'Bulletproof Monk (2003)': 2259, 'Mighty Wind, A (2003)': 2260, 'Holes (2003)': 2261, 'Winged Migration (Peuple migrateur, Le) (2001)': 2262, 'Andromeda Strain, The (1971)': 2263, 'Fahrenheit 451 (1966)': 2264, 'Identity (2003)': 2265, 'Spellbound (2002)': 2266, 'X2: X-Men United (2003)': 2267, 'Daddy Day Care (2003)': 2268, 'Laputa: Castle in the Sky (Tenkû no shiro Rapyuta) (1986)': 2269, 'Matrix Reloaded, The (2003)': 2270, 'Down with Love (2003)': 2271, 'Bruce Almighty (2003)': 2272, 'Finding Nemo (2003)': 2273, 'Italian Job, The (2003)': 2274, 'Capturing the Friedmans (2003)': 2275, '2 Fast 2 Furious (Fast and the Furious 2, The) (2003)': 2276, 'Whale Rider (2002)': 2277, 'Barton Fink (1991)': 2278, 'Unforgiven, The (1960)': 2279, 'Dumb and Dumberer: When Harry Met Lloyd (2003)': 2280, '28 Days Later (2002)': 2281, \"Charlie's Angels: Full Throttle (2003)\": 2282, 'Hulk (2003)': 2283, 'Legally Blonde 2: Red, White & Blonde (2003)': 2284, 'Terminator 3: Rise of the Machines (2003)': 2285, 'Swimming Pool (2003)': 2286, 'Pirates of the Caribbean: The Curse of the Black Pearl (2003)': 2287, 'League of Extraordinary Gentlemen, The (a.k.a. LXG) (2003)': 2288, 'Bad Boys II (2003)': 2289, 'Johnny English (2003)': 2290, 'Dirty Pretty Things (2002)': 2291, 'Lara Croft Tomb Raider: The Cradle of Life (2003)': 2292, 'Seabiscuit (2003)': 2293, 'American Wedding (American Pie 3) (2003)': 2294, 'Freaky Friday (2003)': 2295, 'S.W.A.T. (2003)': 2296, 'Freddy vs. Jason (2003)': 2297, 'Open Range (2003)': 2298, 'Shaolin Soccer (Siu lam juk kau) (2001)': 2299, 'American Splendor (2003)': 2300, 'Wait Until Dark (1967)': 2301, 'THX 1138 (1971)': 2302, 'Tremors (1990)': 2303, 'Pink Panther, The (1963)': 2304, 'Pink Panther Strikes Again, The (1976)': 2305, 'Commando (1985)': 2306, 'Ikiru (1952)': 2307, 'Jeepers Creepers 2 (2003)': 2308, 'Cabin Fever (2002)': 2309, 'Matchstick Men (2003)': 2310, 'Once Upon a Time in Mexico (2003)': 2311, 'Lost in Translation (2003)': 2312, 'Paper Moon (1973)': 2313, 'Day of the Dead (1985)': 2314, 'Secondhand Lions (2003)': 2315, 'Underworld (2003)': 2316, 'Bubba Ho-tep (2002)': 2317, 'Rundown, The (2003)': 2318, 'Under the Tuscan Sun (2003)': 2319, 'Triplets of Belleville, The (Les triplettes de Belleville) (2003)': 2320, 'Videodrome (1983)': 2321, \"All the President's Men (1976)\": 2322, 'Beethoven (1992)': 2323, 'Boyz N the Hood (1991)': 2324, \"Monty Python's The Meaning of Life (1983)\": 2325, 'Where Eagles Dare (1968)': 2326, 'Sleeping with the Enemy (1991)': 2327, 'Ninja Scroll (Jûbei ninpûchô) (1995)': 2328, 'School of Rock (2003)': 2329, 'Station Agent, The (2003)': 2330, 'Mystic River (2003)': 2331, 'Intolerable Cruelty (2003)': 2332, 'Kill Bill: Vol. 1 (2003)': 2333, 'Runaway Jury (2003)': 2334, 'Texas Chainsaw Massacre, The (2003)': 2335, 'Pieces of April (2003)': 2336, 'Scary Movie 3 (2003)': 2337, 'Brother Bear (2003)': 2338, 'Elephant (2003)': 2339, 'Italian Job, The (1969)': 2340, 'Shattered Glass (2003)': 2341, 'Matrix Revolutions, The (2003)': 2342, 'Elf (2003)': 2343, 'Love Actually (2003)': 2344, 'Father of the Bride (1991)': 2345, 'Master and Commander: The Far Side of the World (2003)': 2346, 'Cat in the Hat, The (2003)': 2347, 'Gothika (2003)': 2348, '21 Grams (2003)': 2349, 'Barbarian Invasions, The (Les invasions barbares) (2003)': 2350, 'Bad Santa (2003)': 2351, 'Darkman (1990)': 2352, 'Funny Games (1997)': 2353, 'WarGames (1983)': 2354, 'Cabinet of Dr. Caligari, The (Cabinet des Dr. Caligari., Das) (1920)': 2355, 'Hannah and Her Sisters (1986)': 2356, 'Highlander II: The Quickening (1991)': 2357, 'Hudson Hawk (1991)': 2358, 'Invasion of the Body Snatchers (1978)': 2359, 'Kindergarten Cop (1990)': 2360, 'Last Boy Scout, The (1991)': 2361, 'Night of the Hunter, The (1955)': 2362, 'Battle Royale (Batoru rowaiaru) (2000)': 2363, 'Show Me Love (Fucking Åmål) (1998)': 2364, 'Teen Wolf (1985)': 2365, 'Wild at Heart (1990)': 2366, 'Witches of Eastwick, The (1987)': 2367, 'Aguirre: The Wrath of God (Aguirre, der Zorn Gottes) (1972)': 2368, 'Bullitt (1968)': 2369, 'Hero (Ying xiong) (2002)': 2370, 'Nausicaä of the Valley of the Wind (Kaze no tani no Naushika) (1984)': 2371, 'Diabolique (Les diaboliques) (1955)': 2372, 'Naked Lunch (1991)': 2373, 'Night at the Opera, A (1935)': 2374, 'Cooler, The (2003)': 2375, 'In America (2002)': 2376, 'Last Samurai, The (2003)': 2377, 'Big Fish (2003)': 2378, \"Something's Gotta Give (2003)\": 2379, 'Girl with a Pearl Earring (2003)': 2380, 'Lord of the Rings: The Return of the King, The (2003)': 2381}\n"
     ]
    }
   ],
   "source": [
    "#Creates a dictionary called movie_to_index, with the movie titles as keys and the numerical index as values. \n",
    "#It does this by enumerating the movie titles from the list of movies and setting the index to the movieId values from the item_user_mat.\n",
    "movie_to_index = {\n",
    "    movie:i for i, movie in enumerate(list(movies.set_index('movieId').loc[item_user_mat.index].title))\n",
    "}\n",
    "print(movie_to_index)"
   ]
  },
  {
   "cell_type": "code",
   "execution_count": 21,
   "metadata": {
    "id": "PnP0ohYAEPah"
   },
   "outputs": [],
   "source": [
    "#Creates a sparse matrix from the item_user_mat matrix. \n",
    "#A sparse matrix is a data structure that only stores the nonzero elements of a matrix, thus saving memory. \n",
    "#The csr_matrix() function is used to create a Compressed Sparse Row matrix from the values of the item_user_mat matrix.\n",
    "item_user_mat_sparse = csr_matrix(item_user_mat.values)"
   ]
  },
  {
   "cell_type": "markdown",
   "metadata": {
    "id": "62ph1UU8ERzo"
   },
   "source": [
    "When a movie name is given as input we need to find that movie in our dataset. If it is not present then we can not recommend anything. \n"
   ]
  },
  {
   "cell_type": "code",
   "execution_count": 22,
   "metadata": {
    "id": "xkh9jzWFEXCj"
   },
   "outputs": [],
   "source": [
    "#\"find\" function will find the closest matching string from a given set of strings. \n",
    "#The input_str is a string the user is searching for, and mapper is a set of strings. \n",
    "#The code searches through the set of strings and uses fuzz.ratio to compare the input_str to the strings in mapper. \n",
    "#If the ratio is greater than or equal to 50, it is added to the match_movie list. \n",
    "#The list is then sorted by the ratio in decreasing order and the index of the highest ratio is returned. \n",
    "#If no match is found, -1 is returned.\n",
    "\n",
    "def find(input_str, mapper):\n",
    "    #match_movie is list of tuples, which have 3 values (movie_name, index, fuzz_ratio)\n",
    "    match_movie = []\n",
    "    for movie, ind in mapper.items():\n",
    "        current_ratio = fuzz.ratio(movie.lower(), input_str.lower())\n",
    "        if (current_ratio >= 50):\n",
    "            match_movie.append((movie,ind,current_ratio))\n",
    "     \n",
    "    # Sort the list, match_movie, in order of fuzz_ratio\n",
    "    match_movie = sorted(match_movie, key = lambda x:x[2])[::-1]\n",
    "    \n",
    "    if len(match_movie) == 0:\n",
    "        print(\"Movie string not found in dataset \\n\")\n",
    "        return -1\n",
    "    return match_movie[0][1]    "
   ]
  },
  {
   "cell_type": "code",
   "execution_count": 23,
   "metadata": {
    "id": "bBteTxNcEb5d"
   },
   "outputs": [],
   "source": [
    "#Define the model\n",
    "#The metric used is 'cosine', which is a measure of similarity between two vectors. \n",
    "#The algorithm used is 'brute', which is a brute force algorithm for computing the nearest neighbors of a given point. \n",
    "#The n_neighbors parameter specifies the number of nearest neighbors to return. \n",
    "#The n_jobs parameter specifies the number of CPU cores to use for computing the model, in this case it is set to -1 which indicates that all available cores should be used.\n",
    "recommendation_model = NearestNeighbors(metric = 'cosine', algorithm = 'brute', n_neighbors = 20, n_jobs = -1)"
   ]
  },
  {
   "cell_type": "code",
   "execution_count": 45,
   "metadata": {
    "id": "ohUfmZslEgWL"
   },
   "outputs": [],
   "source": [
    "# Create a function which takes a movie name and make recommedation for it\n",
    "def recommend(input_str, data, model, mapper, n_recommendation):\n",
    "    model.fit(data)\n",
    "    \n",
    "    # The mapper is a dictionary that maps each movie to its index in the dataset.\n",
    "    index = find(input_str, mapper)\n",
    "    \n",
    "    if index == -1 :\n",
    "        print(\"Movie string not found in dataset \\n\")\n",
    "        return \n",
    "    if n_recommendation == 0:\n",
    "      print(\"You can not enter 0 as a valid number of returned recomendations.\")\n",
    "      return\n",
    "\n",
    "    index_list = model.kneighbors(data[index], n_neighbors = n_recommendation + 1, return_distance = False)\n",
    "    # Create mapper index to title  \n",
    "    index_to_movie = {\n",
    "        ind:movie for movie,ind in mapper.items()\n",
    "    }\n",
    "    results = []\n",
    "    print(\"A viewer who watches\",input_str,\"should also watch the following movies: \")\n",
    "    for i in range(1,index_list.shape[1]):\n",
    "        print(index_to_movie[index_list[0][i]])\n",
    "        results.append(index_to_movie[index_list[0][i]])\n",
    "    \n",
    "    return index_to_movie[index], results"
   ]
  },
  {
   "cell_type": "code",
   "execution_count": 54,
   "metadata": {
    "colab": {
     "base_uri": "https://localhost:8080/"
    },
    "id": "CCwzUgfCEjvL",
    "outputId": "df971b19-3959-435f-fcf9-d4ecb470351b"
   },
   "outputs": [
    {
     "name": "stdout",
     "output_type": "stream",
     "text": [
      "Movie Name: matrix\n",
      "# of Recommendations: 5\n",
      "A viewer who watches matrix should also watch the following movies: \n",
      "Lord of the Rings: The Fellowship of the Ring, The (2001)\n",
      "Fight Club (1999)\n",
      "Star Wars: Episode V - The Empire Strikes Back (1980)\n",
      "Lord of the Rings: The Two Towers, The (2002)\n",
      "Star Wars: Episode IV - A New Hope (1977)\n"
     ]
    }
   ],
   "source": [
    "#Precond: m is a string of a movie name \n",
    "#Precond: n is a string of a valid integer \n",
    "\n",
    "m = input(\"Movie Name: \")\n",
    "n = input(\"# of Recommendations: \")\n",
    "\n",
    "#Check to ensure that input values are correct types\n",
    "assert isinstance(n, str)\n",
    "assert n.isdigit(), f\"{n} is not a valid integer\"\n",
    "\n",
    "test_movie, rec_movie = recommend(m, item_user_mat_sparse, recommendation_model, movie_to_index, int(n))"
   ]
  },
  {
   "cell_type": "code",
   "execution_count": 52,
   "metadata": {
    "colab": {
     "base_uri": "https://localhost:8080/"
    },
    "id": "4YEHnEXT9zs7",
    "outputId": "62c88183-dd8a-461c-846a-703e7c441405"
   },
   "outputs": [
    {
     "name": "stdout",
     "output_type": "stream",
     "text": [
      "Model's mean squared error: 27.99915459999994\n",
      "Model's accuracy: 0.8758902721631209\n"
     ]
    }
   ],
   "source": [
    "# Accuracy Score\n",
    "scores = pd.read_csv('genome-scores.csv')\n",
    "tags = pd.read_csv('genome-tags.csv')\n",
    "\n",
    "rec_movie_id = []\n",
    "\n",
    "relevance = []\n",
    "\n",
    "test_movie_id = movies.loc[movies['title'] == test_movie, 'movieId'].iloc[0]\n",
    "rec_movie_id = movies.loc[movies['title'].isin(rec_movie), 'movieId'].values\n",
    "\n",
    "test_relevance = scores[scores['movieId'] == test_movie_id]['relevance'].values\n",
    "for x in range(len(rec_movie_id)):\n",
    "  relevance.append(scores[scores['movieId'] == rec_movie_id[x]]['relevance'].values)\n",
    "\n",
    "test_error = 0\n",
    "for x in range(len(rec_movie_id)):\n",
    "    for y in range(len(test_relevance)):\n",
    "        test_error += (relevance[x][y]-test_relevance[y])**2\n",
    "\n",
    "print(\"Model's mean squared error:\", test_error / len(rec_movie_id))\n",
    "print(\"Model's accuracy:\", (len(test_relevance) - test_error) / len(test_relevance))"
   ]
  },
  {
   "cell_type": "markdown",
   "metadata": {
    "id": "00aa8N-VJAJs"
   },
   "source": [
    "Observations (for the slides): \n",
    "*   Model recommends movies which are close in release years\n",
    "*   If you calculate the cosine distance between the input movie and the recommended movie, this distance is very small due a large number of cells in our movie_user_mat dataframe being filled with 0. \n",
    "*   We have almost 92% sparsity in our final item_user_mat.\n",
    "*   Since we have removed unpopular movies from our dataset, some movies will never be recommended to users\n",
    "*   Popularity bias: This model only recommends movies which are tagged as \"popluar\" movies. Movies towards the \"tail\" of the curve (graphs above) are not recommended"
   ]
  }
 ],
 "metadata": {
  "accelerator": "GPU",
  "colab": {
   "provenance": []
  },
  "gpuClass": "standard",
  "kernelspec": {
   "display_name": "Python 3 (ipykernel)",
   "language": "python",
   "name": "python3"
  },
  "language_info": {
   "codemirror_mode": {
    "name": "ipython",
    "version": 3
   },
   "file_extension": ".py",
   "mimetype": "text/x-python",
   "name": "python",
   "nbconvert_exporter": "python",
   "pygments_lexer": "ipython3",
   "version": "3.8.10"
  }
 },
 "nbformat": 4,
 "nbformat_minor": 1
}
