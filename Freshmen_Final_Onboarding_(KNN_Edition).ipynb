{
 "cells": [
  {
   "cell_type": "code",
   "execution_count": 1,
   "metadata": {
    "colab": {
     "base_uri": "https://localhost:8080/"
    },
    "id": "_jeC8Ts8eZl8",
    "outputId": "a2061a9d-9ddf-4436-9c57-3cbd1c940b78"
   },
   "outputs": [
    {
     "name": "stderr",
     "output_type": "stream",
     "text": [
      "/home/scyaeris/.local/lib/python3.8/site-packages/fuzzywuzzy/fuzz.py:11: UserWarning: Using slow pure-python SequenceMatcher. Install python-Levenshtein to remove this warning\n",
      "  warnings.warn('Using slow pure-python SequenceMatcher. Install python-Levenshtein to remove this warning')\n"
     ]
    }
   ],
   "source": [
    "#Import basic tools\n",
    "import numpy as np\n",
    "import pandas as pd\n",
    "\n",
    "#Import sklearn (KNN)\n",
    "from sklearn.neighbors import NearestNeighbors\n",
    "\n",
    "#Import FuzzyWuzzy for input\n",
    "from fuzzywuzzy import fuzz\n",
    "\n",
    "#Import data visualization & matrix\n",
    "from scipy.sparse import csr_matrix\n",
    "import matplotlib.pyplot as plt\n",
    "import seaborn as sns"
   ]
  },
  {
   "cell_type": "code",
   "execution_count": 2,
   "metadata": {
    "id": "0APz4O3Jw7Gi"
   },
   "outputs": [],
   "source": [
    "#Import movies and ratings .csv files\n",
    "ratings = pd.read_csv('ratings.csv')\n",
    "movies = pd.read_csv('movies.csv')"
   ]
  },
  {
   "cell_type": "code",
   "execution_count": 3,
   "metadata": {
    "colab": {
     "base_uri": "https://localhost:8080/",
     "height": 206
    },
    "id": "eVG9etkTlt0q",
    "outputId": "32d8ba6c-a3c1-4f88-a9b0-cfedcdcacb32"
   },
   "outputs": [
    {
     "data": {
      "text/html": [
       "<div>\n",
       "<style scoped>\n",
       "    .dataframe tbody tr th:only-of-type {\n",
       "        vertical-align: middle;\n",
       "    }\n",
       "\n",
       "    .dataframe tbody tr th {\n",
       "        vertical-align: top;\n",
       "    }\n",
       "\n",
       "    .dataframe thead th {\n",
       "        text-align: right;\n",
       "    }\n",
       "</style>\n",
       "<table border=\"1\" class=\"dataframe\">\n",
       "  <thead>\n",
       "    <tr style=\"text-align: right;\">\n",
       "      <th></th>\n",
       "      <th>movieId</th>\n",
       "      <th>title</th>\n",
       "      <th>genres</th>\n",
       "    </tr>\n",
       "  </thead>\n",
       "  <tbody>\n",
       "    <tr>\n",
       "      <th>0</th>\n",
       "      <td>1</td>\n",
       "      <td>Toy Story (1995)</td>\n",
       "      <td>Adventure|Animation|Children|Comedy|Fantasy</td>\n",
       "    </tr>\n",
       "    <tr>\n",
       "      <th>1</th>\n",
       "      <td>2</td>\n",
       "      <td>Jumanji (1995)</td>\n",
       "      <td>Adventure|Children|Fantasy</td>\n",
       "    </tr>\n",
       "    <tr>\n",
       "      <th>2</th>\n",
       "      <td>3</td>\n",
       "      <td>Grumpier Old Men (1995)</td>\n",
       "      <td>Comedy|Romance</td>\n",
       "    </tr>\n",
       "    <tr>\n",
       "      <th>3</th>\n",
       "      <td>4</td>\n",
       "      <td>Waiting to Exhale (1995)</td>\n",
       "      <td>Comedy|Drama|Romance</td>\n",
       "    </tr>\n",
       "    <tr>\n",
       "      <th>4</th>\n",
       "      <td>5</td>\n",
       "      <td>Father of the Bride Part II (1995)</td>\n",
       "      <td>Comedy</td>\n",
       "    </tr>\n",
       "  </tbody>\n",
       "</table>\n",
       "</div>"
      ],
      "text/plain": [
       "   movieId                               title  \\\n",
       "0        1                    Toy Story (1995)   \n",
       "1        2                      Jumanji (1995)   \n",
       "2        3             Grumpier Old Men (1995)   \n",
       "3        4            Waiting to Exhale (1995)   \n",
       "4        5  Father of the Bride Part II (1995)   \n",
       "\n",
       "                                        genres  \n",
       "0  Adventure|Animation|Children|Comedy|Fantasy  \n",
       "1                   Adventure|Children|Fantasy  \n",
       "2                               Comedy|Romance  \n",
       "3                         Comedy|Drama|Romance  \n",
       "4                                       Comedy  "
      ]
     },
     "execution_count": 3,
     "metadata": {},
     "output_type": "execute_result"
    }
   ],
   "source": [
    "movies.head()"
   ]
  },
  {
   "cell_type": "code",
   "execution_count": 4,
   "metadata": {
    "colab": {
     "base_uri": "https://localhost:8080/",
     "height": 206
    },
    "id": "Pfo6_3l-_Wqb",
    "outputId": "a8bf8931-90eb-4a00-ec46-1d63671bf625"
   },
   "outputs": [
    {
     "data": {
      "text/html": [
       "<div>\n",
       "<style scoped>\n",
       "    .dataframe tbody tr th:only-of-type {\n",
       "        vertical-align: middle;\n",
       "    }\n",
       "\n",
       "    .dataframe tbody tr th {\n",
       "        vertical-align: top;\n",
       "    }\n",
       "\n",
       "    .dataframe thead th {\n",
       "        text-align: right;\n",
       "    }\n",
       "</style>\n",
       "<table border=\"1\" class=\"dataframe\">\n",
       "  <thead>\n",
       "    <tr style=\"text-align: right;\">\n",
       "      <th></th>\n",
       "      <th>userId</th>\n",
       "      <th>movieId</th>\n",
       "      <th>rating</th>\n",
       "    </tr>\n",
       "  </thead>\n",
       "  <tbody>\n",
       "    <tr>\n",
       "      <th>0</th>\n",
       "      <td>4</td>\n",
       "      <td>1.0</td>\n",
       "      <td>4.0</td>\n",
       "    </tr>\n",
       "    <tr>\n",
       "      <th>1</th>\n",
       "      <td>10</td>\n",
       "      <td>1.0</td>\n",
       "      <td>5.0</td>\n",
       "    </tr>\n",
       "    <tr>\n",
       "      <th>2</th>\n",
       "      <td>14</td>\n",
       "      <td>1.0</td>\n",
       "      <td>4.5</td>\n",
       "    </tr>\n",
       "    <tr>\n",
       "      <th>3</th>\n",
       "      <td>15</td>\n",
       "      <td>1.0</td>\n",
       "      <td>4.0</td>\n",
       "    </tr>\n",
       "    <tr>\n",
       "      <th>4</th>\n",
       "      <td>22</td>\n",
       "      <td>1.0</td>\n",
       "      <td>4.0</td>\n",
       "    </tr>\n",
       "  </tbody>\n",
       "</table>\n",
       "</div>"
      ],
      "text/plain": [
       "   userId  movieId  rating\n",
       "0       4      1.0     4.0\n",
       "1      10      1.0     5.0\n",
       "2      14      1.0     4.5\n",
       "3      15      1.0     4.0\n",
       "4      22      1.0     4.0"
      ]
     },
     "execution_count": 4,
     "metadata": {},
     "output_type": "execute_result"
    }
   ],
   "source": [
    "ratings.head()"
   ]
  },
  {
   "cell_type": "code",
   "execution_count": 5,
   "metadata": {
    "colab": {
     "base_uri": "https://localhost:8080/"
    },
    "id": "O_UvgYc5_YR8",
    "outputId": "1b8d48f7-d947-4e0f-deb3-783f3fd148a3"
   },
   "outputs": [
    {
     "name": "stdout",
     "output_type": "stream",
     "text": [
      "Number of unique users (raters): 10428\n",
      "Number of unique movies: 6692\n"
     ]
    }
   ],
   "source": [
    "#The \"dropna = True\" parameter tells the code to ignore any entries with missing values. \n",
    "#So the code will count the number of unique users and movies in the ratings data, excluding any entries with missing values.\n",
    "unique_user = ratings.userId.nunique(dropna = True)\n",
    "unique_movie = ratings.movieId.nunique(dropna = True)\n",
    "print(f\"Number of unique users (raters): {unique_user}\")\n",
    "print(f\"Number of unique movies: {unique_movie}\")"
   ]
  },
  {
   "cell_type": "code",
   "execution_count": 6,
   "metadata": {
    "colab": {
     "base_uri": "https://localhost:8080/"
    },
    "id": "SjOVvVc2MHR1",
    "outputId": "1fe67099-665b-4306-92e0-a55bdb77d8d6"
   },
   "outputs": [
    {
     "data": {
      "text/plain": [
       "(786001, 3)"
      ]
     },
     "execution_count": 6,
     "metadata": {},
     "output_type": "execute_result"
    }
   ],
   "source": [
    "ratings.shape"
   ]
  },
  {
   "cell_type": "code",
   "execution_count": 7,
   "metadata": {
    "colab": {
     "base_uri": "https://localhost:8080/"
    },
    "id": "ydC6QXJHqBUX",
    "outputId": "83344daa-e1dc-45aa-ffc7-26a21bcc1fe4"
   },
   "outputs": [
    {
     "name": "stdout",
     "output_type": "stream",
     "text": [
      "Ratings not provided: 68998175\n",
      "Sparsity of user-item matrix is: 0.9887366872398121\n"
     ]
    }
   ],
   "source": [
    "# In order to create item user matrixes, we need to check how many ratings exist within our dataframes/and/or how many ratings are absent\n",
    "total_ratings = unique_user * unique_movie\n",
    "rating_present = ratings.shape[0]\n",
    "\n",
    "ratings_not_provided = total_ratings - rating_present \n",
    "\n",
    "#Implies some users have not watched some movies\n",
    "print(f\"Ratings not provided: {ratings_not_provided}\")\n",
    "print(f\"Sparsity of user-item matrix is: {ratings_not_provided/total_ratings}\")"
   ]
  },
  {
   "cell_type": "markdown",
   "metadata": {
    "id": "fCmQHFQr6yFu"
   },
   "source": [
    "Data Exploration"
   ]
  },
  {
   "cell_type": "code",
   "execution_count": 8,
   "metadata": {
    "colab": {
     "base_uri": "https://localhost:8080/",
     "height": 206
    },
    "id": "hCnYZZCuveRR",
    "outputId": "b09c03b8-94dc-4381-a3af-17f67153b289"
   },
   "outputs": [
    {
     "name": "stderr",
     "output_type": "stream",
     "text": [
      "/tmp/ipykernel_2141/3717229656.py:5: FutureWarning: The frame.append method is deprecated and will be removed from pandas in a future version. Use pandas.concat instead.\n",
      "  rating_cnt = rating_cnt.append(pd.DataFrame({'count' : ratings_not_provided}, index = [0])).sort_index()\n"
     ]
    },
    {
     "data": {
      "text/html": [
       "<div>\n",
       "<style scoped>\n",
       "    .dataframe tbody tr th:only-of-type {\n",
       "        vertical-align: middle;\n",
       "    }\n",
       "\n",
       "    .dataframe tbody tr th {\n",
       "        vertical-align: top;\n",
       "    }\n",
       "\n",
       "    .dataframe thead th {\n",
       "        text-align: right;\n",
       "    }\n",
       "</style>\n",
       "<table border=\"1\" class=\"dataframe\">\n",
       "  <thead>\n",
       "    <tr style=\"text-align: right;\">\n",
       "      <th></th>\n",
       "      <th>count</th>\n",
       "      <th>log_count</th>\n",
       "    </tr>\n",
       "  </thead>\n",
       "  <tbody>\n",
       "    <tr>\n",
       "      <th>0.5</th>\n",
       "      <td>11221</td>\n",
       "      <td>9.325542</td>\n",
       "    </tr>\n",
       "    <tr>\n",
       "      <th>1.0</th>\n",
       "      <td>27592</td>\n",
       "      <td>10.225281</td>\n",
       "    </tr>\n",
       "    <tr>\n",
       "      <th>1.5</th>\n",
       "      <td>11127</td>\n",
       "      <td>9.317130</td>\n",
       "    </tr>\n",
       "    <tr>\n",
       "      <th>2.0</th>\n",
       "      <td>57407</td>\n",
       "      <td>10.957922</td>\n",
       "    </tr>\n",
       "    <tr>\n",
       "      <th>2.5</th>\n",
       "      <td>32298</td>\n",
       "      <td>10.382761</td>\n",
       "    </tr>\n",
       "  </tbody>\n",
       "</table>\n",
       "</div>"
      ],
      "text/plain": [
       "     count  log_count\n",
       "0.5  11221   9.325542\n",
       "1.0  27592  10.225281\n",
       "1.5  11127   9.317130\n",
       "2.0  57407  10.957922\n",
       "2.5  32298  10.382761"
      ]
     },
     "execution_count": 8,
     "metadata": {},
     "output_type": "execute_result"
    }
   ],
   "source": [
    "#Gives information about which rating (on scale of 0 to 5) is more frequent\n",
    "rating_cnt = pd.DataFrame(ratings.groupby('rating').size(),columns=['count'])\n",
    "#This rating count does not contain any ratings of value 0\n",
    "\n",
    "rating_cnt = rating_cnt.append(pd.DataFrame({'count' : ratings_not_provided}, index = [0])).sort_index()\n",
    "\n",
    "#Since there are more \"0 ratings\" as compared to other ratings, use the log value\n",
    "#Just for the visualization\n",
    "rating_cnt['log_count'] = np.log(rating_cnt['count'])\n",
    "rating_cnt = rating_cnt.drop(rating_cnt.index[0])\n",
    "rating_cnt.head()"
   ]
  },
  {
   "cell_type": "code",
   "execution_count": 9,
   "metadata": {
    "colab": {
     "base_uri": "https://localhost:8080/",
     "height": 428
    },
    "id": "GCPXZ4BSvN5H",
    "outputId": "c270a6df-0170-4517-820d-62558ff43fa6"
   },
   "outputs": [
    {
     "data": {
      "text/plain": [
       "Text(0, 0.5, 'Rating Count')"
      ]
     },
     "execution_count": 9,
     "metadata": {},
     "output_type": "execute_result"
    },
    {
     "data": {
      "image/png": "[encoded data removed]",
      "text/plain": [
       "<Figure size 1200x600 with 1 Axes>"
      ]
     },
     "metadata": {},
     "output_type": "display_data"
    }
   ],
   "source": [
    "# Create a bar plot to visualize ratings\n",
    "vis = rating_cnt\n",
    "rcpv = vis.reset_index().rename(columns = {'index':'rating_value'}).plot(\n",
    "    x = 'rating_value',\n",
    "    y = 'count',\n",
    "    logy = True,\n",
    "    kind = 'bar',\n",
    "    title = 'Rating count per value (log scale)',\n",
    "    figsize = (12,6)\n",
    ")\n",
    "rcpv.set_xlabel('Rating Value')\n",
    "rcpv.set_ylabel('Rating Count')"
   ]
  },
  {
   "cell_type": "markdown",
   "metadata": {
    "id": "bPnR3A-V93-c"
   },
   "source": [
    "We can gather that rating values like 3.0 and 4.0 are seen more often than others"
   ]
  },
  {
   "cell_type": "code",
   "execution_count": 10,
   "metadata": {
    "colab": {
     "base_uri": "https://localhost:8080/",
     "height": 238
    },
    "id": "W2CZXZV-xWrJ",
    "outputId": "1e139de3-dd82-4af4-dee2-2c8aa0194352"
   },
   "outputs": [
    {
     "data": {
      "text/html": [
       "<div>\n",
       "<style scoped>\n",
       "    .dataframe tbody tr th:only-of-type {\n",
       "        vertical-align: middle;\n",
       "    }\n",
       "\n",
       "    .dataframe tbody tr th {\n",
       "        vertical-align: top;\n",
       "    }\n",
       "\n",
       "    .dataframe thead th {\n",
       "        text-align: right;\n",
       "    }\n",
       "</style>\n",
       "<table border=\"1\" class=\"dataframe\">\n",
       "  <thead>\n",
       "    <tr style=\"text-align: right;\">\n",
       "      <th></th>\n",
       "      <th>count</th>\n",
       "    </tr>\n",
       "    <tr>\n",
       "      <th>movieId</th>\n",
       "      <th></th>\n",
       "    </tr>\n",
       "  </thead>\n",
       "  <tbody>\n",
       "    <tr>\n",
       "      <th>1.0</th>\n",
       "      <td>2573</td>\n",
       "    </tr>\n",
       "    <tr>\n",
       "      <th>2.0</th>\n",
       "      <td>1021</td>\n",
       "    </tr>\n",
       "    <tr>\n",
       "      <th>3.0</th>\n",
       "      <td>629</td>\n",
       "    </tr>\n",
       "    <tr>\n",
       "      <th>4.0</th>\n",
       "      <td>129</td>\n",
       "    </tr>\n",
       "    <tr>\n",
       "      <th>5.0</th>\n",
       "      <td>592</td>\n",
       "    </tr>\n",
       "  </tbody>\n",
       "</table>\n",
       "</div>"
      ],
      "text/plain": [
       "         count\n",
       "movieId       \n",
       "1.0       2573\n",
       "2.0       1021\n",
       "3.0        629\n",
       "4.0        129\n",
       "5.0        592"
      ]
     },
     "execution_count": 10,
     "metadata": {},
     "output_type": "execute_result"
    }
   ],
   "source": [
    "#Plot rating frequency of each movie (how many time a movie has been rated)\n",
    "movie_freq = pd.DataFrame(ratings.groupby('movieId').size(), columns = ['count'])\n",
    "movie_freq.head()"
   ]
  },
  {
   "cell_type": "code",
   "execution_count": 11,
   "metadata": {
    "colab": {
     "base_uri": "https://localhost:8080/",
     "height": 531
    },
    "id": "DjWMfVq19-bv",
    "outputId": "6af43fc6-7eec-481b-8395-003a7c7d97e4"
   },
   "outputs": [
    {
     "data": {
      "text/plain": [
       "Text(0, 0.5, 'Rating frequency of movies')"
      ]
     },
     "execution_count": 11,
     "metadata": {},
     "output_type": "execute_result"
    },
    {
     "data": {
      "image/png": "[encoded data removed]",
      "text/plain": [
       "<Figure size 1200x800 with 1 Axes>"
      ]
     },
     "metadata": {},
     "output_type": "display_data"
    }
   ],
   "source": [
    "#Plot movie ratings by frequency\n",
    "mf_copy = movie_freq.sort_values(by = 'count', ascending = False)\n",
    "mf_copy = mf_copy.reset_index(drop = True)\n",
    "\n",
    "rfpm = mf_copy.plot(\n",
    "    title = 'Rating Frequency of Movie',\n",
    "    logy = True,\n",
    "    #Figure size (size of the graph image lol)\n",
    "    figsize = (12,8)\n",
    ")\n",
    "rfpm.set_xlabel('Number of movies')\n",
    "rfpm.set_ylabel('Rating frequency of movies')"
   ]
  },
  {
   "cell_type": "markdown",
   "metadata": {
    "id": "sh6ZrCyE-rf0"
   },
   "source": [
    "The graph is skewed because only few movies that are popular get the most ratings. \n",
    "\n",
    "We can see that most movies do not have a lot of ratings."
   ]
  },
  {
   "cell_type": "code",
   "execution_count": 12,
   "metadata": {
    "colab": {
     "base_uri": "https://localhost:8080/"
    },
    "id": "0Vj1Iwau-xHs",
    "outputId": "85cf3119-1d6e-470d-c79b-aa103fd2f040"
   },
   "outputs": [
    {
     "name": "stdout",
     "output_type": "stream",
     "text": [
      "Shape of Ratings: (786001, 3)\n",
      "Number of movies that are rated more than 50 times: 2382\n",
      "Number of unique movies present in dataset: 6692\n"
     ]
    }
   ],
   "source": [
    "threshold_rating_freq = 50\n",
    "#Take out the movie IDs for which each movie is rated more than threshold value \n",
    "#Then, keep only the movies in our original ratings dataframe\n",
    "\n",
    "popular_movies_id = list(set(movie_freq.query('count >= @threshold_rating_freq').index))\n",
    "\n",
    "#Ratings dataframe after dropping \"non-popular\" movies\n",
    "ratings_with_popular_movies = ratings[ratings.movieId.isin(popular_movies_id)]\n",
    "\n",
    "print(f'Shape of Ratings: {ratings.shape}')\n",
    "print(f\"Number of movies that are rated more than 50 times: {len(popular_movies_id)}\")\n",
    "print(f\"Number of unique movies present in dataset: {unique_movie}\")"
   ]
  },
  {
   "cell_type": "markdown",
   "metadata": {
    "id": "NsOH42Kt_XxD"
   },
   "source": [
    "User Analysis"
   ]
  },
  {
   "cell_type": "code",
   "execution_count": 13,
   "metadata": {
    "colab": {
     "base_uri": "https://localhost:8080/",
     "height": 238
    },
    "id": "cporfced_YZT",
    "outputId": "1c716f02-74a9-4b6e-ceaf-953fbe81875e"
   },
   "outputs": [
    {
     "data": {
      "text/html": [
       "<div>\n",
       "<style scoped>\n",
       "    .dataframe tbody tr th:only-of-type {\n",
       "        vertical-align: middle;\n",
       "    }\n",
       "\n",
       "    .dataframe tbody tr th {\n",
       "        vertical-align: top;\n",
       "    }\n",
       "\n",
       "    .dataframe thead th {\n",
       "        text-align: right;\n",
       "    }\n",
       "</style>\n",
       "<table border=\"1\" class=\"dataframe\">\n",
       "  <thead>\n",
       "    <tr style=\"text-align: right;\">\n",
       "      <th></th>\n",
       "      <th>count</th>\n",
       "    </tr>\n",
       "    <tr>\n",
       "      <th>userId</th>\n",
       "      <th></th>\n",
       "    </tr>\n",
       "  </thead>\n",
       "  <tbody>\n",
       "    <tr>\n",
       "      <th>1</th>\n",
       "      <td>16</td>\n",
       "    </tr>\n",
       "    <tr>\n",
       "      <th>2</th>\n",
       "      <td>15</td>\n",
       "    </tr>\n",
       "    <tr>\n",
       "      <th>3</th>\n",
       "      <td>11</td>\n",
       "    </tr>\n",
       "    <tr>\n",
       "      <th>4</th>\n",
       "      <td>640</td>\n",
       "    </tr>\n",
       "    <tr>\n",
       "      <th>5</th>\n",
       "      <td>35</td>\n",
       "    </tr>\n",
       "  </tbody>\n",
       "</table>\n",
       "</div>"
      ],
      "text/plain": [
       "        count\n",
       "userId       \n",
       "1          16\n",
       "2          15\n",
       "3          11\n",
       "4         640\n",
       "5          35"
      ]
     },
     "execution_count": 13,
     "metadata": {},
     "output_type": "execute_result"
    }
   ],
   "source": [
    "#How many times each user (userId) rates movies\n",
    "user_cnt = pd.DataFrame(ratings.groupby('userId').size(),columns = ['count'])\n",
    "uc_copy = user_cnt\n",
    "uc_copy.head()"
   ]
  },
  {
   "cell_type": "code",
   "execution_count": 14,
   "metadata": {
    "colab": {
     "base_uri": "https://localhost:8080/",
     "height": 422
    },
    "id": "7XuXMPCH_aX4",
    "outputId": "1a67f2a4-2acc-44ce-dbb2-f6cd9e2cfd7b"
   },
   "outputs": [
    {
     "data": {
      "text/plain": [
       "Text(0, 0.5, 'Rating Frequency')"
      ]
     },
     "execution_count": 14,
     "metadata": {},
     "output_type": "execute_result"
    },
    {
     "data": {
      "image/png": "[encoded data removed]",
      "text/plain": [
       "<Figure size 1200x600 with 1 Axes>"
      ]
     },
     "metadata": {},
     "output_type": "display_data"
    }
   ],
   "source": [
    "#Creates a bar graph that displays the rating frequency of each user. \n",
    "#Sorts the data in descending order and labels the x-axis as \"Users\" and the y-axis as \"Rating Frequency\". \n",
    "#The title of the graph is \"Rating Frequency by User\". \n",
    "#The figure size is set to 12 by 6.\n",
    "rfpu = uc_copy.sort_values('count',ascending = False).reset_index(drop = True).plot(\n",
    "      title = 'Rating Frequency by User',\n",
    "      figsize = (12,6),\n",
    ")\n",
    "rfpu.set_xlabel(\"Users\")\n",
    "rfpu.set_ylabel(\"Rating Frequency\")"
   ]
  },
  {
   "cell_type": "markdown",
   "metadata": {
    "id": "SYABzuTQ_lUm"
   },
   "source": [
    "Rating Frequency by User follows tail trend: generally there are just fewer users who are interseted in rating movies\n",
    "\n",
    "There are few users that only avidly rate movies"
   ]
  },
  {
   "cell_type": "code",
   "execution_count": 15,
   "metadata": {
    "colab": {
     "base_uri": "https://localhost:8080/"
    },
    "id": "WFoi3gG3_tZ9",
    "outputId": "8ce61f03-5334-42ff-ea1f-8ff1a2ee7c2c"
   },
   "outputs": [
    {
     "name": "stdout",
     "output_type": "stream",
     "text": [
      "Shape of ratings_with_popular_movies: (728384, 3)\n",
      "Shape of ratings_with_popular_movies_with_active_user: (655566, 3)\n",
      "Unique users: 10428\n",
      "Unique movies: 6692\n",
      "Popular movies: 2382\n"
     ]
    }
   ],
   "source": [
    "# Lets find users who have more than 30 ratings\n",
    "threshold_val = 30\n",
    "active_user = list(set(user_cnt.query('count >= @threshold_val').index))\n",
    "\n",
    "#update your ratings_with_popular_movies\n",
    "ratings_with_popular_movies_with_active_user = ratings_with_popular_movies[ratings_with_popular_movies.userId.isin(active_user)]\n",
    "\n",
    "print(f'Shape of ratings_with_popular_movies: {ratings_with_popular_movies.shape}')\n",
    "print(f'Shape of ratings_with_popular_movies_with_active_user: {ratings_with_popular_movies_with_active_user.shape}')\n",
    "print(f\"Unique users: {unique_user}\")\n",
    "print(f\"Unique movies: {unique_movie}\")\n",
    "print(f\"Popular movies: {len(popular_movies_id)}\")"
   ]
  },
  {
   "cell_type": "code",
   "execution_count": 16,
   "metadata": {
    "colab": {
     "base_uri": "https://localhost:8080/"
    },
    "id": "A12jFZHzA3U4",
    "outputId": "9f960d2e-0d9f-49fa-e34f-7b1789c0f45e"
   },
   "outputs": [
    {
     "name": "stdout",
     "output_type": "stream",
     "text": [
      "Sparsity of final dataframe ratings: 0.9895623328704204\n"
     ]
    }
   ],
   "source": [
    "print(f\"Sparsity of final dataframe ratings: {(unique_user*unique_movie - ratings_with_popular_movies.shape[0])/(unique_user*unique_movie)}\")"
   ]
  },
  {
   "cell_type": "markdown",
   "metadata": {
    "id": "u59E9YzvA_Of"
   },
   "source": [
    "Sparsity reduced by removing unpopular movies and inactive users who only reviewed a select amount of movies"
   ]
  },
  {
   "cell_type": "markdown",
   "metadata": {
    "id": "QK_dgFcXBG9I"
   },
   "source": [
    "#Building KNN Model"
   ]
  },
  {
   "cell_type": "markdown",
   "metadata": {
    "id": "lhbIzS9-EDCD"
   },
   "source": [
    "We have to reshape/prepare our dataset into a format which can be given as parameter to the KNN function. We will pivot our final dataset into a ITEM-USER matrix and fill empty cells with with the vlaue 0 because the KNN model calculates distances between two points. "
   ]
  },
  {
   "cell_type": "code",
   "execution_count": 17,
   "metadata": {
    "colab": {
     "base_uri": "https://localhost:8080/",
     "height": 331
    },
    "id": "sHFx7hubBFLM",
    "outputId": "f243dc3c-dcc6-420a-dba2-ab3e802bbd11"
   },
   "outputs": [
    {
     "data": {
      "text/html": [
       "<div>\n",
       "<style scoped>\n",
       "    .dataframe tbody tr th:only-of-type {\n",
       "        vertical-align: middle;\n",
       "    }\n",
       "\n",
       "    .dataframe tbody tr th {\n",
       "        vertical-align: top;\n",
       "    }\n",
       "\n",
       "    .dataframe thead th {\n",
       "        text-align: right;\n",
       "    }\n",
       "</style>\n",
       "<table border=\"1\" class=\"dataframe\">\n",
       "  <thead>\n",
       "    <tr style=\"text-align: right;\">\n",
       "      <th>userId</th>\n",
       "      <th>4</th>\n",
       "      <th>5</th>\n",
       "      <th>6</th>\n",
       "      <th>8</th>\n",
       "      <th>10</th>\n",
       "      <th>14</th>\n",
       "      <th>15</th>\n",
       "      <th>16</th>\n",
       "      <th>18</th>\n",
       "      <th>19</th>\n",
       "      <th>...</th>\n",
       "      <th>10517</th>\n",
       "      <th>10518</th>\n",
       "      <th>10519</th>\n",
       "      <th>10524</th>\n",
       "      <th>10526</th>\n",
       "      <th>10527</th>\n",
       "      <th>10529</th>\n",
       "      <th>10530</th>\n",
       "      <th>10531</th>\n",
       "      <th>10532</th>\n",
       "    </tr>\n",
       "    <tr>\n",
       "      <th>movieId</th>\n",
       "      <th></th>\n",
       "      <th></th>\n",
       "      <th></th>\n",
       "      <th></th>\n",
       "      <th></th>\n",
       "      <th></th>\n",
       "      <th></th>\n",
       "      <th></th>\n",
       "      <th></th>\n",
       "      <th></th>\n",
       "      <th></th>\n",
       "      <th></th>\n",
       "      <th></th>\n",
       "      <th></th>\n",
       "      <th></th>\n",
       "      <th></th>\n",
       "      <th></th>\n",
       "      <th></th>\n",
       "      <th></th>\n",
       "      <th></th>\n",
       "      <th></th>\n",
       "    </tr>\n",
       "  </thead>\n",
       "  <tbody>\n",
       "    <tr>\n",
       "      <th>1.0</th>\n",
       "      <td>4.0</td>\n",
       "      <td>0.0</td>\n",
       "      <td>0.0</td>\n",
       "      <td>0.0</td>\n",
       "      <td>5.0</td>\n",
       "      <td>4.5</td>\n",
       "      <td>4.0</td>\n",
       "      <td>0.0</td>\n",
       "      <td>0.0</td>\n",
       "      <td>0.0</td>\n",
       "      <td>...</td>\n",
       "      <td>0.0</td>\n",
       "      <td>3.0</td>\n",
       "      <td>0.0</td>\n",
       "      <td>0.0</td>\n",
       "      <td>0.0</td>\n",
       "      <td>3.5</td>\n",
       "      <td>0.0</td>\n",
       "      <td>0.0</td>\n",
       "      <td>5.0</td>\n",
       "      <td>0.0</td>\n",
       "    </tr>\n",
       "    <tr>\n",
       "      <th>2.0</th>\n",
       "      <td>4.0</td>\n",
       "      <td>0.0</td>\n",
       "      <td>0.0</td>\n",
       "      <td>0.0</td>\n",
       "      <td>0.0</td>\n",
       "      <td>4.0</td>\n",
       "      <td>0.0</td>\n",
       "      <td>0.0</td>\n",
       "      <td>0.0</td>\n",
       "      <td>0.0</td>\n",
       "      <td>...</td>\n",
       "      <td>0.0</td>\n",
       "      <td>3.5</td>\n",
       "      <td>0.0</td>\n",
       "      <td>0.0</td>\n",
       "      <td>0.0</td>\n",
       "      <td>0.0</td>\n",
       "      <td>0.0</td>\n",
       "      <td>0.0</td>\n",
       "      <td>4.0</td>\n",
       "      <td>0.0</td>\n",
       "    </tr>\n",
       "    <tr>\n",
       "      <th>3.0</th>\n",
       "      <td>0.0</td>\n",
       "      <td>0.0</td>\n",
       "      <td>0.0</td>\n",
       "      <td>3.0</td>\n",
       "      <td>0.0</td>\n",
       "      <td>0.0</td>\n",
       "      <td>0.0</td>\n",
       "      <td>0.0</td>\n",
       "      <td>0.0</td>\n",
       "      <td>4.0</td>\n",
       "      <td>...</td>\n",
       "      <td>0.0</td>\n",
       "      <td>0.0</td>\n",
       "      <td>0.0</td>\n",
       "      <td>0.0</td>\n",
       "      <td>0.0</td>\n",
       "      <td>0.0</td>\n",
       "      <td>0.0</td>\n",
       "      <td>0.0</td>\n",
       "      <td>0.0</td>\n",
       "      <td>0.0</td>\n",
       "    </tr>\n",
       "    <tr>\n",
       "      <th>4.0</th>\n",
       "      <td>0.0</td>\n",
       "      <td>0.0</td>\n",
       "      <td>0.0</td>\n",
       "      <td>0.0</td>\n",
       "      <td>0.0</td>\n",
       "      <td>0.0</td>\n",
       "      <td>0.0</td>\n",
       "      <td>0.0</td>\n",
       "      <td>0.0</td>\n",
       "      <td>0.0</td>\n",
       "      <td>...</td>\n",
       "      <td>0.0</td>\n",
       "      <td>0.0</td>\n",
       "      <td>0.0</td>\n",
       "      <td>0.0</td>\n",
       "      <td>0.0</td>\n",
       "      <td>0.0</td>\n",
       "      <td>0.0</td>\n",
       "      <td>1.0</td>\n",
       "      <td>0.0</td>\n",
       "      <td>0.0</td>\n",
       "    </tr>\n",
       "    <tr>\n",
       "      <th>5.0</th>\n",
       "      <td>2.0</td>\n",
       "      <td>0.0</td>\n",
       "      <td>0.0</td>\n",
       "      <td>3.0</td>\n",
       "      <td>0.0</td>\n",
       "      <td>0.0</td>\n",
       "      <td>0.0</td>\n",
       "      <td>0.0</td>\n",
       "      <td>0.0</td>\n",
       "      <td>0.0</td>\n",
       "      <td>...</td>\n",
       "      <td>0.0</td>\n",
       "      <td>1.5</td>\n",
       "      <td>0.0</td>\n",
       "      <td>0.0</td>\n",
       "      <td>0.0</td>\n",
       "      <td>0.0</td>\n",
       "      <td>0.0</td>\n",
       "      <td>0.0</td>\n",
       "      <td>0.0</td>\n",
       "      <td>0.0</td>\n",
       "    </tr>\n",
       "  </tbody>\n",
       "</table>\n",
       "<p>5 rows × 4771 columns</p>\n",
       "</div>"
      ],
      "text/plain": [
       "userId   4      5      6      8      10     14     15     16     18     19     \\\n",
       "movieId                                                                         \n",
       "1.0        4.0    0.0    0.0    0.0    5.0    4.5    4.0    0.0    0.0    0.0   \n",
       "2.0        4.0    0.0    0.0    0.0    0.0    4.0    0.0    0.0    0.0    0.0   \n",
       "3.0        0.0    0.0    0.0    3.0    0.0    0.0    0.0    0.0    0.0    4.0   \n",
       "4.0        0.0    0.0    0.0    0.0    0.0    0.0    0.0    0.0    0.0    0.0   \n",
       "5.0        2.0    0.0    0.0    3.0    0.0    0.0    0.0    0.0    0.0    0.0   \n",
       "\n",
       "userId   ...  10517  10518  10519  10524  10526  10527  10529  10530  10531  \\\n",
       "movieId  ...                                                                  \n",
       "1.0      ...    0.0    3.0    0.0    0.0    0.0    3.5    0.0    0.0    5.0   \n",
       "2.0      ...    0.0    3.5    0.0    0.0    0.0    0.0    0.0    0.0    4.0   \n",
       "3.0      ...    0.0    0.0    0.0    0.0    0.0    0.0    0.0    0.0    0.0   \n",
       "4.0      ...    0.0    0.0    0.0    0.0    0.0    0.0    0.0    1.0    0.0   \n",
       "5.0      ...    0.0    1.5    0.0    0.0    0.0    0.0    0.0    0.0    0.0   \n",
       "\n",
       "userId   10532  \n",
       "movieId         \n",
       "1.0        0.0  \n",
       "2.0        0.0  \n",
       "3.0        0.0  \n",
       "4.0        0.0  \n",
       "5.0        0.0  \n",
       "\n",
       "[5 rows x 4771 columns]"
      ]
     },
     "execution_count": 17,
     "metadata": {},
     "output_type": "execute_result"
    }
   ],
   "source": [
    "#final_ratings is a dataframe with the ratings of the movies that are popular and the users that are active\n",
    "#item_user_mat is a matrix with the movies as rows and the users as columns. The values are the ratings.\n",
    "#If there is no rating, the value is 0.\n",
    "final_ratings = ratings_with_popular_movies_with_active_user\n",
    "item_user_mat = final_ratings.pivot(index = 'movieId', columns = 'userId', values = 'rating').fillna(0)\n",
    "item_user_mat.head()"
   ]
  },
  {
   "cell_type": "code",
   "execution_count": 18,
   "metadata": {
    "colab": {
     "base_uri": "https://localhost:8080/"
    },
    "id": "u_Ns7xsLEOSh",
    "outputId": "d1e34507-c93f-432f-a9f2-30650501519a"
   },
   "outputs": [],
   "source": [
    "#Creates a dictionary called movie_to_index, with the movie titles as keys and the numerical index as values. \n",
    "#It does this by enumerating the movie titles from the list of movies and setting the index to the movieId values from the item_user_mat.\n",
    "movie_to_index = {\n",
    "    movie:i for i, movie in enumerate(list(movies.set_index('movieId').loc[item_user_mat.index].title))\n",
    "}"
   ]
  },
  {
   "cell_type": "code",
   "execution_count": 19,
   "metadata": {
    "id": "PnP0ohYAEPah"
   },
   "outputs": [],
   "source": [
    "#Creates a sparse matrix from the item_user_mat matrix. \n",
    "#A sparse matrix is a data structure that only stores the nonzero elements of a matrix, thus saving memory. \n",
    "#The csr_matrix() function is used to create a Compressed Sparse Row matrix from the values of the item_user_mat matrix.\n",
    "item_user_mat_sparse = csr_matrix(item_user_mat.values)"
   ]
  },
  {
   "cell_type": "markdown",
   "metadata": {
    "id": "62ph1UU8ERzo"
   },
   "source": [
    "When a movie name is given as input we need to find that movie in our dataset. If it is not present then we can not recommend anything. \n"
   ]
  },
  {
   "cell_type": "code",
   "execution_count": 20,
   "metadata": {
    "id": "xkh9jzWFEXCj"
   },
   "outputs": [],
   "source": [
    "#\"find\" function will find the closest matching string from a given set of strings. \n",
    "#The input_str is a string the user is searching for, and mapper is a set of strings. \n",
    "#The code searches through the set of strings and uses fuzz.ratio to compare the input_str to the strings in mapper. \n",
    "#If the ratio is greater than or equal to 50, it is added to the match_movie list. \n",
    "#The list is then sorted by the ratio in decreasing order and the index of the highest ratio is returned. \n",
    "#If no match is found, -1 is returned.\n",
    "\n",
    "def find(input_str, mapper):\n",
    "    #match_movie is list of tuples, which have 3 values (movie_name, index, fuzz_ratio)\n",
    "    match_movie = []\n",
    "    for movie, ind in mapper.items():\n",
    "        current_ratio = fuzz.ratio(movie.lower(), input_str.lower())\n",
    "        if (current_ratio >= 50):\n",
    "            match_movie.append((movie,ind,current_ratio))\n",
    "     \n",
    "    # Sort the list, match_movie, in order of fuzz_ratio\n",
    "    match_movie = sorted(match_movie, key = lambda x:x[2])[::-1]\n",
    "    \n",
    "    if len(match_movie) == 0:\n",
    "        print(\"Movie string not found in dataset \\n\")\n",
    "        return -1\n",
    "    return match_movie[0][1]    "
   ]
  },
  {
   "cell_type": "code",
   "execution_count": 21,
   "metadata": {
    "id": "bBteTxNcEb5d"
   },
   "outputs": [],
   "source": [
    "#Define the model\n",
    "#The metric used is 'cosine', which is a measure of similarity between two vectors. \n",
    "#The algorithm used is 'brute', which is a brute force algorithm for computing the nearest neighbors of a given point. \n",
    "#The n_neighbors parameter specifies the number of nearest neighbors to return. \n",
    "#The n_jobs parameter specifies the number of CPU cores to use for computing the model, in this case it is set to -1 which indicates that all available cores should be used.\n",
    "recommendation_model = NearestNeighbors(metric = 'cosine', algorithm = 'brute', n_neighbors = 20, n_jobs = -1)"
   ]
  },
  {
   "cell_type": "code",
   "execution_count": 22,
   "metadata": {
    "id": "ohUfmZslEgWL"
   },
   "outputs": [],
   "source": [
    "# Create a function which takes a movie name and make recommedation for it\n",
    "def recommend(input_str, data, model, mapper, n_recommendation):\n",
    "    model.fit(data)\n",
    "    \n",
    "    # The mapper is a dictionary that maps each movie to its index in the dataset.\n",
    "    index = find(input_str, mapper)\n",
    "    \n",
    "    if index == -1 :\n",
    "        print(\"Movie string not found in dataset \\n\")\n",
    "        return \n",
    "    if n_recommendation == 0:\n",
    "      print(\"You can not enter 0 as a valid number of returned recomendations.\")\n",
    "      return\n",
    "\n",
    "    index_list = model.kneighbors(data[index], n_neighbors = n_recommendation + 1, return_distance = False)\n",
    "    # Create mapper index to title  \n",
    "    index_to_movie = {\n",
    "        ind:movie for movie,ind in mapper.items()\n",
    "    }\n",
    "    results = []\n",
    "    print(\"A viewer who watches\",input_str,\"should also watch the following movies: \")\n",
    "    for i in range(1,index_list.shape[1]):\n",
    "        print(index_to_movie[index_list[0][i]])\n",
    "        results.append(index_to_movie[index_list[0][i]])\n",
    "    \n",
    "    return index_to_movie[index], results"
   ]
  },
  {
   "cell_type": "code",
   "execution_count": 23,
   "metadata": {
    "colab": {
     "base_uri": "https://localhost:8080/"
    },
    "id": "CCwzUgfCEjvL",
    "outputId": "df971b19-3959-435f-fcf9-d4ecb470351b"
   },
   "outputs": [
    {
     "name": "stdout",
     "output_type": "stream",
     "text": [
      "Movie Name: toy story\n",
      "# of Recommendations: 5\n",
      "A viewer who watches toy story should also watch the following movies: \n",
      "Star Wars: Episode IV - A New Hope (1977)\n",
      "Toy Story 2 (1999)\n",
      "Forrest Gump (1994)\n",
      "Independence Day (a.k.a. ID4) (1996)\n",
      "Star Wars: Episode VI - Return of the Jedi (1983)\n"
     ]
    }
   ],
   "source": [
    "#Precond: m is a string of a movie name \n",
    "#Precond: n is a string of a valid integer \n",
    "\n",
    "m = input(\"Movie Name: \")\n",
    "n = input(\"# of Recommendations: \")\n",
    "\n",
    "#Check to ensure that input values are correct types\n",
    "assert isinstance(n, str)\n",
    "assert n.isdigit(), f\"{n} is not a valid integer\"\n",
    "\n",
    "test_movie, rec_movie = recommend(m, item_user_mat_sparse, recommendation_model, movie_to_index, int(n))"
   ]
  },
  {
   "cell_type": "code",
   "execution_count": 24,
   "metadata": {
    "colab": {
     "base_uri": "https://localhost:8080/"
    },
    "id": "4YEHnEXT9zs7",
    "outputId": "62c88183-dd8a-461c-846a-703e7c441405"
   },
   "outputs": [
    {
     "name": "stdout",
     "output_type": "stream",
     "text": [
      "Model's mean squared error: 41.85418063749996\n",
      "Model's accuracy: 0.8144761496564717\n"
     ]
    }
   ],
   "source": [
    "# Accuracy Score\n",
    "scores = pd.read_csv('genome-scores.csv')\n",
    "tags = pd.read_csv('genome-tags.csv')\n",
    "\n",
    "rec_movie_id = []\n",
    "\n",
    "relevance = []\n",
    "\n",
    "test_movie_id = movies.loc[movies['title'] == test_movie, 'movieId'].iloc[0]\n",
    "rec_movie_id = movies.loc[movies['title'].isin(rec_movie), 'movieId'].values\n",
    "\n",
    "test_relevance = scores[scores['movieId'] == test_movie_id]['relevance'].values\n",
    "for x in range(len(rec_movie_id)):\n",
    "    relevance.append(scores[scores['movieId'] == rec_movie_id[x]]['relevance'].values)\n",
    "\n",
    "# Modelling error: number of movie recommendations limited to be a baseline of 5 for model accuracy.\n",
    "test_error = 0\n",
    "for x in range(5):\n",
    "    for y in range(len(test_relevance)):\n",
    "        test_error += (relevance[x][y]-test_relevance[y])**2\n",
    "\n",
    "print(\"Model's mean squared error:\", test_error / len(rec_movie_id))\n",
    "print(\"Model's accuracy:\", (len(test_relevance) - test_error) / len(test_relevance))"
   ]
  },
  {
   "cell_type": "markdown",
   "metadata": {
    "id": "00aa8N-VJAJs"
   },
   "source": [
    "Observations (for the slides): \n",
    "*   Model recommends movies which are close in release years\n",
    "*   If you calculate the cosine distance between the input movie and the recommended movie, this distance is very small due a large number of cells in our movie_user_mat dataframe being filled with 0. \n",
    "*   We have almost 92% sparsity in our final item_user_mat.\n",
    "*   Since we have removed unpopular movies from our dataset, some movies will never be recommended to users\n",
    "*   Popularity bias: This model only recommends movies which are tagged as \"popluar\" movies. Movies towards the \"tail\" of the curve (graphs above) are not recommended"
   ]
  },
  {
   "cell_type": "markdown",
   "metadata": {},
   "source": [
    "## Neural Network Model"
   ]
  },
  {
   "cell_type": "code",
   "execution_count": 25,
   "metadata": {},
   "outputs": [],
   "source": [
    "#Import Torch Neural Network \n",
    "import torch\n",
    "import torch.nn as nn\n",
    "import torch.optim as optim\n",
    "import torch.nn.functional as F\n",
    "import torchvision as tv"
   ]
  },
  {
   "cell_type": "markdown",
   "metadata": {},
   "source": [
    "#### Data Processing"
   ]
  },
  {
   "cell_type": "code",
   "execution_count": 26,
   "metadata": {},
   "outputs": [],
   "source": [
    "dataset = item_user_mat_sparse\n",
    "unique_users = ratings.userId.unique()\n",
    "unique_movies = ratings.movieId.unique()\n",
    "n_user_ratings = dataset.shape[0]"
   ]
  },
  {
   "cell_type": "code",
   "execution_count": 45,
   "metadata": {
    "scrolled": false
   },
   "outputs": [
    {
     "name": "stderr",
     "output_type": "stream",
     "text": [
      "/tmp/ipykernel_2141/3568533179.py:20: VisibleDeprecationWarning: Creating an ndarray from ragged nested sequences (which is a list-or-tuple of lists-or-tuples-or ndarrays with different lengths or shapes) is deprecated. If you meant to do this, you must specify 'dtype=object' when creating the ndarray.\n",
      "  data = np.array([popular_movies_id, movie_average_ratings, movie_relevance])\n"
     ]
    },
    {
     "data": {
      "text/html": [
       "<div>\n",
       "<style scoped>\n",
       "    .dataframe tbody tr th:only-of-type {\n",
       "        vertical-align: middle;\n",
       "    }\n",
       "\n",
       "    .dataframe tbody tr th {\n",
       "        vertical-align: top;\n",
       "    }\n",
       "\n",
       "    .dataframe thead th {\n",
       "        text-align: right;\n",
       "    }\n",
       "</style>\n",
       "<table border=\"1\" class=\"dataframe\">\n",
       "  <thead>\n",
       "    <tr style=\"text-align: right;\">\n",
       "      <th></th>\n",
       "      <th>movieId</th>\n",
       "      <th>ratings</th>\n",
       "      <th>relevance</th>\n",
       "    </tr>\n",
       "  </thead>\n",
       "  <tbody>\n",
       "    <tr>\n",
       "      <th>0</th>\n",
       "      <td>1.0</td>\n",
       "      <td>3.883341</td>\n",
       "      <td>[0.029, 0.0237499999999999, 0.05425, 0.0687499...</td>\n",
       "    </tr>\n",
       "    <tr>\n",
       "      <th>1</th>\n",
       "      <td>2.0</td>\n",
       "      <td>3.211042</td>\n",
       "      <td>[0.03625, 0.03625, 0.0827499999999999, 0.08174...</td>\n",
       "    </tr>\n",
       "    <tr>\n",
       "      <th>2</th>\n",
       "      <td>3.0</td>\n",
       "      <td>3.16358</td>\n",
       "      <td>[0.0414999999999999, 0.0494999999999999, 0.03,...</td>\n",
       "    </tr>\n",
       "    <tr>\n",
       "      <th>3</th>\n",
       "      <td>4.0</td>\n",
       "      <td>2.979675</td>\n",
       "      <td>[0.0334999999999999, 0.03675, 0.04275, 0.02624...</td>\n",
       "    </tr>\n",
       "    <tr>\n",
       "      <th>4</th>\n",
       "      <td>5.0</td>\n",
       "      <td>3.034483</td>\n",
       "      <td>[0.0404999999999999, 0.05175, 0.03599999999999...</td>\n",
       "    </tr>\n",
       "  </tbody>\n",
       "</table>\n",
       "</div>"
      ],
      "text/plain": [
       "  movieId   ratings                                          relevance\n",
       "0     1.0  3.883341  [0.029, 0.0237499999999999, 0.05425, 0.0687499...\n",
       "1     2.0  3.211042  [0.03625, 0.03625, 0.0827499999999999, 0.08174...\n",
       "2     3.0   3.16358  [0.0414999999999999, 0.0494999999999999, 0.03,...\n",
       "3     4.0  2.979675  [0.0334999999999999, 0.03675, 0.04275, 0.02624...\n",
       "4     5.0  3.034483  [0.0404999999999999, 0.05175, 0.03599999999999..."
      ]
     },
     "execution_count": 45,
     "metadata": {},
     "output_type": "execute_result"
    }
   ],
   "source": [
    "item_user_mat_np_array = np.array(item_user_mat_sparse.toarray())\n",
    "nonzero_data = []\n",
    "for x in range(len(item_user_mat_np_array)):\n",
    "    nonzero_data.append(item_user_mat_np_array[x][item_user_mat_np_array[x] != 0])\n",
    "    \n",
    "movie_average_ratings = []\n",
    "\n",
    "for m in range(len(nonzero_data)):\n",
    "    movie_average_ratings.append(nonzero_data[m].mean())\n",
    "\n",
    "movie_id = movies['movieId']\n",
    "\n",
    "movie_relevance = []\n",
    "\n",
    "popular_scores = scores[scores['movieId'].isin(popular_movies_id)]\n",
    "movie_relevance = np.array([g for _, g in popular_scores.groupby('movieId')])\n",
    "movie_relevance = movie_relevance[:, :, 2]\n",
    "\n",
    "movie_relevance = movie_relevance.tolist()\n",
    "data = np.array([popular_movies_id, movie_average_ratings, movie_relevance])\n",
    "data = pd.DataFrame({'movieId': data[0], 'ratings': data[1], 'relevance': data[2]})\n",
    "\n",
    "data.head()"
   ]
  },
  {
   "cell_type": "markdown",
   "metadata": {},
   "source": [
    "#### Neural Network"
   ]
  },
  {
   "cell_type": "code",
   "execution_count": null,
   "metadata": {},
   "outputs": [],
   "source": [
    "class RecNet(nn.Module):\n",
    "    def __init__(self, n_user_ratings, hidden1_size, n_movies): #n_movies = output classes   \n",
    "        super().__init__()\n",
    "        self.fc1 = nn.Linear(n_user_ratings, hidden1_size)\n",
    "        self.relu1 = nn.ReLU()\n",
    "        self.fc2 = nn.Linear(hidden1_size, n_movies) #output layer\n",
    "        \n",
    "    def forward(self, x):\n",
    "        out = self.fc1(x)\n",
    "        out = self.relu1(out)\n",
    "        out = self.fc2(out)\n",
    "        return out"
   ]
  },
  {
   "cell_type": "code",
   "execution_count": null,
   "metadata": {},
   "outputs": [],
   "source": [
    "#Creating model\n",
    "model = RecNet(n_user_ratings, 1000, 2381)"
   ]
  },
  {
   "cell_type": "code",
   "execution_count": 44,
   "metadata": {},
   "outputs": [],
   "source": [
    "#Train\n",
    "def train(dataset, model, loss_fn, optimizer, epochs):\n",
    "    for _ in range(epochs):\n",
    "        model.train()\n",
    "        for data, target in dataset:\n",
    "            output = model(data)\n",
    "            loss = loss_fn(output, target) # compute losses to be used in backprop\n",
    "            optimizer.zero_grad()\n",
    "            loss.backward() # compute gradients wrt weights (backprop)\n",
    "            optimizer.step() # update model weights according to optimizer selected"
   ]
  },
  {
   "cell_type": "code",
   "execution_count": null,
   "metadata": {},
   "outputs": [],
   "source": [
    "loss_fn = nn.CrossEntropyLoss()\n",
    "optimizer = optim.SGD(model.parameters(), lr=0.1)\n",
    "epochs = 3\n",
    "train(dataset, model, loss_fn, optimizer, epochs)"
   ]
  },
  {
   "cell_type": "code",
   "execution_count": null,
   "metadata": {},
   "outputs": [],
   "source": []
  }
 ],
 "metadata": {
  "accelerator": "GPU",
  "colab": {
   "provenance": []
  },
  "gpuClass": "standard",
  "kernelspec": {
   "display_name": "Python 3 (ipykernel)",
   "language": "python",
   "name": "python3"
  },
  "language_info": {
   "codemirror_mode": {
    "name": "ipython",
    "version": 3
   },
   "file_extension": ".py",
   "mimetype": "text/x-python",
   "name": "python",
   "nbconvert_exporter": "python",
   "pygments_lexer": "ipython3",
   "version": "3.8.10"
  }
 },
 "nbformat": 4,
 "nbformat_minor": 1
}
