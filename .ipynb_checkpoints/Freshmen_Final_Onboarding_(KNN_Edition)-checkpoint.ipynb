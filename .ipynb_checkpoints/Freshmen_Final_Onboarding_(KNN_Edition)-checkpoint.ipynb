{
 "cells": [
  {
   "cell_type": "code",
   "execution_count": 1,
   "metadata": {
    "colab": {
     "base_uri": "https://localhost:8080/"
    },
    "id": "llp8TOjYRfnD",
    "outputId": "309579ec-a268-47bc-a9e4-6fc807a933c8"
   },
   "outputs": [
    {
     "name": "stdout",
     "output_type": "stream",
     "text": [
      "Collecting fuzzywuzzy\n",
      "  Downloading fuzzywuzzy-0.18.0-py2.py3-none-any.whl (18 kB)\n",
      "Installing collected packages: fuzzywuzzy\n",
      "Successfully installed fuzzywuzzy-0.18.0\n",
      "Note: you may need to restart the kernel to use updated packages.\n"
     ]
    }
   ],
   "source": [
    "pip install fuzzywuzzy"
   ]
  },
  {
   "cell_type": "code",
   "execution_count": 13,
   "metadata": {
    "colab": {
     "base_uri": "https://localhost:8080/"
    },
    "id": "_jeC8Ts8eZl8",
    "outputId": "a2061a9d-9ddf-4436-9c57-3cbd1c940b78"
   },
   "outputs": [
    {
     "ename": "ModuleNotFoundError",
     "evalue": "No module named 'torch'",
     "output_type": "error",
     "traceback": [
      "\u001b[1;31m---------------------------------------------------------------------------\u001b[0m",
      "\u001b[1;31mModuleNotFoundError\u001b[0m                       Traceback (most recent call last)",
      "Input \u001b[1;32mIn [13]\u001b[0m, in \u001b[0;36m<cell line: 2>\u001b[1;34m()\u001b[0m\n\u001b[0;32m      1\u001b[0m \u001b[38;5;66;03m#Import Torch Neural Network \u001b[39;00m\n\u001b[1;32m----> 2\u001b[0m \u001b[38;5;28;01mimport\u001b[39;00m \u001b[38;5;21;01mtorch\u001b[39;00m\n\u001b[0;32m      3\u001b[0m \u001b[38;5;28;01mimport\u001b[39;00m \u001b[38;5;21;01mtorch\u001b[39;00m\u001b[38;5;21;01m.\u001b[39;00m\u001b[38;5;21;01mnn\u001b[39;00m \u001b[38;5;28;01mas\u001b[39;00m \u001b[38;5;21;01mnn\u001b[39;00m\n\u001b[0;32m      4\u001b[0m \u001b[38;5;28;01mimport\u001b[39;00m \u001b[38;5;21;01mtorch\u001b[39;00m\u001b[38;5;21;01m.\u001b[39;00m\u001b[38;5;21;01moptim\u001b[39;00m \u001b[38;5;28;01mas\u001b[39;00m \u001b[38;5;21;01moptim\u001b[39;00m\n",
      "\u001b[1;31mModuleNotFoundError\u001b[0m: No module named 'torch'"
     ]
    }
   ],
   "source": [
    "#Import Torch Neural Network \n",
    "import torch\n",
    "import torch.nn as nn\n",
    "import torch.optim as optim\n",
    "import torch.nn.functional as F\n",
    "import torchvision as tv\n",
    "\n",
    "#Import sklearn (KNN)\n",
    "from sklearn.neighbors import NearestNeighbors\n",
    "\n",
    "#Import FuzzyWuzzy\n",
    "from fuzzywuzzy import fuzz\n",
    "\n",
    "#Import data visualization & matrix\n",
    "from scipy.sparse import csr_matrix\n",
    "import matplotlib.pyplot as plt\n",
    "import seaborn as sns\n",
    "\n",
    "#Import basic tools\n",
    "import numpy as np\n",
    "import pandas as pd"
   ]
  },
  {
   "cell_type": "code",
   "execution_count": 4,
   "metadata": {
    "colab": {
     "base_uri": "https://localhost:8080/"
    },
    "id": "wBZJuUuFLwTy",
    "outputId": "91c4ddac-33aa-4cf2-a589-237da8859885"
   },
   "outputs": [
    {
     "name": "stdout",
     "output_type": "stream",
     "text": [
      "Looking in indexes: https://pypi.org/simple, https://us-python.pkg.dev/colab-wheels/public/simple/\n",
      "Requirement already satisfied: fuzzywuzzy in /usr/local/lib/python3.8/dist-packages (0.18.0)\n"
     ]
    }
   ],
   "source": [
    "pip install fuzzywuzzy"
   ]
  },
  {
   "cell_type": "code",
   "execution_count": 5,
   "metadata": {
    "id": "0APz4O3Jw7Gi"
   },
   "outputs": [],
   "source": [
    "#Import movies and ratings .csv files\n",
    "ratings = pd.read_csv('ratings.csv')\n",
    "movies = pd.read_csv('movies.csv')"
   ]
  },
  {
   "cell_type": "code",
   "execution_count": 6,
   "metadata": {
    "colab": {
     "base_uri": "https://localhost:8080/",
     "height": 206
    },
    "id": "eVG9etkTlt0q",
    "outputId": "32d8ba6c-a3c1-4f88-a9b0-cfedcdcacb32"
   },
   "outputs": [
    {
     "data": {
      "text/html": [
       "\n",
       "  <div id=\"df-192d132e-4ee7-4bdc-99b4-db29d5e4f104\">\n",
       "    <div class=\"colab-df-container\">\n",
       "      <div>\n",
       "<style scoped>\n",
       "    .dataframe tbody tr th:only-of-type {\n",
       "        vertical-align: middle;\n",
       "    }\n",
       "\n",
       "    .dataframe tbody tr th {\n",
       "        vertical-align: top;\n",
       "    }\n",
       "\n",
       "    .dataframe thead th {\n",
       "        text-align: right;\n",
       "    }\n",
       "</style>\n",
       "<table border=\"1\" class=\"dataframe\">\n",
       "  <thead>\n",
       "    <tr style=\"text-align: right;\">\n",
       "      <th></th>\n",
       "      <th>movieId</th>\n",
       "      <th>title</th>\n",
       "      <th>genres</th>\n",
       "    </tr>\n",
       "  </thead>\n",
       "  <tbody>\n",
       "    <tr>\n",
       "      <th>0</th>\n",
       "      <td>1</td>\n",
       "      <td>Toy Story (1995)</td>\n",
       "      <td>Adventure|Animation|Children|Comedy|Fantasy</td>\n",
       "    </tr>\n",
       "    <tr>\n",
       "      <th>1</th>\n",
       "      <td>2</td>\n",
       "      <td>Jumanji (1995)</td>\n",
       "      <td>Adventure|Children|Fantasy</td>\n",
       "    </tr>\n",
       "    <tr>\n",
       "      <th>2</th>\n",
       "      <td>3</td>\n",
       "      <td>Grumpier Old Men (1995)</td>\n",
       "      <td>Comedy|Romance</td>\n",
       "    </tr>\n",
       "    <tr>\n",
       "      <th>3</th>\n",
       "      <td>4</td>\n",
       "      <td>Waiting to Exhale (1995)</td>\n",
       "      <td>Comedy|Drama|Romance</td>\n",
       "    </tr>\n",
       "    <tr>\n",
       "      <th>4</th>\n",
       "      <td>5</td>\n",
       "      <td>Father of the Bride Part II (1995)</td>\n",
       "      <td>Comedy</td>\n",
       "    </tr>\n",
       "  </tbody>\n",
       "</table>\n",
       "</div>\n",
       "      <button class=\"colab-df-convert\" onclick=\"convertToInteractive('df-192d132e-4ee7-4bdc-99b4-db29d5e4f104')\"\n",
       "              title=\"Convert this dataframe to an interactive table.\"\n",
       "              style=\"display:none;\">\n",
       "        \n",
       "  <svg xmlns=\"http://www.w3.org/2000/svg\" height=\"24px\"viewBox=\"0 0 24 24\"\n",
       "       width=\"24px\">\n",
       "    <path d=\"M0 0h24v24H0V0z\" fill=\"none\"/>\n",
       "    <path d=\"M18.56 5.44l.94 2.06.94-2.06 2.06-.94-2.06-.94-.94-2.06-.94 2.06-2.06.94zm-11 1L8.5 8.5l.94-2.06 2.06-.94-2.06-.94L8.5 2.5l-.94 2.06-2.06.94zm10 10l.94 2.06.94-2.06 2.06-.94-2.06-.94-.94-2.06-.94 2.06-2.06.94z\"/><path d=\"M17.41 7.96l-1.37-1.37c-.4-.4-.92-.59-1.43-.59-.52 0-1.04.2-1.43.59L10.3 9.45l-7.72 7.72c-.78.78-.78 2.05 0 2.83L4 21.41c.39.39.9.59 1.41.59.51 0 1.02-.2 1.41-.59l7.78-7.78 2.81-2.81c.8-.78.8-2.07 0-2.86zM5.41 20L4 18.59l7.72-7.72 1.47 1.35L5.41 20z\"/>\n",
       "  </svg>\n",
       "      </button>\n",
       "      \n",
       "  <style>\n",
       "    .colab-df-container {\n",
       "      display:flex;\n",
       "      flex-wrap:wrap;\n",
       "      gap: 12px;\n",
       "    }\n",
       "\n",
       "    .colab-df-convert {\n",
       "      background-color: #E8F0FE;\n",
       "      border: none;\n",
       "      border-radius: 50%;\n",
       "      cursor: pointer;\n",
       "      display: none;\n",
       "      fill: #1967D2;\n",
       "      height: 32px;\n",
       "      padding: 0 0 0 0;\n",
       "      width: 32px;\n",
       "    }\n",
       "\n",
       "    .colab-df-convert:hover {\n",
       "      background-color: #E2EBFA;\n",
       "      box-shadow: 0px 1px 2px rgba(60, 64, 67, 0.3), 0px 1px 3px 1px rgba(60, 64, 67, 0.15);\n",
       "      fill: #174EA6;\n",
       "    }\n",
       "\n",
       "    [theme=dark] .colab-df-convert {\n",
       "      background-color: #3B4455;\n",
       "      fill: #D2E3FC;\n",
       "    }\n",
       "\n",
       "    [theme=dark] .colab-df-convert:hover {\n",
       "      background-color: #434B5C;\n",
       "      box-shadow: 0px 1px 3px 1px rgba(0, 0, 0, 0.15);\n",
       "      filter: drop-shadow(0px 1px 2px rgba(0, 0, 0, 0.3));\n",
       "      fill: #FFFFFF;\n",
       "    }\n",
       "  </style>\n",
       "\n",
       "      <script>\n",
       "        const buttonEl =\n",
       "          document.querySelector('#df-192d132e-4ee7-4bdc-99b4-db29d5e4f104 button.colab-df-convert');\n",
       "        buttonEl.style.display =\n",
       "          google.colab.kernel.accessAllowed ? 'block' : 'none';\n",
       "\n",
       "        async function convertToInteractive(key) {\n",
       "          const element = document.querySelector('#df-192d132e-4ee7-4bdc-99b4-db29d5e4f104');\n",
       "          const dataTable =\n",
       "            await google.colab.kernel.invokeFunction('convertToInteractive',\n",
       "                                                     [key], {});\n",
       "          if (!dataTable) return;\n",
       "\n",
       "          const docLinkHtml = 'Like what you see? Visit the ' +\n",
       "            '<a target=\"_blank\" href=https://colab.research.google.com/notebooks/data_table.ipynb>data table notebook</a>'\n",
       "            + ' to learn more about interactive tables.';\n",
       "          element.innerHTML = '';\n",
       "          dataTable['output_type'] = 'display_data';\n",
       "          await google.colab.output.renderOutput(dataTable, element);\n",
       "          const docLink = document.createElement('div');\n",
       "          docLink.innerHTML = docLinkHtml;\n",
       "          element.appendChild(docLink);\n",
       "        }\n",
       "      </script>\n",
       "    </div>\n",
       "  </div>\n",
       "  "
      ],
      "text/plain": [
       "   movieId                               title  \\\n",
       "0        1                    Toy Story (1995)   \n",
       "1        2                      Jumanji (1995)   \n",
       "2        3             Grumpier Old Men (1995)   \n",
       "3        4            Waiting to Exhale (1995)   \n",
       "4        5  Father of the Bride Part II (1995)   \n",
       "\n",
       "                                        genres  \n",
       "0  Adventure|Animation|Children|Comedy|Fantasy  \n",
       "1                   Adventure|Children|Fantasy  \n",
       "2                               Comedy|Romance  \n",
       "3                         Comedy|Drama|Romance  \n",
       "4                                       Comedy  "
      ]
     },
     "execution_count": 6,
     "metadata": {},
     "output_type": "execute_result"
    }
   ],
   "source": [
    "movies.head()"
   ]
  },
  {
   "cell_type": "code",
   "execution_count": 7,
   "metadata": {
    "colab": {
     "base_uri": "https://localhost:8080/",
     "height": 206
    },
    "id": "Pfo6_3l-_Wqb",
    "outputId": "a8bf8931-90eb-4a00-ec46-1d63671bf625"
   },
   "outputs": [
    {
     "data": {
      "text/html": [
       "\n",
       "  <div id=\"df-84f5683c-843e-44f5-9ec6-c9ef17ca83e3\">\n",
       "    <div class=\"colab-df-container\">\n",
       "      <div>\n",
       "<style scoped>\n",
       "    .dataframe tbody tr th:only-of-type {\n",
       "        vertical-align: middle;\n",
       "    }\n",
       "\n",
       "    .dataframe tbody tr th {\n",
       "        vertical-align: top;\n",
       "    }\n",
       "\n",
       "    .dataframe thead th {\n",
       "        text-align: right;\n",
       "    }\n",
       "</style>\n",
       "<table border=\"1\" class=\"dataframe\">\n",
       "  <thead>\n",
       "    <tr style=\"text-align: right;\">\n",
       "      <th></th>\n",
       "      <th>userId</th>\n",
       "      <th>movieId</th>\n",
       "      <th>rating</th>\n",
       "      <th>timestamp</th>\n",
       "    </tr>\n",
       "  </thead>\n",
       "  <tbody>\n",
       "    <tr>\n",
       "      <th>0</th>\n",
       "      <td>1</td>\n",
       "      <td>307</td>\n",
       "      <td>3.5</td>\n",
       "      <td>1256677221</td>\n",
       "    </tr>\n",
       "    <tr>\n",
       "      <th>1</th>\n",
       "      <td>1</td>\n",
       "      <td>481</td>\n",
       "      <td>3.5</td>\n",
       "      <td>1256677456</td>\n",
       "    </tr>\n",
       "    <tr>\n",
       "      <th>2</th>\n",
       "      <td>1</td>\n",
       "      <td>1091</td>\n",
       "      <td>1.5</td>\n",
       "      <td>1256677471</td>\n",
       "    </tr>\n",
       "    <tr>\n",
       "      <th>3</th>\n",
       "      <td>1</td>\n",
       "      <td>1257</td>\n",
       "      <td>4.5</td>\n",
       "      <td>1256677460</td>\n",
       "    </tr>\n",
       "    <tr>\n",
       "      <th>4</th>\n",
       "      <td>1</td>\n",
       "      <td>1449</td>\n",
       "      <td>4.5</td>\n",
       "      <td>1256677264</td>\n",
       "    </tr>\n",
       "  </tbody>\n",
       "</table>\n",
       "</div>\n",
       "      <button class=\"colab-df-convert\" onclick=\"convertToInteractive('df-84f5683c-843e-44f5-9ec6-c9ef17ca83e3')\"\n",
       "              title=\"Convert this dataframe to an interactive table.\"\n",
       "              style=\"display:none;\">\n",
       "        \n",
       "  <svg xmlns=\"http://www.w3.org/2000/svg\" height=\"24px\"viewBox=\"0 0 24 24\"\n",
       "       width=\"24px\">\n",
       "    <path d=\"M0 0h24v24H0V0z\" fill=\"none\"/>\n",
       "    <path d=\"M18.56 5.44l.94 2.06.94-2.06 2.06-.94-2.06-.94-.94-2.06-.94 2.06-2.06.94zm-11 1L8.5 8.5l.94-2.06 2.06-.94-2.06-.94L8.5 2.5l-.94 2.06-2.06.94zm10 10l.94 2.06.94-2.06 2.06-.94-2.06-.94-.94-2.06-.94 2.06-2.06.94z\"/><path d=\"M17.41 7.96l-1.37-1.37c-.4-.4-.92-.59-1.43-.59-.52 0-1.04.2-1.43.59L10.3 9.45l-7.72 7.72c-.78.78-.78 2.05 0 2.83L4 21.41c.39.39.9.59 1.41.59.51 0 1.02-.2 1.41-.59l7.78-7.78 2.81-2.81c.8-.78.8-2.07 0-2.86zM5.41 20L4 18.59l7.72-7.72 1.47 1.35L5.41 20z\"/>\n",
       "  </svg>\n",
       "      </button>\n",
       "      \n",
       "  <style>\n",
       "    .colab-df-container {\n",
       "      display:flex;\n",
       "      flex-wrap:wrap;\n",
       "      gap: 12px;\n",
       "    }\n",
       "\n",
       "    .colab-df-convert {\n",
       "      background-color: #E8F0FE;\n",
       "      border: none;\n",
       "      border-radius: 50%;\n",
       "      cursor: pointer;\n",
       "      display: none;\n",
       "      fill: #1967D2;\n",
       "      height: 32px;\n",
       "      padding: 0 0 0 0;\n",
       "      width: 32px;\n",
       "    }\n",
       "\n",
       "    .colab-df-convert:hover {\n",
       "      background-color: #E2EBFA;\n",
       "      box-shadow: 0px 1px 2px rgba(60, 64, 67, 0.3), 0px 1px 3px 1px rgba(60, 64, 67, 0.15);\n",
       "      fill: #174EA6;\n",
       "    }\n",
       "\n",
       "    [theme=dark] .colab-df-convert {\n",
       "      background-color: #3B4455;\n",
       "      fill: #D2E3FC;\n",
       "    }\n",
       "\n",
       "    [theme=dark] .colab-df-convert:hover {\n",
       "      background-color: #434B5C;\n",
       "      box-shadow: 0px 1px 3px 1px rgba(0, 0, 0, 0.15);\n",
       "      filter: drop-shadow(0px 1px 2px rgba(0, 0, 0, 0.3));\n",
       "      fill: #FFFFFF;\n",
       "    }\n",
       "  </style>\n",
       "\n",
       "      <script>\n",
       "        const buttonEl =\n",
       "          document.querySelector('#df-84f5683c-843e-44f5-9ec6-c9ef17ca83e3 button.colab-df-convert');\n",
       "        buttonEl.style.display =\n",
       "          google.colab.kernel.accessAllowed ? 'block' : 'none';\n",
       "\n",
       "        async function convertToInteractive(key) {\n",
       "          const element = document.querySelector('#df-84f5683c-843e-44f5-9ec6-c9ef17ca83e3');\n",
       "          const dataTable =\n",
       "            await google.colab.kernel.invokeFunction('convertToInteractive',\n",
       "                                                     [key], {});\n",
       "          if (!dataTable) return;\n",
       "\n",
       "          const docLinkHtml = 'Like what you see? Visit the ' +\n",
       "            '<a target=\"_blank\" href=https://colab.research.google.com/notebooks/data_table.ipynb>data table notebook</a>'\n",
       "            + ' to learn more about interactive tables.';\n",
       "          element.innerHTML = '';\n",
       "          dataTable['output_type'] = 'display_data';\n",
       "          await google.colab.output.renderOutput(dataTable, element);\n",
       "          const docLink = document.createElement('div');\n",
       "          docLink.innerHTML = docLinkHtml;\n",
       "          element.appendChild(docLink);\n",
       "        }\n",
       "      </script>\n",
       "    </div>\n",
       "  </div>\n",
       "  "
      ],
      "text/plain": [
       "   userId  movieId  rating   timestamp\n",
       "0       1      307     3.5  1256677221\n",
       "1       1      481     3.5  1256677456\n",
       "2       1     1091     1.5  1256677471\n",
       "3       1     1257     4.5  1256677460\n",
       "4       1     1449     4.5  1256677264"
      ]
     },
     "execution_count": 7,
     "metadata": {},
     "output_type": "execute_result"
    }
   ],
   "source": [
    "ratings.head()"
   ]
  },
  {
   "cell_type": "code",
   "execution_count": 8,
   "metadata": {
    "colab": {
     "base_uri": "https://localhost:8080/"
    },
    "id": "O_UvgYc5_YR8",
    "outputId": "1b8d48f7-d947-4e0f-deb3-783f3fd148a3"
   },
   "outputs": [
    {
     "name": "stdout",
     "output_type": "stream",
     "text": [
      "Number of unique users (raters): 9017\n",
      "Number of unique movies: 21452\n"
     ]
    }
   ],
   "source": [
    "#The \"dropna = True\" parameter tells the code to ignore any entries with missing values. \n",
    "#So the code will count the number of unique users and movies in the ratings data, excluding any entries with missing values.\n",
    "unique_user = ratings.userId.nunique(dropna = True)\n",
    "unique_movie = ratings.movieId.nunique(dropna = True)\n",
    "print(f\"Number of unique users (raters): {unique_user}\")\n",
    "print(f\"Number of unique movies: {unique_movie}\")"
   ]
  },
  {
   "cell_type": "code",
   "execution_count": 9,
   "metadata": {
    "colab": {
     "base_uri": "https://localhost:8080/"
    },
    "id": "SjOVvVc2MHR1",
    "outputId": "1fe67099-665b-4306-92e0-a55bdb77d8d6"
   },
   "outputs": [
    {
     "data": {
      "text/plain": [
       "(900257, 4)"
      ]
     },
     "execution_count": 9,
     "metadata": {},
     "output_type": "execute_result"
    }
   ],
   "source": [
    "ratings.shape"
   ]
  },
  {
   "cell_type": "code",
   "execution_count": 10,
   "metadata": {
    "colab": {
     "base_uri": "https://localhost:8080/"
    },
    "id": "ydC6QXJHqBUX",
    "outputId": "83344daa-e1dc-45aa-ffc7-26a21bcc1fe4"
   },
   "outputs": [
    {
     "name": "stdout",
     "output_type": "stream",
     "text": [
      "Ratings not provided: 192532427\n",
      "Sparsity of user-item matrix is: 0.9953458899427772\n"
     ]
    }
   ],
   "source": [
    "# In order to create item user matrixes, we need to check how many ratings exist within our dataframes/and/or how many ratings are absent\n",
    "total_ratings = unique_user * unique_movie\n",
    "rating_present = ratings.shape[0]\n",
    "\n",
    "ratings_not_provided = total_ratings - rating_present \n",
    "\n",
    "#Implies some users have not watched some movies\n",
    "print(f\"Ratings not provided: {ratings_not_provided}\")\n",
    "print(f\"Sparsity of user-item matrix is: {ratings_not_provided/total_ratings}\")"
   ]
  },
  {
   "cell_type": "markdown",
   "metadata": {
    "id": "fCmQHFQr6yFu"
   },
   "source": [
    "Data Exploration"
   ]
  },
  {
   "cell_type": "code",
   "execution_count": 11,
   "metadata": {
    "colab": {
     "base_uri": "https://localhost:8080/",
     "height": 206
    },
    "id": "hCnYZZCuveRR",
    "outputId": "b09c03b8-94dc-4381-a3af-17f67153b289"
   },
   "outputs": [
    {
     "data": {
      "text/html": [
       "\n",
       "  <div id=\"df-70538a18-c205-49bc-b306-ced46fc6d7a7\">\n",
       "    <div class=\"colab-df-container\">\n",
       "      <div>\n",
       "<style scoped>\n",
       "    .dataframe tbody tr th:only-of-type {\n",
       "        vertical-align: middle;\n",
       "    }\n",
       "\n",
       "    .dataframe tbody tr th {\n",
       "        vertical-align: top;\n",
       "    }\n",
       "\n",
       "    .dataframe thead th {\n",
       "        text-align: right;\n",
       "    }\n",
       "</style>\n",
       "<table border=\"1\" class=\"dataframe\">\n",
       "  <thead>\n",
       "    <tr style=\"text-align: right;\">\n",
       "      <th></th>\n",
       "      <th>count</th>\n",
       "      <th>log_count</th>\n",
       "    </tr>\n",
       "  </thead>\n",
       "  <tbody>\n",
       "    <tr>\n",
       "      <th>0.5</th>\n",
       "      <td>16875</td>\n",
       "      <td>9.733589</td>\n",
       "    </tr>\n",
       "    <tr>\n",
       "      <th>1.0</th>\n",
       "      <td>28729</td>\n",
       "      <td>10.265662</td>\n",
       "    </tr>\n",
       "    <tr>\n",
       "      <th>1.5</th>\n",
       "      <td>14261</td>\n",
       "      <td>9.565284</td>\n",
       "    </tr>\n",
       "    <tr>\n",
       "      <th>2.0</th>\n",
       "      <td>60968</td>\n",
       "      <td>11.018104</td>\n",
       "    </tr>\n",
       "    <tr>\n",
       "      <th>2.5</th>\n",
       "      <td>43723</td>\n",
       "      <td>10.685630</td>\n",
       "    </tr>\n",
       "  </tbody>\n",
       "</table>\n",
       "</div>\n",
       "      <button class=\"colab-df-convert\" onclick=\"convertToInteractive('df-70538a18-c205-49bc-b306-ced46fc6d7a7')\"\n",
       "              title=\"Convert this dataframe to an interactive table.\"\n",
       "              style=\"display:none;\">\n",
       "        \n",
       "  <svg xmlns=\"http://www.w3.org/2000/svg\" height=\"24px\"viewBox=\"0 0 24 24\"\n",
       "       width=\"24px\">\n",
       "    <path d=\"M0 0h24v24H0V0z\" fill=\"none\"/>\n",
       "    <path d=\"M18.56 5.44l.94 2.06.94-2.06 2.06-.94-2.06-.94-.94-2.06-.94 2.06-2.06.94zm-11 1L8.5 8.5l.94-2.06 2.06-.94-2.06-.94L8.5 2.5l-.94 2.06-2.06.94zm10 10l.94 2.06.94-2.06 2.06-.94-2.06-.94-.94-2.06-.94 2.06-2.06.94z\"/><path d=\"M17.41 7.96l-1.37-1.37c-.4-.4-.92-.59-1.43-.59-.52 0-1.04.2-1.43.59L10.3 9.45l-7.72 7.72c-.78.78-.78 2.05 0 2.83L4 21.41c.39.39.9.59 1.41.59.51 0 1.02-.2 1.41-.59l7.78-7.78 2.81-2.81c.8-.78.8-2.07 0-2.86zM5.41 20L4 18.59l7.72-7.72 1.47 1.35L5.41 20z\"/>\n",
       "  </svg>\n",
       "      </button>\n",
       "      \n",
       "  <style>\n",
       "    .colab-df-container {\n",
       "      display:flex;\n",
       "      flex-wrap:wrap;\n",
       "      gap: 12px;\n",
       "    }\n",
       "\n",
       "    .colab-df-convert {\n",
       "      background-color: #E8F0FE;\n",
       "      border: none;\n",
       "      border-radius: 50%;\n",
       "      cursor: pointer;\n",
       "      display: none;\n",
       "      fill: #1967D2;\n",
       "      height: 32px;\n",
       "      padding: 0 0 0 0;\n",
       "      width: 32px;\n",
       "    }\n",
       "\n",
       "    .colab-df-convert:hover {\n",
       "      background-color: #E2EBFA;\n",
       "      box-shadow: 0px 1px 2px rgba(60, 64, 67, 0.3), 0px 1px 3px 1px rgba(60, 64, 67, 0.15);\n",
       "      fill: #174EA6;\n",
       "    }\n",
       "\n",
       "    [theme=dark] .colab-df-convert {\n",
       "      background-color: #3B4455;\n",
       "      fill: #D2E3FC;\n",
       "    }\n",
       "\n",
       "    [theme=dark] .colab-df-convert:hover {\n",
       "      background-color: #434B5C;\n",
       "      box-shadow: 0px 1px 3px 1px rgba(0, 0, 0, 0.15);\n",
       "      filter: drop-shadow(0px 1px 2px rgba(0, 0, 0, 0.3));\n",
       "      fill: #FFFFFF;\n",
       "    }\n",
       "  </style>\n",
       "\n",
       "      <script>\n",
       "        const buttonEl =\n",
       "          document.querySelector('#df-70538a18-c205-49bc-b306-ced46fc6d7a7 button.colab-df-convert');\n",
       "        buttonEl.style.display =\n",
       "          google.colab.kernel.accessAllowed ? 'block' : 'none';\n",
       "\n",
       "        async function convertToInteractive(key) {\n",
       "          const element = document.querySelector('#df-70538a18-c205-49bc-b306-ced46fc6d7a7');\n",
       "          const dataTable =\n",
       "            await google.colab.kernel.invokeFunction('convertToInteractive',\n",
       "                                                     [key], {});\n",
       "          if (!dataTable) return;\n",
       "\n",
       "          const docLinkHtml = 'Like what you see? Visit the ' +\n",
       "            '<a target=\"_blank\" href=https://colab.research.google.com/notebooks/data_table.ipynb>data table notebook</a>'\n",
       "            + ' to learn more about interactive tables.';\n",
       "          element.innerHTML = '';\n",
       "          dataTable['output_type'] = 'display_data';\n",
       "          await google.colab.output.renderOutput(dataTable, element);\n",
       "          const docLink = document.createElement('div');\n",
       "          docLink.innerHTML = docLinkHtml;\n",
       "          element.appendChild(docLink);\n",
       "        }\n",
       "      </script>\n",
       "    </div>\n",
       "  </div>\n",
       "  "
      ],
      "text/plain": [
       "     count  log_count\n",
       "0.5  16875   9.733589\n",
       "1.0  28729  10.265662\n",
       "1.5  14261   9.565284\n",
       "2.0  60968  11.018104\n",
       "2.5  43723  10.685630"
      ]
     },
     "execution_count": 11,
     "metadata": {},
     "output_type": "execute_result"
    }
   ],
   "source": [
    "#Gives information about which rating (on scale of 0 to 5) is more frequent\n",
    "rating_cnt = pd.DataFrame(ratings.groupby('rating').size(),columns=['count'])\n",
    "#This rating count does not contain any ratings of value 0\n",
    "\n",
    "rating_cnt = rating_cnt.append(pd.DataFrame({'count' : ratings_not_provided}, index = [0])).sort_index()\n",
    "\n",
    "#Since there are more \"0 ratings\" as compared to other ratings, use the log value\n",
    "#Just for the visualization\n",
    "rating_cnt['log_count'] = np.log(rating_cnt['count'])\n",
    "rating_cnt = rating_cnt.drop(rating_cnt.index[0])\n",
    "rating_cnt.head()"
   ]
  },
  {
   "cell_type": "code",
   "execution_count": 12,
   "metadata": {
    "colab": {
     "base_uri": "https://localhost:8080/",
     "height": 428
    },
    "id": "GCPXZ4BSvN5H",
    "outputId": "c270a6df-0170-4517-820d-62558ff43fa6"
   },
   "outputs": [
    {
     "data": {
      "text/plain": [
       "Text(0, 0.5, 'Rating Count')"
      ]
     },
     "execution_count": 12,
     "metadata": {},
     "output_type": "execute_result"
    },
    {
     "data": {
      "image/png": "[encoded data removed]",
      "text/plain": [
       "<Figure size 864x432 with 1 Axes>"
      ]
     },
     "metadata": {
      "needs_background": "light"
     },
     "output_type": "display_data"
    }
   ],
   "source": [
    "# Create a bar plot to visualize ratings\n",
    "vis = rating_cnt\n",
    "rcpv = vis.reset_index().rename(columns = {'index':'rating_value'}).plot(\n",
    "    x = 'rating_value',\n",
    "    y = 'count',\n",
    "    logy = True,\n",
    "    kind = 'bar',\n",
    "    title = 'Rating count per value (log scale)',\n",
    "    figsize = (12,6)\n",
    ")\n",
    "rcpv.set_xlabel('Rating Value')\n",
    "rcpv.set_ylabel('Rating Count')"
   ]
  },
  {
   "cell_type": "markdown",
   "metadata": {
    "id": "bPnR3A-V93-c"
   },
   "source": [
    "We can gather that rating values like 3.0 and 4.0 are seen more often than others"
   ]
  },
  {
   "cell_type": "code",
   "execution_count": 13,
   "metadata": {
    "colab": {
     "base_uri": "https://localhost:8080/",
     "height": 238
    },
    "id": "W2CZXZV-xWrJ",
    "outputId": "1e139de3-dd82-4af4-dee2-2c8aa0194352"
   },
   "outputs": [
    {
     "data": {
      "text/html": [
       "\n",
       "  <div id=\"df-ed808477-2d1e-461f-b18f-f68147af649b\">\n",
       "    <div class=\"colab-df-container\">\n",
       "      <div>\n",
       "<style scoped>\n",
       "    .dataframe tbody tr th:only-of-type {\n",
       "        vertical-align: middle;\n",
       "    }\n",
       "\n",
       "    .dataframe tbody tr th {\n",
       "        vertical-align: top;\n",
       "    }\n",
       "\n",
       "    .dataframe thead th {\n",
       "        text-align: right;\n",
       "    }\n",
       "</style>\n",
       "<table border=\"1\" class=\"dataframe\">\n",
       "  <thead>\n",
       "    <tr style=\"text-align: right;\">\n",
       "      <th></th>\n",
       "      <th>count</th>\n",
       "    </tr>\n",
       "    <tr>\n",
       "      <th>movieId</th>\n",
       "      <th></th>\n",
       "    </tr>\n",
       "  </thead>\n",
       "  <tbody>\n",
       "    <tr>\n",
       "      <th>1</th>\n",
       "      <td>2202</td>\n",
       "    </tr>\n",
       "    <tr>\n",
       "      <th>2</th>\n",
       "      <td>866</td>\n",
       "    </tr>\n",
       "    <tr>\n",
       "      <th>3</th>\n",
       "      <td>537</td>\n",
       "    </tr>\n",
       "    <tr>\n",
       "      <th>4</th>\n",
       "      <td>114</td>\n",
       "    </tr>\n",
       "    <tr>\n",
       "      <th>5</th>\n",
       "      <td>496</td>\n",
       "    </tr>\n",
       "  </tbody>\n",
       "</table>\n",
       "</div>\n",
       "      <button class=\"colab-df-convert\" onclick=\"convertToInteractive('df-ed808477-2d1e-461f-b18f-f68147af649b')\"\n",
       "              title=\"Convert this dataframe to an interactive table.\"\n",
       "              style=\"display:none;\">\n",
       "        \n",
       "  <svg xmlns=\"http://www.w3.org/2000/svg\" height=\"24px\"viewBox=\"0 0 24 24\"\n",
       "       width=\"24px\">\n",
       "    <path d=\"M0 0h24v24H0V0z\" fill=\"none\"/>\n",
       "    <path d=\"M18.56 5.44l.94 2.06.94-2.06 2.06-.94-2.06-.94-.94-2.06-.94 2.06-2.06.94zm-11 1L8.5 8.5l.94-2.06 2.06-.94-2.06-.94L8.5 2.5l-.94 2.06-2.06.94zm10 10l.94 2.06.94-2.06 2.06-.94-2.06-.94-.94-2.06-.94 2.06-2.06.94z\"/><path d=\"M17.41 7.96l-1.37-1.37c-.4-.4-.92-.59-1.43-.59-.52 0-1.04.2-1.43.59L10.3 9.45l-7.72 7.72c-.78.78-.78 2.05 0 2.83L4 21.41c.39.39.9.59 1.41.59.51 0 1.02-.2 1.41-.59l7.78-7.78 2.81-2.81c.8-.78.8-2.07 0-2.86zM5.41 20L4 18.59l7.72-7.72 1.47 1.35L5.41 20z\"/>\n",
       "  </svg>\n",
       "      </button>\n",
       "      \n",
       "  <style>\n",
       "    .colab-df-container {\n",
       "      display:flex;\n",
       "      flex-wrap:wrap;\n",
       "      gap: 12px;\n",
       "    }\n",
       "\n",
       "    .colab-df-convert {\n",
       "      background-color: #E8F0FE;\n",
       "      border: none;\n",
       "      border-radius: 50%;\n",
       "      cursor: pointer;\n",
       "      display: none;\n",
       "      fill: #1967D2;\n",
       "      height: 32px;\n",
       "      padding: 0 0 0 0;\n",
       "      width: 32px;\n",
       "    }\n",
       "\n",
       "    .colab-df-convert:hover {\n",
       "      background-color: #E2EBFA;\n",
       "      box-shadow: 0px 1px 2px rgba(60, 64, 67, 0.3), 0px 1px 3px 1px rgba(60, 64, 67, 0.15);\n",
       "      fill: #174EA6;\n",
       "    }\n",
       "\n",
       "    [theme=dark] .colab-df-convert {\n",
       "      background-color: #3B4455;\n",
       "      fill: #D2E3FC;\n",
       "    }\n",
       "\n",
       "    [theme=dark] .colab-df-convert:hover {\n",
       "      background-color: #434B5C;\n",
       "      box-shadow: 0px 1px 3px 1px rgba(0, 0, 0, 0.15);\n",
       "      filter: drop-shadow(0px 1px 2px rgba(0, 0, 0, 0.3));\n",
       "      fill: #FFFFFF;\n",
       "    }\n",
       "  </style>\n",
       "\n",
       "      <script>\n",
       "        const buttonEl =\n",
       "          document.querySelector('#df-ed808477-2d1e-461f-b18f-f68147af649b button.colab-df-convert');\n",
       "        buttonEl.style.display =\n",
       "          google.colab.kernel.accessAllowed ? 'block' : 'none';\n",
       "\n",
       "        async function convertToInteractive(key) {\n",
       "          const element = document.querySelector('#df-ed808477-2d1e-461f-b18f-f68147af649b');\n",
       "          const dataTable =\n",
       "            await google.colab.kernel.invokeFunction('convertToInteractive',\n",
       "                                                     [key], {});\n",
       "          if (!dataTable) return;\n",
       "\n",
       "          const docLinkHtml = 'Like what you see? Visit the ' +\n",
       "            '<a target=\"_blank\" href=https://colab.research.google.com/notebooks/data_table.ipynb>data table notebook</a>'\n",
       "            + ' to learn more about interactive tables.';\n",
       "          element.innerHTML = '';\n",
       "          dataTable['output_type'] = 'display_data';\n",
       "          await google.colab.output.renderOutput(dataTable, element);\n",
       "          const docLink = document.createElement('div');\n",
       "          docLink.innerHTML = docLinkHtml;\n",
       "          element.appendChild(docLink);\n",
       "        }\n",
       "      </script>\n",
       "    </div>\n",
       "  </div>\n",
       "  "
      ],
      "text/plain": [
       "         count\n",
       "movieId       \n",
       "1         2202\n",
       "2          866\n",
       "3          537\n",
       "4          114\n",
       "5          496"
      ]
     },
     "execution_count": 13,
     "metadata": {},
     "output_type": "execute_result"
    }
   ],
   "source": [
    "#Plot rating frequency of each movie (how many time a movie has been rated)\n",
    "movie_freq = pd.DataFrame(ratings.groupby('movieId').size(), columns = ['count'])\n",
    "movie_freq.head()"
   ]
  },
  {
   "cell_type": "code",
   "execution_count": 14,
   "metadata": {
    "colab": {
     "base_uri": "https://localhost:8080/",
     "height": 531
    },
    "id": "DjWMfVq19-bv",
    "outputId": "6af43fc6-7eec-481b-8395-003a7c7d97e4"
   },
   "outputs": [
    {
     "data": {
      "text/plain": [
       "Text(0, 0.5, 'Rating frequency of movies')"
      ]
     },
     "execution_count": 14,
     "metadata": {},
     "output_type": "execute_result"
    },
    {
     "data": {
      "image/png": "[encoded data removed]",
      "text/plain": [
       "<Figure size 864x576 with 1 Axes>"
      ]
     },
     "metadata": {
      "needs_background": "light"
     },
     "output_type": "display_data"
    }
   ],
   "source": [
    "#Plot movie ratings by frequency\n",
    "mf_copy = movie_freq.sort_values(by = 'count', ascending = False)\n",
    "mf_copy = mf_copy.reset_index(drop = True)\n",
    "\n",
    "rfpm = mf_copy.plot(\n",
    "    title = 'Rating Frequency of Movie',\n",
    "    logy = True,\n",
    "    #Figure size (size of the graph image lol)\n",
    "    figsize = (12,8)\n",
    ")\n",
    "rfpm.set_xlabel('Number of movies')\n",
    "rfpm.set_ylabel('Rating frequency of movies')"
   ]
  },
  {
   "cell_type": "markdown",
   "metadata": {
    "id": "sh6ZrCyE-rf0"
   },
   "source": [
    "The graph is skewed because only few movies that are popular get the most ratings. \n",
    "\n",
    "We can see that most movies do not have a lot of ratings."
   ]
  },
  {
   "cell_type": "code",
   "execution_count": 15,
   "metadata": {
    "colab": {
     "base_uri": "https://localhost:8080/"
    },
    "id": "0Vj1Iwau-xHs",
    "outputId": "85cf3119-1d6e-470d-c79b-aa103fd2f040"
   },
   "outputs": [
    {
     "name": "stdout",
     "output_type": "stream",
     "text": [
      "Shape of Ratings: (900257, 4)\n",
      "Number of movies that are rated more than 50 times: 3095\n",
      "Number of unique movies present in dataset: 21452\n"
     ]
    }
   ],
   "source": [
    "threshold_rating_freq = 50\n",
    "#Take out the movie IDs for which each movie is rated more than threshold value \n",
    "#Then, keep only the movies in our original ratings dataframe\n",
    "\n",
    "popular_movies_id = list(set(movie_freq.query('count >= @threshold_rating_freq').index))\n",
    "\n",
    "#Ratings dataframe after dropping \"non-popular\" movies\n",
    "ratings_with_popular_movies = ratings[ratings.movieId.isin(popular_movies_id)]\n",
    "\n",
    "print(f'Shape of Ratings: {ratings.shape}')\n",
    "print(f\"Number of movies that are rated more than 50 times: {len(popular_movies_id)}\")\n",
    "print(f\"Number of unique movies present in dataset: {unique_movie}\")"
   ]
  },
  {
   "cell_type": "markdown",
   "metadata": {
    "id": "NsOH42Kt_XxD"
   },
   "source": [
    "User Analysis"
   ]
  },
  {
   "cell_type": "code",
   "execution_count": 16,
   "metadata": {
    "colab": {
     "base_uri": "https://localhost:8080/",
     "height": 238
    },
    "id": "cporfced_YZT",
    "outputId": "1c716f02-74a9-4b6e-ceaf-953fbe81875e"
   },
   "outputs": [
    {
     "data": {
      "text/html": [
       "\n",
       "  <div id=\"df-f46fcfd4-dc12-46ae-9e12-aba5753a0699\">\n",
       "    <div class=\"colab-df-container\">\n",
       "      <div>\n",
       "<style scoped>\n",
       "    .dataframe tbody tr th:only-of-type {\n",
       "        vertical-align: middle;\n",
       "    }\n",
       "\n",
       "    .dataframe tbody tr th {\n",
       "        vertical-align: top;\n",
       "    }\n",
       "\n",
       "    .dataframe thead th {\n",
       "        text-align: right;\n",
       "    }\n",
       "</style>\n",
       "<table border=\"1\" class=\"dataframe\">\n",
       "  <thead>\n",
       "    <tr style=\"text-align: right;\">\n",
       "      <th></th>\n",
       "      <th>count</th>\n",
       "    </tr>\n",
       "    <tr>\n",
       "      <th>userId</th>\n",
       "      <th></th>\n",
       "    </tr>\n",
       "  </thead>\n",
       "  <tbody>\n",
       "    <tr>\n",
       "      <th>1</th>\n",
       "      <td>16</td>\n",
       "    </tr>\n",
       "    <tr>\n",
       "      <th>2</th>\n",
       "      <td>15</td>\n",
       "    </tr>\n",
       "    <tr>\n",
       "      <th>3</th>\n",
       "      <td>11</td>\n",
       "    </tr>\n",
       "    <tr>\n",
       "      <th>4</th>\n",
       "      <td>736</td>\n",
       "    </tr>\n",
       "    <tr>\n",
       "      <th>5</th>\n",
       "      <td>72</td>\n",
       "    </tr>\n",
       "  </tbody>\n",
       "</table>\n",
       "</div>\n",
       "      <button class=\"colab-df-convert\" onclick=\"convertToInteractive('df-f46fcfd4-dc12-46ae-9e12-aba5753a0699')\"\n",
       "              title=\"Convert this dataframe to an interactive table.\"\n",
       "              style=\"display:none;\">\n",
       "        \n",
       "  <svg xmlns=\"http://www.w3.org/2000/svg\" height=\"24px\"viewBox=\"0 0 24 24\"\n",
       "       width=\"24px\">\n",
       "    <path d=\"M0 0h24v24H0V0z\" fill=\"none\"/>\n",
       "    <path d=\"M18.56 5.44l.94 2.06.94-2.06 2.06-.94-2.06-.94-.94-2.06-.94 2.06-2.06.94zm-11 1L8.5 8.5l.94-2.06 2.06-.94-2.06-.94L8.5 2.5l-.94 2.06-2.06.94zm10 10l.94 2.06.94-2.06 2.06-.94-2.06-.94-.94-2.06-.94 2.06-2.06.94z\"/><path d=\"M17.41 7.96l-1.37-1.37c-.4-.4-.92-.59-1.43-.59-.52 0-1.04.2-1.43.59L10.3 9.45l-7.72 7.72c-.78.78-.78 2.05 0 2.83L4 21.41c.39.39.9.59 1.41.59.51 0 1.02-.2 1.41-.59l7.78-7.78 2.81-2.81c.8-.78.8-2.07 0-2.86zM5.41 20L4 18.59l7.72-7.72 1.47 1.35L5.41 20z\"/>\n",
       "  </svg>\n",
       "      </button>\n",
       "      \n",
       "  <style>\n",
       "    .colab-df-container {\n",
       "      display:flex;\n",
       "      flex-wrap:wrap;\n",
       "      gap: 12px;\n",
       "    }\n",
       "\n",
       "    .colab-df-convert {\n",
       "      background-color: #E8F0FE;\n",
       "      border: none;\n",
       "      border-radius: 50%;\n",
       "      cursor: pointer;\n",
       "      display: none;\n",
       "      fill: #1967D2;\n",
       "      height: 32px;\n",
       "      padding: 0 0 0 0;\n",
       "      width: 32px;\n",
       "    }\n",
       "\n",
       "    .colab-df-convert:hover {\n",
       "      background-color: #E2EBFA;\n",
       "      box-shadow: 0px 1px 2px rgba(60, 64, 67, 0.3), 0px 1px 3px 1px rgba(60, 64, 67, 0.15);\n",
       "      fill: #174EA6;\n",
       "    }\n",
       "\n",
       "    [theme=dark] .colab-df-convert {\n",
       "      background-color: #3B4455;\n",
       "      fill: #D2E3FC;\n",
       "    }\n",
       "\n",
       "    [theme=dark] .colab-df-convert:hover {\n",
       "      background-color: #434B5C;\n",
       "      box-shadow: 0px 1px 3px 1px rgba(0, 0, 0, 0.15);\n",
       "      filter: drop-shadow(0px 1px 2px rgba(0, 0, 0, 0.3));\n",
       "      fill: #FFFFFF;\n",
       "    }\n",
       "  </style>\n",
       "\n",
       "      <script>\n",
       "        const buttonEl =\n",
       "          document.querySelector('#df-f46fcfd4-dc12-46ae-9e12-aba5753a0699 button.colab-df-convert');\n",
       "        buttonEl.style.display =\n",
       "          google.colab.kernel.accessAllowed ? 'block' : 'none';\n",
       "\n",
       "        async function convertToInteractive(key) {\n",
       "          const element = document.querySelector('#df-f46fcfd4-dc12-46ae-9e12-aba5753a0699');\n",
       "          const dataTable =\n",
       "            await google.colab.kernel.invokeFunction('convertToInteractive',\n",
       "                                                     [key], {});\n",
       "          if (!dataTable) return;\n",
       "\n",
       "          const docLinkHtml = 'Like what you see? Visit the ' +\n",
       "            '<a target=\"_blank\" href=https://colab.research.google.com/notebooks/data_table.ipynb>data table notebook</a>'\n",
       "            + ' to learn more about interactive tables.';\n",
       "          element.innerHTML = '';\n",
       "          dataTable['output_type'] = 'display_data';\n",
       "          await google.colab.output.renderOutput(dataTable, element);\n",
       "          const docLink = document.createElement('div');\n",
       "          docLink.innerHTML = docLinkHtml;\n",
       "          element.appendChild(docLink);\n",
       "        }\n",
       "      </script>\n",
       "    </div>\n",
       "  </div>\n",
       "  "
      ],
      "text/plain": [
       "        count\n",
       "userId       \n",
       "1          16\n",
       "2          15\n",
       "3          11\n",
       "4         736\n",
       "5          72"
      ]
     },
     "execution_count": 16,
     "metadata": {},
     "output_type": "execute_result"
    }
   ],
   "source": [
    "#How many times each user (userId) rates movies\n",
    "user_cnt = pd.DataFrame(ratings.groupby('userId').size(),columns = ['count'])\n",
    "uc_copy = user_cnt\n",
    "uc_copy.head()"
   ]
  },
  {
   "cell_type": "code",
   "execution_count": 17,
   "metadata": {
    "colab": {
     "base_uri": "https://localhost:8080/",
     "height": 422
    },
    "id": "7XuXMPCH_aX4",
    "outputId": "1a67f2a4-2acc-44ce-dbb2-f6cd9e2cfd7b"
   },
   "outputs": [
    {
     "data": {
      "text/plain": [
       "Text(0, 0.5, 'Rating Frequency')"
      ]
     },
     "execution_count": 17,
     "metadata": {},
     "output_type": "execute_result"
    },
    {
     "data": {
      "image/png": "[encoded data removed]",
      "text/plain": [
       "<Figure size 864x432 with 1 Axes>"
      ]
     },
     "metadata": {
      "needs_background": "light"
     },
     "output_type": "display_data"
    }
   ],
   "source": [
    "#Creates a bar graph that displays the rating frequency of each user. \n",
    "#Sorts the data in descending order and labels the x-axis as \"Users\" and the y-axis as \"Rating Frequency\". \n",
    "#The title of the graph is \"Rating Frequency by User\". \n",
    "#The figure size is set to 12 by 6.\n",
    "rfpu = uc_copy.sort_values('count',ascending = False).reset_index(drop = True).plot(\n",
    "      title = 'Rating Frequency by User',\n",
    "      figsize = (12,6),\n",
    ")\n",
    "rfpu.set_xlabel(\"Users\")\n",
    "rfpu.set_ylabel(\"Rating Frequency\")"
   ]
  },
  {
   "cell_type": "markdown",
   "metadata": {
    "id": "SYABzuTQ_lUm"
   },
   "source": [
    "Rating Frequency by User follows tail trend: generally there are just fewer users who are interseted in rating movies\n",
    "\n",
    "There are few users that only avidly rate movies"
   ]
  },
  {
   "cell_type": "code",
   "execution_count": 18,
   "metadata": {
    "colab": {
     "base_uri": "https://localhost:8080/"
    },
    "id": "WFoi3gG3_tZ9",
    "outputId": "8ce61f03-5334-42ff-ea1f-8ff1a2ee7c2c"
   },
   "outputs": [
    {
     "name": "stdout",
     "output_type": "stream",
     "text": [
      "Shape of ratings_with_popular_movies: (768628, 4)\n",
      "Shape of ratings_with_popular_movies_with_active_user: (710740, 4)\n",
      "Unique users: 9017\n",
      "Unique movies: 21452\n",
      "Popular movies: 3095\n"
     ]
    }
   ],
   "source": [
    "# Lets find users who have more than 30 ratings\n",
    "threshold_val = 30\n",
    "active_user = list(set(user_cnt.query('count >= @threshold_val').index))\n",
    "\n",
    "#update your ratings_with_popular_movies\n",
    "ratings_with_popular_movies_with_active_user = ratings_with_popular_movies[ratings_with_popular_movies.userId.isin(active_user)]\n",
    "\n",
    "print(f'Shape of ratings_with_popular_movies: {ratings_with_popular_movies.shape}')\n",
    "print(f'Shape of ratings_with_popular_movies_with_active_user: {ratings_with_popular_movies_with_active_user.shape}')\n",
    "print(f\"Unique users: {unique_user}\")\n",
    "print(f\"Unique movies: {unique_movie}\")\n",
    "print(f\"Popular movies: {len(popular_movies_id)}\")"
   ]
  },
  {
   "cell_type": "code",
   "execution_count": 19,
   "metadata": {
    "colab": {
     "base_uri": "https://localhost:8080/"
    },
    "id": "A12jFZHzA3U4",
    "outputId": "9f960d2e-0d9f-49fa-e34f-7b1789c0f45e"
   },
   "outputs": [
    {
     "name": "stdout",
     "output_type": "stream",
     "text": [
      "Sparsity of final dataframe ratings: 0.9765095350263194\n"
     ]
    }
   ],
   "source": [
    "print(f\"Sparsity of final dataframe ratings: {(10532*3424 - 847103)/(10532*3424)}\")"
   ]
  },
  {
   "cell_type": "markdown",
   "metadata": {
    "id": "u59E9YzvA_Of"
   },
   "source": [
    "Sparsity reduced by removing unpopular movies and inactive users who only reviewed a select amount of movies"
   ]
  },
  {
   "cell_type": "markdown",
   "metadata": {
    "id": "QK_dgFcXBG9I"
   },
   "source": [
    "#Building KNN Model"
   ]
  },
  {
   "cell_type": "markdown",
   "metadata": {
    "id": "lhbIzS9-EDCD"
   },
   "source": [
    "We have to reshape/prepare our dataset into a format which can be given as parameter to the KNN function. We will pivot our final dataset into a ITEM-USER matrix and fill empty cells with with the vlaue 0 because the KNN model calculates distances between two points. "
   ]
  },
  {
   "cell_type": "code",
   "execution_count": 20,
   "metadata": {
    "colab": {
     "base_uri": "https://localhost:8080/",
     "height": 331
    },
    "id": "sHFx7hubBFLM",
    "outputId": "f243dc3c-dcc6-420a-dba2-ab3e802bbd11"
   },
   "outputs": [
    {
     "data": {
      "text/html": [
       "\n",
       "  <div id=\"df-30a6c9b4-cdd5-48dd-93a7-5bc0689069da\">\n",
       "    <div class=\"colab-df-container\">\n",
       "      <div>\n",
       "<style scoped>\n",
       "    .dataframe tbody tr th:only-of-type {\n",
       "        vertical-align: middle;\n",
       "    }\n",
       "\n",
       "    .dataframe tbody tr th {\n",
       "        vertical-align: top;\n",
       "    }\n",
       "\n",
       "    .dataframe thead th {\n",
       "        text-align: right;\n",
       "    }\n",
       "</style>\n",
       "<table border=\"1\" class=\"dataframe\">\n",
       "  <thead>\n",
       "    <tr style=\"text-align: right;\">\n",
       "      <th>userId</th>\n",
       "      <th>4</th>\n",
       "      <th>5</th>\n",
       "      <th>6</th>\n",
       "      <th>8</th>\n",
       "      <th>10</th>\n",
       "      <th>14</th>\n",
       "      <th>15</th>\n",
       "      <th>16</th>\n",
       "      <th>18</th>\n",
       "      <th>19</th>\n",
       "      <th>...</th>\n",
       "      <th>9002</th>\n",
       "      <th>9003</th>\n",
       "      <th>9004</th>\n",
       "      <th>9005</th>\n",
       "      <th>9006</th>\n",
       "      <th>9007</th>\n",
       "      <th>9008</th>\n",
       "      <th>9010</th>\n",
       "      <th>9014</th>\n",
       "      <th>9016</th>\n",
       "    </tr>\n",
       "    <tr>\n",
       "      <th>movieId</th>\n",
       "      <th></th>\n",
       "      <th></th>\n",
       "      <th></th>\n",
       "      <th></th>\n",
       "      <th></th>\n",
       "      <th></th>\n",
       "      <th></th>\n",
       "      <th></th>\n",
       "      <th></th>\n",
       "      <th></th>\n",
       "      <th></th>\n",
       "      <th></th>\n",
       "      <th></th>\n",
       "      <th></th>\n",
       "      <th></th>\n",
       "      <th></th>\n",
       "      <th></th>\n",
       "      <th></th>\n",
       "      <th></th>\n",
       "      <th></th>\n",
       "      <th></th>\n",
       "    </tr>\n",
       "  </thead>\n",
       "  <tbody>\n",
       "    <tr>\n",
       "      <th>1</th>\n",
       "      <td>4.0</td>\n",
       "      <td>0.0</td>\n",
       "      <td>0.0</td>\n",
       "      <td>0.0</td>\n",
       "      <td>5.0</td>\n",
       "      <td>4.5</td>\n",
       "      <td>4.0</td>\n",
       "      <td>0.0</td>\n",
       "      <td>0.0</td>\n",
       "      <td>0.0</td>\n",
       "      <td>...</td>\n",
       "      <td>0.0</td>\n",
       "      <td>0.0</td>\n",
       "      <td>0.0</td>\n",
       "      <td>4.0</td>\n",
       "      <td>4.5</td>\n",
       "      <td>0.0</td>\n",
       "      <td>3.5</td>\n",
       "      <td>0.0</td>\n",
       "      <td>0.0</td>\n",
       "      <td>0.0</td>\n",
       "    </tr>\n",
       "    <tr>\n",
       "      <th>2</th>\n",
       "      <td>4.0</td>\n",
       "      <td>0.0</td>\n",
       "      <td>0.0</td>\n",
       "      <td>0.0</td>\n",
       "      <td>0.0</td>\n",
       "      <td>4.0</td>\n",
       "      <td>0.0</td>\n",
       "      <td>0.0</td>\n",
       "      <td>0.0</td>\n",
       "      <td>0.0</td>\n",
       "      <td>...</td>\n",
       "      <td>0.0</td>\n",
       "      <td>0.0</td>\n",
       "      <td>0.0</td>\n",
       "      <td>0.0</td>\n",
       "      <td>0.0</td>\n",
       "      <td>0.0</td>\n",
       "      <td>0.0</td>\n",
       "      <td>0.0</td>\n",
       "      <td>0.0</td>\n",
       "      <td>0.0</td>\n",
       "    </tr>\n",
       "    <tr>\n",
       "      <th>3</th>\n",
       "      <td>0.0</td>\n",
       "      <td>0.0</td>\n",
       "      <td>0.0</td>\n",
       "      <td>3.0</td>\n",
       "      <td>0.0</td>\n",
       "      <td>0.0</td>\n",
       "      <td>0.0</td>\n",
       "      <td>0.0</td>\n",
       "      <td>0.0</td>\n",
       "      <td>4.0</td>\n",
       "      <td>...</td>\n",
       "      <td>0.0</td>\n",
       "      <td>0.0</td>\n",
       "      <td>0.0</td>\n",
       "      <td>0.0</td>\n",
       "      <td>0.0</td>\n",
       "      <td>0.0</td>\n",
       "      <td>0.0</td>\n",
       "      <td>0.0</td>\n",
       "      <td>0.0</td>\n",
       "      <td>0.0</td>\n",
       "    </tr>\n",
       "    <tr>\n",
       "      <th>4</th>\n",
       "      <td>0.0</td>\n",
       "      <td>0.0</td>\n",
       "      <td>0.0</td>\n",
       "      <td>0.0</td>\n",
       "      <td>0.0</td>\n",
       "      <td>0.0</td>\n",
       "      <td>0.0</td>\n",
       "      <td>0.0</td>\n",
       "      <td>0.0</td>\n",
       "      <td>0.0</td>\n",
       "      <td>...</td>\n",
       "      <td>0.0</td>\n",
       "      <td>0.0</td>\n",
       "      <td>0.0</td>\n",
       "      <td>0.0</td>\n",
       "      <td>0.0</td>\n",
       "      <td>0.0</td>\n",
       "      <td>0.0</td>\n",
       "      <td>0.0</td>\n",
       "      <td>0.0</td>\n",
       "      <td>0.0</td>\n",
       "    </tr>\n",
       "    <tr>\n",
       "      <th>5</th>\n",
       "      <td>2.0</td>\n",
       "      <td>0.0</td>\n",
       "      <td>0.0</td>\n",
       "      <td>3.0</td>\n",
       "      <td>0.0</td>\n",
       "      <td>0.0</td>\n",
       "      <td>0.0</td>\n",
       "      <td>0.0</td>\n",
       "      <td>0.0</td>\n",
       "      <td>0.0</td>\n",
       "      <td>...</td>\n",
       "      <td>0.0</td>\n",
       "      <td>0.0</td>\n",
       "      <td>0.0</td>\n",
       "      <td>0.0</td>\n",
       "      <td>0.0</td>\n",
       "      <td>0.0</td>\n",
       "      <td>0.0</td>\n",
       "      <td>0.0</td>\n",
       "      <td>0.0</td>\n",
       "      <td>0.0</td>\n",
       "    </tr>\n",
       "  </tbody>\n",
       "</table>\n",
       "<p>5 rows × 4582 columns</p>\n",
       "</div>\n",
       "      <button class=\"colab-df-convert\" onclick=\"convertToInteractive('df-30a6c9b4-cdd5-48dd-93a7-5bc0689069da')\"\n",
       "              title=\"Convert this dataframe to an interactive table.\"\n",
       "              style=\"display:none;\">\n",
       "        \n",
       "  <svg xmlns=\"http://www.w3.org/2000/svg\" height=\"24px\"viewBox=\"0 0 24 24\"\n",
       "       width=\"24px\">\n",
       "    <path d=\"M0 0h24v24H0V0z\" fill=\"none\"/>\n",
       "    <path d=\"M18.56 5.44l.94 2.06.94-2.06 2.06-.94-2.06-.94-.94-2.06-.94 2.06-2.06.94zm-11 1L8.5 8.5l.94-2.06 2.06-.94-2.06-.94L8.5 2.5l-.94 2.06-2.06.94zm10 10l.94 2.06.94-2.06 2.06-.94-2.06-.94-.94-2.06-.94 2.06-2.06.94z\"/><path d=\"M17.41 7.96l-1.37-1.37c-.4-.4-.92-.59-1.43-.59-.52 0-1.04.2-1.43.59L10.3 9.45l-7.72 7.72c-.78.78-.78 2.05 0 2.83L4 21.41c.39.39.9.59 1.41.59.51 0 1.02-.2 1.41-.59l7.78-7.78 2.81-2.81c.8-.78.8-2.07 0-2.86zM5.41 20L4 18.59l7.72-7.72 1.47 1.35L5.41 20z\"/>\n",
       "  </svg>\n",
       "      </button>\n",
       "      \n",
       "  <style>\n",
       "    .colab-df-container {\n",
       "      display:flex;\n",
       "      flex-wrap:wrap;\n",
       "      gap: 12px;\n",
       "    }\n",
       "\n",
       "    .colab-df-convert {\n",
       "      background-color: #E8F0FE;\n",
       "      border: none;\n",
       "      border-radius: 50%;\n",
       "      cursor: pointer;\n",
       "      display: none;\n",
       "      fill: #1967D2;\n",
       "      height: 32px;\n",
       "      padding: 0 0 0 0;\n",
       "      width: 32px;\n",
       "    }\n",
       "\n",
       "    .colab-df-convert:hover {\n",
       "      background-color: #E2EBFA;\n",
       "      box-shadow: 0px 1px 2px rgba(60, 64, 67, 0.3), 0px 1px 3px 1px rgba(60, 64, 67, 0.15);\n",
       "      fill: #174EA6;\n",
       "    }\n",
       "\n",
       "    [theme=dark] .colab-df-convert {\n",
       "      background-color: #3B4455;\n",
       "      fill: #D2E3FC;\n",
       "    }\n",
       "\n",
       "    [theme=dark] .colab-df-convert:hover {\n",
       "      background-color: #434B5C;\n",
       "      box-shadow: 0px 1px 3px 1px rgba(0, 0, 0, 0.15);\n",
       "      filter: drop-shadow(0px 1px 2px rgba(0, 0, 0, 0.3));\n",
       "      fill: #FFFFFF;\n",
       "    }\n",
       "  </style>\n",
       "\n",
       "      <script>\n",
       "        const buttonEl =\n",
       "          document.querySelector('#df-30a6c9b4-cdd5-48dd-93a7-5bc0689069da button.colab-df-convert');\n",
       "        buttonEl.style.display =\n",
       "          google.colab.kernel.accessAllowed ? 'block' : 'none';\n",
       "\n",
       "        async function convertToInteractive(key) {\n",
       "          const element = document.querySelector('#df-30a6c9b4-cdd5-48dd-93a7-5bc0689069da');\n",
       "          const dataTable =\n",
       "            await google.colab.kernel.invokeFunction('convertToInteractive',\n",
       "                                                     [key], {});\n",
       "          if (!dataTable) return;\n",
       "\n",
       "          const docLinkHtml = 'Like what you see? Visit the ' +\n",
       "            '<a target=\"_blank\" href=https://colab.research.google.com/notebooks/data_table.ipynb>data table notebook</a>'\n",
       "            + ' to learn more about interactive tables.';\n",
       "          element.innerHTML = '';\n",
       "          dataTable['output_type'] = 'display_data';\n",
       "          await google.colab.output.renderOutput(dataTable, element);\n",
       "          const docLink = document.createElement('div');\n",
       "          docLink.innerHTML = docLinkHtml;\n",
       "          element.appendChild(docLink);\n",
       "        }\n",
       "      </script>\n",
       "    </div>\n",
       "  </div>\n",
       "  "
      ],
      "text/plain": [
       "userId   4     5     6     8     10    14    15    16    18    19    ...  \\\n",
       "movieId                                                              ...   \n",
       "1         4.0   0.0   0.0   0.0   5.0   4.5   4.0   0.0   0.0   0.0  ...   \n",
       "2         4.0   0.0   0.0   0.0   0.0   4.0   0.0   0.0   0.0   0.0  ...   \n",
       "3         0.0   0.0   0.0   3.0   0.0   0.0   0.0   0.0   0.0   4.0  ...   \n",
       "4         0.0   0.0   0.0   0.0   0.0   0.0   0.0   0.0   0.0   0.0  ...   \n",
       "5         2.0   0.0   0.0   3.0   0.0   0.0   0.0   0.0   0.0   0.0  ...   \n",
       "\n",
       "userId   9002  9003  9004  9005  9006  9007  9008  9010  9014  9016  \n",
       "movieId                                                              \n",
       "1         0.0   0.0   0.0   4.0   4.5   0.0   3.5   0.0   0.0   0.0  \n",
       "2         0.0   0.0   0.0   0.0   0.0   0.0   0.0   0.0   0.0   0.0  \n",
       "3         0.0   0.0   0.0   0.0   0.0   0.0   0.0   0.0   0.0   0.0  \n",
       "4         0.0   0.0   0.0   0.0   0.0   0.0   0.0   0.0   0.0   0.0  \n",
       "5         0.0   0.0   0.0   0.0   0.0   0.0   0.0   0.0   0.0   0.0  \n",
       "\n",
       "[5 rows x 4582 columns]"
      ]
     },
     "execution_count": 20,
     "metadata": {},
     "output_type": "execute_result"
    }
   ],
   "source": [
    "#final_ratings is a dataframe with the ratings of the movies that are popular and the users that are active\n",
    "#item_user_mat is a matrix with the movies as rows and the users as columns. The values are the ratings.\n",
    "#If there is no rating, the value is 0.\n",
    "final_ratings = ratings_with_popular_movies_with_active_user\n",
    "item_user_mat = final_ratings.pivot(index = 'movieId', columns = 'userId', values = 'rating').fillna(0)\n",
    "item_user_mat.head()"
   ]
  },
  {
   "cell_type": "code",
   "execution_count": 21,
   "metadata": {
    "colab": {
     "base_uri": "https://localhost:8080/"
    },
    "id": "u_Ns7xsLEOSh",
    "outputId": "d1e34507-c93f-432f-a9f2-30650501519a"
   },
   "outputs": [
    {
     "name": "stdout",
     "output_type": "stream",
     "text": [
      "{'Toy Story (1995)': 0, 'Jumanji (1995)': 1, 'Grumpier Old Men (1995)': 2, 'Waiting to Exhale (1995)': 3, 'Father of the Bride Part II (1995)': 4, 'Heat (1995)': 5, 'Sabrina (1995)': 6, 'Sudden Death (1995)': 7, 'GoldenEye (1995)': 8, 'American President, The (1995)': 9, 'Dracula: Dead and Loving It (1995)': 10, 'Balto (1995)': 11, 'Nixon (1995)': 12, 'Cutthroat Island (1995)': 13, 'Casino (1995)': 14, 'Sense and Sensibility (1995)': 15, 'Four Rooms (1995)': 16, 'Ace Ventura: When Nature Calls (1995)': 17, 'Money Train (1995)': 18, 'Get Shorty (1995)': 19, 'Copycat (1995)': 20, 'Assassins (1995)': 21, 'Powder (1995)': 22, 'Leaving Las Vegas (1995)': 23, 'Othello (1995)': 24, 'Now and Then (1995)': 25, 'Persuasion (1995)': 26, 'City of Lost Children, The (Cité des enfants perdus, La) (1995)': 27, 'Dangerous Minds (1995)': 28, 'Twelve Monkeys (a.k.a. 12 Monkeys) (1995)': 29, 'Babe (1995)': 30, 'Carrington (1995)': 31, 'Dead Man Walking (1995)': 32, 'Clueless (1995)': 33, 'Richard III (1995)': 34, 'Dead Presidents (1995)': 35, 'Restoration (1995)': 36, 'Mortal Kombat (1995)': 37, 'To Die For (1995)': 38, 'How to Make an American Quilt (1995)': 39, 'Seven (a.k.a. Se7en) (1995)': 40, 'Pocahontas (1995)': 41, 'Usual Suspects, The (1995)': 42, 'Mighty Aphrodite (1995)': 43, 'Home for the Holidays (1995)': 44, 'Postman, The (Postino, Il) (1994)': 45, 'Indian in the Cupboard, The (1995)': 46, 'Eye for an Eye (1996)': 47, \"Mr. Holland's Opus (1995)\": 48, \"Don't Be a Menace to South Central While Drinking Your Juice in the Hood (1996)\": 49, 'Two if by Sea (1996)': 50, 'Bio-Dome (1996)': 51, 'Lawnmower Man 2: Beyond Cyberspace (1996)': 52, 'French Twist (Gazon maudit) (1995)': 53, 'Friday (1995)': 54, 'From Dusk Till Dawn (1996)': 55, 'Fair Game (1995)': 56, 'Misérables, Les (1995)': 57, 'Bed of Roses (1996)': 58, 'Screamers (1995)': 59, 'Crossing Guard, The (1995)': 60, 'Juror, The (1996)': 61, \"Things to Do in Denver When You're Dead (1995)\": 62, \"Antonia's Line (Antonia) (1995)\": 63, 'Angels and Insects (1995)': 64, 'White Squall (1996)': 65, 'Black Sheep (1996)': 66, 'Nick of Time (1995)': 67, 'Mary Reilly (1996)': 68, 'Vampire in Brooklyn (1995)': 69, 'Beautiful Girls (1996)': 70, 'Broken Arrow (1996)': 71, 'Hate (Haine, La) (1995)': 72, 'City Hall (1996)': 73, 'Bottle Rocket (1996)': 74, 'Mr. Wrong (1996)': 75, 'Happy Gilmore (1996)': 76, 'Bridges of Madison County, The (1995)': 77, 'Muppet Treasure Island (1996)': 78, 'Braveheart (1995)': 79, 'Taxi Driver (1976)': 80, 'Rumble in the Bronx (Hont faan kui) (1995)': 81, 'Boomerang (1992)': 82, 'Chungking Express (Chung Hing sam lam) (1994)': 83, 'Flirting With Disaster (1996)': 84, 'Jade (1995)': 85, 'Down Periscope (1996)': 86, 'Up Close and Personal (1996)': 87, 'Birdcage, The (1996)': 88, 'Brothers McMullen, The (1995)': 89, 'Bad Boys (1995)': 90, 'Basketball Diaries, The (1995)': 91, 'Amateur (1994)': 92, 'Apollo 13 (1995)': 93, 'Rob Roy (1995)': 94, 'Batman Forever (1995)': 95, 'Beauty of the Day (Belle de jour) (1967)': 96, 'Blue in the Face (1995)': 97, 'Canadian Bacon (1995)': 98, 'Casper (1995)': 99, 'Clockers (1995)': 100, 'Congo (1995)': 101, 'Crimson Tide (1995)': 102, 'Crumb (1994)': 103, 'Desperado (1995)': 104, 'Devil in a Blue Dress (1995)': 105, 'Die Hard: With a Vengeance (1995)': 106, 'First Knight (1995)': 107, 'Free Willy 2: The Adventure Home (1995)': 108, 'Hackers (1995)': 109, 'Johnny Mnemonic (1995)': 110, 'Judge Dredd (1995)': 111, 'Jury Duty (1995)': 112, 'Kids (1995)': 113, 'Living in Oblivion (1995)': 114, 'Lord of Illusions (1995)': 115, 'Mallrats (1995)': 116, 'Mighty Morphin Power Rangers: The Movie (1995)': 117, 'Net, The (1995)': 118, 'Nine Months (1995)': 119, 'Prophecy, The (1995)': 120, 'Scarlet Letter, The (1995)': 121, 'Showgirls (1995)': 122, 'Smoke (1995)': 123, 'Something to Talk About (1995)': 124, 'Species (1995)': 125, 'Strange Days (1995)': 126, 'Umbrellas of Cherbourg, The (Parapluies de Cherbourg, Les) (1964)': 127, 'To Wong Foo, Thanks for Everything! Julie Newmar (1995)': 128, 'Under Siege 2: Dark Territory (1995)': 129, 'Unstrung Heroes (1995)': 130, 'Walk in the Clouds, A (1995)': 131, 'Waterworld (1995)': 132, 'Burnt by the Sun (Utomlyonnye solntsem) (1994)': 133, 'Before Sunrise (1995)': 134, 'Billy Madison (1995)': 135, 'Boys on the Side (1995)': 136, 'Circle of Friends (1995)': 137, 'Clerks (1994)': 138, 'Don Juan DeMarco (1995)': 139, 'Disclosure (1994)': 140, 'Drop Zone (1994)': 141, 'Death and the Maiden (1994)': 142, 'Dolores Claiborne (1995)': 143, 'Dumb & Dumber (Dumb and Dumber) (1994)': 144, 'Eat Drink Man Woman (Yin shi nan nu) (1994)': 145, 'Exotica (1994)': 146, 'Exit to Eden (1994)': 147, 'Ed Wood (1994)': 148, 'French Kiss (1995)': 149, 'Forget Paris (1995)': 150, 'Goofy Movie, A (1995)': 151, 'Farinelli: il castrato (1994)': 152, 'Hoop Dreams (1994)': 153, 'Heavenly Creatures (1994)': 154, 'Houseguest (1994)': 155, 'Immortal Beloved (1994)': 156, 'I.Q. (1994)': 157, 'Interview with the Vampire: The Vampire Chronicles (1994)': 158, 'Junior (1994)': 159, 'Just Cause (1995)': 160, \"Kid in King Arthur's Court, A (1995)\": 161, 'Kiss of Death (1995)': 162, 'Star Wars: Episode IV - A New Hope (1977)': 163, 'Little Women (1994)': 164, 'Little Princess, A (1995)': 165, 'Like Water for Chocolate (Como agua para chocolate) (1992)': 166, 'Legends of the Fall (1994)': 167, 'Major Payne (1995)': 168, 'Losing Isaiah (1995)': 169, 'Madness of King George, The (1994)': 170, \"Mary Shelley's Frankenstein (Frankenstein) (1994)\": 171, 'Mixed Nuts (1994)': 172, 'Milk Money (1994)': 173, 'Miracle on 34th Street (1994)': 174, 'Murder in the First (1995)': 175, \"Nobody's Fool (1994)\": 176, 'Nell (1994)': 177, 'Natural Born Killers (1994)': 178, 'Only You (1994)': 179, 'Once Were Warriors (1994)': 180, 'Outbreak (1995)': 181, 'Léon: The Professional (a.k.a. The Professional) (Léon) (1994)': 182, 'Pulp Fiction (1994)': 183, 'Priest (1994)': 184, 'Quiz Show (1994)': 185, 'Queen Margot (Reine Margot, La) (1994)': 186, 'Quick and the Dead, The (1995)': 187, 'Ready to Wear (Pret-A-Porter) (1994)': 188, 'Three Colors: Red (Trois couleurs: Rouge) (1994)': 189, 'Three Colors: Blue (Trois couleurs: Bleu) (1993)': 190, 'Three Colors: White (Trzy kolory: Bialy) (1994)': 191, 'Stuart Saves His Family (1995)': 192, 'Swan Princess, The (1994)': 193, 'Secret of Roan Inish, The (1994)': 194, 'Specialist, The (1994)': 195, 'Stargate (1994)': 196, 'Santa Clause, The (1994)': 197, 'Shawshank Redemption, The (1994)': 198, 'Shallow Grave (1994)': 199, 'Swimming with Sharks (1995)': 200, 'To Live (Huozhe) (1994)': 201, 'Tank Girl (1995)': 202, 'Tales from the Crypt Presents: Demon Knight (1995)': 203, 'Star Trek: Generations (1994)': 204, 'Tales from the Hood (1995)': 205, 'Village of the Damned (1995)': 206, 'Tommy Boy (1995)': 207, 'Vanya on 42nd Street (1994)': 208, \"What's Eating Gilbert Grape (1993)\": 209, 'Virtuosity (1995)': 210, 'While You Were Sleeping (1995)': 211, 'War, The (1994)': 212, \"Muriel's Wedding (1994)\": 213, 'Ace Ventura: Pet Detective (1994)': 214, 'Adventures of Priscilla, Queen of the Desert, The (1994)': 215, 'Bitter Moon (1992)': 216, 'Bullets Over Broadway (1994)': 217, 'Clear and Present Danger (1994)': 218, 'Client, The (1994)': 219, 'Corrina, Corrina (1994)': 220, 'Crooklyn (1994)': 221, 'Crow, The (1994)': 222, 'Flintstones, The (1994)': 223, 'Forrest Gump (1994)': 224, 'Four Weddings and a Funeral (1994)': 225, 'Higher Learning (1995)': 226, 'I Love Trouble (1994)': 227, 'It Could Happen to You (1994)': 228, 'Jungle Book, The (1994)': 229, 'Lion King, The (1994)': 230, 'Little Buddha (1993)': 231, \"Wes Craven's New Nightmare (Nightmare on Elm Street Part 7: Freddy's Finale, A) (1994)\": 232, 'Mask, The (1994)': 233, 'Maverick (1994)': 234, 'Naked Gun 33 1/3: The Final Insult (1994)': 235, 'Paper, The (1994)': 236, 'Reality Bites (1994)': 237, 'Red Rock West (1992)': 238, 'Richie Rich (1994)': 239, 'River Wild, The (1994)': 240, 'Speed (1994)': 241, 'Speechless (1994)': 242, 'Timecop (1994)': 243, 'True Lies (1994)': 244, 'When a Man Loves a Woman (1994)': 245, 'Wolf (1994)': 246, 'Wyatt Earp (1994)': 247, 'Street Fighter (1994)': 248, 'Highlander III: The Sorcerer (a.k.a. Highlander: The Final Dimension) (1994)': 249, 'In the Mouth of Madness (1995)': 250, 'Addams Family Values (1993)': 251, 'Age of Innocence, The (1993)': 252, 'Airheads (1994)': 253, 'Another Stakeout (1993)': 254, 'Bad Girls (1994)': 255, 'Barcelona (1994)': 256, 'Beverly Hillbillies, The (1993)': 257, 'Beverly Hills Cop III (1994)': 258, 'Black Beauty (1994)': 259, 'Blink (1994)': 260, 'Blown Away (1994)': 261, 'Body Snatchers (1993)': 262, 'Boxing Helena (1993)': 263, 'Bronx Tale, A (1993)': 264, \"Carlito's Way (1993)\": 265, \"City Slickers II: The Legend of Curly's Gold (1994)\": 266, 'Cliffhanger (1993)': 267, 'Coneheads (1993)': 268, 'Cops and Robbersons (1994)': 269, 'Dave (1993)': 270, 'Dazed and Confused (1993)': 271, 'Demolition Man (1993)': 272, 'Even Cowgirls Get the Blues (1993)': 273, 'Fatal Instinct (1993)': 274, 'Farewell My Concubine (Ba wang bie ji) (1993)': 275, 'Fearless (1993)': 276, 'With Honors (1994)': 277, 'Firm, The (1993)': 278, 'Free Willy (1993)': 279, 'Fugitive, The (1993)': 280, 'Geronimo: An American Legend (1993)': 281, 'Hard Target (1993)': 282, 'Hot Shots! Part Deux (1993)': 283, 'Englishman Who Went Up a Hill But Came Down a Mountain, The (1995)': 284, 'Hudsucker Proxy, The (1994)': 285, 'In the Line of Fire (1993)': 286, 'In the Name of the Father (1993)': 287, \"What's Love Got to Do with It? (1993)\": 288, 'Judgment Night (1993)': 289, 'Jurassic Park (1993)': 290, 'Kalifornia (1993)': 291, 'Killing Zoe (1994)': 292, 'Last Action Hero (1993)': 293, 'Made in America (1993)': 294, 'Malice (1993)': 295, 'Man Without a Face, The (1993)': 296, 'Manhattan Murder Mystery (1993)': 297, 'Menace II Society (1993)': 298, 'Executive Decision (1996)': 299, 'Much Ado About Nothing (1993)': 300, 'Mrs. Doubtfire (1993)': 301, 'Naked (1993)': 302, 'Next Karate Kid, The (1994)': 303, 'North (1994)': 304, 'Orlando (1992)': 305, 'Perfect World, A (1993)': 306, 'Philadelphia (1993)': 307, 'Piano, The (1993)': 308, 'Program, The (1993)': 309, 'Ref, The (1994)': 310, 'Remains of the Day, The (1993)': 311, 'Renaissance Man (1994)': 312, 'Rising Sun (1993)': 313, 'RoboCop 3 (1993)': 314, 'Robin Hood: Men in Tights (1993)': 315, 'Romeo Is Bleeding (1993)': 316, 'Rudy (1993)': 317, \"Schindler's List (1993)\": 318, 'Searching for Bobby Fischer (1993)': 319, 'Secret Garden, The (1993)': 320, 'Serial Mom (1994)': 321, 'Shadow, The (1994)': 322, 'Shadowlands (1993)': 323, 'Short Cuts (1993)': 324, 'Sirens (1994)': 325, 'Six Degrees of Separation (1993)': 326, 'Sleepless in Seattle (1993)': 327, 'Sliver (1993)': 328, 'Blade Runner (1982)': 329, 'Son in Law (1993)': 330, 'So I Married an Axe Murderer (1993)': 331, 'Striking Distance (1993)': 332, 'Super Mario Bros. (1993)': 333, 'Terminal Velocity (1994)': 334, 'Thirty-Two Short Films About Glenn Gould (1993)': 335, 'Threesome (1994)': 336, 'Nightmare Before Christmas, The (1993)': 337, 'Three Musketeers, The (1993)': 338, 'Tombstone (1993)': 339, 'True Romance (1993)': 340, 'Pagemaster, The (1994)': 341, 'Welcome to the Dollhouse (1995)': 342, 'Little Big League (1994)': 343, 'Little Rascals, The (1994)': 344, 'Celluloid Closet, The (1995)': 345, 'Brady Bunch Movie, The (1995)': 346, 'Home Alone (1990)': 347, 'Ghost (1990)': 348, 'Aladdin (1992)': 349, 'Terminator 2: Judgment Day (1991)': 350, 'Dances with Wolves (1990)': 351, 'Batman (1989)': 352, 'Silence of the Lambs, The (1991)': 353, 'Snow White and the Seven Dwarfs (1937)': 354, 'Beauty and the Beast (1991)': 355, 'Pinocchio (1940)': 356, 'Pretty Woman (1990)': 357, 'Wild Bunch, The (1969)': 358, 'One Fine Day (1996)': 359, 'Candyman: Farewell to the Flesh (1995)': 360, 'Fargo (1996)': 361, 'Homeward Bound II: Lost in San Francisco (1996)': 362, 'Heavy Metal (1981)': 363, 'Hellraiser: Bloodline (1996)': 364, 'Pallbearer, The (1996)': 365, 'Jane Eyre (1996)': 366, 'Aristocats, The (1970)': 367, 'Last Supper, The (1995)': 368, 'Primal Fear (1996)': 369, 'All Dogs Go to Heaven 2 (1996)': 370, 'Sgt. Bilko (1996)': 371, 'Diabolique (1996)': 372, 'Courage Under Fire (1996)': 373, 'Mission: Impossible (1996)': 374, 'Moll Flanders (1996)': 375, 'Dragonheart (1996)': 376, 'James and the Giant Peach (1996)': 377, 'Fear (1996)': 378, 'Kids in the Hall: Brain Candy (1996)': 379, 'Mystery Science Theater 3000: The Movie (1996)': 380, 'Space Jam (1996)': 381, 'Barbarella (1968)': 382, 'Some Folks Call It a Sling Blade (1993)': 383, 'Operation Dumbo Drop (1995)': 384, 'Substitute, The (1996)': 385, 'Quest, The (1996)': 386, 'Mulholland Falls (1996)': 387, 'Truth About Cats & Dogs, The (1996)': 388, 'Oliver & Company (1988)': 389, 'Flipper (1996)': 390, 'Dead Man (1995)': 391, 'Multiplicity (1996)': 392, 'Wallace & Gromit: The Best of Aardman Animation (1996)': 393, 'Craft, The (1996)': 394, 'Great White Hype, The (1996)': 395, 'Cold Comfort Farm (1995)': 396, 'Rock, The (1996)': 397, 'Twister (1996)': 398, 'Barb Wire (1996)': 399, 'Ghost in the Shell (Kôkaku kidôtai) (1995)': 400, 'Thinner (1996)': 401, 'Spy Hard (1996)': 402, 'Wallace & Gromit: A Close Shave (1995)': 403, 'Arrival, The (1996)': 404, 'Dr. Strangelove or: How I Learned to Stop Worrying and Love the Bomb (1964)': 405, 'Phantom, The (1996)': 406, 'Striptease (1996)': 407, 'Jack (1996)': 408, 'I Shot Andy Warhol (1996)': 409, 'Trainspotting (1996)': 410, 'Independence Day (a.k.a. ID4) (1996)': 411, 'Stealing Beauty (1996)': 412, 'Fan, The (1996)': 413, 'Hunchback of Notre Dame, The (1996)': 414, 'Cable Guy, The (1996)': 415, 'Kingpin (1996)': 416, 'Eraser (1996)': 417, 'Nutty Professor, The (1996)': 418, 'Daylight (1996)': 419, 'Frighteners, The (1996)': 420, 'Lone Star (1996)': 421, 'Harriet the Spy (1996)': 422, 'Phenomenon (1996)': 423, \"She's the One (1996)\": 424, 'Time to Kill, A (1996)': 425, 'Fled (1996)': 426, 'Kazaam (1996)': 427, 'Very Brady Sequel, A (1996)': 428, 'Adventures of Pinocchio, The (1996)': 429, \"Joe's Apartment (1996)\": 430, 'First Wives Club, The (1996)': 431, 'Ransom (1996)': 432, 'High School High (1996)': 433, 'Chain Reaction (1996)': 434, 'Matilda (1996)': 435, 'Emma (1996)': 436, 'Crow: City of Angels, The (1996)': 437, 'Tales from the Crypt Presents: Bordello of Blood (1996)': 438, 'Spitfire Grill, The (1996)': 439, 'Escape from L.A. (1996)': 440, 'Basquiat (1996)': 441, 'Tin Cup (1996)': 442, 'Godfather, The (1972)': 443, 'Supercop (Police Story 3: Supercop) (Jing cha gu shi III: Chao ji jing cha) (1992)': 444, 'Bound (1996)': 445, 'Relic, The (1997)': 446, 'Island of Dr. Moreau, The (1996)': 447, 'Bulletproof (1996)': 448, 'Halloween: The Curse of Michael Myers (Halloween 6: The Curse of Michael Myers) (1995)': 449, 'Philadelphia Story, The (1940)': 450, \"Singin' in the Rain (1952)\": 451, 'American in Paris, An (1951)': 452, \"Breakfast at Tiffany's (1961)\": 453, 'Vertigo (1958)': 454, 'Rear Window (1954)': 455, 'It Happened One Night (1934)': 456, 'Gaslight (1944)': 457, 'North by Northwest (1959)': 458, 'Apartment, The (1960)': 459, 'Some Like It Hot (1959)': 460, 'Charade (1963)': 461, 'Casablanca (1942)': 462, 'Maltese Falcon, The (1941)': 463, 'My Fair Lady (1964)': 464, 'Sabrina (1954)': 465, 'Roman Holiday (1953)': 466, 'Meet Me in St. Louis (1944)': 467, 'Wizard of Oz, The (1939)': 468, 'Gone with the Wind (1939)': 469, 'My Favorite Year (1982)': 470, 'Sunset Blvd. (a.k.a. Sunset Boulevard) (1950)': 471, 'Citizen Kane (1941)': 472, '2001: A Space Odyssey (1968)': 473, 'All About Eve (1950)': 474, 'Rebecca (1940)': 475, 'Notorious (1946)': 476, 'Spellbound (1945)': 477, 'Affair to Remember, An (1957)': 478, 'To Catch a Thief (1955)': 479, 'Father of the Bride (1950)': 480, 'Gigi (1958)': 481, 'Adventures of Robin Hood, The (1938)': 482, 'Laura (1944)': 483, 'Ghost and Mrs. Muir, The (1947)': 484, 'Top Hat (1935)': 485, 'To Be or Not to Be (1942)': 486, 'Giant (1956)': 487, 'East of Eden (1955)': 488, 'Thin Man, The (1934)': 489, 'His Girl Friday (1940)': 490, 'Around the World in 80 Days (1956)': 491, \"It's a Wonderful Life (1946)\": 492, 'Mr. Smith Goes to Washington (1939)': 493, 'Bringing Up Baby (1938)': 494, '39 Steps, The (1935)': 495, 'Night of the Living Dead (1968)': 496, 'African Queen, The (1951)': 497, 'Cat on a Hot Tin Roof (1958)': 498, 'Fly Away Home (1996)': 499, 'Michael Collins (1996)': 500, 'Big Night (1996)': 501, 'Last Man Standing (1996)': 502, '2 Days in the Valley (1996)': 503, 'Extreme Measures (1996)': 504, 'Glimmer Man, The (1996)': 505, 'D3: The Mighty Ducks (1996)': 506, 'Apple Dumpling Gang, The (1975)': 507, 'Escape to Witch Mountain (1975)': 508, 'Love Bug, The (1969)': 509, 'Herbie Rides Again (1974)': 510, 'Old Yeller (1957)': 511, 'Parent Trap, The (1961)': 512, 'Pollyanna (1960)': 513, 'Homeward Bound: The Incredible Journey (1993)': 514, 'Swiss Family Robinson (1960)': 515, '20,000 Leagues Under the Sea (1954)': 516, 'Cool Runnings (1993)': 517, 'Angels in the Outfield (1994)': 518, 'Cinderella (1950)': 519, 'Winnie the Pooh and the Blustery Day (1968)': 520, 'Three Caballeros, The (1945)': 521, 'Sword in the Stone, The (1963)': 522, 'Robin Hood: Prince of Thieves (1991)': 523, 'Mary Poppins (1964)': 524, 'Dumbo (1941)': 525, \"Pete's Dragon (1977)\": 526, 'Bedknobs and Broomsticks (1971)': 527, 'Alice in Wonderland (1951)': 528, 'Fox and the Hound, The (1981)': 529, 'Freeway (1996)': 530, 'Sound of Music, The (1965)': 531, 'Die Hard (1988)': 532, 'Lawnmower Man, The (1992)': 533, 'Secrets & Lies (1996)': 534, 'That Thing You Do! (1996)': 535, 'Long Kiss Goodnight, The (1996)': 536, 'Ghost and the Darkness, The (1996)': 537, 'Looking for Richard (1996)': 538, 'Everyone Says I Love You (1996)': 539, \"William Shakespeare's Romeo + Juliet (1996)\": 540, 'Swingers (1996)': 541, 'Sleepers (1996)': 542, 'Aladdin and the King of Thieves (1996)': 543, 'Willy Wonka & the Chocolate Factory (1971)': 544, 'Sleeper (1973)': 545, 'Bananas (1971)': 546, 'Fish Called Wanda, A (1988)': 547, \"Monty Python's Life of Brian (1979)\": 548, 'Victor/Victoria (1982)': 549, 'Candidate, The (1972)': 550, 'Great Race, The (1965)': 551, 'Bonnie and Clyde (1967)': 552, 'Dial M for Murder (1954)': 553, 'Dirty Dancing (1987)': 554, 'Reservoir Dogs (1992)': 555, 'Platoon (1986)': 556, \"Weekend at Bernie's (1989)\": 557, 'Basic Instinct (1992)': 558, 'Doors, The (1991)': 559, 'Crying Game, The (1992)': 560, 'Glengarry Glen Ross (1992)': 561, \"Sophie's Choice (1982)\": 562, 'E.T. the Extra-Terrestrial (1982)': 563, 'Christmas Carol, A (1938)': 564, 'Days of Thunder (1990)': 565, 'Top Gun (1986)': 566, 'Rebel Without a Cause (1955)': 567, 'Streetcar Named Desire, A (1951)': 568, \"Microcosmos (Microcosmos: Le peuple de l'herbe) (1996)\": 569, 'People vs. Larry Flynt, The (1996)': 570, 'On Golden Pond (1981)': 571, 'Return of the Pink Panther, The (1975)': 572, 'Drop Dead Fred (1991)': 573, 'Abyss, The (1989)': 574, 'Fog, The (1980)': 575, 'Escape from New York (1981)': 576, 'Howling, The (1980)': 577, 'Jean de Florette (1986)': 578, 'Manon of the Spring (Manon des sources) (1986)': 579, 'Private Benjamin (1980)': 580, 'Monty Python and the Holy Grail (1975)': 581, 'When We Were Kings (1996)': 582, 'Wallace & Gromit: The Wrong Trousers (1993)': 583, 'Return of Martin Guerre, The (Retour de Martin Guerre, Le) (1982)': 584, 'Bob Roberts (1992)': 585, 'Cinema Paradiso (Nuovo cinema Paradiso) (1989)': 586, 'Cook the Thief His Wife & Her Lover, The (1989)': 587, 'Delicatessen (1991)': 588, 'Double Life of Veronique, The (Double Vie de Véronique, La) (1991)': 589, 'Enchanted April (1992)': 590, 'Paths of Glory (1957)': 591, 'Grifters, The (1990)': 592, 'English Patient, The (1996)': 593, 'My Left Foot (1989)': 594, 'Sex, Lies, and Videotape (1989)': 595, 'Passion Fish (1992)': 596, 'Strictly Ballroom (1992)': 597, 'Thin Blue Line, The (1988)': 598, 'Tie Me Up! Tie Me Down! (¡Átame!) (1990)': 599, 'Madonna: Truth or Dare (1991)': 600, \"One Flew Over the Cuckoo's Nest (1975)\": 601, \"Cheech and Chong's Up in Smoke (1978)\": 602, 'Star Wars: Episode V - The Empire Strikes Back (1980)': 603, 'Princess Bride, The (1987)': 604, 'Raiders of the Lost Ark (Indiana Jones and the Raiders of the Lost Ark) (1981)': 605, 'Brazil (1985)': 606, 'Aliens (1986)': 607, 'Good, the Bad and the Ugly, The (Buono, il brutto, il cattivo, Il) (1966)': 608, 'Withnail & I (1987)': 609, '12 Angry Men (1957)': 610, 'Lawrence of Arabia (1962)': 611, 'Clockwork Orange, A (1971)': 612, 'To Kill a Mockingbird (1962)': 613, 'Apocalypse Now (1979)': 614, \"Once Upon a Time in the West (C'era una volta il West) (1968)\": 615, 'Star Wars: Episode VI - Return of the Jedi (1983)': 616, 'Wings of Desire (Himmel über Berlin, Der) (1987)': 617, 'Third Man, The (1949)': 618, 'Goodfellas (1990)': 619, 'Alien (1979)': 620, 'Army of Darkness (1993)': 621, 'Big Blue, The (Grand bleu, Le) (1988)': 622, 'Ran (1985)': 623, 'Killer, The (Die xue shuang xiong) (1989)': 624, 'Psycho (1960)': 625, 'Blues Brothers, The (1980)': 626, 'Godfather: Part II, The (1974)': 627, 'Full Metal Jacket (1987)': 628, 'Grand Day Out with Wallace and Gromit, A (1989)': 629, 'Henry V (1989)': 630, 'Amadeus (1984)': 631, 'Quiet Man, The (1952)': 632, 'Once Upon a Time in America (1984)': 633, 'Raging Bull (1980)': 634, 'Annie Hall (1977)': 635, 'Right Stuff, The (1983)': 636, 'Stalker (1979)': 637, 'Boot, Das (Boat, The) (1981)': 638, 'Sting, The (1973)': 639, 'Harold and Maude (1971)': 640, 'Seventh Seal, The (Sjunde inseglet, Det) (1957)': 641, 'Local Hero (1983)': 642, 'Terminator, The (1984)': 643, 'Dead Alive (Braindead) (1992)': 644, 'Glory (1989)': 645, 'Rosencrantz and Guildenstern Are Dead (1990)': 646, 'Manhattan (1979)': 647, \"Miller's Crossing (1990)\": 648, 'Dead Poets Society (1989)': 649, 'Graduate, The (1967)': 650, 'Touch of Evil (1958)': 651, 'Femme Nikita, La (Nikita) (1990)': 652, 'Bridge on the River Kwai, The (1957)': 653, '8 1/2 (8½) (1963)': 654, 'Chinatown (1974)': 655, 'Day the Earth Stood Still, The (1951)': 656, 'Treasure of the Sierra Madre, The (1948)': 657, 'Bad Taste (1987)': 658, 'Duck Soup (1933)': 659, 'Better Off Dead... (1985)': 660, 'Shining, The (1980)': 661, 'Stand by Me (1986)': 662, 'M (1931)': 663, 'Evil Dead II (Dead by Dawn) (1987)': 664, 'Great Escape, The (1963)': 665, 'Deer Hunter, The (1978)': 666, 'Diva (1981)': 667, 'Groundhog Day (1993)': 668, 'Unforgiven (1992)': 669, 'Manchurian Candidate, The (1962)': 670, 'Pump Up the Volume (1990)': 671, 'Arsenic and Old Lace (1944)': 672, 'Back to the Future (1985)': 673, 'Fried Green Tomatoes (1991)': 674, 'Patton (1970)': 675, 'Down by Law (1986)': 676, 'Akira (1988)': 677, 'Highlander (1986)': 678, 'Cool Hand Luke (1967)': 679, 'Cyrano de Bergerac (1990)': 680, 'Young Frankenstein (1974)': 681, 'Night on Earth (1991)': 682, 'Raise the Red Lantern (Da hong deng long gao gao gua) (1991)': 683, 'Great Dictator, The (1940)': 684, 'Fantasia (1940)': 685, 'High Noon (1952)': 686, 'Big Sleep, The (1946)': 687, 'Heathers (1989)': 688, 'Somewhere in Time (1980)': 689, 'Ben-Hur (1959)': 690, 'This Is Spinal Tap (1984)': 691, 'Koyaanisqatsi (a.k.a. Koyaanisqatsi: Life Out of Balance) (1983)': 692, 'Some Kind of Wonderful (1987)': 693, 'Indiana Jones and the Last Crusade (1989)': 694, 'Being There (1979)': 695, 'Gandhi (1982)': 696, 'Unbearable Lightness of Being, The (1988)': 697, 'Room with a View, A (1986)': 698, 'Real Genius (1985)': 699, 'Pink Floyd: The Wall (1982)': 700, 'Killing Fields, The (1984)': 701, 'My Life as a Dog (Mitt liv som hund) (1985)': 702, 'Forbidden Planet (1956)': 703, 'Field of Dreams (1989)': 704, 'Man Who Would Be King, The (1975)': 705, 'Butch Cassidy and the Sundance Kid (1969)': 706, 'Paris, Texas (1984)': 707, 'When Harry Met Sally... (1989)': 708, 'Alien³ (a.k.a. Alien 3) (1992)': 709, 'American Werewolf in London, An (1981)': 710, 'Amityville Horror, The (1979)': 711, 'Birds, The (1963)': 712, 'Blob, The (1958)': 713, \"Dracula (Bram Stoker's Dracula) (1992)\": 714, 'Bride of Frankenstein, The (Bride of Frankenstein) (1935)': 715, 'Candyman (1992)': 716, 'Cape Fear (1991)': 717, 'Cape Fear (1962)': 718, 'Carrie (1976)': 719, 'Cat People (1982)': 720, 'Nightmare on Elm Street, A (1984)': 721, 'Nosferatu (Nosferatu, eine Symphonie des Grauens) (1922)': 722, 'Omen, The (1976)': 723, 'Mirror Has Two Faces, The (1996)': 724, 'Breaking the Waves (1996)': 725, 'Star Trek: First Contact (1996)': 726, 'Shine (1996)': 727, 'Sling Blade (1996)': 728, 'Jingle All the Way (1996)': 729, \"Preacher's Wife, The (1996)\": 730, 'Crucible, The (1996)': 731, '101 Dalmatians (1996)': 732, 'Die Hard 2 (1990)': 733, 'Star Trek: The Motion Picture (1979)': 734, 'Star Trek VI: The Undiscovered Country (1991)': 735, 'Star Trek V: The Final Frontier (1989)': 736, 'Star Trek II: The Wrath of Khan (1982)': 737, 'Star Trek III: The Search for Spock (1984)': 738, 'Star Trek IV: The Voyage Home (1986)': 739, 'Batman Returns (1992)': 740, 'Young Guns (1988)': 741, 'Young Guns II (1990)': 742, 'Grease (1978)': 743, 'Grease 2 (1982)': 744, 'Under Siege (1992)': 745, 'Jaws (1975)': 746, 'Jaws 2 (1978)': 747, 'Jaws 3-D (1983)': 748, 'My Fellow Americans (1996)': 749, 'Mars Attacks! (1996)': 750, 'Citizen Ruth (1996)': 751, 'Jerry Maguire (1996)': 752, 'Raising Arizona (1987)': 753, 'Tin Men (1987)': 754, 'Sneakers (1992)': 755, \"Marvin's Room (1996)\": 756, 'Ghosts of Mississippi (1996)': 757, 'Beavis and Butt-Head Do America (1996)': 758, 'Scream (1996)': 759, 'Last of the Mohicans, The (1992)': 760, 'Michael (1996)': 761, 'Hamlet (1996)': 762, 'Mother (1996)': 763, 'Evita (1996)': 764, 'Murder at 1600 (1997)': 765, 'Fierce Creatures (1997)': 766, 'First Strike (Police Story 4: First Strike) (Ging chaat goo si 4: Ji gaan daan yam mo) (1996)': 767, 'Beverly Hills Ninja (1997)': 768, 'Metro (1997)': 769, \"Dante's Peak (1997)\": 770, 'Benny & Joon (1993)': 771, \"McHale's Navy (1997)\": 772, 'Kolya (Kolja) (1996)': 773, 'Waiting for Guffman (1996)': 774, 'Beautician and the Beast, The (1997)': 775, 'Fools Rush In (1997)': 776, 'Absolute Power (1997)': 777, \"Vegas Vacation (National Lampoon's Las Vegas Vacation) (1997)\": 778, 'Lost Highway (1997)': 779, 'Donnie Brasco (1997)': 780, 'Jungle2Jungle (a.k.a. Jungle 2 Jungle) (1997)': 781, 'Private Parts (1997)': 782, 'Saint, The (1997)': 783, \"Smilla's Sense of Snow (1997)\": 784, 'Crash (1996)': 785, 'Liar Liar (1997)': 786, 'Selena (1997)': 787, \"Devil's Own, The (1997)\": 788, 'Anaconda (1997)': 789, 'Grosse Pointe Blank (1997)': 790, \"Romy and Michele's High School Reunion (1997)\": 791, 'Volcano (1997)': 792, 'Austin Powers: International Man of Mystery (1997)': 793, 'Breakdown (1997)': 794, 'Fifth Element, The (1997)': 795, 'Shall We Dance? (Shall We Dansu?) (1996)': 796, 'Addicted to Love (1997)': 797, 'Brassed Off (1996)': 798, 'Lost World: Jurassic Park, The (1997)': 799, 'Con Air (1997)': 800, 'Speed 2: Cruise Control (1997)': 801, 'Batman & Robin (1997)': 802, 'Hercules (1997)': 803, \"My Best Friend's Wedding (1997)\": 804, 'Face/Off (1997)': 805, 'Men in Black (a.k.a. MIB) (1997)': 806, 'Contact (1997)': 807, 'G.I. Jane (1997)': 808, 'Conan the Barbarian (1982)': 809, 'George of the Jungle (1997)': 810, 'Cop Land (1997)': 811, 'Event Horizon (1997)': 812, 'Spawn (1997)': 813, 'Air Bud (1997)': 814, 'Picture Perfect (1997)': 815, 'In the Company of Men (1997)': 816, 'Conspiracy Theory (1997)': 817, 'Mimic (1997)': 818, 'Air Force One (1997)': 819, 'Hunt for Red October, The (1990)': 820, 'My Own Private Idaho (1991)': 821, 'In & Out (1997)': 822, 'Edge, The (1997)': 823, 'Peacemaker, The (1997)': 824, 'L.A. Confidential (1997)': 825, 'Seven Years in Tibet (1997)': 826, 'Kiss the Girls (1997)': 827, 'Game, The (1997)': 828, 'U Turn (1997)': 829, \"Ulee's Gold (1997)\": 830, 'Ice Storm, The (1997)': 831, 'Chasing Amy (1997)': 832, 'Full Monty, The (1997)': 833, 'Mrs. Brown (a.k.a. Her Majesty, Mrs. Brown) (1997)': 834, 'I Know What You Did Last Summer (1997)': 835, \"The Devil's Advocate (1997)\": 836, 'House of Yes, The (1997)': 837, 'Fast, Cheap & Out of Control (1997)': 838, 'Gattaca (1997)': 839, 'Life Less Ordinary, A (1997)': 840, 'Stripes (1981)': 841, 'Bean (1997)': 842, 'Rainmaker, The (1997)': 843, 'Boogie Nights (1997)': 844, 'Witness (1985)': 845, 'Starship Troopers (1997)': 846, 'Joy Luck Club, The (1993)': 847, 'Sliding Doors (1998)': 848, 'Mortal Kombat: Annihilation (1997)': 849, 'Truman Show, The (1998)': 850, 'Wings of the Dove, The (1997)': 851, 'Red Corner (1997)': 852, 'Jackal, The (1997)': 853, 'Anastasia (1997)': 854, 'Man Who Knew Too Little, The (1997)': 855, 'Alien: Resurrection (1997)': 856, 'Amistad (1997)': 857, 'Apostle, The (1997)': 858, 'Deconstructing Harry (1997)': 859, 'Flubber (1997)': 860, 'Good Will Hunting (1997)': 861, 'Home Alone 3 (1997)': 862, 'Midnight in the Garden of Good and Evil (1997)': 863, 'Mouse Hunt (1997)': 864, 'Scream 2 (1997)': 865, 'Sweet Hereafter, The (1997)': 866, 'Titanic (1997)': 867, 'Tomorrow Never Dies (1997)': 868, 'Postman, The (1997)': 869, 'Horse Whisperer, The (1998)': 870, 'Jackie Brown (1997)': 871, 'Kundun (1997)': 872, 'Big Lebowski, The (1998)': 873, 'My Life in Pink (Ma vie en rose) (1997)': 874, 'Great Expectations (1998)': 875, 'Wag the Dog (1997)': 876, 'Dark City (1998)': 877, 'Hard Rain (1998)': 878, 'Half Baked (1998)': 879, 'Fallen (1998)': 880, 'Spice World (1997)': 881, 'Deep Rising (1998)': 882, 'Replacement Killers, The (1998)': 883, 'Blues Brothers 2000 (1998)': 884, 'Wedding Singer, The (1998)': 885, 'Sphere (1998)': 886, 'Palmetto (1998)': 887, 'As Good as It Gets (1997)': 888, 'U.S. Marshals (1998)': 889, 'Everest (1998)': 890, 'Suicide Kings (1997)': 891, 'Man in the Iron Mask, The (1998)': 892, 'Wild Things (1998)': 893, 'Primary Colors (1998)': 894, 'Object of My Affection, The (1998)': 895, 'Lost in Space (1998)': 896, 'Mercury Rising (1998)': 897, 'Spanish Prisoner, The (1997)': 898, 'City of Angels (1998)': 899, 'Last Days of Disco, The (1998)': 900, 'He Got Game (1998)': 901, 'Zero Effect (1998)': 902, 'Borrowers, The (1997)': 903, 'Species II (1998)': 904, 'Big Hit, The (1998)': 905, 'Misérables, Les (1998)': 906, 'Deep Impact (1998)': 907, 'Godzilla (1998)': 908, 'Bulworth (1998)': 909, 'Fear and Loathing in Las Vegas (1998)': 910, 'Opposite of Sex, The (1998)': 911, 'Hope Floats (1998)': 912, 'Insomnia (1997)': 913, 'Perfect Murder, A (1998)': 914, 'Six Days Seven Nights (1998)': 915, \"Can't Hardly Wait (1998)\": 916, 'Mulan (1998)': 917, 'X-Files: Fight the Future, The (1998)': 918, 'Dr. Dolittle (1998)': 919, 'Out of Sight (1998)': 920, 'Picnic at Hanging Rock (1975)': 921, 'Smoke Signals (1998)': 922, \"Buffalo '66 (a.k.a. Buffalo 66) (1998)\": 923, 'Armageddon (1998)': 924, 'Lethal Weapon 4 (1998)': 925, 'Small Soldiers (1998)': 926, 'Pi (1998)': 927, \"There's Something About Mary (1998)\": 928, 'Plan 9 from Outer Space (1959)': 929, 'All Quiet on the Western Front (1930)': 930, 'Mutiny on the Bounty (1935)': 931, 'Best Years of Our Lives, The (1946)': 932, 'From Here to Eternity (1953)': 933, 'On the Waterfront (1954)': 934, 'West Side Story (1961)': 935, 'Man for All Seasons, A (1966)': 936, 'In the Heat of the Night (1967)': 937, 'Oliver! (1968)': 938, 'Midnight Cowboy (1969)': 939, 'French Connection, The (1971)': 940, 'Rocky (1976)': 941, 'Kramer vs. Kramer (1979)': 942, 'Ordinary People (1980)': 943, 'Chariots of Fire (1981)': 944, 'Terms of Endearment (1983)': 945, 'Out of Africa (1985)': 946, 'Last Emperor, The (1987)': 947, 'Rain Man (1988)': 948, 'Driving Miss Daisy (1989)': 949, 'Take the Money and Run (1969)': 950, 'Klute (1971)': 951, 'Repo Man (1984)': 952, 'Metropolitan (1990)': 953, 'Labyrinth (1986)': 954, 'Breakfast Club, The (1985)': 955, \"Nightmare on Elm Street 2: Freddy's Revenge, A (1985)\": 956, 'Nightmare on Elm Street 3: Dream Warriors, A (1987)': 957, 'Nightmare on Elm Street 4: The Dream Master, A (1988)': 958, 'Nightmare on Elm Street 5: The Dream Child, A (1989)': 959, 'Friday the 13th (1980)': 960, 'Friday the 13th Part 2 (1981)': 961, 'Friday the 13th Part 3: 3D (1982)': 962, 'Friday the 13th Part IV: The Final Chapter (1984)': 963, 'Friday the 13th Part VI: Jason Lives (1986)': 964, 'Halloween (1978)': 965, 'Halloween II (1981)': 966, \"Child's Play (1988)\": 967, 'Poltergeist (1982)': 968, 'Poltergeist II: The Other Side (1986)': 969, 'Exorcist, The (1973)': 970, 'Lethal Weapon (1987)': 971, 'Lethal Weapon 2 (1989)': 972, 'Lethal Weapon 3 (1992)': 973, 'Gremlins (1984)': 974, 'Gremlins 2: The New Batch (1990)': 975, 'Goonies, The (1985)': 976, 'Mask of Zorro, The (1998)': 977, 'Soylent Green (1973)': 978, 'Metropolis (1927)': 979, 'Back to the Future Part II (1989)': 980, 'Back to the Future Part III (1990)': 981, 'Poseidon Adventure, The (1972)': 982, 'Freaky Friday (1977)': 983, 'Absent-Minded Professor, The (1961)': 984, 'Bambi (1942)': 985, 'Seven Samurai (Shichinin no samurai) (1954)': 986, 'Dangerous Liaisons (1988)': 987, 'Dune (1984)': 988, 'Last Temptation of Christ, The (1988)': 989, 'Godfather: Part III, The (1990)': 990, 'Lolita (1997)': 991, 'Saving Private Ryan (1998)': 992, 'Black Cauldron, The (1985)': 993, 'Black Hole, The (1979)': 994, 'D2: The Mighty Ducks (1994)': 995, 'Flight of the Navigator (1986)': 996, 'Great Mouse Detective, The (1986)': 997, 'Hocus Pocus (1993)': 998, 'Honey, I Blew Up the Kid (1992)': 999, 'Honey, I Shrunk the Kids (1989)': 1000, 'Negotiator, The (1998)': 1001, 'Parent Trap, The (1998)': 1002, 'BASEketball (1998)': 1003, 'Roger & Me (1989)': 1004, 'Purple Rose of Cairo, The (1985)': 1005, 'Doctor Zhivago (1965)': 1006, 'Fanny and Alexander (Fanny och Alexander) (1982)': 1007, 'Tender Mercies (1983)': 1008, 'And the Band Played On (1993)': 1009, \"'burbs, The (1989)\": 1010, 'Blue Velvet (1986)': 1011, 'Jungle Book, The (1967)': 1012, 'Lady and the Tramp (1955)': 1013, 'Little Mermaid, The (1989)': 1014, 'Mighty Ducks, The (1992)': 1015, 'Muppet Christmas Carol, The (1992)': 1016, '101 Dalmatians (One Hundred and One Dalmatians) (1961)': 1017, 'Peter Pan (1953)': 1018, 'Popeye (1980)': 1019, 'Rescuers Down Under, The (1990)': 1020, 'Rescuers, The (1977)': 1021, 'Return of Jafar, The (1994)': 1022, 'Return to Oz (1985)': 1023, 'Rocketeer, The (1991)': 1024, 'Sleeping Beauty (1959)': 1025, 'Splash (1984)': 1026, 'Tron (1982)': 1027, 'Swing Kids (1993)': 1028, 'Halloween H20: 20 Years Later (Halloween 7: The Revenge of Laurie Strode) (1998)': 1029, 'L.A. Story (1991)': 1030, 'Jerk, The (1979)': 1031, \"Dead Men Don't Wear Plaid (1982)\": 1032, 'Man with Two Brains, The (1983)': 1033, 'Grand Canyon (1991)': 1034, 'Outsiders, The (1983)': 1035, 'Indiana Jones and the Temple of Doom (1984)': 1036, 'Lord of the Rings, The (1978)': 1037, '1984 (Nineteen Eighty-Four) (1984)': 1038, 'Dead Zone, The (1983)': 1039, 'Cujo (1983)': 1040, 'Children of the Corn (1984)': 1041, 'All Dogs Go to Heaven (1989)': 1042, 'Addams Family, The (1991)': 1043, 'Ever After: A Cinderella Story (1998)': 1044, 'Snake Eyes (1998)': 1045, 'Atlantic City (1980)': 1046, \"Who's Afraid of Virginia Woolf? (1966)\": 1047, 'Adventures in Babysitting (1987)': 1048, 'Weird Science (1985)': 1049, 'Doctor Dolittle (1967)': 1050, 'Nutty Professor, The (1963)': 1051, \"Charlotte's Web (1973)\": 1052, 'Watership Down (1978)': 1053, 'Secret of NIMH, The (1982)': 1054, 'Dark Crystal, The (1982)': 1055, 'American Tail, An (1986)': 1056, 'American Tail: Fievel Goes West, An (1991)': 1057, 'Legend (1985)': 1058, 'Sixteen Candles (1984)': 1059, 'Pretty in Pink (1986)': 1060, \"St. Elmo's Fire (1985)\": 1061, 'Gods Must Be Crazy, The (1980)': 1062, 'Avengers, The (1998)': 1063, 'Slums of Beverly Hills, The (1998)': 1064, 'Henry: Portrait of a Serial Killer (1986)': 1065, \"Rosemary's Baby (1968)\": 1066, 'NeverEnding Story, The (1984)': 1067, 'NeverEnding Story II: The Next Chapter, The (1990)': 1068, 'Attack of the Killer Tomatoes! (1978)': 1069, 'Blade (1998)': 1070, 'Beetlejuice (1988)': 1071, 'Rope (1948)': 1072, 'Man Who Knew Too Much, The (1956)': 1073, 'Trouble with Harry, The (1955)': 1074, 'Strangers on a Train (1951)': 1075, '54 (1998)': 1076, 'Willow (1988)': 1077, 'Untouchables, The (1987)': 1078, 'Lifeboat (1944)': 1079, 'Shadow of a Doubt (1943)': 1080, 'Suspicion (1941)': 1081, 'Lady Vanishes, The (1938)': 1082, 'Rounders (1998)': 1083, 'Cube (1997)': 1084, 'Simon Birch (1998)': 1085, 'My Bodyguard (1980)': 1086, 'Broadcast News (1987)': 1087, 'Working Girl (1988)': 1088, 'Married to the Mob (1988)': 1089, 'Say Anything... (1989)': 1090, 'My Blue Heaven (1990)': 1091, 'Hero (1992)': 1092, 'Toys (1992)': 1093, 'Blame It on Rio (1984)': 1094, 'About Last Night... (1986)': 1095, 'Few Good Men, A (1992)': 1096, 'Indecent Proposal (1993)': 1097, 'Rush Hour (1998)': 1098, 'Ronin (1998)': 1099, 'Urban Legend (1998)': 1100, 'Pecker (1998)': 1101, 'Thing, The (1982)': 1102, 'Player, The (1992)': 1103, 'Edward Scissorhands (1990)': 1104, 'Antz (1998)': 1105, 'Night at the Roxbury, A (1998)': 1106, 'What Dreams May Come (1998)': 1107, 'Producers, The (1968)': 1108, 'History of the World: Part I (1981)': 1109, 'My Cousin Vinny (1992)': 1110, 'Nashville (1975)': 1111, '2010: The Year We Make Contact (1984)': 1112, 'Children of a Lesser God (1986)': 1113, 'Elephant Man, The (1980)': 1114, \"Bride of Chucky (Child's Play 4) (1998)\": 1115, 'Practical Magic (1998)': 1116, 'Happiness (1998)': 1117, 'Apt Pupil (1998)': 1118, 'Pleasantville (1998)': 1119, 'Soldier (1998)': 1120, 'Life Is Beautiful (La Vita è bella) (1997)': 1121, 'Orgazmo (1997)': 1122, 'Vampires (1998)': 1123, 'American History X (1998)': 1124, 'Gods and Monsters (1998)': 1125, 'Siege, The (1998)': 1126, 'Waterboy, The (1998)': 1127, 'Elizabeth (1998)': 1128, 'Velvet Goldmine (1998)': 1129, 'I Still Know What You Did Last Summer (1998)': 1130, 'Meet Joe Black (1998)': 1131, 'Runaway Train (1985)': 1132, 'Stepford Wives, The (1975)': 1133, 'Sid and Nancy (1986)': 1134, 'Big Chill, The (1983)': 1135, 'Enemy of the State (1998)': 1136, \"Bug's Life, A (1998)\": 1137, 'Central Station (Central do Brasil) (1998)': 1138, 'Waking Ned Devine (a.k.a. Waking Ned) (1998)': 1139, 'Celebration, The (Festen) (1998)': 1140, 'Godzilla (Gojira) (1954)': 1141, 'King Kong (1933)': 1142, 'King Kong (1976)': 1143, 'Desperately Seeking Susan (1985)': 1144, 'Fletch (1985)': 1145, 'Red Sonja (1985)': 1146, 'Gung Ho (1986)': 1147, 'Money Pit, The (1986)': 1148, 'View to a Kill, A (1985)': 1149, 'Police Academy (1984)': 1150, 'Police Academy 2: Their First Assignment (1985)': 1151, 'Police Academy 3: Back in Training (1986)': 1152, 'Police Academy 4: Citizens on Patrol (1987)': 1153, 'Police Academy 5: Assignment: Miami Beach (1988)': 1154, 'Police Academy 6: City Under Siege (1989)': 1155, 'Babe: Pig in the City (1998)': 1156, 'Very Bad Things (1998)': 1157, 'Psycho (1998)': 1158, 'Little Voice (1998)': 1159, 'Simple Plan, A (1998)': 1160, 'Jack Frost (1998)': 1161, 'Star Trek: Insurrection (1998)': 1162, 'Prince of Egypt, The (1998)': 1163, 'Rushmore (1998)': 1164, 'Shakespeare in Love (1998)': 1165, 'Miracle on 34th Street (1947)': 1166, 'Santa Claus: The Movie (1985)': 1167, 'Pale Rider (1985)': 1168, 'Rambo: First Blood Part II (1985)': 1169, 'First Blood (Rambo: First Blood) (1982)': 1170, 'Rambo III (1988)': 1171, 'Jewel of the Nile, The (1985)': 1172, 'Romancing the Stone (1984)': 1173, 'Cocoon (1985)': 1174, 'Cocoon: The Return (1988)': 1175, 'Rocky II (1979)': 1176, 'Rocky III (1982)': 1177, 'Rocky IV (1985)': 1178, 'Rocky V (1990)': 1179, 'Clue (1985)': 1180, 'Young Sherlock Holmes (1985)': 1181, 'Back to School (1986)': 1182, 'Karate Kid, The (1984)': 1183, 'Karate Kid, Part II, The (1986)': 1184, 'Karate Kid, Part III, The (1989)': 1185, \"Christmas Vacation (National Lampoon's Christmas Vacation) (1989)\": 1186, \"You've Got Mail (1998)\": 1187, 'Thin Red Line, The (1998)': 1188, 'Faculty, The (1998)': 1189, 'Patch Adams (1998)': 1190, 'Stepmom (1998)': 1191, 'Civil Action, A (1998)': 1192, 'Affliction (1997)': 1193, 'Playing by Heart (1998)': 1194, 'Varsity Blues (1999)': 1195, 'Virus (1999)': 1196, 'Howard the Duck (1986)': 1197, 'Fly, The (1958)': 1198, 'Fly, The (1986)': 1199, 'Fly II, The (1989)': 1200, 'Texas Chainsaw Massacre, The (1974)': 1201, 'Ruthless People (1986)': 1202, 'Name of the Rose, The (Name der Rose, Der) (1986)': 1203, \"Jumpin' Jack Flash (1986)\": 1204, 'Peggy Sue Got Married (1986)': 1205, 'Crocodile Dundee (1986)': 1206, 'Crocodile Dundee II (1988)': 1207, 'Soul Man (1986)': 1208, 'Color of Money, The (1986)': 1209, 'Heartbreak Ridge (1986)': 1210, '¡Three Amigos! (1986)': 1211, \"She's All That (1999)\": 1212, 'Payback (1999)': 1213, 'Blast from the Past (1999)': 1214, 'Message in a Bottle (1999)': 1215, 'October Sky (1999)': 1216, 'Office Space (1999)': 1217, '200 Cigarettes (1999)': 1218, '8MM (1999)': 1219, 'Other Sister, The (1999)': 1220, 'Pet Sematary (1989)': 1221, 'Christine (1983)': 1222, 'Night Shift (1982)': 1223, 'Airport (1970)': 1224, 'Towering Inferno, The (1974)': 1225, 'Westworld (1973)': 1226, \"Logan's Run (1976)\": 1227, 'Planet of the Apes (1968)': 1228, 'Beneath the Planet of the Apes (1970)': 1229, 'Battle for the Planet of the Apes (1973)': 1230, 'Conquest of the Planet of the Apes (1972)': 1231, 'Escape from the Planet of the Apes (1971)': 1232, 'Analyze This (1999)': 1233, 'Cruel Intentions (1999)': 1234, 'Lock, Stock & Two Smoking Barrels (1998)': 1235, 'Wing Commander (1999)': 1236, 'Haunting, The (1963)': 1237, 'Dead Ringers (1988)': 1238, 'Baby Geniuses (1999)': 1239, 'Forces of Nature (1999)': 1240, 'True Crime (1999)': 1241, 'King and I, The (1956)': 1242, 'EDtv (1999)': 1243, 'Mod Squad, The (1999)': 1244, 'Matrix, The (1999)': 1245, '10 Things I Hate About You (1999)': 1246, 'Following (1998)': 1247, 'Go (1999)': 1248, 'Never Been Kissed (1999)': 1249, \"Cookie's Fortune (1999)\": 1250, 'Open Your Eyes (Abre los ojos) (1997)': 1251, 'SLC Punk! (1998)': 1252, 'Pushing Tin (1999)': 1253, 'Election (1999)': 1254, 'eXistenZ (1999)': 1255, 'Entrapment (1999)': 1256, 'Idle Hands (1999)': 1257, 'Dick Tracy (1990)': 1258, 'Mummy, The (1999)': 1259, \"William Shakespeare's A Midsummer Night's Dream (1999)\": 1260, 'Star Wars: Episode I - The Phantom Menace (1999)': 1261, 'Mummy, The (1932)': 1262, 'Mommie Dearest (1981)': 1263, 'Superman (1978)': 1264, 'Superman II (1980)': 1265, 'Superman III (1983)': 1266, 'Superman IV: The Quest for Peace (1987)': 1267, 'Dracula (1931)': 1268, 'Frankenstein (1931)': 1269, 'Rocky Horror Picture Show, The (1975)': 1270, 'War of the Worlds, The (1953)': 1271, 'Invasion of the Body Snatchers (1956)': 1272, 'Notting Hill (1999)': 1273, 'Thirteenth Floor, The (1999)': 1274, 'Instinct (1999)': 1275, 'Buena Vista Social Club (1999)': 1276, 'Austin Powers: The Spy Who Shagged Me (1999)': 1277, 'Red Violin, The (Violon rouge, Le) (1998)': 1278, 'Tarzan (1999)': 1279, \"General's Daughter, The (1999)\": 1280, 'Ideal Husband, An (1999)': 1281, 'Run Lola Run (Lola rennt) (1998)': 1282, 'Trekkies (1997)': 1283, 'Big Daddy (1999)': 1284, 'Dinner Game, The (Dîner de cons, Le) (1998)': 1285, 'Arachnophobia (1990)': 1286, 'South Park: Bigger, Longer and Uncut (1999)': 1287, 'Wild Wild West (1999)': 1288, 'Summer of Sam (1999)': 1289, 'American Pie (1999)': 1290, 'Arlington Road (1999)': 1291, 'Muppets From Space (1999)': 1292, 'Blair Witch Project, The (1999)': 1293, 'Eyes Wide Shut (1999)': 1294, 'Lake Placid (1999)': 1295, 'Ghostbusters (a.k.a. Ghost Busters) (1984)': 1296, 'Ghostbusters II (1989)': 1297, 'Drop Dead Gorgeous (1999)': 1298, 'Haunting, The (1999)': 1299, 'Inspector Gadget (1999)': 1300, 'Deep Blue Sea (1999)': 1301, 'Mystery Men (1999)': 1302, 'Runaway Bride (1999)': 1303, 'Killing, The (1956)': 1304, 'Spartacus (1960)': 1305, 'Lolita (1962)': 1306, 'Barry Lyndon (1975)': 1307, '400 Blows, The (Les quatre cents coups) (1959)': 1308, 'Jules and Jim (Jules et Jim) (1961)': 1309, 'Mosquito Coast, The (1986)': 1310, 'Golden Child, The (1986)': 1311, 'Brighton Beach Memoirs (1986)': 1312, 'Color Purple, The (1985)': 1313, 'Mission, The (1986)': 1314, 'Little Shop of Horrors (1986)': 1315, 'Little Shop of Horrors, The (1960)': 1316, 'Radio Days (1987)': 1317, 'Dick (1999)': 1318, 'Iron Giant, The (1999)': 1319, 'Sixth Sense, The (1999)': 1320, 'Thomas Crown Affair, The (1999)': 1321, 'Thomas Crown Affair, The (1968)': 1322, 'Bowfinger (1999)': 1323, 'Brokedown Palace (1999)': 1324, 'Detroit Rock City (1999)': 1325, 'Heaven Can Wait (1978)': 1326, \"Monty Python's And Now for Something Completely Different (1971)\": 1327, 'Damien: Omen II (1978)': 1328, 'Airplane! (1980)': 1329, 'Airplane II: The Sequel (1982)': 1330, 'American Werewolf in Paris, An (1997)': 1331, \"European Vacation (aka National Lampoon's European Vacation) (1985)\": 1332, \"National Lampoon's Vacation (1983)\": 1333, 'Funny Farm (1988)': 1334, 'Big (1988)': 1335, 'Problem Child (1990)': 1336, 'Tequila Sunrise (1988)': 1337, 'Pelican Brief, The (1993)': 1338, 'Christmas Story, A (1983)': 1339, 'Mickey Blue Eyes (1999)': 1340, 'Teaching Mrs. Tingle (1999)': 1341, 'Universal Soldier (1992)': 1342, 'Perfect Blue (1997)': 1343, 'Iron Eagle (1986)': 1344, 'Three Days of the Condor (3 Days of the Condor) (1975)': 1345, 'Medicine Man (1992)': 1346, '13th Warrior, The (1999)': 1347, \"Astronaut's Wife, The (1999)\": 1348, 'Muse, The (1999)': 1349, 'Outside Providence (1999)': 1350, 'Stigmata (1999)': 1351, 'Stir of Echoes (1999)': 1352, 'Black Cat, White Cat (Crna macka, beli macor) (1998)': 1353, 'Yellow Submarine (1968)': 1354, 'American Beauty (1999)': 1355, 'Stop Making Sense (1984)': 1356, 'Blue Streak (1999)': 1357, 'For Love of the Game (1999)': 1358, \"Hard Day's Night, A (1964)\": 1359, 'Fright Night (1985)': 1360, 'Deliverance (1972)': 1361, 'Excalibur (1981)': 1362, 'Sommersby (1993)': 1363, 'Tommy (1975)': 1364, 'Double Jeopardy (1999)': 1365, 'Mumford (1999)': 1366, 'Mystery, Alaska (1999)': 1367, 'Three Kings (1999)': 1368, 'Phantasm (1979)': 1369, 'Random Hearts (1999)': 1370, 'Superstar (1999)': 1371, \"Boys Don't Cry (1999)\": 1372, 'Limey, The (1999)': 1373, 'Risky Business (1983)': 1374, 'Total Recall (1990)': 1375, 'Body Heat (1981)': 1376, \"Ferris Bueller's Day Off (1986)\": 1377, 'Year of Living Dangerously, The (1982)': 1378, 'High Plains Drifter (1973)': 1379, 'Drunken Master (Jui kuen) (1978)': 1380, 'Hairspray (1988)': 1381, 'Reds (1981)': 1382, 'Lady Eve, The (1941)': 1383, \"Sullivan's Travels (1941)\": 1384, 'South Pacific (1958)': 1385, 'Flashdance (1983)': 1386, 'Dirty Dozen, The (1967)': 1387, 'Help! (1965)': 1388, 'Goldfinger (1964)': 1389, 'From Russia with Love (1963)': 1390, 'Dr. No (1962)': 1391, 'Blue Lagoon, The (1980)': 1392, 'Fistful of Dollars, A (Per un pugno di dollari) (1964)': 1393, 'Sydney (Hard Eight) (1996)': 1394, 'Home Alone 2: Lost in New York (1992)': 1395, 'Fight Club (1999)': 1396, 'Story of Us, The (1999)': 1397, 'Straight Story, The (1999)': 1398, 'Time Bandits (1981)': 1399, 'Fitzcarraldo (1982)': 1400, 'All That Jazz (1979)': 1401, 'Crimes and Misdemeanors (1989)': 1402, 'Bringing Out the Dead (1999)': 1403, 'RoboCop (1987)': 1404, 'RoboCop 2 (1990)': 1405, 'Who Framed Roger Rabbit? (1988)': 1406, 'For Your Eyes Only (1981)': 1407, 'Licence to Kill (1989)': 1408, 'Live and Let Die (1973)': 1409, 'Thunderball (1965)': 1410, 'House on Haunted Hill (1999)': 1411, 'Being John Malkovich (1999)': 1412, 'Princess Mononoke (Mononoke-hime) (1997)': 1413, 'Bachelor, The (1999)': 1414, 'Bone Collector, The (1999)': 1415, 'Insider, The (1999)': 1416, 'American Movie (1999)': 1417, 'Creepshow (1982)': 1418, 'Re-Animator (1985)': 1419, 'Drugstore Cowboy (1989)': 1420, 'Falling Down (1993)': 1421, 'General, The (1926)': 1422, 'Yojimbo (1961)': 1423, 'Omega Man, The (1971)': 1424, 'Spaceballs (1987)': 1425, 'Robin Hood (1973)': 1426, 'Mister Roberts (1955)': 1427, 'Little Big Man (1970)': 1428, 'Trading Places (1983)': 1429, 'Meatballs (1979)': 1430, 'Dead Again (1991)': 1431, 'Dogma (1999)': 1432, 'Messenger: The Story of Joan of Arc, The (1999)': 1433, 'Pokémon: The First Movie (1998)': 1434, 'Commitments, The (1991)': 1435, 'Holiday Inn (1942)': 1436, 'Longest Day, The (1962)': 1437, 'Tora! Tora! Tora! (1970)': 1438, 'Women on the Verge of a Nervous Breakdown (Mujeres al borde de un ataque de nervios) (1988)': 1439, 'Verdict, The (1982)': 1440, 'Adventures of Buckaroo Banzai Across the 8th Dimension, The (1984)': 1441, 'Stand and Deliver (1988)': 1442, 'Moonstruck (1987)': 1443, 'Jeremiah Johnson (1972)': 1444, 'Repulsion (1965)': 1445, 'Sleepy Hollow (1999)': 1446, 'World Is Not Enough, The (1999)': 1447, 'All About My Mother (Todo sobre mi madre) (1999)': 1448, 'Scrooged (1988)': 1449, 'Harvey (1950)': 1450, 'Bicycle Thieves (a.k.a. The Bicycle Thief) (a.k.a. The Bicycle Thieves) (Ladri di biciclette) (1948)': 1451, 'Kagemusha (1980)': 1452, 'Grapes of Wrath, The (1940)': 1453, 'Shop Around the Corner, The (1940)': 1454, 'Natural, The (1984)': 1455, 'Shampoo (1975)': 1456, 'River Runs Through It, A (1992)': 1457, 'Fatal Attraction (1987)': 1458, 'Jagged Edge (1985)': 1459, 'Midnight Run (1988)': 1460, 'Awakenings (1990)': 1461, 'Backdraft (1991)': 1462, 'Fisher King, The (1991)': 1463, 'Places in the Heart (1984)': 1464, 'End of Days (1999)': 1465, 'Toy Story 2 (1999)': 1466, 'Sweet and Lowdown (1999)': 1467, 'Grand Illusion (La grande illusion) (1937)': 1468, 'Great Santini, The (1979)': 1469, 'Deuce Bigalow: Male Gigolo (1999)': 1470, 'Green Mile, The (1999)': 1471, 'Cider House Rules, The (1999)': 1472, 'Last Picture Show, The (1971)': 1473, '7th Voyage of Sinbad, The (1958)': 1474, 'Anna and the King (1999)': 1475, 'Bicentennial Man (1999)': 1476, 'Stuart Little (1999)': 1477, 'Fantasia 2000 (1999)': 1478, 'Magnolia (1999)': 1479, 'Topsy-Turvy (1999)': 1480, 'Easy Rider (1969)': 1481, 'Any Given Sunday (1999)': 1482, 'Man on the Moon (1999)': 1483, 'Galaxy Quest (1999)': 1484, 'Talented Mr. Ripley, The (1999)': 1485, 'Hurricane, The (1999)': 1486, 'Titus (1999)': 1487, 'Snow Falling on Cedars (1999)': 1488, 'Girl, Interrupted (1999)': 1489, 'My Dog Skip (1999)': 1490, 'Stalag 17 (1953)': 1491, 'Papillon (1973)': 1492, 'Last Detail, The (1973)': 1493, 'Five Easy Pieces (1970)': 1494, 'Dead Calm (1989)': 1495, \"Loaded Weapon 1 (National Lampoon's Loaded Weapon 1) (1993)\": 1496, 'Fast Times at Ridgemont High (1982)': 1497, 'Batman: Mask of the Phantasm (1993)': 1498, 'Pacific Heights (1990)': 1499, 'Encino Man (1992)': 1500, 'Malcolm X (1992)': 1501, 'Sister Act (1992)': 1502, 'Sister Act 2: Back in the Habit (1993)': 1503, 'Hand That Rocks the Cradle, The (1992)': 1504, 'Alive (1993)': 1505, 'Scent of a Woman (1992)': 1506, \"Wayne's World (1992)\": 1507, \"Wayne's World 2 (1993)\": 1508, 'League of Their Own, A (1992)': 1509, 'Patriot Games (1992)': 1510, 'Bodyguard, The (1992)': 1511, 'Death Becomes Her (1992)': 1512, 'Far and Away (1992)': 1513, 'Howards End (1992)': 1514, 'Singles (1992)': 1515, 'Twin Peaks: Fire Walk with Me (1992)': 1516, \"White Men Can't Jump (1992)\": 1517, 'Buffy the Vampire Slayer (1992)': 1518, 'Hard-Boiled (Lat sau san taam) (1992)': 1519, \"Man Bites Dog (C'est arrivé près de chez vous) (1992)\": 1520, 'Mariachi, El (1992)': 1521, 'Stop! Or My Mom Will Shoot (1992)': 1522, 'Forever Young (1992)': 1523, 'Cutting Edge, The (1992)': 1524, 'Of Mice and Men (1992)': 1525, 'Scream 3 (2000)': 1526, 'Single White Female (1992)': 1527, 'Boondock Saints, The (2000)': 1528, 'Beach, The (2000)': 1529, 'To Sir with Love (1967)': 1530, 'Boiler Room (2000)': 1531, 'Pitch Black (2000)': 1532, 'Whole Nine Yards, The (2000)': 1533, 'City Lights (1931)': 1534, 'Reindeer Games (2000)': 1535, 'Wonder Boys (2000)': 1536, 'Ghost Dog: The Way of the Samurai (1999)': 1537, 'Key Largo (1948)': 1538, 'Birdy (1984)': 1539, 'Mission to Mars (2000)': 1540, 'Ninth Gate, The (1999)': 1541, 'Defending Your Life (1991)': 1542, 'Breaking Away (1979)': 1543, 'Hoosiers (a.k.a. Best Shot) (1986)': 1544, 'Bull Durham (1988)': 1545, 'Dog Day Afternoon (1975)': 1546, 'American Graffiti (1973)': 1547, 'Searchers, The (1956)': 1548, 'Taking of Pelham One Two Three, The (1974)': 1549, 'JFK (1991)': 1550, 'Harry and the Hendersons (1987)': 1551, 'Muppet Movie, The (1979)': 1552, 'Great Muppet Caper, The (1981)': 1553, 'Muppets Take Manhattan, The (1984)': 1554, 'Titanic (1953)': 1555, 'Erin Brockovich (2000)': 1556, 'Final Destination (2000)': 1557, 'Thelma & Louise (1991)': 1558, 'Animal House (1978)': 1559, 'Do the Right Thing (1989)': 1560, 'Creature Comforts (1989)': 1561, 'Double Indemnity (1944)': 1562, 'Teenage Mutant Ninja Turtles (1990)': 1563, 'Teenage Mutant Ninja Turtles II: The Secret of the Ooze (1991)': 1564, 'Teenage Mutant Ninja Turtles III (1993)': 1565, 'Red Dawn (1984)': 1566, 'Bloodsport (1988)': 1567, 'Good Morning, Vietnam (1987)': 1568, 'Grumpy Old Men (1993)': 1569, \"Guess Who's Coming to Dinner (1967)\": 1570, 'Romeo Must Die (2000)': 1571, 'Lord of the Flies (1963)': 1572, 'Modern Times (1936)': 1573, 'Hud (1963)': 1574, 'Hustler, The (1961)': 1575, 'Inherit the Wind (1960)': 1576, 'Close Encounters of the Third Kind (1977)': 1577, \"Jacob's Ladder (1990)\": 1578, 'Empire Records (1995)': 1579, 'Bamba, La (1987)': 1580, 'Ladyhawke (1985)': 1581, 'High Fidelity (2000)': 1582, 'Road to El Dorado, The (2000)': 1583, 'Skulls, The (2000)': 1584, 'Hook (1991)': 1585, 'True Grit (1969)': 1586, 'Midnight Express (1978)': 1587, 'Misery (1990)': 1588, 'Solaris (Solyaris) (1972)': 1589, 'Network (1976)': 1590, 'No Way Out (1987)': 1591, 'Odd Couple, The (1968)': 1592, 'Outlaw Josey Wales, The (1976)': 1593, 'Frequency (2000)': 1594, 'Return to Me (2000)': 1595, 'Rules of Engagement (2000)': 1596, 'Mystery Train (1989)': 1597, 'Arthur (1981)': 1598, 'Bachelor Party (1984)': 1599, 'Parenthood (1989)': 1600, 'Predator (1987)': 1601, 'Prince of Tides, The (1991)': 1602, '28 Days (2000)': 1603, 'American Psycho (2000)': 1604, 'Keeping the Faith (2000)': 1605, 'Diner (1982)': 1606, 'Cabaret (1972)': 1607, 'What Ever Happened to Baby Jane? (1962)': 1608, 'Guys and Dolls (1955)': 1609, 'Marathon Man (1976)': 1610, 'Caddyshack (1980)': 1611, 'U-571 (2000)': 1612, 'Virgin Suicides, The (1999)': 1613, 'Flintstones in Viva Rock Vegas, The (2000)': 1614, 'Where the Heart Is (2000)': 1615, 'Big Kahuna, The (2000)': 1616, 'Gladiator (2000)': 1617, 'Mr. Mom (1983)': 1618, 'Battlefield Earth (2000)': 1619, 'Center Stage (2000)': 1620, \"Pee-wee's Big Adventure (1985)\": 1621, 'Honeymoon in Vegas (1992)': 1622, 'Dinosaur (2000)': 1623, 'Loser (2000)': 1624, 'Road Trip (2000)': 1625, 'Small Time Crooks (2000)': 1626, 'Mission: Impossible II (2000)': 1627, 'Shanghai Noon (2000)': 1628, 'Gold Rush, The (1925)': 1629, \"On Her Majesty's Secret Service (1969)\": 1630, 'Spy Who Loved Me, The (1977)': 1631, 'Moonraker (1979)': 1632, 'Man with the Golden Gun, The (1974)': 1633, \"Big Momma's House (2000)\": 1634, 'American Gigolo (1980)': 1635, 'Guns of Navarone, The (1961)': 1636, 'Romeo and Juliet (1968)': 1637, 'Blazing Saddles (1974)': 1638, 'White Christmas (1954)': 1639, 'Eraserhead (1977)': 1640, 'Baraka (1992)': 1641, 'For a Few Dollars More (Per qualche dollaro in più) (1965)': 1642, 'Blood Simple (1984)': 1643, 'Fabulous Baker Boys, The (1989)': 1644, \"Prizzi's Honor (1985)\": 1645, 'Flatliners (1990)': 1646, \"Porky's (1982)\": 1647, 'Predator 2 (1990)': 1648, 'Running Man, The (1987)': 1649, 'Starman (1984)': 1650, 'Alien Nation (1988)': 1651, 'Mad Max (1979)': 1652, 'Road Warrior, The (Mad Max 2) (1981)': 1653, 'Mad Max Beyond Thunderdome (1985)': 1654, 'Bird on a Wire (1990)': 1655, 'Angel Heart (1987)': 1656, '9 1/2 Weeks (Nine 1/2 Weeks) (1986)': 1657, 'Firestarter (1984)': 1658, 'Gone in 60 Seconds (2000)': 1659, 'Hamlet (1990)': 1660, 'Conversation, The (1974)': 1661, 'Serpico (1973)': 1662, 'Big Trouble in Little China (1986)': 1663, 'Badlands (1973)': 1664, 'Battleship Potemkin (1925)': 1665, 'Shaft (2000)': 1666, 'Titan A.E. (2000)': 1667, 'Chicken Run (2000)': 1668, 'Me, Myself & Irene (2000)': 1669, 'Patriot, The (2000)': 1670, 'Adventures of Rocky and Bullwinkle, The (2000)': 1671, 'Perfect Storm, The (2000)': 1672, 'F/X (1986)': 1673, 'Croupier (1998)': 1674, 'Kid, The (2000)': 1675, 'Scary Movie (2000)': 1676, \"But I'm a Cheerleader (1999)\": 1677, 'Blow-Up (Blowup) (1966)': 1678, 'Footloose (1984)': 1679, 'X-Men (2000)': 1680, 'What Lies Beneath (2000)': 1681, 'Anatomy of a Murder (1959)': 1682, 'Freejack (1992)': 1683, 'What About Bob? (1991)': 1684, 'Breaker Morant (1980)': 1685, 'Everything You Always Wanted to Know About Sex * But Were Afraid to Ask (1972)': 1686, 'Love and Death (1975)': 1687, 'Tampopo (1985)': 1688, 'Nutty Professor II: The Klumps (2000)': 1689, 'Coyote Ugly (2000)': 1690, 'Hollow Man (2000)': 1691, 'Space Cowboys (2000)': 1692, 'Saving Grace (2000)': 1693, \"Kelly's Heroes (1970)\": 1694, 'Air America (1990)': 1695, 'Steel Magnolias (1989)': 1696, 'Tao of Steve, The (2000)': 1697, 'Replacements, The (2000)': 1698, 'Cell, The (2000)': 1699, 'Naked Gun: From the Files of Police Squad!, The (1988)': 1700, 'Naked Gun 2 1/2: The Smell of Fear, The (1991)': 1701, 'Shane (1953)': 1702, 'Supergirl (1984)': 1703, 'Art of War, The (2000)': 1704, 'Bring It On (2000)': 1705, 'Highlander: Endgame (Highlander IV) (2000)': 1706, 'Nurse Betty (2000)': 1707, 'Way of the Gun, The (2000)': 1708, 'Almost Famous (2000)': 1709, 'Dancer in the Dark (2000)': 1710, 'Best in Show (2000)': 1711, 'Remember the Titans (2000)': 1712, 'Hellraiser (1987)': 1713, 'Hellbound: Hellraiser II (1988)': 1714, 'Stranger Than Paradise (1984)': 1715, 'Fantastic Voyage (1966)': 1716, 'Invisible Man, The (1933)': 1717, 'Meet the Parents (2000)': 1718, 'Requiem for a Dream (2000)': 1719, 'Tigerland (2000)': 1720, 'Contender, The (2000)': 1721, 'Time Machine, The (1960)': 1722, 'Billy Elliot (2000)': 1723, 'Bedazzled (2000)': 1724, 'Pay It Forward (2000)': 1725, 'Legend of Drunken Master, The (Jui kuen II) (1994)': 1726, 'Book of Shadows: Blair Witch 2 (2000)': 1727, \"Charlie's Angels (2000)\": 1728, 'Legend of Bagger Vance, The (2000)': 1729, 'Little Nicky (2000)': 1730, 'Men of Honor (2000)': 1731, 'Red Planet (2000)': 1732, 'You Can Count on Me (2000)': 1733, 'Diamonds Are Forever (1971)': 1734, '6th Day, The (2000)': 1735, 'Bounce (2000)': 1736, 'How the Grinch Stole Christmas (a.k.a. The Grinch) (2000)': 1737, '102 Dalmatians (2000)': 1738, 'Quills (2000)': 1739, 'Unbreakable (2000)': 1740, 'Crouching Tiger, Hidden Dragon (Wo hu cang long) (2000)': 1741, 'Dungeons & Dragons (2000)': 1742, 'Proof of Life (2000)': 1743, 'Vertical Limit (2000)': 1744, 'Planes, Trains & Automobiles (1987)': 1745, 'Living Daylights, The (1987)': 1746, 'Transformers: The Movie (1986)': 1747, 'Wall Street (1987)': 1748, 'Born on the Fourth of July (1989)': 1749, \"Brewster's Millions (1985)\": 1750, 'Snatch (2000)': 1751, 'Chocolat (2000)': 1752, \"Dude, Where's My Car? (2000)\": 1753, \"Emperor's New Groove, The (2000)\": 1754, 'Pollock (2000)': 1755, 'What Women Want (2000)': 1756, 'Finding Forrester (2000)': 1757, 'Gift, The (2000)': 1758, 'Cast Away (2000)': 1759, 'Family Man, The (2000)': 1760, 'Miss Congeniality (2000)': 1761, 'O Brother, Where Art Thou? (2000)': 1762, 'State and Main (2000)': 1763, 'Thirteen Days (2000)': 1764, 'Traffic (2000)': 1765, 'Shadow of the Vampire (2000)': 1766, 'House of Games (1987)': 1767, 'Annie (1982)': 1768, \"Don't Tell Mom the Babysitter's Dead (1991)\": 1769, 'Officer and a Gentleman, An (1982)': 1770, 'Gettysburg (1993)': 1771, 'Antitrust (2001)': 1772, 'Save the Last Dance (2001)': 1773, 'Pledge, The (2001)': 1774, 'Mystic Pizza (1988)': 1775, 'Wedding Planner, The (2001)': 1776, 'Beverly Hills Cop II (1987)': 1777, 'Beverly Hills Cop (1984)': 1778, 'Brave Little Toaster, The (1987)': 1779, \"Can't Buy Me Love (1987)\": 1780, 'Eddie Murphy Raw (1987)': 1781, 'Empire of the Sun (1987)': 1782, 'Evil Dead, The (1981)': 1783, 'Innerspace (1987)': 1784, 'Jaws: The Revenge (1987)': 1785, 'Lost Boys, The (1987)': 1786, 'Mannequin (1987)': 1787, 'Masters of the Universe (1987)': 1788, 'In the Mood For Love (Fa yeung nin wa) (2000)': 1789, 'Hannibal (2001)': 1790, 'Saving Silverman (Evil Woman) (2001)': 1791, 'Sweet November (2001)': 1792, 'Mexican, The (2001)': 1793, '15 Minutes (2001)': 1794, 'Manhunter (1986)': 1795, 'Revenge of the Nerds (1984)': 1796, 'Enemy at the Gates (2001)': 1797, 'Dish, The (2001)': 1798, 'Memento (2000)': 1799, 'Heartbreakers (2001)': 1800, 'Spy Kids (2001)': 1801, 'Tailor of Panama, The (2001)': 1802, \"Amores Perros (Love's a Bitch) (2000)\": 1803, 'Along Came a Spider (2001)': 1804, 'Blow (2001)': 1805, \"Bridget Jones's Diary (2001)\": 1806, 'Joe Dirt (2001)': 1807, 'Josie and the Pussycats (2001)': 1808, 'Crocodile Dundee in Los Angeles (2001)': 1809, 'Freddy Got Fingered (2001)': 1810, 'Scarface (1983)': 1811, 'Mummy Returns, The (2001)': 1812, 'Krull (1983)': 1813, 'World According to Garp, The (1982)': 1814, 'Nine to Five (a.k.a. 9 to 5) (1980)': 1815, \"Knight's Tale, A (2001)\": 1816, 'Shrek (2001)': 1817, 'Moulin Rouge (2001)': 1818, 'Pearl Harbor (2001)': 1819, 'City Slickers (1991)': 1820, 'Eight Men Out (1988)': 1821, 'Mississippi Burning (1988)': 1822, 'Magnificent Seven, The (1960)': 1823, 'Throw Momma from the Train (1987)': 1824, 'Animal, The (2001)': 1825, 'Evolution (2001)': 1826, 'Swordfish (2001)': 1827, 'Catch-22 (1970)': 1828, 'Point Break (1991)': 1829, 'Gentlemen Prefer Blondes (1953)': 1830, 'Seven Year Itch, The (1955)': 1831, 'Tootsie (1982)': 1832, 'Atlantis: The Lost Empire (2001)': 1833, 'Lara Croft: Tomb Raider (2001)': 1834, 'Dr. Dolittle 2 (2001)': 1835, 'Fast and the Furious, The (2001)': 1836, 'A.I. Artificial Intelligence (2001)': 1837, 'Crazy/Beautiful (2001)': 1838, 'Sexy Beast (2000)': 1839, 'Cats & Dogs (2001)': 1840, 'Kiss of the Dragon (2001)': 1841, 'Scary Movie 2 (2001)': 1842, 'Cannonball Run, The (1981)': 1843, 'Man Who Shot Liberty Valance, The (1962)': 1844, 'Lion in Winter, The (1968)': 1845, 'Suspiria (1977)': 1846, 'Final Fantasy: The Spirits Within (2001)': 1847, 'Legally Blonde (2001)': 1848, 'Score, The (2001)': 1849, 'Accused, The (1988)': 1850, 'Adventures of Baron Munchausen, The (1988)': 1851, 'Cocktail (1988)': 1852, 'Coming to America (1988)': 1853, 'Dirty Rotten Scoundrels (1988)': 1854, 'Land Before Time, The (1988)': 1855, 'Short Circuit 2 (1988)': 1856, 'Short Circuit (1986)': 1857, 'Vanishing, The (Spoorloos) (1988)': 1858, 'They Live (1988)': 1859, 'Twins (1988)': 1860, \"Bill & Ted's Excellent Adventure (1989)\": 1861, 'Earth Girls Are Easy (1988)': 1862, 'Lean on Me (1989)': 1863, \"Look Who's Talking (1989)\": 1864, 'Major League (1989)': 1865, 'Jurassic Park III (2001)': 1866, \"America's Sweethearts (2001)\": 1867, 'Ghost World (2001)': 1868, 'Hedwig and the Angry Inch (2000)': 1869, 'Planet of the Apes (2001)': 1870, 'Tango & Cash (1989)': 1871, 'Turner & Hooch (1989)': 1872, 'UHF (1989)': 1873, 'Uncle Buck (1989)': 1874, 'War of the Roses, The (1989)': 1875, 'Princess Diaries, The (2001)': 1876, 'Rush Hour 2 (2001)': 1877, 'Chocolat (1988)': 1878, 'Altered States (1980)': 1879, 'American Pie 2 (2001)': 1880, 'Osmosis Jones (2001)': 1881, 'Others, The (2001)': 1882, 'Rat Race (2001)': 1883, 'Jay and Silent Bob Strike Back (2001)': 1884, 'Ghosts of Mars (2001)': 1885, 'Jeepers Creepers (2001)': 1886, 'Wicker Man, The (1973)': 1887, 'Training Day (2001)': 1888, \"It's a Mad, Mad, Mad, Mad World (1963)\": 1889, 'Zoolander (2001)': 1890, 'Joy Ride (2001)': 1891, 'Serendipity (2001)': 1892, 'Bandits (2001)': 1893, 'Mulholland Drive (2001)': 1894, 'Dirty Harry (1971)': 1895, 'Fiddler on the Roof (1971)': 1896, 'From Hell (2001)': 1897, 'Last Castle, The (2001)': 1898, 'Riding in Cars with Boys (2001)': 1899, 'Waking Life (2001)': 1900, 'K-PAX (2001)': 1901, 'Thirteen Ghosts (a.k.a. Thir13en Ghosts) (2001)': 1902, 'Donnie Darko (2001)': 1903, 'Life as a House (2001)': 1904, \"Man Who Wasn't There, The (2001)\": 1905, 'Monsters, Inc. (2001)': 1906, 'One, The (2001)': 1907, 'Heist (2001)': 1908, 'Shallow Hal (2001)': 1909, \"Harry Potter and the Sorcerer's Stone (a.k.a. Harry Potter and the Philosopher's Stone) (2001)\": 1910, 'Spy Game (2001)': 1911, \"Devil's Backbone, The (Espinazo del diablo, El) (2001)\": 1912, 'In the Bedroom (2001)': 1913, 'Breathless (À bout de souffle) (1960)': 1914, 'Flash Gordon (1980)': 1915, \"Ocean's Eleven (a.k.a. Ocean's 11) (1960)\": 1916, 'Behind Enemy Lines (2001)': 1917, \"Ocean's Eleven (2001)\": 1918, \"No Man's Land (2001)\": 1919, \"Amelie (Fabuleux destin d'Amélie Poulain, Le) (2001)\": 1920, 'Not Another Teen Movie (2001)': 1921, 'Vanilla Sky (2001)': 1922, 'Lantana (2001)': 1923, 'Royal Tenenbaums, The (2001)': 1924, \"Bill & Ted's Bogus Journey (1991)\": 1925, 'Kate & Leopold (2001)': 1926, 'Lord of the Rings: The Fellowship of the Ring, The (2001)': 1927, 'Majestic, The (2001)': 1928, 'Beautiful Mind, A (2001)': 1929, 'Witness for the Prosecution (1957)': 1930, 'Ali (2001)': 1931, 'Black Hawk Down (2001)': 1932, 'Gosford Park (2001)': 1933, 'I Am Sam (2001)': 1934, \"Monster's Ball (2001)\": 1935, 'Orange County (2002)': 1936, 'Brotherhood of the Wolf (Pacte des loups, Le) (2001)': 1937, 'Conan the Destroyer (1984)': 1938, '48 Hrs. (1982)': 1939, 'Dragon: The Bruce Lee Story (1993)': 1940, 'M*A*S*H (a.k.a. MASH) (1970)': 1941, 'The Count of Monte Cristo (2002)': 1942, 'Mothman Prophecies, The (2002)': 1943, 'Walk to Remember, A (2002)': 1944, 'Metropolis (2001)': 1945, 'Collateral Damage (2002)': 1946, 'Sandlot, The (1993)': 1947, 'John Q (2002)': 1948, 'Super Troopers (2001)': 1949, 'Sleuth (1972)': 1950, 'Queen of the Damned (2002)': 1951, 'Monsoon Wedding (2001)': 1952, 'Bad News Bears, The (1976)': 1953, 'Vampire Hunter D: Bloodlust (Banpaia hantâ D) (2000)': 1954, 'Wild Strawberries (Smultronstället) (1957)': 1955, '40 Days and 40 Nights (2002)': 1956, 'We Were Soldiers (2002)': 1957, 'Time Machine, The (2002)': 1958, 'Ice Age (2002)': 1959, 'Resident Evil (2002)': 1960, 'Kissing Jessica Stein (2001)': 1961, 'And Your Mother Too (Y tu mamá también) (2001)': 1962, 'Blade II (2002)': 1963, 'Death to Smoochy (2002)': 1964, 'Panic Room (2002)': 1965, 'Rookie, The (2002)': 1966, \"National Lampoon's Van Wilder (2002)\": 1967, 'Rashomon (Rashômon) (1950)': 1968, 'Slap Shot (1977)': 1969, 'Changing Lanes (2002)': 1970, 'Frailty (2001)': 1971, 'Sweetest Thing, The (2002)': 1972, 'My Big Fat Greek Wedding (2002)': 1973, 'Joe Versus the Volcano (1990)': 1974, 'Three Men and a Baby (1987)': 1975, 'The Scorpion King (2002)': 1976, 'Nine Queens (Nueve reinas) (2000)': 1977, 'Spider-Man (2002)': 1978, 'Unfaithful (2002)': 1979, 'About a Boy (2002)': 1980, 'Star Wars: Episode II - Attack of the Clones (2002)': 1981, 'Importance of Being Earnest, The (2002)': 1982, 'Insomnia (2002)': 1983, 'Sum of All Fears, The (2002)': 1984, 'Undercover Brother (2002)': 1985, 'Bourne Identity, The (2002)': 1986, 'Scooby-Doo (2002)': 1987, 'Windtalkers (2002)': 1988, 'Lilo & Stitch (2002)': 1989, 'Minority Report (2002)': 1990, 'Rabbit-Proof Fence (2002)': 1991, 'Mr. Deeds (2002)': 1992, \"Look Who's Talking Now (1993)\": 1993, 'Men in Black II (a.k.a. MIIB) (a.k.a. MIB 2) (2002)': 1994, 'Reign of Fire (2002)': 1995, 'Road to Perdition (2002)': 1996, 'Eight Legged Freaks (2002)': 1997, 'K-19: The Widowmaker (2002)': 1998, 'Austin Powers in Goldmember (2002)': 1999, 'Top Secret! (1984)': 2000, 'Signs (2002)': 2001, 'Spy Kids 2: The Island of Lost Dreams (2002)': 2002, 'Good Girl, The (2002)': 2003, 'xXx (2002)': 2004, '24 Hour Party People (2002)': 2005, 'Blue Crush (2002)': 2006, 'One Hour Photo (2002)': 2007, 'Simone (S1m0ne) (2002)': 2008, 'Clash of the Titans (1981)': 2009, 'Hot Shots! (1991)': 2010, 'Barbershop (2002)': 2011, 'Transporter, The (2002)': 2012, 'Igby Goes Down (2002)': 2013, 'Das Experiment (Experiment, The) (2001)': 2014, 'Secretary (2002)': 2015, 'Spirited Away (Sen to Chihiro no kamikakushi) (2001)': 2016, 'Sweet Home Alabama (2002)': 2017, 'Tuxedo, The (2002)': 2018, 'Red Dragon (2002)': 2019, 'Strange Brew (1983)': 2020, 'Rules of Attraction, The (2002)': 2021, 'Bowling for Columbine (2002)': 2022, 'Punch-Drunk Love (2002)': 2023, 'Ring, The (2002)': 2024, 'Grave of the Fireflies (Hotaru no haka) (1988)': 2025, 'Saturday Night Fever (1977)': 2026, 'Gallipoli (1981)': 2027, 'Professional, The (Le professionnel) (1981)': 2028, 'Ghost Ship (2002)': 2029, 'Jackass: The Movie (2002)': 2030, 'Frida (2002)': 2031, 'Santa Clause 2, The (2002)': 2032, '8 Mile (2002)': 2033, 'Far from Heaven (2002)': 2034, 'Harry Potter and the Chamber of Secrets (2002)': 2035, 'Dog Soldiers (2002)': 2036, 'Scanners (1981)': 2037, 'Die Another Day (2002)': 2038, 'Quiet American, The (2002)': 2039, 'Talk to Her (Hable con Ella) (2002)': 2040, 'Solaris (2002)': 2041, 'Treasure Planet (2002)': 2042, 'Analyze That (2002)': 2043, 'Adaptation (2002)': 2044, 'Equilibrium (2002)': 2045, 'Maid in Manhattan (2002)': 2046, 'Star Trek: Nemesis (2002)': 2047, 'About Schmidt (2002)': 2048, 'Lord of the Rings: The Two Towers, The (2002)': 2049, '25th Hour (2002)': 2050, 'Antwone Fisher (2002)': 2051, 'Gangs of New York (2002)': 2052, 'Two Weeks Notice (2002)': 2053, 'Narc (2002)': 2054, 'My Girl (1991)': 2055, 'My Neighbor Totoro (Tonari no Totoro) (1988)': 2056, 'Catch Me If You Can (2002)': 2057, 'Chicago (2002)': 2058, 'Hours, The (2002)': 2059, 'Pianist, The (2002)': 2060, 'King of Comedy, The (1983)': 2061, 'Confessions of a Dangerous Mind (2002)': 2062, 'Just Married (2003)': 2063, 'City of God (Cidade de Deus) (2002)': 2064, 'Final Destination 2 (2003)': 2065, 'Recruit, The (2003)': 2066, 'Monty Python Live at the Hollywood Bowl (1982)': 2067, 'How to Lose a Guy in 10 Days (2003)': 2068, 'Shanghai Knights (2003)': 2069, 'Daredevil (2003)': 2070, 'Man Who Fell to Earth, The (1976)': 2071, 'Life of David Gale, The (2003)': 2072, 'Old School (2003)': 2073, 'Tears of the Sun (2003)': 2074, 'Irreversible (Irréversible) (2002)': 2075, 'Bend It Like Beckham (2002)': 2076, 'Green Card (1990)': 2077, 'Ringu (Ring) (1998)': 2078, 'Dreamcatcher (2003)': 2079, 'Core, The (2003)': 2080, 'Phone Booth (2002)': 2081, 'Cowboy Bebop: The Movie (Cowboy Bebop: Tengoku no Tobira) (2001)': 2082, 'Anger Management (2003)': 2083, 'Bulletproof Monk (2003)': 2084, 'Mighty Wind, A (2003)': 2085, 'Holes (2003)': 2086, 'Winged Migration (Peuple migrateur, Le) (2001)': 2087, 'Andromeda Strain, The (1971)': 2088, 'Fahrenheit 451 (1966)': 2089, 'Identity (2003)': 2090, 'Spellbound (2002)': 2091, 'X2: X-Men United (2003)': 2092, 'Laputa: Castle in the Sky (Tenkû no shiro Rapyuta) (1986)': 2093, 'Matrix Reloaded, The (2003)': 2094, 'Down with Love (2003)': 2095, 'Bruce Almighty (2003)': 2096, 'Finding Nemo (2003)': 2097, 'Italian Job, The (2003)': 2098, 'Capturing the Friedmans (2003)': 2099, '2 Fast 2 Furious (Fast and the Furious 2, The) (2003)': 2100, 'Whale Rider (2002)': 2101, 'Barton Fink (1991)': 2102, 'Dumb and Dumberer: When Harry Met Lloyd (2003)': 2103, '28 Days Later (2002)': 2104, \"Charlie's Angels: Full Throttle (2003)\": 2105, 'Hulk (2003)': 2106, 'Legally Blonde 2: Red, White & Blonde (2003)': 2107, 'Terminator 3: Rise of the Machines (2003)': 2108, 'Swimming Pool (2003)': 2109, 'Pirates of the Caribbean: The Curse of the Black Pearl (2003)': 2110, 'League of Extraordinary Gentlemen, The (a.k.a. LXG) (2003)': 2111, 'Bad Boys II (2003)': 2112, 'Johnny English (2003)': 2113, 'Dirty Pretty Things (2002)': 2114, 'Lara Croft Tomb Raider: The Cradle of Life (2003)': 2115, 'Seabiscuit (2003)': 2116, 'American Wedding (American Pie 3) (2003)': 2117, 'Freaky Friday (2003)': 2118, 'S.W.A.T. (2003)': 2119, 'Freddy vs. Jason (2003)': 2120, 'Shaolin Soccer (Siu lam juk kau) (2001)': 2121, 'American Splendor (2003)': 2122, 'THX 1138 (1971)': 2123, 'Tremors (1990)': 2124, 'Pink Panther, The (1963)': 2125, 'Commando (1985)': 2126, 'Ikiru (1952)': 2127, 'Cabin Fever (2002)': 2128, 'Matchstick Men (2003)': 2129, 'Once Upon a Time in Mexico (2003)': 2130, 'Lost in Translation (2003)': 2131, 'Secondhand Lions (2003)': 2132, 'Underworld (2003)': 2133, 'Bubba Ho-tep (2002)': 2134, 'Rundown, The (2003)': 2135, 'Under the Tuscan Sun (2003)': 2136, 'Triplets of Belleville, The (Les triplettes de Belleville) (2003)': 2137, 'Videodrome (1983)': 2138, \"All the President's Men (1976)\": 2139, 'Boyz N the Hood (1991)': 2140, \"Monty Python's The Meaning of Life (1983)\": 2141, 'Sleeping with the Enemy (1991)': 2142, 'Ninja Scroll (Jûbei ninpûchô) (1995)': 2143, 'School of Rock (2003)': 2144, 'Station Agent, The (2003)': 2145, 'Mystic River (2003)': 2146, 'Intolerable Cruelty (2003)': 2147, 'Kill Bill: Vol. 1 (2003)': 2148, 'Runaway Jury (2003)': 2149, 'Texas Chainsaw Massacre, The (2003)': 2150, 'Pieces of April (2003)': 2151, 'Scary Movie 3 (2003)': 2152, 'Brother Bear (2003)': 2153, 'Elephant (2003)': 2154, 'Italian Job, The (1969)': 2155, 'Shattered Glass (2003)': 2156, 'Matrix Revolutions, The (2003)': 2157, 'Elf (2003)': 2158, 'Love Actually (2003)': 2159, 'Father of the Bride (1991)': 2160, 'Master and Commander: The Far Side of the World (2003)': 2161, 'Gothika (2003)': 2162, '21 Grams (2003)': 2163, 'Bad Santa (2003)': 2164, 'Darkman (1990)': 2165, 'WarGames (1983)': 2166, 'Cabinet of Dr. Caligari, The (Cabinet des Dr. Caligari., Das) (1920)': 2167, 'Hannah and Her Sisters (1986)': 2168, 'Highlander II: The Quickening (1991)': 2169, 'Invasion of the Body Snatchers (1978)': 2170, 'Kindergarten Cop (1990)': 2171, 'Last Boy Scout, The (1991)': 2172, 'Night of the Hunter, The (1955)': 2173, 'Battle Royale (Batoru rowaiaru) (2000)': 2174, 'Show Me Love (Fucking Åmål) (1998)': 2175, 'Wild at Heart (1990)': 2176, 'Witches of Eastwick, The (1987)': 2177, 'Aguirre: The Wrath of God (Aguirre, der Zorn Gottes) (1972)': 2178, 'Bullitt (1968)': 2179, 'Hero (Ying xiong) (2002)': 2180, 'Nausicaä of the Valley of the Wind (Kaze no tani no Naushika) (1984)': 2181, 'Naked Lunch (1991)': 2182, 'Night at the Opera, A (1935)': 2183, 'Cooler, The (2003)': 2184, 'In America (2002)': 2185, 'Last Samurai, The (2003)': 2186, 'Big Fish (2003)': 2187, \"Something's Gotta Give (2003)\": 2188, 'Girl with a Pearl Earring (2003)': 2189, 'Lord of the Rings: The Return of the King, The (2003)': 2190, 'Mona Lisa Smile (2003)': 2191, 'Fog of War: Eleven Lessons from the Life of Robert S. McNamara, The (2003)': 2192, 'House of Sand and Fog (2003)': 2193, 'Monster (2003)': 2194, 'Cheaper by the Dozen (2003)': 2195, 'Cold Mountain (2003)': 2196, 'Paycheck (2003)': 2197, 'Peter Pan (2003)': 2198, 'Along Came Polly (2004)': 2199, 'The Butterfly Effect (2004)': 2200, 'Touching the Void (2003)': 2201, 'Miracle (2004)': 2202, 'Dreamers, The (2003)': 2203, 'Thirteen (2003)': 2204, '50 First Dates (2004)': 2205, 'EuroTrip (2004)': 2206, 'Passion of the Christ, The (2004)': 2207, 'Good bye, Lenin! (2003)': 2208, 'Hidalgo (2004)': 2209, 'Starsky & Hutch (2004)': 2210, 'Girl Next Door, The (2004)': 2211, 'Secret Window (2004)': 2212, 'Dawn of the Dead (2004)': 2213, 'Eternal Sunshine of the Spotless Mind (2004)': 2214, 'Jersey Girl (2004)': 2215, 'Ladykillers, The (2004)': 2216, 'Dogville (2003)': 2217, 'Hellboy (2004)': 2218, 'Ella Enchanted (2004)': 2219, 'Ten Commandments, The (1956)': 2220, 'Dawn of the Dead (1978)': 2221, 'After Hours (1985)': 2222, 'Kill Bill: Vol. 2 (2004)': 2223, 'Punisher, The (2004)': 2224, '13 Going on 30 (2004)': 2225, 'Man on Fire (2004)': 2226, 'Mean Girls (2004)': 2227, 'Van Helsing (2004)': 2228, 'Troy (2004)': 2229, 'Coffee and Cigarettes (2003)': 2230, 'Enemy Mine (1985)': 2231, 'Enter the Dragon (1973)': 2232, 'You Only Live Twice (1967)': 2233, 'Octopussy (1983)': 2234, 'Never Say Never Again (1983)': 2235, 'Pride and Prejudice (1995)': 2236, \"Look Who's Talking Too (1990)\": 2237, 'Throne of Blood (Kumonosu jô) (1957)': 2238, 'Warriors, The (1979)': 2239, 'Dune (2000)': 2240, 'Zelig (1983)': 2241, 'Infernal Affairs (Mou gaan dou) (2002)': 2242, 'Spring, Summer, Fall, Winter... and Spring (Bom yeoreum gaeul gyeoul geurigo bom) (2003)': 2243, 'Mean Streets (1973)': 2244, 'Gladiator (1992)': 2245, 'Dolce Vita, La (1960)': 2246, '*batteries not included (1987)': 2247, 'Day of the Jackal, The (1973)': 2248, 'Maltese Falcon, The (a.k.a. Dangerous Female) (1931)': 2249, 'Escape from Alcatraz (1979)': 2250, 'Shrek 2 (2004)': 2251, 'Day After Tomorrow, The (2004)': 2252, 'Saved! (2004)': 2253, 'Harry Potter and the Prisoner of Azkaban (2004)': 2254, 'Blind Swordsman: Zatoichi, The (Zatôichi) (2003)': 2255, 'Chronicles of Riddick, The (2004)': 2256, 'Stepford Wives, The (2004)': 2257, 'Napoleon Dynamite (2004)': 2258, 'Super Size Me (2004)': 2259, 'Memphis Belle (1990)': 2260, 'Dodgeball: A True Underdog Story (2004)': 2261, 'Terminal, The (2004)': 2262, 'White Chicks (2004)': 2263, 'Notebook, The (2004)': 2264, 'Pirates of Silicon Valley (1999)': 2265, 'Overboard (1987)': 2266, 'Fahrenheit 9/11 (2004)': 2267, 'Roxanne (1987)': 2268, 'Last Starfighter, The (1984)': 2269, 'Spider-Man 2 (2004)': 2270, 'Before Sunset (2004)': 2271, 'King Arthur (2004)': 2272, 'Anchorman: The Legend of Ron Burgundy (2004)': 2273, 'I, Robot (2004)': 2274, 'Maria Full of Grace (Maria, Llena eres de gracia) (2004)': 2275, 'Bourne Supremacy, The (2004)': 2276, 'Catwoman (2004)': 2277, 'Manchurian Candidate, The (2004)': 2278, 'Village, The (2004)': 2279, 'Garden State (2004)': 2280, 'Collateral (2004)': 2281, 'Harold and Kumar Go to White Castle (2004)': 2282, 'Princess Diaries 2: Royal Engagement, The (2004)': 2283, 'AVP: Alien vs. Predator (2004)': 2284, 'Cellular (2004)': 2285, 'Resident Evil: Apocalypse (2004)': 2286, 'Sky Captain and the World of Tomorrow (2004)': 2287, 'Wimbledon (2004)': 2288, 'Forgotten, The (2004)': 2289, 'Motorcycle Diaries, The (Diarios de motocicleta) (2004)': 2290, 'Shaun of the Dead (2004)': 2291, 'Mask (1985)': 2292, 'Shark Tale (2004)': 2293, 'I Heart Huckabees (2004)': 2294, 'Primer (2004)': 2295, 'Team America: World Police (2004)': 2296, 'Friday Night Lights (2004)': 2297, 'Grudge, The (2004)': 2298, 'Sideways (2004)': 2299, 'The Machinist (2004)': 2300, 'Saw (2004)': 2301, 'Ray (2004)': 2302, 'Incredibles, The (2004)': 2303, 'Polar Express, The (2004)': 2304, 'Kinsey (2004)': 2305, 'Bridget Jones: The Edge of Reason (2004)': 2306, 'Finding Neverland (2004)': 2307, 'National Treasure (2004)': 2308, 'Bad Education (La mala educación) (2004)': 2309, 'Alexander (2004)': 2310, 'Closer (2004)': 2311, 'House of Flying Daggers (Shi mian mai fu) (2004)': 2312, \"Ocean's Twelve (2004)\": 2313, 'Blade: Trinity (2004)': 2314, 'Battle of Algiers, The (La battaglia di Algeri) (1966)': 2315, 'Bourne Identity, The (1988)': 2316, \"Kiki's Delivery Service (Majo no takkyûbin) (1989)\": 2317, 'Porco Rosso (Crimson Pig) (Kurenai no buta) (1992)': 2318, 'Audition (Ôdishon) (1999)': 2319, 'Battlestar Galactica (2003)': 2320, 'Animatrix, The (2003)': 2321, \"Lemony Snicket's A Series of Unfortunate Events (2004)\": 2322, 'Very Long Engagement, A (Un long dimanche de fiançailles) (2004)': 2323, 'Ghost in the Shell 2: Innocence (a.k.a. Innocence) (Inosensu) (2004)': 2324, 'Cat Returns, The (Neko no ongaeshi) (2002)': 2325, 'Old Boy (2003)': 2326, 'Jacket, The (2005)': 2327, 'Sea Inside, The (Mar adentro) (2004)': 2328, 'Spanglish (2004)': 2329, 'Chorus, The (Choristes, Les) (2004)': 2330, 'Interpreter, The (2005)': 2331, 'Layer Cake (2004)': 2332, 'Ring Two, The (2005)': 2333, 'Corporation, The (2003)': 2334, 'Scanner Darkly, A (2006)': 2335, 'Million Dollar Baby (2004)': 2336, 'Hotel Rwanda (2004)': 2337, 'Charlie and the Chocolate Factory (2005)': 2338, 'Life Aquatic with Steve Zissou, The (2004)': 2339, 'Aviator, The (2004)': 2340, 'Phantom of the Opera, The (2004)': 2341, 'In Good Company (2004)': 2342, 'Meet the Fockers (2004)': 2343, 'Elektra (2005)': 2344, 'Coach Carter (2005)': 2345, 'Downfall (Untergang, Der) (2004)': 2346, \"Howl's Moving Castle (Hauru no ugoku shiro) (2004)\": 2347, 'Hitch (2005)': 2348, 'Constantine (2005)': 2349, 'Kung Fu Hustle (Gong fu) (2004)': 2350, 'Robots (2005)': 2351, 'Miss Congeniality 2: Armed and Fabulous (2005)': 2352, 'Sin City (2005)': 2353, 'Sahara (2005)': 2354, \"Hitchhiker's Guide to the Galaxy, The (2005)\": 2355, 'Enron: The Smartest Guys in the Room (2005)': 2356, 'Kingdom of Heaven (2005)': 2357, 'Crash (2004)': 2358, 'Mysterious Skin (2004)': 2359, 'Unleashed (Danny the Dog) (2005)': 2360, 'Star Wars: Episode III - Revenge of the Sith (2005)': 2361, 'Madagascar (2005)': 2362, 'Longest Yard, The (2005)': 2363, 'Cinderella Man (2005)': 2364, 'Mr. & Mrs. Smith (2005)': 2365, 'Batman Begins (2005)': 2366, 'Land of the Dead (2005)': 2367, 'Bewitched (2005)': 2368, 'Me and You and Everyone We Know (2005)': 2369, 'War of the Worlds (2005)': 2370, \"March of the Penguins (Marche de l'empereur, La) (2005)\": 2371, 'Fantastic Four (2005)': 2372, 'Wedding Crashers (2005)': 2373, 'Island, The (2005)': 2374, 'Sky High (2005)': 2375, 'Serenity (2005)': 2376, 'Broken Flowers (2005)': 2377, 'Skeleton Key, The (2005)': 2378, 'Four Brothers (2005)': 2379, 'Grizzly Man (2005)': 2380, '40-Year-Old Virgin, The (2005)': 2381, 'Red Eye (2005)': 2382, 'Brothers Grimm, The (2005)': 2383, 'Constant Gardener, The (2005)': 2384, 'Transporter 2 (2005)': 2385, 'Just Like Heaven (2005)': 2386, 'Lord of War (2005)': 2387, 'Family Guy Presents Stewie Griffin: The Untold Story (2005)': 2388, 'Doom (2005)': 2389, 'Aeon Flux (2005)': 2390, 'Flightplan (2005)': 2391, 'Corpse Bride (2005)': 2392, 'History of Violence, A (2005)': 2393, 'Capote (2005)': 2394, 'Final Fantasy VII: Advent Children (2004)': 2395, 'Wallace & Gromit in The Curse of the Were-Rabbit (2005)': 2396, 'Kiss Kiss Bang Bang (2005)': 2397, 'In Her Shoes (2005)': 2398, 'Squid and the Whale, The (2005)': 2399, 'Brokeback Mountain (2005)': 2400, 'Good Night, and Good Luck. (2005)': 2401, 'Legend of Zorro, The (2005)': 2402, 'Weather Man, The (2005)': 2403, 'Saw II (2005)': 2404, 'American Pie Presents: Band Camp (American Pie 4: Band Camp) (2005)': 2405, 'Jarhead (2005)': 2406, 'Chicken Little (2005)': 2407, 'Syriana (2005)': 2408, 'Pride & Prejudice (2005)': 2409, 'Descent, The (2005)': 2410, 'Harry Potter and the Goblet of Fire (2005)': 2411, 'Walk the Line (2005)': 2412, 'Match Point (2005)': 2413, 'Chronicles of Narnia: The Lion, the Witch and the Wardrobe, The (2005)': 2414, 'King Kong (2005)': 2415, 'Memoirs of a Geisha (2005)': 2416, 'Munich (2005)': 2417, 'Fun with Dick and Jane (2005)': 2418, 'Hostel (2005)': 2419, 'Underworld: Evolution (2006)': 2420, \"World's Fastest Indian, The (2005)\": 2421, 'Final Destination 3 (2006)': 2422, 'Ultraviolet (2006)': 2423, '16 Blocks (2006)': 2424, 'Failure to Launch (2006)': 2425, 'Ice Age 2: The Meltdown (2006)': 2426, 'V for Vendetta (2006)': 2427, \"She's the Man (2006)\": 2428, 'Thank You for Smoking (2006)': 2429, 'Inside Man (2006)': 2430, 'Lives of Others, The (Das leben der Anderen) (2006)': 2431, 'Lucky Number Slevin (2006)': 2432, 'Volver (2006)': 2433, 'Brick (2005)': 2434, 'Scary Movie 4 (2006)': 2435, 'Hard Candy (2005)': 2436, 'Silent Hill (2006)': 2437, 'Mission: Impossible III (2006)': 2438, 'United 93 (2006)': 2439, 'Over the Hedge (2006)': 2440, 'Da Vinci Code, The (2006)': 2441, 'X-Men: The Last Stand (2006)': 2442, 'Break-Up, The (2006)': 2443, 'Cars (2006)': 2444, 'Nacho Libre (2006)': 2445, 'Lake House, The (2006)': 2446, 'Click (2006)': 2447, 'Devil Wears Prada, The (2006)': 2448, \"Pirates of the Caribbean: Dead Man's Chest (2006)\": 2449, 'Clerks II (2006)': 2450, 'Marie Antoinette (2006)': 2451, 'Inconvenient Truth, An (2006)': 2452, 'Fast and the Furious: Tokyo Drift, The (Fast and the Furious 3, The) (2006)': 2453, 'Superman Returns (2006)': 2454, 'Little Miss Sunshine (2006)': 2455, 'Babel (2006)': 2456, 'Monster House (2006)': 2457, 'Snakes on a Plane (2006)': 2458, 'Talladega Nights: The Ballad of Ricky Bobby (2006)': 2459, 'Night at the Museum (2006)': 2460, 'Stranger than Fiction (2006)': 2461, 'Pursuit of Happyness, The (2006)': 2462, 'Crank (2006)': 2463, 'Step Up (2006)': 2464, 'Half Nelson (2006)': 2465, 'Accepted (2006)': 2466, 'Illusionist, The (2006)': 2467, 'The Queen (2006)': 2468, 'Idiocracy (2006)': 2469, 'Jesus Camp (2006)': 2470, 'Fountain, The (2006)': 2471, 'Science of Sleep, The (La science des rêves) (2006)': 2472, 'Apocalypto (2006)': 2473, 'Borat: Cultural Learnings of America for Make Benefit Glorious Nation of Kazakhstan (2006)': 2474, \"Pan's Labyrinth (Laberinto del fauno, El) (2006)\": 2475, 'Departed, The (2006)': 2476, 'Little Children (2006)': 2477, 'Last King of Scotland, The (2006)': 2478, 'Children of Men (2006)': 2479, 'Prestige, The (2006)': 2480, 'Flags of Our Fathers (2006)': 2481, 'Saw III (2006)': 2482, 'Flushed Away (2006)': 2483, 'Perfume: The Story of a Murderer (2006)': 2484, 'Casino Royale (2006)': 2485, 'Happy Feet (2006)': 2486, 'Déjà Vu (Deja Vu) (2006)': 2487, 'Holiday, The (2006)': 2488, 'Blood Diamond (2006)': 2489, 'Eragon (2006)': 2490, 'Rocky Balboa (2006)': 2491, 'Good Shepherd, The (2006)': 2492, 'Notes on a Scandal (2006)': 2493, 'Letters from Iwo Jima (2006)': 2494, 'Bridge to Terabithia (2007)': 2495, \"Smokin' Aces (2006)\": 2496, 'Ratatouille (2007)': 2497, 'Ghost Rider (2007)': 2498, 'Music and Lyrics (2007)': 2499, 'Number 23, The (2007)': 2500, 'Hot Fuzz (2007)': 2501, 'Next (2007)': 2502, 'Zodiac (2007)': 2503, '300 (2007)': 2504, 'Shooter (2007)': 2505, 'Blades of Glory (2007)': 2506, 'Grindhouse (2007)': 2507, 'Sunshine (2007)': 2508, 'How the Grinch Stole Christmas! (1966)': 2509, 'Disturbia (2007)': 2510, 'Fracture (2007)': 2511, 'Spider-Man 3 (2007)': 2512, 'Paprika (Papurika) (2006)': 2513, 'This Is England (2006)': 2514, 'Knocked Up (2007)': 2515, 'Hairspray (2007)': 2516, '28 Weeks Later (2007)': 2517, 'Shrek the Third (2007)': 2518, 'Once (2006)': 2519, \"Pirates of the Caribbean: At World's End (2007)\": 2520, 'Mr. Brooks (2007)': 2521, \"Ocean's Thirteen (2007)\": 2522, 'Fantastic Four: Rise of the Silver Surfer (2007)': 2523, 'Death Proof (2007)': 2524, 'Sicko (2007)': 2525, '1408 (2007)': 2526, 'Death at a Funeral (2007)': 2527, 'Live Free or Die Hard (2007)': 2528, 'Evan Almighty (2007)': 2529, 'Transformers (2007)': 2530, 'Harry Potter and the Order of the Phoenix (2007)': 2531, 'Across the Universe (2007)': 2532, 'Stardust (2007)': 2533, 'Simpsons Movie, The (2007)': 2534, 'Bourne Ultimatum, The (2007)': 2535, 'Superbad (2007)': 2536, 'Rush Hour 3 (2007)': 2537, 'King of Kong, The (2007)': 2538, 'Planet Terror (2007)': 2539, '3:10 to Yuma (2007)': 2540, \"Shoot 'Em Up (2007)\": 2541, 'Atonement (2007)': 2542, 'Eastern Promises (2007)': 2543, 'Resident Evil: Extinction (2007)': 2544, 'Into the Wild (2007)': 2545, 'Dan in Real Life (2007)': 2546, 'Darjeeling Limited, The (2007)': 2547, 'Michael Clayton (2007)': 2548, 'Lars and the Real Girl (2007)': 2549, '30 Days of Night (2007)': 2550, 'Gone Baby Gone (2007)': 2551, 'Assassination of Jesse James by the Coward Robert Ford, The (2007)': 2552, 'Persepolis (2007)': 2553, 'Control (2007)': 2554, 'Saw IV (2007)': 2555, 'Elite Squad (Tropa de Elite) (2007)': 2556, 'American Gangster (2007)': 2557, 'Bee Movie (2007)': 2558, \"Before the Devil Knows You're Dead (2007)\": 2559, 'Diving Bell and the Butterfly, The (Scaphandre et le papillon, Le) (2007)': 2560, 'No Country for Old Men (2007)': 2561, 'Be Kind Rewind (2008)': 2562, 'Man from Earth, The (2007)': 2563, 'Beowulf (2007)': 2564, 'Mist, The (2007)': 2565, 'Enchanted (2007)': 2566, 'Hitman (2007)': 2567, 'Golden Compass, The (2007)': 2568, 'I Am Legend (2007)': 2569, \"Futurama: Bender's Big Score (2007)\": 2570, 'Orphanage, The (Orfanato, El) (2007)': 2571, 'Juno (2007)': 2572, 'Bucket List, The (2007)': 2573, 'Kite Runner, The (2007)': 2574, 'Sweeney Todd: The Demon Barber of Fleet Street (2007)': 2575, 'National Treasure: Book of Secrets (2007)': 2576, 'There Will Be Blood (2007)': 2577, \"Charlie Wilson's War (2007)\": 2578, 'AVPR: Aliens vs. Predator - Requiem (2007)': 2579, 'Battlestar Galactica: Razor (2007)': 2580, 'P.S. I Love You (2007)': 2581, '27 Dresses (2008)': 2582, '[REC] (2007)': 2583, 'Cloverfield (2008)': 2584, 'Girl Who Leapt Through Time, The (Toki o kakeru shôjo) (2006)': 2585, 'Rambo (Rambo 4) (2008)': 2586, 'Hellboy II: The Golden Army (2008)': 2587, 'In Bruges (2008)': 2588, 'Jumper (2008)': 2589, 'Definitely, Maybe (2008)': 2590, 'Vantage Point (2008)': 2591, '10,000 BC (2008)': 2592, 'Bank Job, The (2008)': 2593, 'Horton Hears a Who! (2008)': 2594, 'Dark Knight, The (2008)': 2595, '21 (2008)': 2596, 'Forgetting Sarah Marshall (2008)': 2597, 'Harold & Kumar Escape from Guantanamo Bay (2008)': 2598, 'Religulous (2008)': 2599, 'Iron Man (2008)': 2600, 'Taken (2008)': 2601, 'Fall, The (2006)': 2602, 'What Happens in Vegas... (2008)': 2603, 'Chronicles of Narnia: Prince Caspian, The (2008)': 2604, 'Indiana Jones and the Kingdom of the Crystal Skull (2008)': 2605, 'Sex and the City (2008)': 2606, 'Kung Fu Panda (2008)': 2607, \"You Don't Mess with the Zohan (2008)\": 2608, 'Happening, The (2008)': 2609, 'Incredible Hulk, The (2008)': 2610, 'WALL·E (2008)': 2611, 'Wanted (2008)': 2612, 'Hancock (2008)': 2613, 'Get Smart (2008)': 2614, 'Mamma Mia! (2008)': 2615, 'Watchmen (2009)': 2616, 'Step Brothers (2008)': 2617, 'Man on Wire (2008)': 2618, 'Mummy: Tomb of the Dragon Emperor, The (2008)': 2619, 'Vicky Cristina Barcelona (2008)': 2620, 'Pineapple Express (2008)': 2621, 'Tropic Thunder (2008)': 2622, 'Waltz with Bashir (Vals im Bashir) (2008)': 2623, 'Let the Right One In (Låt den rätte komma in) (2008)': 2624, 'Death Race (2008)': 2625, 'Burn After Reading (2008)': 2626, 'Babylon A.D. (2008)': 2627, 'Eagle Eye (2008)': 2628, \"Nick and Norah's Infinite Playlist (2008)\": 2629, 'Body of Lies (2008)': 2630, 'Zack and Miri Make a Porno (2008)': 2631, 'Synecdoche, New York (2008)': 2632, 'RocknRolla (2008)': 2633, 'Madagascar: Escape 2 Africa (2008)': 2634, 'Changeling (2008)': 2635, 'Road, The (2009)': 2636, 'Slumdog Millionaire (2008)': 2637, 'Quantum of Solace (2008)': 2638, 'Role Models (2008)': 2639, 'Australia (2008)': 2640, 'Bolt (2008)': 2641, 'Milk (2008)': 2642, 'Twilight (2008)': 2643, 'Transporter 3 (2008)': 2644, 'Boy in the Striped Pajamas, The (Boy in the Striped Pyjamas, The) (2008)': 2645, 'Day the Earth Stood Still, The (2008)': 2646, 'Doubt (2008)': 2647, 'Gran Torino (2008)': 2648, 'Frost/Nixon (2008)': 2649, 'Reader, The (2008)': 2650, 'Seven Pounds (2008)': 2651, 'Wrestler, The (2008)': 2652, 'Curious Case of Benjamin Button, The (2008)': 2653, 'Yes Man (2008)': 2654, 'Valkyrie (2008)': 2655, 'Revolutionary Road (2008)': 2656, 'Marley & Me (2008)': 2657, 'Ponyo (Gake no ue no Ponyo) (2008)': 2658, 'Ip Man (2008)': 2659, 'Underworld: Rise of the Lycans (2009)': 2660, 'Paul Blart: Mall Cop (2009)': 2661, 'Coraline (2009)': 2662, \"He's Just Not That Into You (2009)\": 2663, \"Dr. Horrible's Sing-Along Blog (2008)\": 2664, 'I Love You, Man (2009)': 2665, 'Knowing (2009)': 2666, 'Girl with the Dragon Tattoo, The (Män som hatar kvinnor) (2009)': 2667, 'Monsters vs. Aliens (2009)': 2668, 'Adventureland (2009)': 2669, 'Fast & Furious (Fast and the Furious 4, The) (2009)': 2670, '17 Again (2009)': 2671, 'Inglourious Basterds (2009)': 2672, 'State of Play (2009)': 2673, 'Crank: High Voltage (2009)': 2674, 'Moon (2009)': 2675, 'X-Men Origins: Wolverine (2009)': 2676, 'Star Trek (2009)': 2677, 'Angels & Demons (2009)': 2678, 'Terminator Salvation (2009)': 2679, 'Night at the Museum: Battle of the Smithsonian (2009)': 2680, 'Drag Me to Hell (2009)': 2681, 'Up (2009)': 2682, 'Hangover, The (2009)': 2683, 'Antichrist (2009)': 2684, 'Taking of Pelham 1 2 3, The (2009)': 2685, 'Proposal, The (2009)': 2686, 'Hurt Locker, The (2008)': 2687, 'Transformers: Revenge of the Fallen (2009)': 2688, 'Public Enemies (2009)': 2689, 'Ice Age: Dawn of the Dinosaurs (2009)': 2690, '(500) Days of Summer (2009)': 2691, 'Brüno (Bruno) (2009)': 2692, 'Harry Potter and the Half-Blood Prince (2009)': 2693, 'Imaginarium of Doctor Parnassus, The (2009)': 2694, 'Orphan (2009)': 2695, 'Ugly Truth, The (2009)': 2696, 'District 9 (2009)': 2697, 'Julie & Julia (2009)': 2698, 'G.I. Joe: The Rise of Cobra (2009)': 2699, \"Time Traveler's Wife, The (2009)\": 2700, 'Secret in Their Eyes, The (El secreto de sus ojos) (2009)': 2701, '9 (2009)': 2702, 'Pandorum (2009)': 2703, 'Men Who Stare at Goats, The (2009)': 2704, 'Informant!, The (2009)': 2705, 'Gamer (2009)': 2706, 'Cloudy with a Chance of Meatballs (2009)': 2707, 'Paranormal Activity (2009)': 2708, 'Serious Man, A (2009)': 2709, 'Invention of Lying, The (2009)': 2710, 'Surrogates (2009)': 2711, 'Zombieland (2009)': 2712, 'Education, An (2009)': 2713, 'Where the Wild Things Are (2009)': 2714, 'Law Abiding Citizen (2009)': 2715, 'Mary and Max (2009)': 2716, 'Up in the Air (2009)': 2717, 'Fantastic Mr. Fox (2009)': 2718, '2012 (2009)': 2719, 'Twilight Saga: New Moon, The (2009)': 2720, 'Blind Side, The  (2009)': 2721, 'Princess and the Frog, The (2009)': 2722, 'Avatar (2009)': 2723, 'Sherlock Holmes (2009)': 2724, 'Daybreakers (2010)': 2725, 'Book of Eli, The (2010)': 2726, 'Prophet, A (Un Prophète) (2009)': 2727, 'Shutter Island (2010)': 2728, 'Percy Jackson & the Olympians: The Lightning Thief (2010)': 2729, 'Ghost Writer, The (2010)': 2730, 'Alice in Wonderland (2010)': 2731, 'Green Zone (2010)': 2732, 'Repo Men (2010)': 2733, 'Hot Tub Time Machine (2010)': 2734, 'How to Train Your Dragon (2010)': 2735, 'Clash of the Titans (2010)': 2736, 'Kick-Ass (2010)': 2737, 'Date Night (2010)': 2738, 'Exit Through the Gift Shop (2010)': 2739, 'Iron Man 2 (2010)': 2740, 'Robin Hood (2010)': 2741, 'Blue Valentine (2010)': 2742, 'Buried (2010)': 2743, 'Prince of Persia: The Sands of Time (2010)': 2744, 'Get Him to the Greek (2010)': 2745, 'A-Team, The (2010)': 2746, 'Toy Story 3 (2010)': 2747, \"Winter's Bone (2010)\": 2748, 'Shrek Forever After (a.k.a. Shrek: The Final Chapter) (2010)': 2749, 'Twilight Saga: Eclipse, The (2010)': 2750, 'Predators (2010)': 2751, 'Despicable Me (2010)': 2752, 'Inception (2010)': 2753, 'Grown Ups (2010)': 2754, \"Sorcerer's Apprentice, The (2010)\": 2755, 'Knight and Day (2010)': 2756, 'Karate Kid, The (2010)': 2757, 'Kids Are All Right, The (2010)': 2758, 'Salt (2010)': 2759, 'Mr. Nobody (2009)': 2760, 'Other Guys, The (2010)': 2761, 'Expendables, The (2010)': 2762, 'Scott Pilgrim vs. the World (2010)': 2763, 'Machete (2010)': 2764, 'Resident Evil: Afterlife (2010)': 2765, 'Social Network, The (2010)': 2766, 'Town, The (2010)': 2767, 'Easy A (2010)': 2768, 'Inside Job (2010)': 2769, 'Never Let Me Go (2010)': 2770, 'Red (2010)': 2771, 'Due Date (2010)': 2772, '127 Hours (2010)': 2773, 'Megamind (2010)': 2774, 'Black Swan (2010)': 2775, 'Unstoppable (2010)': 2776, 'Next Three Days, The (2010)': 2777, 'Harry Potter and the Deathly Hallows: Part 1 (2010)': 2778, \"King's Speech, The (2010)\": 2779, 'Tangled (2010)': 2780, 'Fighter, The (2010)': 2781, 'Love and Other Drugs (2010)': 2782, 'Chronicles of Narnia: The Voyage of the Dawn Treader, The (2010)': 2783, 'Tourist, The (2010)': 2784, 'True Grit (2010)': 2785, 'Tron: Legacy (2010)': 2786, 'Secret World of Arrietty, The (Kari-gurashi no Arietti) (2010)': 2787, 'Tucker & Dale vs Evil (2010)': 2788, 'Cowboys & Aliens (2011)': 2789, 'Limitless (2011)': 2790, 'No Strings Attached (2011)': 2791, 'Lincoln Lawyer, The (2011)': 2792, 'Unknown (2011)': 2793, 'Paul (2011)': 2794, 'Rango (2011)': 2795, 'Adjustment Bureau, The (2011)': 2796, 'Battle: Los Angeles (2011)': 2797, 'Source Code (2011)': 2798, 'Sucker Punch (2011)': 2799, 'Insidious (2010)': 2800, 'Hanna (2011)': 2801, 'Rio (2011)': 2802, 'Melancholia (2011)': 2803, 'Thor (2011)': 2804, 'Louis C.K.: Hilarious (2010)': 2805, 'Louis C.K.: Shameless (2007)': 2806, 'Fast Five (Fast and the Furious 5, The) (2011)': 2807, 'Bridesmaids (2011)': 2808, 'Pirates of the Caribbean: On Stranger Tides (2011)': 2809, 'Midnight in Paris (2011)': 2810, 'Tree of Life, The (2011)': 2811, 'Hangover Part II, The (2011)': 2812, 'Kung Fu Panda 2 (2011)': 2813, 'X-Men: First Class (2011)': 2814, 'Super 8 (2011)': 2815, 'Green Lantern (2011)': 2816, 'Bad Teacher (2011)': 2817, 'Transformers: Dark of the Moon (2011)': 2818, 'Horrible Bosses (2011)': 2819, 'Cars 2 (2011)': 2820, 'Harry Potter and the Deathly Hallows: Part 2 (2011)': 2821, 'Drive (2011)': 2822, 'Captain America: The First Avenger (2011)': 2823, 'Crazy, Stupid, Love. (2011)': 2824, 'Friends with Benefits (2011)': 2825, 'Rise of the Planet of the Apes (2011)': 2826, 'Help, The (2011)': 2827, 'Skin I Live In, The (La piel que habito) (2011)': 2828, 'Contagion (2011)': 2829, 'Moneyball (2011)': 2830, 'Avengers, The (2012)': 2831, 'Tinker Tailor Soldier Spy (2011)': 2832, 'Separation, A (Jodaeiye Nader az Simin) (2011)': 2833, 'Warrior (2011)': 2834, 'Ides of March, The (2011)': 2835, '50/50 (2011)': 2836, 'The Artist (2011)': 2837, 'Real Steel (2011)': 2838, 'We Need to Talk About Kevin (2011)': 2839, 'In Time (2011)': 2840, 'Shame (2011)': 2841, 'Puss in Boots (2011)': 2842, 'Adventures of Tintin, The (2011)': 2843, 'Hugo (2011)': 2844, 'Descendants, The (2011)': 2845, 'Twilight Saga: Breaking Dawn - Part 1, The (2011)': 2846, 'Expendables 2, The (2012)': 2847, 'The Hunger Games (2012)': 2848, 'Dark Knight Rises, The (2012)': 2849, 'Bourne Legacy, The (2012)': 2850, 'Sherlock Holmes: A Game of Shadows (2011)': 2851, 'Mission: Impossible - Ghost Protocol (2011)': 2852, 'Girl with the Dragon Tattoo, The (2011)': 2853, 'Underworld: Awakening (2012)': 2854, 'Grey, The (2012)': 2855, 'Intouchables (2011)': 2856, 'Chronicle (2012)': 2857, 'Louis C.K.: Live at the Beacon Theater (2011)': 2858, 'John Carter (2012)': 2859, '21 Jump Street (2012)': 2860, 'Jiro Dreams of Sushi (2011)': 2861, 'The Raid: Redemption (2011)': 2862, 'Cabin in the Woods, The (2012)': 2863, 'Battleship (2012)': 2864, 'Dictator, The (2012)': 2865, 'Men in Black III (M.III.B.) (M.I.B.³) (2012)': 2866, 'Snow White and the Huntsman (2012)': 2867, 'Prometheus (2012)': 2868, 'Moonrise Kingdom (2012)': 2869, 'Safety Not Guaranteed (2012)': 2870, 'Brave (2012)': 2871, 'Ted (2012)': 2872, 'Amazing Spider-Man, The (2012)': 2873, 'Ice Age 4: Continental Drift (2012)': 2874, 'Total Recall (2012)': 2875, 'Skyfall (2012)': 2876, 'Pitch Perfect (2012)': 2877, 'Looper (2012)': 2878, 'Master, The (2012)': 2879, 'Dredd (2012)': 2880, 'End of Watch (2012)': 2881, 'Perks of Being a Wallflower, The (2012)': 2882, 'Hunt, The (Jagten) (2012)': 2883, 'Taken 2 (2012)': 2884, 'Hotel Transylvania (2012)': 2885, 'Argo (2012)': 2886, 'Seven Psychopaths (2012)': 2887, 'Cloud Atlas (2012)': 2888, 'Wreck-It Ralph (2012)': 2889, 'Silver Linings Playbook (2012)': 2890, 'Flight (2012)': 2891, 'Life of Pi (2012)': 2892, 'Lincoln (2012)': 2893, 'Rise of the Guardians (2012)': 2894, 'Paperman (2012)': 2895, 'Hobbit: An Unexpected Journey, The (2012)': 2896, 'Zero Dark Thirty (2012)': 2897, 'Warm Bodies (2013)': 2898, 'Jack Reacher (2012)': 2899, 'Django Unchained (2012)': 2900, 'Misérables, Les (2012)': 2901, 'Side Effects (2013)': 2902, 'Before Midnight (2013)': 2903, 'Oz the Great and Powerful (2013)': 2904, 'Croods, The (2013)': 2905, 'Place Beyond the Pines, The (2012)': 2906, 'Oblivion (2013)': 2907, 'This Is the End (2013)': 2908, 'Iron Man 3 (2013)': 2909, 'Mud (2012)': 2910, 'Great Gatsby, The (2013)': 2911, 'Star Trek Into Darkness (2013)': 2912, 'Hangover Part III, The (2013)': 2913, 'Fast & Furious 6 (Fast and the Furious 6, The) (2013)': 2914, 'Now You See Me (2013)': 2915, 'Man of Steel (2013)': 2916, 'Purge, The (2013)': 2917, 'Monsters University (2013)': 2918, 'Pacific Rim (2013)': 2919, 'World War Z (2013)': 2920, 'Elysium (2013)': 2921, 'Despicable Me 2 (2013)': 2922, 'White House Down (2013)': 2923, \"World's End, The (2013)\": 2924, 'Conjuring, The (2013)': 2925, 'Wolverine, The (2013)': 2926, 'Blue Jasmine (2013)': 2927, \"We're the Millers (2013)\": 2928, 'Kick-Ass 2 (2013)': 2929, 'Riddick (2013)': 2930, 'About Time (2013)': 2931, 'Gravity (2013)': 2932, 'Prisoners (2013)': 2933, 'Rush (2013)': 2934, 'Short Term 12 (2013)': 2935, 'Don Jon (2013)': 2936, \"Blue Is the Warmest Color (La vie d'Adèle) (2013)\": 2937, 'Captain Phillips (2013)': 2938, '12 Years a Slave (2013)': 2939, \"Ender's Game (2013)\": 2940, 'Thor: The Dark World (2013)': 2941, 'Dallas Buyers Club (2013)': 2942, 'The Hunger Games: Catching Fire (2013)': 2943, 'Hobbit: The Desolation of Smaug, The (2013)': 2944, 'Frozen (2013)': 2945, 'Inside Llewyn Davis (2013)': 2946, 'Wolf of Wall Street, The (2013)': 2947, 'American Hustle (2013)': 2948, 'Secret Life of Walter Mitty, The (2013)': 2949, 'Her (2013)': 2950, 'Lone Survivor (2013)': 2951, 'Saving Mr. Banks (2013)': 2952, 'Snowpiercer (2013)': 2953, 'Divergent (2014)': 2954, 'The Lego Movie (2014)': 2955, 'RoboCop (2014)': 2956, 'Grand Budapest Hotel, The (2014)': 2957, 'Interstellar (2014)': 2958, 'Non-Stop (2014)': 2959, 'Under the Skin (2013)': 2960, 'Captain America: The Winter Soldier (2014)': 2961, 'The Amazing Spider-Man 2 (2014)': 2962, 'Transcendence (2014)': 2963, 'Locke (2013)': 2964, 'Neighbors (2014)': 2965, 'Lucy (2014)': 2966, 'X-Men: Days of Future Past (2014)': 2967, 'Godzilla (2014)': 2968, 'Chef (2014)': 2969, 'Maleficent (2014)': 2970, 'Edge of Tomorrow (2014)': 2971, 'Mission: Impossible - Rogue Nation (2015)': 2972, 'The Fault in Our Stars (2014)': 2973, '22 Jump Street (2014)': 2974, 'Equalizer, The (2014)': 2975, 'How to Train Your Dragon 2 (2014)': 2976, 'Birdman: Or (The Unexpected Virtue of Ignorance) (2014)': 2977, 'Boyhood (2014)': 2978, 'Transformers: Age of Extinction (2014)': 2979, 'Babadook, The (2014)': 2980, 'Whiplash (2014)': 2981, 'Gone Girl (2014)': 2982, 'Dawn of the Planet of the Apes (2014)': 2983, 'Guardians of the Galaxy (2014)': 2984, 'Jupiter Ascending (2015)': 2985, 'Coherence (2013)': 2986, 'Maze Runner, The (2014)': 2987, 'American Sniper (2014)': 2988, 'Predestination (2014)': 2989, 'What We Do in the Shadows (2014)': 2990, 'John Wick (2014)': 2991, 'Fury (2014)': 2992, 'Nightcrawler (2014)': 2993, 'Big Hero 6 (2014)': 2994, 'Ex Machina (2015)': 2995, 'The Imitation Game (2014)': 2996, 'The Hunger Games: Mockingjay - Part 1 (2014)': 2997, 'Wild Tales (2014)': 2998, 'The Theory of Everything (2014)': 2999, 'Jurassic World (2015)': 3000, 'Citizenfour (2014)': 3001, 'Horrible Bosses 2 (2014)': 3002, 'Maze Runner: Scorch Trials (2015)': 3003, 'The Hobbit: The Battle of the Five Armies (2014)': 3004, 'The Interview (2014)': 3005, 'Kingsman: The Secret Service (2015)': 3006, 'Chappie (2015)': 3007, 'Terminator Genisys (2015)': 3008, 'It Follows (2014)': 3009, 'Mad Max: Fury Road (2015)': 3010, 'Star Wars: Episode VII - The Force Awakens (2015)': 3011, 'Avengers: Age of Ultron (2015)': 3012, 'Ant-Man (2015)': 3013, 'Deadpool (2016)': 3014, 'Black Panther (2017)': 3015, 'Avengers: Infinity War - Part I (2018)': 3016, 'Thor: Ragnarok (2017)': 3017, 'Guardians of the Galaxy 2 (2017)': 3018, 'Captain America: Civil War (2016)': 3019, 'Doctor Strange (2016)': 3020, 'X-Men: Apocalypse (2016)': 3021, 'Untitled Spider-Man Reboot (2017)': 3022, 'Brooklyn (2015)': 3023, 'Me and Earl and the Dying Girl (2015)': 3024, 'The Hateful Eight (2015)': 3025, 'Focus (2015)': 3026, 'Insurgent (2015)': 3027, 'Furious 7 (2015)': 3028, 'Tomorrowland (2015)': 3029, 'Pitch Perfect 2 (2015)': 3030, 'The Lobster (2015)': 3031, 'The Martian (2015)': 3032, 'Spy (2015)': 3033, 'Trainwreck (2015)': 3034, 'Inside Out (2015)': 3035, 'The Hunger Games: Mockingjay - Part 2 (2015)': 3036, 'Fantastic Beasts and Where to Find Them (2016)': 3037, 'The Secret Life of Pets (2016)': 3038, 'Suicide Squad (2016)': 3039, 'Star Trek Beyond (2016)': 3040, 'Minions (2015)': 3041, 'Spectre (2015)': 3042, 'Batman v Superman: Dawn of Justice (2016)': 3043, 'The Jungle Book (2016)': 3044, 'The Man from U.N.C.L.E. (2015)': 3045, 'The Revenant (2015)': 3046, 'Sicario (2015)': 3047, 'The Intern (2015)': 3048, 'Room (2015)': 3049, 'Spotlight (2015)': 3050, 'Wonder Woman (2017)': 3051, 'Bridge of Spies (2015)': 3052, 'Creed (2015)': 3053, 'Big Short, The (2015)': 3054, 'Nocturnal Animals': 3055, 'Sherlock: The Abominable Bride (2016)': 3056, '10 Cloverfield Lane (2016)': 3057, 'Zootopia (2016)': 3058, 'Hunt for the Wilderpeople (2016)': 3059, 'Finding Dory (2016)': 3060, 'The Nice Guys (2016)': 3061, 'Sausage Party (2016)': 3062, 'Captain Fantastic (2016)': 3063, 'Now You See Me 2 (2016)': 3064, 'Jason Bourne (2016)': 3065, 'Sully (2016)': 3066, 'Hell or High Water (2016)': 3067, 'Moonlight': 3068, 'Kubo and the Two Strings (2016)': 3069, 'The Accountant (2016)': 3070, 'Hacksaw Ridge (2016)': 3071, 'Arrival (2016)': 3072, 'La La Land (2016)': 3073, 'Manchester by the Sea (2016)': 3074, 'Lion (2016)': 3075, 'Moana (2016)': 3076, 'Rogue One: A Star Wars Story (2016)': 3077, 'Split (2017)': 3078, 'Passengers (2016)': 3079, 'Hidden Figures (2016)': 3080, 'John Wick: Chapter Two (2017)': 3081, 'Get Out (2017)': 3082, 'Logan (2017)': 3083, 'Kong: Skull Island (2017)': 3084, 'The Big Sick (2017)': 3085, 'Beauty and the Beast (2017)': 3086, 'Ghost in the Shell (2017)': 3087, 'Baby Driver (2017)': 3088, 'Dunkirk (2017)': 3089, 'It (2017)': 3090, 'Blade Runner 2049 (2017)': 3091, 'Three Billboards Outside Ebbing, Missouri (2017)': 3092, 'Coco (2017)': 3093, 'Star Wars: The Last Jedi (2017)': 3094}\n"
     ]
    }
   ],
   "source": [
    "#Creates a dictionary called movie_to_index, with the movie titles as keys and the numerical index as values. \n",
    "#It does this by enumerating the movie titles from the list of movies and setting the index to the movieId values from the item_user_mat.\n",
    "movie_to_index = {\n",
    "    movie:i for i, movie in enumerate(list(movies.set_index('movieId').loc[item_user_mat.index].title))\n",
    "}\n",
    "print(movie_to_index)"
   ]
  },
  {
   "cell_type": "code",
   "execution_count": 22,
   "metadata": {
    "id": "PnP0ohYAEPah"
   },
   "outputs": [],
   "source": [
    "#Creates a sparse matrix from the item_user_mat matrix. \n",
    "#A sparse matrix is a data structure that only stores the nonzero elements of a matrix, thus saving memory. \n",
    "#The csr_matrix() function is used to create a Compressed Sparse Row matrix from the values of the item_user_mat matrix.\n",
    "item_user_mat_sparse = csr_matrix(item_user_mat.values)"
   ]
  },
  {
   "cell_type": "markdown",
   "metadata": {
    "id": "62ph1UU8ERzo"
   },
   "source": [
    "When a movie name is given as input we need to find that movie in our dataset. If it is not present then we can not recommend anything. \n"
   ]
  },
  {
   "cell_type": "code",
   "execution_count": 23,
   "metadata": {
    "id": "xkh9jzWFEXCj"
   },
   "outputs": [],
   "source": [
    "#\"find\" function will find the closest matching string from a given set of strings. \n",
    "#The input_str is a string the user is searching for, and mapper is a set of strings. \n",
    "#The code searches through the set of strings and uses fuzz.ratio to compare the input_str to the strings in mapper. \n",
    "#If the ratio is greater than or equal to 50, it is added to the match_movie list. \n",
    "#The list is then sorted by the ratio in decreasing order and the index of the highest ratio is returned. \n",
    "#If no match is found, -1 is returned.\n",
    "\n",
    "def find(input_str, mapper):\n",
    "    #match_movie is list of tuples, which have 3 values (movie_name, index, fuzz_ratio)\n",
    "    match_movie = []\n",
    "    for movie, ind in mapper.items():\n",
    "        current_ratio = fuzz.ratio(movie.lower(), input_str.lower())\n",
    "        if (current_ratio >= 50):\n",
    "            match_movie.append((movie,ind,current_ratio))\n",
    "     \n",
    "    # Sort the list, match_movie, in order of fuzz_ratio\n",
    "    match_movie = sorted(match_movie, key = lambda x:x[2])[::-1]\n",
    "    \n",
    "    if len(match_movie) == 0:\n",
    "        print(\"Movie string not found in dataset \\n\")\n",
    "        return -1\n",
    "    return match_movie[0][1]    "
   ]
  },
  {
   "cell_type": "code",
   "execution_count": 24,
   "metadata": {
    "id": "bBteTxNcEb5d"
   },
   "outputs": [],
   "source": [
    "#Define the model\n",
    "#The metric used is 'cosine', which is a measure of similarity between two vectors. \n",
    "#The algorithm used is 'brute', which is a brute force algorithm for computing the nearest neighbors of a given point. \n",
    "#The n_neighbors parameter specifies the number of nearest neighbors to return. \n",
    "#The n_jobs parameter specifies the number of CPU cores to use for computing the model, in this case it is set to -1 which indicates that all available cores should be used.\n",
    "recommendation_model = NearestNeighbors(metric = 'cosine', algorithm = 'brute', n_neighbors = 20, n_jobs = -1)"
   ]
  },
  {
   "cell_type": "code",
   "execution_count": 104,
   "metadata": {
    "id": "ohUfmZslEgWL"
   },
   "outputs": [],
   "source": [
    "# Create a function which takes a movie name and make recommedation for it\n",
    "def recommend(input_str, data, model, mapper, n_recommendation):\n",
    "    print(\"Processing....\\n\")\n",
    "    print(\"=====================================================\")\n",
    "    model.fit(data)\n",
    "    \n",
    "    # The mapper is a dictionary that maps each movie to its index in the dataset.\n",
    "    index = find(input_str, mapper)\n",
    "    \n",
    "    if index == -1 :\n",
    "        print(\"Movie string not found in dataset \\n\")\n",
    "        return \n",
    "    if n_recommendation == 0:\n",
    "      print(\"You can not enter 0 as a valid number of returned recomendations.\")\n",
    "      return\n",
    "\n",
    "    index_list = model.kneighbors(data[index], n_neighbors = n_recommendation + 1, return_distance = False)\n",
    "    # Create mapper index to title  \n",
    "    index_to_movie = {\n",
    "        ind:movie for movie,ind in mapper.items()\n",
    "    }\n",
    "    results = []\n",
    "    print(\"A viewer who watches\",input_str,\"should also watch the following movies: \")\n",
    "    for i in range(1,index_list.shape[1]):\n",
    "        print(index_to_movie[index_list[0][i]])\n",
    "        results.append(index_to_movie[index_list[0][i]])\n",
    "    \n",
    "    return index_to_movie[index], results"
   ]
  },
  {
   "cell_type": "code",
   "execution_count": 109,
   "metadata": {
    "colab": {
     "base_uri": "https://localhost:8080/"
    },
    "id": "CCwzUgfCEjvL",
    "outputId": "df971b19-3959-435f-fcf9-d4ecb470351b"
   },
   "outputs": [
    {
     "name": "stdout",
     "output_type": "stream",
     "text": [
      "Movie Name: Monsters Inc\n",
      "# of Recommendations: 5\n",
      "Processing....\n",
      "\n",
      "=====================================================\n",
      "A viewer who watches Monsters Inc should also watch the following movies: \n",
      "Finding Nemo (2003)\n",
      "Shrek (2001)\n",
      "Incredibles, The (2004)\n",
      "Lord of the Rings: The Fellowship of the Ring, The (2001)\n",
      "Pirates of the Caribbean: The Curse of the Black Pearl (2003)\n"
     ]
    }
   ],
   "source": [
    "#Precond: m is a string of a movie name \n",
    "#Precond: n is a string of a valid integer \n",
    "\n",
    "m = input(\"Movie Name: \")\n",
    "n = input(\"# of Recommendations: \")\n",
    "\n",
    "#Check to ensure that input values are correct types\n",
    "assert isinstance(n, str)\n",
    "assert n.isdigit(), f\"{n} is not a valid integer\"\n",
    "\n",
    "test_movie, rec_movie = recommend(m, item_user_mat_sparse, recommendation_model, movie_to_index, int(n))"
   ]
  },
  {
   "cell_type": "code",
   "execution_count": 158,
   "metadata": {
    "colab": {
     "base_uri": "https://localhost:8080/"
    },
    "id": "4YEHnEXT9zs7",
    "outputId": "62c88183-dd8a-461c-846a-703e7c441405"
   },
   "outputs": [
    {
     "name": "stdout",
     "output_type": "stream",
     "text": [
      "4886\n",
      "(14862528, 3)\n",
      "[array([0.034  , 0.03   , 0.0595 , ..., 0.023  , 0.12525, 0.02775]), array([0.03125, 0.02475, 0.1505 , ..., 0.02025, 0.1135 , 0.03425]), array([0.04125, 0.0215 , 0.0795 , ..., 0.0285 , 0.12075, 0.02525]), array([0.035  , 0.03825, 0.48125, ..., 0.0385 , 0.3245 , 0.14475]), array([0.1275 , 0.0295 , 0.05925, ..., 0.01925, 0.1335 , 0.032  ])]\n",
      "<class 'numpy.float64'>\n"
     ]
    }
   ],
   "source": [
    "# Accuracy Score\n",
    "scores = pd.read_csv('genome-scores.csv')\n",
    "tags = pd.read_csv('genome-tags.csv')\n",
    "\n",
    "rec_movie_id = []\n",
    "\n",
    "relevance = []\n",
    "\n",
    "test_movie_id = movies.loc[movies['title'] == test_movie, 'movieId'].iloc[0]\n",
    "rec_movie_id = movies.loc[movies['title'].isin(rec_movie), 'movieId'].values\n",
    "\n",
    "test_relevance = scores[scores['movieId'] == test_movie_id]['relevance'].values\n",
    "for x in range(len(rec_movie_id)):\n",
    "  relevance.append(scores[scores['movieId'] == rec_movie_id[x]]['relevance'].values)\n",
    "\n",
    "\n",
    "\n",
    "for x in range(len(rec_movie_id)):\n",
    "  for y in range(len(test_relevance)):\n",
    "    test_error += ()\n",
    "\n",
    "#print(relevance)\n",
    "#for x in range(len(rec_movie_id)):\n",
    "  #print(scores.loc[scores['movieId'] == rec_movie_id[x]])\n",
    "\n",
    "\n",
    "# for m in range(len(relevance)):\n",
    "#    test_error.append(relevance[m].iloc[:, 2].sum())\n",
    "# print(test_error)\n",
    "\n"
   ]
  },
  {
   "cell_type": "markdown",
   "metadata": {
    "id": "00aa8N-VJAJs"
   },
   "source": [
    "Observations (for the slides): \n",
    "*   Model recommends movies which are close in release years\n",
    "*   If you calculate the cosine distance between the input movie and the recommended movie, this distance is very small due a large number of cells in our movie_user_mat dataframe being filled with 0. \n",
    "*   We have almost 92% sparsity in our final item_user_mat.\n",
    "*   Since we have removed unpopular movies from our dataset, some movies will never be recommended to users\n",
    "*   Popularity bias: This model only recommends movies which are tagged as \"popluar\" movies. Movies towards the \"tail\" of the curve (graphs above) are not recommended"
   ]
  }
 ],
 "metadata": {
  "accelerator": "GPU",
  "colab": {
   "provenance": []
  },
  "gpuClass": "standard",
  "kernelspec": {
   "display_name": "Python 3 (ipykernel)",
   "language": "python",
   "name": "python3"
  },
  "language_info": {
   "codemirror_mode": {
    "name": "ipython",
    "version": 3
   },
   "file_extension": ".py",
   "mimetype": "text/x-python",
   "name": "python",
   "nbconvert_exporter": "python",
   "pygments_lexer": "ipython3",
   "version": "3.9.12"
  }
 },
 "nbformat": 4,
 "nbformat_minor": 1
}
